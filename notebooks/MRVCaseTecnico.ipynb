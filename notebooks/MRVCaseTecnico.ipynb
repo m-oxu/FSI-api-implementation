{
  "nbformat": 4,
  "nbformat_minor": 0,
  "metadata": {
    "colab": {
      "provenance": []
    },
    "kernelspec": {
      "name": "python3",
      "display_name": "Python 3"
    },
    "language_info": {
      "name": "python"
    }
  },
  "cells": [
    {
      "cell_type": "markdown",
      "source": [
        "# Estratégia de concessão de crédito para venda de imóveis\n",
        "\t\n",
        "A MRV tem buscado a criação de estratégias para aumento de vendas e, ao mesmo tempo, manter os índices de inadimplência reduzidos.\n",
        "\n",
        "Seu papel é entender o comportamento da inadimplência histórica para apoiar sua gestão na melhor estratégia para a companhia na definição das políticas de crédito.\n",
        "\t\n",
        "a) Com base nos Dados dispostos na aba \"Banco de Dados\", investigue o comportamento da inadimplência (IND INADIMPLENCIA). Quais conclusões você é capaz de afirmar?\n",
        "\t\n",
        "b) Em quais situações temos os menores riscos de crédito e maiores riscos de crédito?\n",
        "\t\n",
        "c) Por ordem de importância, quais seriam os fatores mais determinantes para comportamentos de inadimpência?\n",
        "\n",
        "d) A companhia se beneficiaria de ter uma ferramenta que fosse capaz de discernir os clientes entre alto e baixo risco frente à inadimplência. Proponha a utilização de algum método para o problema em questão. Explique o passo a passo para a construção de tal solução de forma conceitual. Explique, também, como você validaria o seu funcionamento.\n",
        "\n",
        "e) Imagine que a solução da questão anterior está pronta. Como você aplicaria ela no negócio? Como você alteraria processos para comportar a solução? Quais atitudes deveriam ser tomadas para cada tipo de cliente?\n",
        "\n",
        "f) Além da solução proposta anteriormente, para melhorar o controle na gestão de concessão de crédito e para aprimorar a concessão de crédito da MRV, visando reduzir o Risco de Crédito, o que você, com suas experiências e habilidades, poderia fazer? Seja específico(a) na suas propostas de solução.\n",
        "\t\n",
        "**Não há requisitos ferramentais para a elaboração e/ou apresentação do case. Utilize os recursos que irão gerar o melhor resultado e maximizar sua produtividade.**"
      ],
      "metadata": {
        "id": "PBmGEBeJsNPL"
      }
    },
    {
      "cell_type": "markdown",
      "source": [
        "## a) Com base nos Dados dispostos na aba \"Banco de Dados\", investigue o comportamento da inadimplência. Quais conclusões você é capaz de afirmar?"
      ],
      "metadata": {
        "id": "E_ueKQXoDs2c"
      }
    },
    {
      "cell_type": "markdown",
      "source": [
        "Características de inadimplentes\n",
        "\n",
        "*   A renda média do cliente inadimplente é 18,15% menor que o não-inadimplente;\n",
        "* A mediana da renda do cliente inadimplente é 7,82% menor que o não inadimplente;\n",
        "*   A média da porcentagem do valor das parcelas na renda do cliente inadimplente é 15,79% maior que o não inadimplente;\n",
        "* O valor médio das parcelas do cliente inadimplente é 6,18% maior que o não-inadimplente;\n",
        "* Os clientes inadimplentes parecem tender a utilizar um pedaço maior do financiamento da MRV e de bancos (24% e 21% respectivamente) do que do FGTS e do sinal usado no pagamento do imóvel (17% e 12% respectivamente);\n",
        "* A distribuição da renda dos clientes inadimplentes e não inadimplentes é bem parecida, porém, os clientes não inadimplentes possuem mais outliers;\n",
        "* Clientes solteiros possuem o maior registro de transações na compra de um imóvel, e em número absoluto, possui o maior número de inadimplentes. Em relação ao todo, os clientes inadimplentes compõem 22% dos solteiros, só ficando atrás dos clientes divorciados, com 23%. Os clientes separados e casados ficam logo atrás com 21% e 19% respectivamente.\n",
        "* As cidades com maior número absoluto de inadimplentes são São José do Rio Preto e Ribeirão Preto."
      ],
      "metadata": {
        "id": "9QTWBcM4riwM"
      }
    },
    {
      "cell_type": "code",
      "source": [
        "!pip install -q lazypredict"
      ],
      "metadata": {
        "id": "SWu7rzJOtQhM"
      },
      "execution_count": null,
      "outputs": []
    },
    {
      "cell_type": "code",
      "source": [
        "import plotly.express as px\n",
        "import pandas as pd\n",
        "import numpy as np\n",
        "import matplotlib.pyplot as plt\n",
        "import seaborn as sns\n",
        "\n",
        "#packages  \n",
        "import scipy.stats as stats \n",
        "from scipy.stats import mannwhitneyu, ttest_ind\n",
        "import random\n",
        "from IPython.core.display_trap import Any\n",
        "# Imports\n",
        "from lazypredict.Supervised import LazyClassifier\n",
        "from sklearn.model_selection import train_test_split\n",
        "from sklearn.linear_model import LogisticRegression\n",
        "from sklearn.metrics import classification_report, roc_curve, auc\n",
        "import pandas as pd\n",
        "from sklearn import datasets\n",
        "\n",
        "import statsmodels.api as sm       \n",
        "from statsmodels.formula.api import logit"
      ],
      "metadata": {
        "id": "e5pRKDhnxujR"
      },
      "execution_count": null,
      "outputs": []
    },
    {
      "cell_type": "code",
      "source": [
        "def percentage_increase(start_value, final_value):\n",
        "    return round(((final_value - start_value) / start_value), 4) * 100\n",
        "\n",
        "# Shapiro wilk - verificar se é normal\n",
        "def is_normal_test(group):\n",
        "    results = stats.shapiro(group)\n",
        "    if results.pvalue < 0.05: return False\n",
        "    return True\n",
        "# equal variance test\n",
        "def var_igual(group1, group2):\n",
        "    results = stats.levene(group1.dropna(), group2.dropna())\n",
        "    if results.pvalue < 0.05: return False\n",
        "    return True\n",
        "\n",
        "def t_test_ind(a: Any, b: Any, alpha: float = 0.0, null_hypothesis: str = None) -> str:\n",
        "    # t-test for independent samples\n",
        "    a = a.dropna()\n",
        "    b = b.dropna()\n",
        "    if is_normal_test(a) and is_normal_test(b):\n",
        "        if var_igual(a, b):\n",
        "            results = stats.ttest_ind(a=a, b=b)\n",
        "        results = stats.ttest_ind(a, b, equal_var=False)\n",
        "    results = mannwhitneyu(a, b)\n",
        "\n",
        "    if float(results.pvalue) < alpha:\n",
        "        return f'Nós rejeitamos a hipótese nula de que {null_hypothesis}'\n",
        "    else:\n",
        "        return f\"Nós não podemos rejeitar a hipótese nula de que {null_hypothesis}\"\n",
        "\n",
        "def roc_auc_score_plot(y_test: Any, y_proba: Any):\n",
        "    fpr, tpr, _ = roc_curve(y_test, y_proba[:,1])\n",
        "    roc_auc = auc(fpr, tpr)\n",
        "\n",
        "    #Set default figure size\n",
        "    plt.rcParams['figure.figsize'] = (8,8)\n",
        "\n",
        "    # Plot ROC curve\n",
        "    plt.figure()\n",
        "    lw = 2\n",
        "    plt.plot(fpr, tpr, color='darkorange',\n",
        "            lw=lw, label='ROC curve (area = %0.2f)' % roc_auc)\n",
        "    plt.plot([0, 1], [0, 1], color='navy', lw=lw, linestyle='--')\n",
        "    plt.xlim([0.0, 1.0])\n",
        "    plt.ylim([0.0, 1.05])\n",
        "    plt.xlabel('False Positive Rate')\n",
        "    plt.ylabel('True Positive Rate')\n",
        "    plt.legend(loc=\"lower right\")\n",
        "    plt.show()"
      ],
      "metadata": {
        "id": "79GNCagvhhWR"
      },
      "execution_count": null,
      "outputs": []
    },
    {
      "cell_type": "code",
      "execution_count": null,
      "metadata": {
        "id": "_P8RrgWJryz0"
      },
      "outputs": [],
      "source": [
        "url='https://drive.google.com/file/d/1bqFFmWx2HlHWfclMMZlmowrziB75Gd6u/view?usp=share_link'\n",
        "url='https://drive.google.com/uc?id=' + url.split('/')[-2]\n",
        "df = pd.read_csv(url)"
      ]
    },
    {
      "cell_type": "code",
      "source": [
        "df.head()"
      ],
      "metadata": {
        "colab": {
          "base_uri": "https://localhost:8080/",
          "height": 320
        },
        "id": "IAdT57vQxUz4",
        "outputId": "b1661ead-2aeb-4375-a741-0622c3f7c990"
      },
      "execution_count": null,
      "outputs": [
        {
          "output_type": "execute_result",
          "data": {
            "text/plain": [
              "   Ano da Venda do Imóvel Estado Civil          Cidade  Renda Cliente  \\\n",
              "0                    2017   Divorciado  Ribeirão Preto           3.27   \n",
              "1                    2014     Solteiro       Joinville           2.15   \n",
              "2                    2017     Solteiro         UBERABA           2.04   \n",
              "3                    2015     Solteiro       São Paulo           6.35   \n",
              "4                    2016     Solteiro        Salvador           2.41   \n",
              "\n",
              "  % FGTS usado como pagamento do imóvel  \\\n",
              "0                                    4%   \n",
              "1                                    8%   \n",
              "2                                    0%   \n",
              "3                                    8%   \n",
              "4                                    1%   \n",
              "\n",
              "  % SINAL usado como pagamento do imóvel  \\\n",
              "0                                     1%   \n",
              "1                                     0%   \n",
              "2                                    18%   \n",
              "3                                     2%   \n",
              "4                                     1%   \n",
              "\n",
              "  % do imóvel, financiado pela MRV ao cliente  \\\n",
              "0                                         14%   \n",
              "1                                         10%   \n",
              "2                                          4%   \n",
              "3                                         10%   \n",
              "4                                          9%   \n",
              "\n",
              "  % do imóvel, financiado pelo Banco  \\\n",
              "0                                82%   \n",
              "1                                82%   \n",
              "2                                78%   \n",
              "3                                79%   \n",
              "4                                89%   \n",
              "\n",
              "   Qtd parcelas de entrada (financiamento MRV)  \\\n",
              "0                                           33   \n",
              "1                                           23   \n",
              "2                                           45   \n",
              "3                                           30   \n",
              "4                                           36   \n",
              "\n",
              "  % Renda comprometido com a parcela de entrada financiamento MRV  \\\n",
              "0                                                16%                \n",
              "1                                                24%                \n",
              "2                                                 6%                \n",
              "3                                                11%                \n",
              "4                                                13%                \n",
              "\n",
              "   Valor do Imóvel IND INADIMPLENCIA  \n",
              "0           134.02               NÃO  \n",
              "1           130.28               SIM  \n",
              "2           140.18               NÃO  \n",
              "3           201.02               SIM  \n",
              "4           146.67               NÃO  "
            ],
            "text/html": [
              "\n",
              "  <div id=\"df-52175cce-71c9-4f12-88b0-3fa393f18c25\">\n",
              "    <div class=\"colab-df-container\">\n",
              "      <div>\n",
              "<style scoped>\n",
              "    .dataframe tbody tr th:only-of-type {\n",
              "        vertical-align: middle;\n",
              "    }\n",
              "\n",
              "    .dataframe tbody tr th {\n",
              "        vertical-align: top;\n",
              "    }\n",
              "\n",
              "    .dataframe thead th {\n",
              "        text-align: right;\n",
              "    }\n",
              "</style>\n",
              "<table border=\"1\" class=\"dataframe\">\n",
              "  <thead>\n",
              "    <tr style=\"text-align: right;\">\n",
              "      <th></th>\n",
              "      <th>Ano da Venda do Imóvel</th>\n",
              "      <th>Estado Civil</th>\n",
              "      <th>Cidade</th>\n",
              "      <th>Renda Cliente</th>\n",
              "      <th>% FGTS usado como pagamento do imóvel</th>\n",
              "      <th>% SINAL usado como pagamento do imóvel</th>\n",
              "      <th>% do imóvel, financiado pela MRV ao cliente</th>\n",
              "      <th>% do imóvel, financiado pelo Banco</th>\n",
              "      <th>Qtd parcelas de entrada (financiamento MRV)</th>\n",
              "      <th>% Renda comprometido com a parcela de entrada financiamento MRV</th>\n",
              "      <th>Valor do Imóvel</th>\n",
              "      <th>IND INADIMPLENCIA</th>\n",
              "    </tr>\n",
              "  </thead>\n",
              "  <tbody>\n",
              "    <tr>\n",
              "      <th>0</th>\n",
              "      <td>2017</td>\n",
              "      <td>Divorciado</td>\n",
              "      <td>Ribeirão Preto</td>\n",
              "      <td>3.27</td>\n",
              "      <td>4%</td>\n",
              "      <td>1%</td>\n",
              "      <td>14%</td>\n",
              "      <td>82%</td>\n",
              "      <td>33</td>\n",
              "      <td>16%</td>\n",
              "      <td>134.02</td>\n",
              "      <td>NÃO</td>\n",
              "    </tr>\n",
              "    <tr>\n",
              "      <th>1</th>\n",
              "      <td>2014</td>\n",
              "      <td>Solteiro</td>\n",
              "      <td>Joinville</td>\n",
              "      <td>2.15</td>\n",
              "      <td>8%</td>\n",
              "      <td>0%</td>\n",
              "      <td>10%</td>\n",
              "      <td>82%</td>\n",
              "      <td>23</td>\n",
              "      <td>24%</td>\n",
              "      <td>130.28</td>\n",
              "      <td>SIM</td>\n",
              "    </tr>\n",
              "    <tr>\n",
              "      <th>2</th>\n",
              "      <td>2017</td>\n",
              "      <td>Solteiro</td>\n",
              "      <td>UBERABA</td>\n",
              "      <td>2.04</td>\n",
              "      <td>0%</td>\n",
              "      <td>18%</td>\n",
              "      <td>4%</td>\n",
              "      <td>78%</td>\n",
              "      <td>45</td>\n",
              "      <td>6%</td>\n",
              "      <td>140.18</td>\n",
              "      <td>NÃO</td>\n",
              "    </tr>\n",
              "    <tr>\n",
              "      <th>3</th>\n",
              "      <td>2015</td>\n",
              "      <td>Solteiro</td>\n",
              "      <td>São Paulo</td>\n",
              "      <td>6.35</td>\n",
              "      <td>8%</td>\n",
              "      <td>2%</td>\n",
              "      <td>10%</td>\n",
              "      <td>79%</td>\n",
              "      <td>30</td>\n",
              "      <td>11%</td>\n",
              "      <td>201.02</td>\n",
              "      <td>SIM</td>\n",
              "    </tr>\n",
              "    <tr>\n",
              "      <th>4</th>\n",
              "      <td>2016</td>\n",
              "      <td>Solteiro</td>\n",
              "      <td>Salvador</td>\n",
              "      <td>2.41</td>\n",
              "      <td>1%</td>\n",
              "      <td>1%</td>\n",
              "      <td>9%</td>\n",
              "      <td>89%</td>\n",
              "      <td>36</td>\n",
              "      <td>13%</td>\n",
              "      <td>146.67</td>\n",
              "      <td>NÃO</td>\n",
              "    </tr>\n",
              "  </tbody>\n",
              "</table>\n",
              "</div>\n",
              "      <button class=\"colab-df-convert\" onclick=\"convertToInteractive('df-52175cce-71c9-4f12-88b0-3fa393f18c25')\"\n",
              "              title=\"Convert this dataframe to an interactive table.\"\n",
              "              style=\"display:none;\">\n",
              "        \n",
              "  <svg xmlns=\"http://www.w3.org/2000/svg\" height=\"24px\"viewBox=\"0 0 24 24\"\n",
              "       width=\"24px\">\n",
              "    <path d=\"M0 0h24v24H0V0z\" fill=\"none\"/>\n",
              "    <path d=\"M18.56 5.44l.94 2.06.94-2.06 2.06-.94-2.06-.94-.94-2.06-.94 2.06-2.06.94zm-11 1L8.5 8.5l.94-2.06 2.06-.94-2.06-.94L8.5 2.5l-.94 2.06-2.06.94zm10 10l.94 2.06.94-2.06 2.06-.94-2.06-.94-.94-2.06-.94 2.06-2.06.94z\"/><path d=\"M17.41 7.96l-1.37-1.37c-.4-.4-.92-.59-1.43-.59-.52 0-1.04.2-1.43.59L10.3 9.45l-7.72 7.72c-.78.78-.78 2.05 0 2.83L4 21.41c.39.39.9.59 1.41.59.51 0 1.02-.2 1.41-.59l7.78-7.78 2.81-2.81c.8-.78.8-2.07 0-2.86zM5.41 20L4 18.59l7.72-7.72 1.47 1.35L5.41 20z\"/>\n",
              "  </svg>\n",
              "      </button>\n",
              "      \n",
              "  <style>\n",
              "    .colab-df-container {\n",
              "      display:flex;\n",
              "      flex-wrap:wrap;\n",
              "      gap: 12px;\n",
              "    }\n",
              "\n",
              "    .colab-df-convert {\n",
              "      background-color: #E8F0FE;\n",
              "      border: none;\n",
              "      border-radius: 50%;\n",
              "      cursor: pointer;\n",
              "      display: none;\n",
              "      fill: #1967D2;\n",
              "      height: 32px;\n",
              "      padding: 0 0 0 0;\n",
              "      width: 32px;\n",
              "    }\n",
              "\n",
              "    .colab-df-convert:hover {\n",
              "      background-color: #E2EBFA;\n",
              "      box-shadow: 0px 1px 2px rgba(60, 64, 67, 0.3), 0px 1px 3px 1px rgba(60, 64, 67, 0.15);\n",
              "      fill: #174EA6;\n",
              "    }\n",
              "\n",
              "    [theme=dark] .colab-df-convert {\n",
              "      background-color: #3B4455;\n",
              "      fill: #D2E3FC;\n",
              "    }\n",
              "\n",
              "    [theme=dark] .colab-df-convert:hover {\n",
              "      background-color: #434B5C;\n",
              "      box-shadow: 0px 1px 3px 1px rgba(0, 0, 0, 0.15);\n",
              "      filter: drop-shadow(0px 1px 2px rgba(0, 0, 0, 0.3));\n",
              "      fill: #FFFFFF;\n",
              "    }\n",
              "  </style>\n",
              "\n",
              "      <script>\n",
              "        const buttonEl =\n",
              "          document.querySelector('#df-52175cce-71c9-4f12-88b0-3fa393f18c25 button.colab-df-convert');\n",
              "        buttonEl.style.display =\n",
              "          google.colab.kernel.accessAllowed ? 'block' : 'none';\n",
              "\n",
              "        async function convertToInteractive(key) {\n",
              "          const element = document.querySelector('#df-52175cce-71c9-4f12-88b0-3fa393f18c25');\n",
              "          const dataTable =\n",
              "            await google.colab.kernel.invokeFunction('convertToInteractive',\n",
              "                                                     [key], {});\n",
              "          if (!dataTable) return;\n",
              "\n",
              "          const docLinkHtml = 'Like what you see? Visit the ' +\n",
              "            '<a target=\"_blank\" href=https://colab.research.google.com/notebooks/data_table.ipynb>data table notebook</a>'\n",
              "            + ' to learn more about interactive tables.';\n",
              "          element.innerHTML = '';\n",
              "          dataTable['output_type'] = 'display_data';\n",
              "          await google.colab.output.renderOutput(dataTable, element);\n",
              "          const docLink = document.createElement('div');\n",
              "          docLink.innerHTML = docLinkHtml;\n",
              "          element.appendChild(docLink);\n",
              "        }\n",
              "      </script>\n",
              "    </div>\n",
              "  </div>\n",
              "  "
            ]
          },
          "metadata": {},
          "execution_count": 5
        }
      ]
    },
    {
      "cell_type": "code",
      "source": [
        "df.info()"
      ],
      "metadata": {
        "colab": {
          "base_uri": "https://localhost:8080/"
        },
        "id": "uj3nwhXLxZWr",
        "outputId": "9f690822-2711-4a59-e7d0-68be0473e2fb"
      },
      "execution_count": null,
      "outputs": [
        {
          "output_type": "stream",
          "name": "stdout",
          "text": [
            "<class 'pandas.core.frame.DataFrame'>\n",
            "RangeIndex: 12672 entries, 0 to 12671\n",
            "Data columns (total 12 columns):\n",
            " #   Column                                                           Non-Null Count  Dtype  \n",
            "---  ------                                                           --------------  -----  \n",
            " 0   Ano da Venda do Imóvel                                           12672 non-null  int64  \n",
            " 1   Estado Civil                                                     12672 non-null  object \n",
            " 2   Cidade                                                           12672 non-null  object \n",
            " 3   Renda Cliente                                                    12632 non-null  float64\n",
            " 4   % FGTS usado como pagamento do imóvel                            12672 non-null  object \n",
            " 5   % SINAL usado como pagamento do imóvel                           12672 non-null  object \n",
            " 6   % do imóvel, financiado pela MRV ao cliente                      12672 non-null  object \n",
            " 7   % do imóvel, financiado pelo Banco                               12672 non-null  object \n",
            " 8   Qtd parcelas de entrada (financiamento MRV)                      12672 non-null  int64  \n",
            " 9   % Renda comprometido com a parcela de entrada financiamento MRV  12672 non-null  object \n",
            " 10  Valor do Imóvel                                                  12672 non-null  float64\n",
            " 11  IND INADIMPLENCIA                                                12672 non-null  object \n",
            "dtypes: float64(2), int64(2), object(8)\n",
            "memory usage: 1.2+ MB\n"
          ]
        }
      ]
    },
    {
      "cell_type": "code",
      "source": [
        "df.columns = [\n",
        "    \"ano_venda\",\n",
        "    \"estado_civil\",\n",
        "    'cidade',\n",
        "    'renda_cliente',\n",
        "    'fgts_imovel',\n",
        "    'sinal_imovel',\n",
        "    'mrv_imovel',\n",
        "    'banco_imovel',\n",
        "    'parcelas_entradas',\n",
        "    'renda_parcela_entrada',\n",
        "    'valor_imovel',\n",
        "    'inadimplencia'\n",
        "]"
      ],
      "metadata": {
        "id": "RQqRNG4-x4fv"
      },
      "execution_count": null,
      "outputs": []
    },
    {
      "cell_type": "code",
      "source": [
        "df.head()"
      ],
      "metadata": {
        "colab": {
          "base_uri": "https://localhost:8080/",
          "height": 267
        },
        "id": "wJ0Rh4xjyXpx",
        "outputId": "de61dcc6-e442-4d4c-f1fe-5068d323fcc0"
      },
      "execution_count": null,
      "outputs": [
        {
          "output_type": "execute_result",
          "data": {
            "text/plain": [
              "   ano_venda estado_civil          cidade  renda_cliente fgts_imovel  \\\n",
              "0       2017   Divorciado  Ribeirão Preto           3.27          4%   \n",
              "1       2014     Solteiro       Joinville           2.15          8%   \n",
              "2       2017     Solteiro         UBERABA           2.04          0%   \n",
              "3       2015     Solteiro       São Paulo           6.35          8%   \n",
              "4       2016     Solteiro        Salvador           2.41          1%   \n",
              "\n",
              "  sinal_imovel mrv_imovel banco_imovel  parcelas_entradas  \\\n",
              "0           1%        14%          82%                 33   \n",
              "1           0%        10%          82%                 23   \n",
              "2          18%         4%          78%                 45   \n",
              "3           2%        10%          79%                 30   \n",
              "4           1%         9%          89%                 36   \n",
              "\n",
              "  renda_parcela_entrada  valor_imovel inadimplencia  \n",
              "0                   16%        134.02           NÃO  \n",
              "1                   24%        130.28           SIM  \n",
              "2                    6%        140.18           NÃO  \n",
              "3                   11%        201.02           SIM  \n",
              "4                   13%        146.67           NÃO  "
            ],
            "text/html": [
              "\n",
              "  <div id=\"df-c22bcbb3-c635-4199-a6fb-bf538c71cb96\">\n",
              "    <div class=\"colab-df-container\">\n",
              "      <div>\n",
              "<style scoped>\n",
              "    .dataframe tbody tr th:only-of-type {\n",
              "        vertical-align: middle;\n",
              "    }\n",
              "\n",
              "    .dataframe tbody tr th {\n",
              "        vertical-align: top;\n",
              "    }\n",
              "\n",
              "    .dataframe thead th {\n",
              "        text-align: right;\n",
              "    }\n",
              "</style>\n",
              "<table border=\"1\" class=\"dataframe\">\n",
              "  <thead>\n",
              "    <tr style=\"text-align: right;\">\n",
              "      <th></th>\n",
              "      <th>ano_venda</th>\n",
              "      <th>estado_civil</th>\n",
              "      <th>cidade</th>\n",
              "      <th>renda_cliente</th>\n",
              "      <th>fgts_imovel</th>\n",
              "      <th>sinal_imovel</th>\n",
              "      <th>mrv_imovel</th>\n",
              "      <th>banco_imovel</th>\n",
              "      <th>parcelas_entradas</th>\n",
              "      <th>renda_parcela_entrada</th>\n",
              "      <th>valor_imovel</th>\n",
              "      <th>inadimplencia</th>\n",
              "    </tr>\n",
              "  </thead>\n",
              "  <tbody>\n",
              "    <tr>\n",
              "      <th>0</th>\n",
              "      <td>2017</td>\n",
              "      <td>Divorciado</td>\n",
              "      <td>Ribeirão Preto</td>\n",
              "      <td>3.27</td>\n",
              "      <td>4%</td>\n",
              "      <td>1%</td>\n",
              "      <td>14%</td>\n",
              "      <td>82%</td>\n",
              "      <td>33</td>\n",
              "      <td>16%</td>\n",
              "      <td>134.02</td>\n",
              "      <td>NÃO</td>\n",
              "    </tr>\n",
              "    <tr>\n",
              "      <th>1</th>\n",
              "      <td>2014</td>\n",
              "      <td>Solteiro</td>\n",
              "      <td>Joinville</td>\n",
              "      <td>2.15</td>\n",
              "      <td>8%</td>\n",
              "      <td>0%</td>\n",
              "      <td>10%</td>\n",
              "      <td>82%</td>\n",
              "      <td>23</td>\n",
              "      <td>24%</td>\n",
              "      <td>130.28</td>\n",
              "      <td>SIM</td>\n",
              "    </tr>\n",
              "    <tr>\n",
              "      <th>2</th>\n",
              "      <td>2017</td>\n",
              "      <td>Solteiro</td>\n",
              "      <td>UBERABA</td>\n",
              "      <td>2.04</td>\n",
              "      <td>0%</td>\n",
              "      <td>18%</td>\n",
              "      <td>4%</td>\n",
              "      <td>78%</td>\n",
              "      <td>45</td>\n",
              "      <td>6%</td>\n",
              "      <td>140.18</td>\n",
              "      <td>NÃO</td>\n",
              "    </tr>\n",
              "    <tr>\n",
              "      <th>3</th>\n",
              "      <td>2015</td>\n",
              "      <td>Solteiro</td>\n",
              "      <td>São Paulo</td>\n",
              "      <td>6.35</td>\n",
              "      <td>8%</td>\n",
              "      <td>2%</td>\n",
              "      <td>10%</td>\n",
              "      <td>79%</td>\n",
              "      <td>30</td>\n",
              "      <td>11%</td>\n",
              "      <td>201.02</td>\n",
              "      <td>SIM</td>\n",
              "    </tr>\n",
              "    <tr>\n",
              "      <th>4</th>\n",
              "      <td>2016</td>\n",
              "      <td>Solteiro</td>\n",
              "      <td>Salvador</td>\n",
              "      <td>2.41</td>\n",
              "      <td>1%</td>\n",
              "      <td>1%</td>\n",
              "      <td>9%</td>\n",
              "      <td>89%</td>\n",
              "      <td>36</td>\n",
              "      <td>13%</td>\n",
              "      <td>146.67</td>\n",
              "      <td>NÃO</td>\n",
              "    </tr>\n",
              "  </tbody>\n",
              "</table>\n",
              "</div>\n",
              "      <button class=\"colab-df-convert\" onclick=\"convertToInteractive('df-c22bcbb3-c635-4199-a6fb-bf538c71cb96')\"\n",
              "              title=\"Convert this dataframe to an interactive table.\"\n",
              "              style=\"display:none;\">\n",
              "        \n",
              "  <svg xmlns=\"http://www.w3.org/2000/svg\" height=\"24px\"viewBox=\"0 0 24 24\"\n",
              "       width=\"24px\">\n",
              "    <path d=\"M0 0h24v24H0V0z\" fill=\"none\"/>\n",
              "    <path d=\"M18.56 5.44l.94 2.06.94-2.06 2.06-.94-2.06-.94-.94-2.06-.94 2.06-2.06.94zm-11 1L8.5 8.5l.94-2.06 2.06-.94-2.06-.94L8.5 2.5l-.94 2.06-2.06.94zm10 10l.94 2.06.94-2.06 2.06-.94-2.06-.94-.94-2.06-.94 2.06-2.06.94z\"/><path d=\"M17.41 7.96l-1.37-1.37c-.4-.4-.92-.59-1.43-.59-.52 0-1.04.2-1.43.59L10.3 9.45l-7.72 7.72c-.78.78-.78 2.05 0 2.83L4 21.41c.39.39.9.59 1.41.59.51 0 1.02-.2 1.41-.59l7.78-7.78 2.81-2.81c.8-.78.8-2.07 0-2.86zM5.41 20L4 18.59l7.72-7.72 1.47 1.35L5.41 20z\"/>\n",
              "  </svg>\n",
              "      </button>\n",
              "      \n",
              "  <style>\n",
              "    .colab-df-container {\n",
              "      display:flex;\n",
              "      flex-wrap:wrap;\n",
              "      gap: 12px;\n",
              "    }\n",
              "\n",
              "    .colab-df-convert {\n",
              "      background-color: #E8F0FE;\n",
              "      border: none;\n",
              "      border-radius: 50%;\n",
              "      cursor: pointer;\n",
              "      display: none;\n",
              "      fill: #1967D2;\n",
              "      height: 32px;\n",
              "      padding: 0 0 0 0;\n",
              "      width: 32px;\n",
              "    }\n",
              "\n",
              "    .colab-df-convert:hover {\n",
              "      background-color: #E2EBFA;\n",
              "      box-shadow: 0px 1px 2px rgba(60, 64, 67, 0.3), 0px 1px 3px 1px rgba(60, 64, 67, 0.15);\n",
              "      fill: #174EA6;\n",
              "    }\n",
              "\n",
              "    [theme=dark] .colab-df-convert {\n",
              "      background-color: #3B4455;\n",
              "      fill: #D2E3FC;\n",
              "    }\n",
              "\n",
              "    [theme=dark] .colab-df-convert:hover {\n",
              "      background-color: #434B5C;\n",
              "      box-shadow: 0px 1px 3px 1px rgba(0, 0, 0, 0.15);\n",
              "      filter: drop-shadow(0px 1px 2px rgba(0, 0, 0, 0.3));\n",
              "      fill: #FFFFFF;\n",
              "    }\n",
              "  </style>\n",
              "\n",
              "      <script>\n",
              "        const buttonEl =\n",
              "          document.querySelector('#df-c22bcbb3-c635-4199-a6fb-bf538c71cb96 button.colab-df-convert');\n",
              "        buttonEl.style.display =\n",
              "          google.colab.kernel.accessAllowed ? 'block' : 'none';\n",
              "\n",
              "        async function convertToInteractive(key) {\n",
              "          const element = document.querySelector('#df-c22bcbb3-c635-4199-a6fb-bf538c71cb96');\n",
              "          const dataTable =\n",
              "            await google.colab.kernel.invokeFunction('convertToInteractive',\n",
              "                                                     [key], {});\n",
              "          if (!dataTable) return;\n",
              "\n",
              "          const docLinkHtml = 'Like what you see? Visit the ' +\n",
              "            '<a target=\"_blank\" href=https://colab.research.google.com/notebooks/data_table.ipynb>data table notebook</a>'\n",
              "            + ' to learn more about interactive tables.';\n",
              "          element.innerHTML = '';\n",
              "          dataTable['output_type'] = 'display_data';\n",
              "          await google.colab.output.renderOutput(dataTable, element);\n",
              "          const docLink = document.createElement('div');\n",
              "          docLink.innerHTML = docLinkHtml;\n",
              "          element.appendChild(docLink);\n",
              "        }\n",
              "      </script>\n",
              "    </div>\n",
              "  </div>\n",
              "  "
            ]
          },
          "metadata": {},
          "execution_count": 8
        }
      ]
    },
    {
      "cell_type": "code",
      "source": [
        "df[[\"renda_cliente\", \"valor_imovel\"]] = df[[\"renda_cliente\", \"valor_imovel\"]].apply(lambda x: x * 1000, axis=1)"
      ],
      "metadata": {
        "id": "s-ZCk-fx3oBO"
      },
      "execution_count": null,
      "outputs": []
    },
    {
      "cell_type": "code",
      "source": [
        "df.head()"
      ],
      "metadata": {
        "colab": {
          "base_uri": "https://localhost:8080/",
          "height": 267
        },
        "id": "OKFhNAVu8XcA",
        "outputId": "b979d70c-447e-4d09-9c9d-99db0f10b648"
      },
      "execution_count": null,
      "outputs": [
        {
          "output_type": "execute_result",
          "data": {
            "text/plain": [
              "   ano_venda estado_civil          cidade  renda_cliente fgts_imovel  \\\n",
              "0       2017   Divorciado  Ribeirão Preto        3268.00          4%   \n",
              "1       2014     Solteiro       Joinville        2154.00          8%   \n",
              "2       2017     Solteiro         UBERABA        2039.00          0%   \n",
              "3       2015     Solteiro       São Paulo        6349.00          8%   \n",
              "4       2016     Solteiro        Salvador        2413.00          1%   \n",
              "\n",
              "  sinal_imovel mrv_imovel banco_imovel  parcelas_entradas  \\\n",
              "0           1%        14%          82%                 33   \n",
              "1           0%        10%          82%                 23   \n",
              "2          18%         4%          78%                 45   \n",
              "3           2%        10%          79%                 30   \n",
              "4           1%         9%          89%                 36   \n",
              "\n",
              "  renda_parcela_entrada  valor_imovel inadimplencia  \n",
              "0                   16%     134017.00           NÃO  \n",
              "1                   24%     130284.00           SIM  \n",
              "2                    6%     140184.00           NÃO  \n",
              "3                   11%     201016.00           SIM  \n",
              "4                   13%     146673.00           NÃO  "
            ],
            "text/html": [
              "\n",
              "  <div id=\"df-6489ea53-bdcd-4ea7-bc1d-eb53f7260f32\">\n",
              "    <div class=\"colab-df-container\">\n",
              "      <div>\n",
              "<style scoped>\n",
              "    .dataframe tbody tr th:only-of-type {\n",
              "        vertical-align: middle;\n",
              "    }\n",
              "\n",
              "    .dataframe tbody tr th {\n",
              "        vertical-align: top;\n",
              "    }\n",
              "\n",
              "    .dataframe thead th {\n",
              "        text-align: right;\n",
              "    }\n",
              "</style>\n",
              "<table border=\"1\" class=\"dataframe\">\n",
              "  <thead>\n",
              "    <tr style=\"text-align: right;\">\n",
              "      <th></th>\n",
              "      <th>ano_venda</th>\n",
              "      <th>estado_civil</th>\n",
              "      <th>cidade</th>\n",
              "      <th>renda_cliente</th>\n",
              "      <th>fgts_imovel</th>\n",
              "      <th>sinal_imovel</th>\n",
              "      <th>mrv_imovel</th>\n",
              "      <th>banco_imovel</th>\n",
              "      <th>parcelas_entradas</th>\n",
              "      <th>renda_parcela_entrada</th>\n",
              "      <th>valor_imovel</th>\n",
              "      <th>inadimplencia</th>\n",
              "    </tr>\n",
              "  </thead>\n",
              "  <tbody>\n",
              "    <tr>\n",
              "      <th>0</th>\n",
              "      <td>2017</td>\n",
              "      <td>Divorciado</td>\n",
              "      <td>Ribeirão Preto</td>\n",
              "      <td>3268.00</td>\n",
              "      <td>4%</td>\n",
              "      <td>1%</td>\n",
              "      <td>14%</td>\n",
              "      <td>82%</td>\n",
              "      <td>33</td>\n",
              "      <td>16%</td>\n",
              "      <td>134017.00</td>\n",
              "      <td>NÃO</td>\n",
              "    </tr>\n",
              "    <tr>\n",
              "      <th>1</th>\n",
              "      <td>2014</td>\n",
              "      <td>Solteiro</td>\n",
              "      <td>Joinville</td>\n",
              "      <td>2154.00</td>\n",
              "      <td>8%</td>\n",
              "      <td>0%</td>\n",
              "      <td>10%</td>\n",
              "      <td>82%</td>\n",
              "      <td>23</td>\n",
              "      <td>24%</td>\n",
              "      <td>130284.00</td>\n",
              "      <td>SIM</td>\n",
              "    </tr>\n",
              "    <tr>\n",
              "      <th>2</th>\n",
              "      <td>2017</td>\n",
              "      <td>Solteiro</td>\n",
              "      <td>UBERABA</td>\n",
              "      <td>2039.00</td>\n",
              "      <td>0%</td>\n",
              "      <td>18%</td>\n",
              "      <td>4%</td>\n",
              "      <td>78%</td>\n",
              "      <td>45</td>\n",
              "      <td>6%</td>\n",
              "      <td>140184.00</td>\n",
              "      <td>NÃO</td>\n",
              "    </tr>\n",
              "    <tr>\n",
              "      <th>3</th>\n",
              "      <td>2015</td>\n",
              "      <td>Solteiro</td>\n",
              "      <td>São Paulo</td>\n",
              "      <td>6349.00</td>\n",
              "      <td>8%</td>\n",
              "      <td>2%</td>\n",
              "      <td>10%</td>\n",
              "      <td>79%</td>\n",
              "      <td>30</td>\n",
              "      <td>11%</td>\n",
              "      <td>201016.00</td>\n",
              "      <td>SIM</td>\n",
              "    </tr>\n",
              "    <tr>\n",
              "      <th>4</th>\n",
              "      <td>2016</td>\n",
              "      <td>Solteiro</td>\n",
              "      <td>Salvador</td>\n",
              "      <td>2413.00</td>\n",
              "      <td>1%</td>\n",
              "      <td>1%</td>\n",
              "      <td>9%</td>\n",
              "      <td>89%</td>\n",
              "      <td>36</td>\n",
              "      <td>13%</td>\n",
              "      <td>146673.00</td>\n",
              "      <td>NÃO</td>\n",
              "    </tr>\n",
              "  </tbody>\n",
              "</table>\n",
              "</div>\n",
              "      <button class=\"colab-df-convert\" onclick=\"convertToInteractive('df-6489ea53-bdcd-4ea7-bc1d-eb53f7260f32')\"\n",
              "              title=\"Convert this dataframe to an interactive table.\"\n",
              "              style=\"display:none;\">\n",
              "        \n",
              "  <svg xmlns=\"http://www.w3.org/2000/svg\" height=\"24px\"viewBox=\"0 0 24 24\"\n",
              "       width=\"24px\">\n",
              "    <path d=\"M0 0h24v24H0V0z\" fill=\"none\"/>\n",
              "    <path d=\"M18.56 5.44l.94 2.06.94-2.06 2.06-.94-2.06-.94-.94-2.06-.94 2.06-2.06.94zm-11 1L8.5 8.5l.94-2.06 2.06-.94-2.06-.94L8.5 2.5l-.94 2.06-2.06.94zm10 10l.94 2.06.94-2.06 2.06-.94-2.06-.94-.94-2.06-.94 2.06-2.06.94z\"/><path d=\"M17.41 7.96l-1.37-1.37c-.4-.4-.92-.59-1.43-.59-.52 0-1.04.2-1.43.59L10.3 9.45l-7.72 7.72c-.78.78-.78 2.05 0 2.83L4 21.41c.39.39.9.59 1.41.59.51 0 1.02-.2 1.41-.59l7.78-7.78 2.81-2.81c.8-.78.8-2.07 0-2.86zM5.41 20L4 18.59l7.72-7.72 1.47 1.35L5.41 20z\"/>\n",
              "  </svg>\n",
              "      </button>\n",
              "      \n",
              "  <style>\n",
              "    .colab-df-container {\n",
              "      display:flex;\n",
              "      flex-wrap:wrap;\n",
              "      gap: 12px;\n",
              "    }\n",
              "\n",
              "    .colab-df-convert {\n",
              "      background-color: #E8F0FE;\n",
              "      border: none;\n",
              "      border-radius: 50%;\n",
              "      cursor: pointer;\n",
              "      display: none;\n",
              "      fill: #1967D2;\n",
              "      height: 32px;\n",
              "      padding: 0 0 0 0;\n",
              "      width: 32px;\n",
              "    }\n",
              "\n",
              "    .colab-df-convert:hover {\n",
              "      background-color: #E2EBFA;\n",
              "      box-shadow: 0px 1px 2px rgba(60, 64, 67, 0.3), 0px 1px 3px 1px rgba(60, 64, 67, 0.15);\n",
              "      fill: #174EA6;\n",
              "    }\n",
              "\n",
              "    [theme=dark] .colab-df-convert {\n",
              "      background-color: #3B4455;\n",
              "      fill: #D2E3FC;\n",
              "    }\n",
              "\n",
              "    [theme=dark] .colab-df-convert:hover {\n",
              "      background-color: #434B5C;\n",
              "      box-shadow: 0px 1px 3px 1px rgba(0, 0, 0, 0.15);\n",
              "      filter: drop-shadow(0px 1px 2px rgba(0, 0, 0, 0.3));\n",
              "      fill: #FFFFFF;\n",
              "    }\n",
              "  </style>\n",
              "\n",
              "      <script>\n",
              "        const buttonEl =\n",
              "          document.querySelector('#df-6489ea53-bdcd-4ea7-bc1d-eb53f7260f32 button.colab-df-convert');\n",
              "        buttonEl.style.display =\n",
              "          google.colab.kernel.accessAllowed ? 'block' : 'none';\n",
              "\n",
              "        async function convertToInteractive(key) {\n",
              "          const element = document.querySelector('#df-6489ea53-bdcd-4ea7-bc1d-eb53f7260f32');\n",
              "          const dataTable =\n",
              "            await google.colab.kernel.invokeFunction('convertToInteractive',\n",
              "                                                     [key], {});\n",
              "          if (!dataTable) return;\n",
              "\n",
              "          const docLinkHtml = 'Like what you see? Visit the ' +\n",
              "            '<a target=\"_blank\" href=https://colab.research.google.com/notebooks/data_table.ipynb>data table notebook</a>'\n",
              "            + ' to learn more about interactive tables.';\n",
              "          element.innerHTML = '';\n",
              "          dataTable['output_type'] = 'display_data';\n",
              "          await google.colab.output.renderOutput(dataTable, element);\n",
              "          const docLink = document.createElement('div');\n",
              "          docLink.innerHTML = docLinkHtml;\n",
              "          element.appendChild(docLink);\n",
              "        }\n",
              "      </script>\n",
              "    </div>\n",
              "  </div>\n",
              "  "
            ]
          },
          "metadata": {},
          "execution_count": 10
        }
      ]
    },
    {
      "cell_type": "code",
      "source": [
        "px.line(df.groupby('ano_venda').valor_imovel.sum().reset_index(), x='ano_venda', y='valor_imovel')"
      ],
      "metadata": {
        "colab": {
          "base_uri": "https://localhost:8080/",
          "height": 542
        },
        "id": "ESuTx-2uxkQb",
        "outputId": "557f6ebd-9f1d-4ef6-bcd9-19d5b42ac355"
      },
      "execution_count": null,
      "outputs": [
        {
          "output_type": "display_data",
          "data": {
            "text/html": [
              "<html>\n",
              "<head><meta charset=\"utf-8\" /></head>\n",
              "<body>\n",
              "    <div>            <script src=\"https://cdnjs.cloudflare.com/ajax/libs/mathjax/2.7.5/MathJax.js?config=TeX-AMS-MML_SVG\"></script><script type=\"text/javascript\">if (window.MathJax) {MathJax.Hub.Config({SVG: {font: \"STIX-Web\"}});}</script>                <script type=\"text/javascript\">window.PlotlyConfig = {MathJaxConfig: 'local'};</script>\n",
              "        <script src=\"https://cdn.plot.ly/plotly-2.8.3.min.js\"></script>                <div id=\"07ea382b-0f23-49fa-aa66-edaee5ec5b70\" class=\"plotly-graph-div\" style=\"height:525px; width:100%;\"></div>            <script type=\"text/javascript\">                                    window.PLOTLYENV=window.PLOTLYENV || {};                                    if (document.getElementById(\"07ea382b-0f23-49fa-aa66-edaee5ec5b70\")) {                    Plotly.newPlot(                        \"07ea382b-0f23-49fa-aa66-edaee5ec5b70\",                        [{\"hovertemplate\":\"ano_venda=%{x}<br>valor_imovel=%{y}<extra></extra>\",\"legendgroup\":\"\",\"line\":{\"color\":\"#636efa\",\"dash\":\"solid\"},\"marker\":{\"symbol\":\"circle\"},\"mode\":\"lines\",\"name\":\"\",\"orientation\":\"v\",\"showlegend\":false,\"x\":[2014,2015,2016,2017],\"xaxis\":\"x\",\"y\":[465630844.0,443457383.0,459309304.0,551361383.0],\"yaxis\":\"y\",\"type\":\"scatter\"}],                        {\"template\":{\"data\":{\"bar\":[{\"error_x\":{\"color\":\"#2a3f5f\"},\"error_y\":{\"color\":\"#2a3f5f\"},\"marker\":{\"line\":{\"color\":\"#E5ECF6\",\"width\":0.5},\"pattern\":{\"fillmode\":\"overlay\",\"size\":10,\"solidity\":0.2}},\"type\":\"bar\"}],\"barpolar\":[{\"marker\":{\"line\":{\"color\":\"#E5ECF6\",\"width\":0.5},\"pattern\":{\"fillmode\":\"overlay\",\"size\":10,\"solidity\":0.2}},\"type\":\"barpolar\"}],\"carpet\":[{\"aaxis\":{\"endlinecolor\":\"#2a3f5f\",\"gridcolor\":\"white\",\"linecolor\":\"white\",\"minorgridcolor\":\"white\",\"startlinecolor\":\"#2a3f5f\"},\"baxis\":{\"endlinecolor\":\"#2a3f5f\",\"gridcolor\":\"white\",\"linecolor\":\"white\",\"minorgridcolor\":\"white\",\"startlinecolor\":\"#2a3f5f\"},\"type\":\"carpet\"}],\"choropleth\":[{\"colorbar\":{\"outlinewidth\":0,\"ticks\":\"\"},\"type\":\"choropleth\"}],\"contour\":[{\"colorbar\":{\"outlinewidth\":0,\"ticks\":\"\"},\"colorscale\":[[0.0,\"#0d0887\"],[0.1111111111111111,\"#46039f\"],[0.2222222222222222,\"#7201a8\"],[0.3333333333333333,\"#9c179e\"],[0.4444444444444444,\"#bd3786\"],[0.5555555555555556,\"#d8576b\"],[0.6666666666666666,\"#ed7953\"],[0.7777777777777778,\"#fb9f3a\"],[0.8888888888888888,\"#fdca26\"],[1.0,\"#f0f921\"]],\"type\":\"contour\"}],\"contourcarpet\":[{\"colorbar\":{\"outlinewidth\":0,\"ticks\":\"\"},\"type\":\"contourcarpet\"}],\"heatmap\":[{\"colorbar\":{\"outlinewidth\":0,\"ticks\":\"\"},\"colorscale\":[[0.0,\"#0d0887\"],[0.1111111111111111,\"#46039f\"],[0.2222222222222222,\"#7201a8\"],[0.3333333333333333,\"#9c179e\"],[0.4444444444444444,\"#bd3786\"],[0.5555555555555556,\"#d8576b\"],[0.6666666666666666,\"#ed7953\"],[0.7777777777777778,\"#fb9f3a\"],[0.8888888888888888,\"#fdca26\"],[1.0,\"#f0f921\"]],\"type\":\"heatmap\"}],\"heatmapgl\":[{\"colorbar\":{\"outlinewidth\":0,\"ticks\":\"\"},\"colorscale\":[[0.0,\"#0d0887\"],[0.1111111111111111,\"#46039f\"],[0.2222222222222222,\"#7201a8\"],[0.3333333333333333,\"#9c179e\"],[0.4444444444444444,\"#bd3786\"],[0.5555555555555556,\"#d8576b\"],[0.6666666666666666,\"#ed7953\"],[0.7777777777777778,\"#fb9f3a\"],[0.8888888888888888,\"#fdca26\"],[1.0,\"#f0f921\"]],\"type\":\"heatmapgl\"}],\"histogram\":[{\"marker\":{\"pattern\":{\"fillmode\":\"overlay\",\"size\":10,\"solidity\":0.2}},\"type\":\"histogram\"}],\"histogram2d\":[{\"colorbar\":{\"outlinewidth\":0,\"ticks\":\"\"},\"colorscale\":[[0.0,\"#0d0887\"],[0.1111111111111111,\"#46039f\"],[0.2222222222222222,\"#7201a8\"],[0.3333333333333333,\"#9c179e\"],[0.4444444444444444,\"#bd3786\"],[0.5555555555555556,\"#d8576b\"],[0.6666666666666666,\"#ed7953\"],[0.7777777777777778,\"#fb9f3a\"],[0.8888888888888888,\"#fdca26\"],[1.0,\"#f0f921\"]],\"type\":\"histogram2d\"}],\"histogram2dcontour\":[{\"colorbar\":{\"outlinewidth\":0,\"ticks\":\"\"},\"colorscale\":[[0.0,\"#0d0887\"],[0.1111111111111111,\"#46039f\"],[0.2222222222222222,\"#7201a8\"],[0.3333333333333333,\"#9c179e\"],[0.4444444444444444,\"#bd3786\"],[0.5555555555555556,\"#d8576b\"],[0.6666666666666666,\"#ed7953\"],[0.7777777777777778,\"#fb9f3a\"],[0.8888888888888888,\"#fdca26\"],[1.0,\"#f0f921\"]],\"type\":\"histogram2dcontour\"}],\"mesh3d\":[{\"colorbar\":{\"outlinewidth\":0,\"ticks\":\"\"},\"type\":\"mesh3d\"}],\"parcoords\":[{\"line\":{\"colorbar\":{\"outlinewidth\":0,\"ticks\":\"\"}},\"type\":\"parcoords\"}],\"pie\":[{\"automargin\":true,\"type\":\"pie\"}],\"scatter\":[{\"marker\":{\"colorbar\":{\"outlinewidth\":0,\"ticks\":\"\"}},\"type\":\"scatter\"}],\"scatter3d\":[{\"line\":{\"colorbar\":{\"outlinewidth\":0,\"ticks\":\"\"}},\"marker\":{\"colorbar\":{\"outlinewidth\":0,\"ticks\":\"\"}},\"type\":\"scatter3d\"}],\"scattercarpet\":[{\"marker\":{\"colorbar\":{\"outlinewidth\":0,\"ticks\":\"\"}},\"type\":\"scattercarpet\"}],\"scattergeo\":[{\"marker\":{\"colorbar\":{\"outlinewidth\":0,\"ticks\":\"\"}},\"type\":\"scattergeo\"}],\"scattergl\":[{\"marker\":{\"colorbar\":{\"outlinewidth\":0,\"ticks\":\"\"}},\"type\":\"scattergl\"}],\"scattermapbox\":[{\"marker\":{\"colorbar\":{\"outlinewidth\":0,\"ticks\":\"\"}},\"type\":\"scattermapbox\"}],\"scatterpolar\":[{\"marker\":{\"colorbar\":{\"outlinewidth\":0,\"ticks\":\"\"}},\"type\":\"scatterpolar\"}],\"scatterpolargl\":[{\"marker\":{\"colorbar\":{\"outlinewidth\":0,\"ticks\":\"\"}},\"type\":\"scatterpolargl\"}],\"scatterternary\":[{\"marker\":{\"colorbar\":{\"outlinewidth\":0,\"ticks\":\"\"}},\"type\":\"scatterternary\"}],\"surface\":[{\"colorbar\":{\"outlinewidth\":0,\"ticks\":\"\"},\"colorscale\":[[0.0,\"#0d0887\"],[0.1111111111111111,\"#46039f\"],[0.2222222222222222,\"#7201a8\"],[0.3333333333333333,\"#9c179e\"],[0.4444444444444444,\"#bd3786\"],[0.5555555555555556,\"#d8576b\"],[0.6666666666666666,\"#ed7953\"],[0.7777777777777778,\"#fb9f3a\"],[0.8888888888888888,\"#fdca26\"],[1.0,\"#f0f921\"]],\"type\":\"surface\"}],\"table\":[{\"cells\":{\"fill\":{\"color\":\"#EBF0F8\"},\"line\":{\"color\":\"white\"}},\"header\":{\"fill\":{\"color\":\"#C8D4E3\"},\"line\":{\"color\":\"white\"}},\"type\":\"table\"}]},\"layout\":{\"annotationdefaults\":{\"arrowcolor\":\"#2a3f5f\",\"arrowhead\":0,\"arrowwidth\":1},\"autotypenumbers\":\"strict\",\"coloraxis\":{\"colorbar\":{\"outlinewidth\":0,\"ticks\":\"\"}},\"colorscale\":{\"diverging\":[[0,\"#8e0152\"],[0.1,\"#c51b7d\"],[0.2,\"#de77ae\"],[0.3,\"#f1b6da\"],[0.4,\"#fde0ef\"],[0.5,\"#f7f7f7\"],[0.6,\"#e6f5d0\"],[0.7,\"#b8e186\"],[0.8,\"#7fbc41\"],[0.9,\"#4d9221\"],[1,\"#276419\"]],\"sequential\":[[0.0,\"#0d0887\"],[0.1111111111111111,\"#46039f\"],[0.2222222222222222,\"#7201a8\"],[0.3333333333333333,\"#9c179e\"],[0.4444444444444444,\"#bd3786\"],[0.5555555555555556,\"#d8576b\"],[0.6666666666666666,\"#ed7953\"],[0.7777777777777778,\"#fb9f3a\"],[0.8888888888888888,\"#fdca26\"],[1.0,\"#f0f921\"]],\"sequentialminus\":[[0.0,\"#0d0887\"],[0.1111111111111111,\"#46039f\"],[0.2222222222222222,\"#7201a8\"],[0.3333333333333333,\"#9c179e\"],[0.4444444444444444,\"#bd3786\"],[0.5555555555555556,\"#d8576b\"],[0.6666666666666666,\"#ed7953\"],[0.7777777777777778,\"#fb9f3a\"],[0.8888888888888888,\"#fdca26\"],[1.0,\"#f0f921\"]]},\"colorway\":[\"#636efa\",\"#EF553B\",\"#00cc96\",\"#ab63fa\",\"#FFA15A\",\"#19d3f3\",\"#FF6692\",\"#B6E880\",\"#FF97FF\",\"#FECB52\"],\"font\":{\"color\":\"#2a3f5f\"},\"geo\":{\"bgcolor\":\"white\",\"lakecolor\":\"white\",\"landcolor\":\"#E5ECF6\",\"showlakes\":true,\"showland\":true,\"subunitcolor\":\"white\"},\"hoverlabel\":{\"align\":\"left\"},\"hovermode\":\"closest\",\"mapbox\":{\"style\":\"light\"},\"paper_bgcolor\":\"white\",\"plot_bgcolor\":\"#E5ECF6\",\"polar\":{\"angularaxis\":{\"gridcolor\":\"white\",\"linecolor\":\"white\",\"ticks\":\"\"},\"bgcolor\":\"#E5ECF6\",\"radialaxis\":{\"gridcolor\":\"white\",\"linecolor\":\"white\",\"ticks\":\"\"}},\"scene\":{\"xaxis\":{\"backgroundcolor\":\"#E5ECF6\",\"gridcolor\":\"white\",\"gridwidth\":2,\"linecolor\":\"white\",\"showbackground\":true,\"ticks\":\"\",\"zerolinecolor\":\"white\"},\"yaxis\":{\"backgroundcolor\":\"#E5ECF6\",\"gridcolor\":\"white\",\"gridwidth\":2,\"linecolor\":\"white\",\"showbackground\":true,\"ticks\":\"\",\"zerolinecolor\":\"white\"},\"zaxis\":{\"backgroundcolor\":\"#E5ECF6\",\"gridcolor\":\"white\",\"gridwidth\":2,\"linecolor\":\"white\",\"showbackground\":true,\"ticks\":\"\",\"zerolinecolor\":\"white\"}},\"shapedefaults\":{\"line\":{\"color\":\"#2a3f5f\"}},\"ternary\":{\"aaxis\":{\"gridcolor\":\"white\",\"linecolor\":\"white\",\"ticks\":\"\"},\"baxis\":{\"gridcolor\":\"white\",\"linecolor\":\"white\",\"ticks\":\"\"},\"bgcolor\":\"#E5ECF6\",\"caxis\":{\"gridcolor\":\"white\",\"linecolor\":\"white\",\"ticks\":\"\"}},\"title\":{\"x\":0.05},\"xaxis\":{\"automargin\":true,\"gridcolor\":\"white\",\"linecolor\":\"white\",\"ticks\":\"\",\"title\":{\"standoff\":15},\"zerolinecolor\":\"white\",\"zerolinewidth\":2},\"yaxis\":{\"automargin\":true,\"gridcolor\":\"white\",\"linecolor\":\"white\",\"ticks\":\"\",\"title\":{\"standoff\":15},\"zerolinecolor\":\"white\",\"zerolinewidth\":2}}},\"xaxis\":{\"anchor\":\"y\",\"domain\":[0.0,1.0],\"title\":{\"text\":\"ano_venda\"}},\"yaxis\":{\"anchor\":\"x\",\"domain\":[0.0,1.0],\"title\":{\"text\":\"valor_imovel\"}},\"legend\":{\"tracegroupgap\":0},\"margin\":{\"t\":60}},                        {\"responsive\": true}                    ).then(function(){\n",
              "                            \n",
              "var gd = document.getElementById('07ea382b-0f23-49fa-aa66-edaee5ec5b70');\n",
              "var x = new MutationObserver(function (mutations, observer) {{\n",
              "        var display = window.getComputedStyle(gd).display;\n",
              "        if (!display || display === 'none') {{\n",
              "            console.log([gd, 'removed!']);\n",
              "            Plotly.purge(gd);\n",
              "            observer.disconnect();\n",
              "        }}\n",
              "}});\n",
              "\n",
              "// Listen for the removal of the full notebook cells\n",
              "var notebookContainer = gd.closest('#notebook-container');\n",
              "if (notebookContainer) {{\n",
              "    x.observe(notebookContainer, {childList: true});\n",
              "}}\n",
              "\n",
              "// Listen for the clearing of the current output cell\n",
              "var outputEl = gd.closest('.output');\n",
              "if (outputEl) {{\n",
              "    x.observe(outputEl, {childList: true});\n",
              "}}\n",
              "\n",
              "                        })                };                            </script>        </div>\n",
              "</body>\n",
              "</html>"
            ]
          },
          "metadata": {}
        }
      ]
    },
    {
      "cell_type": "code",
      "source": [
        "df_inad_by_ec = df.groupby([\"estado_civil\", \"inadimplencia\"]).agg(inadimplencia_count = (\"inadimplencia\",\"count\")).reset_index()"
      ],
      "metadata": {
        "id": "8jX_fTmOyj7f"
      },
      "execution_count": null,
      "outputs": []
    },
    {
      "cell_type": "code",
      "source": [
        "px.bar(df_inad_by_ec, x=\"estado_civil\", y=\"inadimplencia_count\", color=\"inadimplencia\")"
      ],
      "metadata": {
        "colab": {
          "base_uri": "https://localhost:8080/",
          "height": 542
        },
        "id": "7AOABDmTz6Xl",
        "outputId": "59f5539a-d167-47c5-8f47-e30fbf246af2"
      },
      "execution_count": null,
      "outputs": [
        {
          "output_type": "display_data",
          "data": {
            "text/html": [
              "<html>\n",
              "<head><meta charset=\"utf-8\" /></head>\n",
              "<body>\n",
              "    <div>            <script src=\"https://cdnjs.cloudflare.com/ajax/libs/mathjax/2.7.5/MathJax.js?config=TeX-AMS-MML_SVG\"></script><script type=\"text/javascript\">if (window.MathJax) {MathJax.Hub.Config({SVG: {font: \"STIX-Web\"}});}</script>                <script type=\"text/javascript\">window.PlotlyConfig = {MathJaxConfig: 'local'};</script>\n",
              "        <script src=\"https://cdn.plot.ly/plotly-2.8.3.min.js\"></script>                <div id=\"042293cc-6bc2-4b7d-8f68-2f444205237c\" class=\"plotly-graph-div\" style=\"height:525px; width:100%;\"></div>            <script type=\"text/javascript\">                                    window.PLOTLYENV=window.PLOTLYENV || {};                                    if (document.getElementById(\"042293cc-6bc2-4b7d-8f68-2f444205237c\")) {                    Plotly.newPlot(                        \"042293cc-6bc2-4b7d-8f68-2f444205237c\",                        [{\"alignmentgroup\":\"True\",\"hovertemplate\":\"inadimplencia=N\\u00c3O<br>estado_civil=%{x}<br>inadimplencia_count=%{y}<extra></extra>\",\"legendgroup\":\"N\\u00c3O\",\"marker\":{\"color\":\"#636efa\",\"pattern\":{\"shape\":\"\"}},\"name\":\"N\\u00c3O\",\"offsetgroup\":\"N\\u00c3O\",\"orientation\":\"v\",\"showlegend\":true,\"textposition\":\"auto\",\"x\":[\"Casado\",\"Divorciado\",\"Separado\",\"Solteiro\",\"Vi\\u00favo\"],\"xaxis\":\"x\",\"y\":[1592,764,108,7286,83],\"yaxis\":\"y\",\"type\":\"bar\"},{\"alignmentgroup\":\"True\",\"hovertemplate\":\"inadimplencia=SIM<br>estado_civil=%{x}<br>inadimplencia_count=%{y}<extra></extra>\",\"legendgroup\":\"SIM\",\"marker\":{\"color\":\"#EF553B\",\"pattern\":{\"shape\":\"\"}},\"name\":\"SIM\",\"offsetgroup\":\"SIM\",\"orientation\":\"v\",\"showlegend\":true,\"textposition\":\"auto\",\"x\":[\"Casado\",\"Divorciado\",\"Separado\",\"Solteiro\",\"Vi\\u00favo\"],\"xaxis\":\"x\",\"y\":[388,237,30,2176,8],\"yaxis\":\"y\",\"type\":\"bar\"}],                        {\"template\":{\"data\":{\"bar\":[{\"error_x\":{\"color\":\"#2a3f5f\"},\"error_y\":{\"color\":\"#2a3f5f\"},\"marker\":{\"line\":{\"color\":\"#E5ECF6\",\"width\":0.5},\"pattern\":{\"fillmode\":\"overlay\",\"size\":10,\"solidity\":0.2}},\"type\":\"bar\"}],\"barpolar\":[{\"marker\":{\"line\":{\"color\":\"#E5ECF6\",\"width\":0.5},\"pattern\":{\"fillmode\":\"overlay\",\"size\":10,\"solidity\":0.2}},\"type\":\"barpolar\"}],\"carpet\":[{\"aaxis\":{\"endlinecolor\":\"#2a3f5f\",\"gridcolor\":\"white\",\"linecolor\":\"white\",\"minorgridcolor\":\"white\",\"startlinecolor\":\"#2a3f5f\"},\"baxis\":{\"endlinecolor\":\"#2a3f5f\",\"gridcolor\":\"white\",\"linecolor\":\"white\",\"minorgridcolor\":\"white\",\"startlinecolor\":\"#2a3f5f\"},\"type\":\"carpet\"}],\"choropleth\":[{\"colorbar\":{\"outlinewidth\":0,\"ticks\":\"\"},\"type\":\"choropleth\"}],\"contour\":[{\"colorbar\":{\"outlinewidth\":0,\"ticks\":\"\"},\"colorscale\":[[0.0,\"#0d0887\"],[0.1111111111111111,\"#46039f\"],[0.2222222222222222,\"#7201a8\"],[0.3333333333333333,\"#9c179e\"],[0.4444444444444444,\"#bd3786\"],[0.5555555555555556,\"#d8576b\"],[0.6666666666666666,\"#ed7953\"],[0.7777777777777778,\"#fb9f3a\"],[0.8888888888888888,\"#fdca26\"],[1.0,\"#f0f921\"]],\"type\":\"contour\"}],\"contourcarpet\":[{\"colorbar\":{\"outlinewidth\":0,\"ticks\":\"\"},\"type\":\"contourcarpet\"}],\"heatmap\":[{\"colorbar\":{\"outlinewidth\":0,\"ticks\":\"\"},\"colorscale\":[[0.0,\"#0d0887\"],[0.1111111111111111,\"#46039f\"],[0.2222222222222222,\"#7201a8\"],[0.3333333333333333,\"#9c179e\"],[0.4444444444444444,\"#bd3786\"],[0.5555555555555556,\"#d8576b\"],[0.6666666666666666,\"#ed7953\"],[0.7777777777777778,\"#fb9f3a\"],[0.8888888888888888,\"#fdca26\"],[1.0,\"#f0f921\"]],\"type\":\"heatmap\"}],\"heatmapgl\":[{\"colorbar\":{\"outlinewidth\":0,\"ticks\":\"\"},\"colorscale\":[[0.0,\"#0d0887\"],[0.1111111111111111,\"#46039f\"],[0.2222222222222222,\"#7201a8\"],[0.3333333333333333,\"#9c179e\"],[0.4444444444444444,\"#bd3786\"],[0.5555555555555556,\"#d8576b\"],[0.6666666666666666,\"#ed7953\"],[0.7777777777777778,\"#fb9f3a\"],[0.8888888888888888,\"#fdca26\"],[1.0,\"#f0f921\"]],\"type\":\"heatmapgl\"}],\"histogram\":[{\"marker\":{\"pattern\":{\"fillmode\":\"overlay\",\"size\":10,\"solidity\":0.2}},\"type\":\"histogram\"}],\"histogram2d\":[{\"colorbar\":{\"outlinewidth\":0,\"ticks\":\"\"},\"colorscale\":[[0.0,\"#0d0887\"],[0.1111111111111111,\"#46039f\"],[0.2222222222222222,\"#7201a8\"],[0.3333333333333333,\"#9c179e\"],[0.4444444444444444,\"#bd3786\"],[0.5555555555555556,\"#d8576b\"],[0.6666666666666666,\"#ed7953\"],[0.7777777777777778,\"#fb9f3a\"],[0.8888888888888888,\"#fdca26\"],[1.0,\"#f0f921\"]],\"type\":\"histogram2d\"}],\"histogram2dcontour\":[{\"colorbar\":{\"outlinewidth\":0,\"ticks\":\"\"},\"colorscale\":[[0.0,\"#0d0887\"],[0.1111111111111111,\"#46039f\"],[0.2222222222222222,\"#7201a8\"],[0.3333333333333333,\"#9c179e\"],[0.4444444444444444,\"#bd3786\"],[0.5555555555555556,\"#d8576b\"],[0.6666666666666666,\"#ed7953\"],[0.7777777777777778,\"#fb9f3a\"],[0.8888888888888888,\"#fdca26\"],[1.0,\"#f0f921\"]],\"type\":\"histogram2dcontour\"}],\"mesh3d\":[{\"colorbar\":{\"outlinewidth\":0,\"ticks\":\"\"},\"type\":\"mesh3d\"}],\"parcoords\":[{\"line\":{\"colorbar\":{\"outlinewidth\":0,\"ticks\":\"\"}},\"type\":\"parcoords\"}],\"pie\":[{\"automargin\":true,\"type\":\"pie\"}],\"scatter\":[{\"marker\":{\"colorbar\":{\"outlinewidth\":0,\"ticks\":\"\"}},\"type\":\"scatter\"}],\"scatter3d\":[{\"line\":{\"colorbar\":{\"outlinewidth\":0,\"ticks\":\"\"}},\"marker\":{\"colorbar\":{\"outlinewidth\":0,\"ticks\":\"\"}},\"type\":\"scatter3d\"}],\"scattercarpet\":[{\"marker\":{\"colorbar\":{\"outlinewidth\":0,\"ticks\":\"\"}},\"type\":\"scattercarpet\"}],\"scattergeo\":[{\"marker\":{\"colorbar\":{\"outlinewidth\":0,\"ticks\":\"\"}},\"type\":\"scattergeo\"}],\"scattergl\":[{\"marker\":{\"colorbar\":{\"outlinewidth\":0,\"ticks\":\"\"}},\"type\":\"scattergl\"}],\"scattermapbox\":[{\"marker\":{\"colorbar\":{\"outlinewidth\":0,\"ticks\":\"\"}},\"type\":\"scattermapbox\"}],\"scatterpolar\":[{\"marker\":{\"colorbar\":{\"outlinewidth\":0,\"ticks\":\"\"}},\"type\":\"scatterpolar\"}],\"scatterpolargl\":[{\"marker\":{\"colorbar\":{\"outlinewidth\":0,\"ticks\":\"\"}},\"type\":\"scatterpolargl\"}],\"scatterternary\":[{\"marker\":{\"colorbar\":{\"outlinewidth\":0,\"ticks\":\"\"}},\"type\":\"scatterternary\"}],\"surface\":[{\"colorbar\":{\"outlinewidth\":0,\"ticks\":\"\"},\"colorscale\":[[0.0,\"#0d0887\"],[0.1111111111111111,\"#46039f\"],[0.2222222222222222,\"#7201a8\"],[0.3333333333333333,\"#9c179e\"],[0.4444444444444444,\"#bd3786\"],[0.5555555555555556,\"#d8576b\"],[0.6666666666666666,\"#ed7953\"],[0.7777777777777778,\"#fb9f3a\"],[0.8888888888888888,\"#fdca26\"],[1.0,\"#f0f921\"]],\"type\":\"surface\"}],\"table\":[{\"cells\":{\"fill\":{\"color\":\"#EBF0F8\"},\"line\":{\"color\":\"white\"}},\"header\":{\"fill\":{\"color\":\"#C8D4E3\"},\"line\":{\"color\":\"white\"}},\"type\":\"table\"}]},\"layout\":{\"annotationdefaults\":{\"arrowcolor\":\"#2a3f5f\",\"arrowhead\":0,\"arrowwidth\":1},\"autotypenumbers\":\"strict\",\"coloraxis\":{\"colorbar\":{\"outlinewidth\":0,\"ticks\":\"\"}},\"colorscale\":{\"diverging\":[[0,\"#8e0152\"],[0.1,\"#c51b7d\"],[0.2,\"#de77ae\"],[0.3,\"#f1b6da\"],[0.4,\"#fde0ef\"],[0.5,\"#f7f7f7\"],[0.6,\"#e6f5d0\"],[0.7,\"#b8e186\"],[0.8,\"#7fbc41\"],[0.9,\"#4d9221\"],[1,\"#276419\"]],\"sequential\":[[0.0,\"#0d0887\"],[0.1111111111111111,\"#46039f\"],[0.2222222222222222,\"#7201a8\"],[0.3333333333333333,\"#9c179e\"],[0.4444444444444444,\"#bd3786\"],[0.5555555555555556,\"#d8576b\"],[0.6666666666666666,\"#ed7953\"],[0.7777777777777778,\"#fb9f3a\"],[0.8888888888888888,\"#fdca26\"],[1.0,\"#f0f921\"]],\"sequentialminus\":[[0.0,\"#0d0887\"],[0.1111111111111111,\"#46039f\"],[0.2222222222222222,\"#7201a8\"],[0.3333333333333333,\"#9c179e\"],[0.4444444444444444,\"#bd3786\"],[0.5555555555555556,\"#d8576b\"],[0.6666666666666666,\"#ed7953\"],[0.7777777777777778,\"#fb9f3a\"],[0.8888888888888888,\"#fdca26\"],[1.0,\"#f0f921\"]]},\"colorway\":[\"#636efa\",\"#EF553B\",\"#00cc96\",\"#ab63fa\",\"#FFA15A\",\"#19d3f3\",\"#FF6692\",\"#B6E880\",\"#FF97FF\",\"#FECB52\"],\"font\":{\"color\":\"#2a3f5f\"},\"geo\":{\"bgcolor\":\"white\",\"lakecolor\":\"white\",\"landcolor\":\"#E5ECF6\",\"showlakes\":true,\"showland\":true,\"subunitcolor\":\"white\"},\"hoverlabel\":{\"align\":\"left\"},\"hovermode\":\"closest\",\"mapbox\":{\"style\":\"light\"},\"paper_bgcolor\":\"white\",\"plot_bgcolor\":\"#E5ECF6\",\"polar\":{\"angularaxis\":{\"gridcolor\":\"white\",\"linecolor\":\"white\",\"ticks\":\"\"},\"bgcolor\":\"#E5ECF6\",\"radialaxis\":{\"gridcolor\":\"white\",\"linecolor\":\"white\",\"ticks\":\"\"}},\"scene\":{\"xaxis\":{\"backgroundcolor\":\"#E5ECF6\",\"gridcolor\":\"white\",\"gridwidth\":2,\"linecolor\":\"white\",\"showbackground\":true,\"ticks\":\"\",\"zerolinecolor\":\"white\"},\"yaxis\":{\"backgroundcolor\":\"#E5ECF6\",\"gridcolor\":\"white\",\"gridwidth\":2,\"linecolor\":\"white\",\"showbackground\":true,\"ticks\":\"\",\"zerolinecolor\":\"white\"},\"zaxis\":{\"backgroundcolor\":\"#E5ECF6\",\"gridcolor\":\"white\",\"gridwidth\":2,\"linecolor\":\"white\",\"showbackground\":true,\"ticks\":\"\",\"zerolinecolor\":\"white\"}},\"shapedefaults\":{\"line\":{\"color\":\"#2a3f5f\"}},\"ternary\":{\"aaxis\":{\"gridcolor\":\"white\",\"linecolor\":\"white\",\"ticks\":\"\"},\"baxis\":{\"gridcolor\":\"white\",\"linecolor\":\"white\",\"ticks\":\"\"},\"bgcolor\":\"#E5ECF6\",\"caxis\":{\"gridcolor\":\"white\",\"linecolor\":\"white\",\"ticks\":\"\"}},\"title\":{\"x\":0.05},\"xaxis\":{\"automargin\":true,\"gridcolor\":\"white\",\"linecolor\":\"white\",\"ticks\":\"\",\"title\":{\"standoff\":15},\"zerolinecolor\":\"white\",\"zerolinewidth\":2},\"yaxis\":{\"automargin\":true,\"gridcolor\":\"white\",\"linecolor\":\"white\",\"ticks\":\"\",\"title\":{\"standoff\":15},\"zerolinecolor\":\"white\",\"zerolinewidth\":2}}},\"xaxis\":{\"anchor\":\"y\",\"domain\":[0.0,1.0],\"title\":{\"text\":\"estado_civil\"}},\"yaxis\":{\"anchor\":\"x\",\"domain\":[0.0,1.0],\"title\":{\"text\":\"inadimplencia_count\"}},\"legend\":{\"title\":{\"text\":\"inadimplencia\"},\"tracegroupgap\":0},\"margin\":{\"t\":60},\"barmode\":\"relative\"},                        {\"responsive\": true}                    ).then(function(){\n",
              "                            \n",
              "var gd = document.getElementById('042293cc-6bc2-4b7d-8f68-2f444205237c');\n",
              "var x = new MutationObserver(function (mutations, observer) {{\n",
              "        var display = window.getComputedStyle(gd).display;\n",
              "        if (!display || display === 'none') {{\n",
              "            console.log([gd, 'removed!']);\n",
              "            Plotly.purge(gd);\n",
              "            observer.disconnect();\n",
              "        }}\n",
              "}});\n",
              "\n",
              "// Listen for the removal of the full notebook cells\n",
              "var notebookContainer = gd.closest('#notebook-container');\n",
              "if (notebookContainer) {{\n",
              "    x.observe(notebookContainer, {childList: true});\n",
              "}}\n",
              "\n",
              "// Listen for the clearing of the current output cell\n",
              "var outputEl = gd.closest('.output');\n",
              "if (outputEl) {{\n",
              "    x.observe(outputEl, {childList: true});\n",
              "}}\n",
              "\n",
              "                        })                };                            </script>        </div>\n",
              "</body>\n",
              "</html>"
            ]
          },
          "metadata": {}
        }
      ]
    },
    {
      "cell_type": "markdown",
      "source": [
        "Solteiros: 22% de inadimplentes\n",
        "\n",
        "Casados: 19% de inadimplentes\n",
        "\n",
        "Divorciados: 23% de inadimplentes\n",
        "\n",
        "Separados: 21% de inadimplentes\n",
        "\n",
        "Viúvos: 8% de inadimplentes"
      ],
      "metadata": {
        "id": "4_s3mZMPjwv-"
      }
    },
    {
      "cell_type": "code",
      "source": [
        "df_city_inad = df.groupby([\"cidade\", \"inadimplencia\"]).agg(inadimplencia_count = (\"inadimplencia\",\"count\")).reset_index()"
      ],
      "metadata": {
        "id": "iRzGgcSZ1li7"
      },
      "execution_count": null,
      "outputs": []
    },
    {
      "cell_type": "code",
      "source": [
        "df_inad_yes = df_city_inad[df_city_inad.inadimplencia == \"SIM\"]"
      ],
      "metadata": {
        "id": "boFftJnfvrTf"
      },
      "execution_count": null,
      "outputs": []
    },
    {
      "cell_type": "code",
      "source": [
        "px.box(df_inad_yes, y=\"inadimplencia_count\", hover_name=\"cidade\")"
      ],
      "metadata": {
        "colab": {
          "base_uri": "https://localhost:8080/",
          "height": 542
        },
        "id": "Fjhy7Ybm-ETr",
        "outputId": "610ba0b2-193d-48ad-9309-0c173815fb72"
      },
      "execution_count": null,
      "outputs": [
        {
          "output_type": "display_data",
          "data": {
            "text/html": [
              "<html>\n",
              "<head><meta charset=\"utf-8\" /></head>\n",
              "<body>\n",
              "    <div>            <script src=\"https://cdnjs.cloudflare.com/ajax/libs/mathjax/2.7.5/MathJax.js?config=TeX-AMS-MML_SVG\"></script><script type=\"text/javascript\">if (window.MathJax) {MathJax.Hub.Config({SVG: {font: \"STIX-Web\"}});}</script>                <script type=\"text/javascript\">window.PlotlyConfig = {MathJaxConfig: 'local'};</script>\n",
              "        <script src=\"https://cdn.plot.ly/plotly-2.8.3.min.js\"></script>                <div id=\"82dbe8cc-aae2-4050-8214-714fc70a84f6\" class=\"plotly-graph-div\" style=\"height:525px; width:100%;\"></div>            <script type=\"text/javascript\">                                    window.PLOTLYENV=window.PLOTLYENV || {};                                    if (document.getElementById(\"82dbe8cc-aae2-4050-8214-714fc70a84f6\")) {                    Plotly.newPlot(                        \"82dbe8cc-aae2-4050-8214-714fc70a84f6\",                        [{\"alignmentgroup\":\"True\",\"hovertemplate\":\"<b>%{hovertext}</b><br><br>inadimplencia_count=%{y}<extra></extra>\",\"hovertext\":[\"Abadia\",\"Abrantes\",\"Agudos\",\"Alum\\u00ednio\",\"Alvorada\",\"Americana\",\"Am\\u00e9rico Brasiliense\",\"Aparecida\",\"Aparecida de Goi\\u00e2nia\",\"Aracaju\",\"Aracruz\",\"Araguari\",\"Arapongas\",\"Araraquara\",\"Araras\",\"Arauc\\u00e1ria\",\"Ara\\u00e7agi\",\"Ara\\u00e7atuba\",\"Arealva\",\"Ariranha\",\"Arroio dos Ratos\",\"Atalaia\",\"Bady Bassitt\",\"Barra Bonita\",\"Barra Mansa\",\"Barra de S\\u00e3o Jo\\u00e3o\",\"Barueri\",\"Bauru\",\"Bayeux\",\"Bela Vista do Para\\u00edso\",\"Belford Roxo\",\"Belo Horizonte\",\"Betim\",\"Birig\\u00fci\",\"Blumenau\",\"Bonfim Paulista\",\"Botucatu\",\"Bras\\u00edlia\",\"B\\u00e1lsamo\",\"CONTAGEM\",\"Cabedelo\",\"Cachoeira\",\"Cachoeirinha\",\"Cajamar\",\"Cama\\u00e7ari\",\"Cambori\\u00fa\",\"Camb\\u00e9\",\"Campestre\",\"Campina Grande\",\"Campinas\",\"Campo Grande\",\"Campo Limpo Paulista\",\"Campos do Jord\\u00e3o\",\"Campos dos Goytacazes\",\"Canoas\",\"Capim Grosso\",\"Capivari\",\"Carapicu\\u00edba\",\"Cariacica\",\"Carpina\",\"Caruaru\",\"Catanduva\",\"Caxias do Sul\",\"Ca\\u00e7apava\",\"Cedral\",\"Colombo\",\"Concei\\u00e7\\u00e3o de Macabu\",\"Coqueiro Seco\",\"Cora\\u00e7\\u00e3o de Jesus\",\"Cordeiro\",\"Corea\\u00fa\",\"Corn\\u00e9lio Proc\\u00f3pio\",\"Cotia\",\"Cravinhos\",\"Crici\\u00fama\",\"Cristina\",\"Cuiab\\u00e1\",\"Curitiba\",\"DUQUE DE CAXIAS\",\"Delta\",\"Diadema\",\"Domingos Martins\",\"Duartina\",\"Embu das Artes\",\"Esperan\\u00e7a\",\"Esteio\",\"Est\\u00e2ncia Velha\",\"Fazenda Rio Grande\",\"Feira de Santana\",\"Florian\\u00f3polis\",\"Fortaleza\",\"Franca\",\"Francisco Morato\",\"Francisco S\\u00e1\",\"Gar\\u00e7a\",\"Gavi\\u00e3o Peixoto\",\"Goi\\u00e2nia\",\"Gravata\\u00ed\",\"Guapia\\u00e7u\",\"Guarabira\",\"Guararapes\",\"Guarulhos\",\"Hortol\\u00e2ndia\",\"Ibat\\u00e9\",\"Ibipor\\u00e3\",\"Ibirit\\u00e9\",\"Ibir\\u00e1\",\"Imbituba\",\"Indaiatuba\",\"Ipor\\u00e1\",\"Iracem\\u00e1polis\",\"Itabora\\u00ed\",\"Itagua\\u00ed\",\"Itajobi\",\"Itapeva\",\"Itaquaquecetuba\",\"Itatiaia\",\"Itu\",\"It\\u00fa\",\"Ivoti\",\"Jaboat\\u00e3o dos Guararapes\",\"Jacare\\u00ed\",\"Jaguaria\\u00edva\",\"Jandaia do Sul\",\"Jangada\",\"Janu\\u00e1ria\",\"Jataizinho\",\"Joinville\",\"Jo\\u00e3o Pessoa\",\"Juiz de Fora\",\"Jundia\\u00ed\",\"J\\u00falio Mesquita\",\"Lagoa Santa\",\"Lagoa dos Patos\",\"Lauro de Freitas\",\"Limeira\",\"Linhares\",\"Londrina\",\"Luzi\\u00e2nia\",\"Lu\\u00eds Ant\\u00f4nio\",\"Maca\\u00e9\",\"Macei\\u00f3\",\"Mairinque\",\"Maracana\\u00fa\",\"Maranguape\",\"Maric\\u00e1\",\"Maring\\u00e1\",\"Mar\\u00edlia\",\"Mauriti\",\"Mau\\u00e1\",\"Miguel\\u00f3polis\",\"Mirassol\",\"Mirassol\\u00e2ndia\",\"Mogi Gua\\u00e7u\",\"Mogi das Cruzes\",\"Montes Claros\",\"Natal\",\"Nil\\u00f3polis\",\"Niter\\u00f3i\",\"Nova Igua\\u00e7u\",\"Nova Lima\",\"Nova Odessa\",\"Nova Santa Rita\",\"Novo Hamburgo\",\"Ol\\u00edmpia\",\"Orl\\u00e2ndia\",\"PARNAMIRIM\",\"Palho\\u00e7a\",\"Palmas\",\"Para\\u00edso do Tocantins\",\"Patos de Minas\",\"Patroc\\u00ednio Paulista\",\"Paulo Afonso\",\"Pereira Barreto\",\"Pilar do Sul\",\"Pindamonhangaba\",\"Pinhais\",\"Piracicaba\",\"Pomp\\u00e9ia\",\"Ponta Grossa\",\"Porto Alegre\",\"Potirendaba\",\"Po\\u00e7\\u00e3o\",\"Prad\\u00f3polis\",\"Presidente Prudente\",\"Quebrangulo\",\"Quissam\\u00e3\",\"Recife\",\"Resende\",\"Riacho das Almas\",\"Riacho de Santo Ant\\u00f4nio\",\"Ribas do Rio Pardo\",\"Ribeir\\u00e3o Preto\",\"Ribeir\\u00e3o das Neves\",\"Rio Claro\",\"Rio Grande da Serra\",\"Rio das Ostras\",\"Rio de Janeiro\",\"Sabar\\u00e1\",\"Salto\",\"Salvador\",\"Santa B\\u00e1rbara\",\"Santa B\\u00e1rbara D'Oeste\",\"Santa B\\u00e1rbara do Oeste\",\"Santa Luzia\",\"Santo Andr\\u00e9\",\"Santos\",\"Santos Dumont\",\"Sapucaia do Sul\",\"Sarandi\",\"Serop\\u00e9dica\",\"Serra\",\"Sert\\u00e3ozinho\",\"Sete Lagoas\",\"Sim\\u00f5es Filho\",\"Sorocaba\",\"Sumar\\u00e9\",\"Suzano\",\"S\\u00e3o Br\\u00e1s\",\"S\\u00e3o Caetano do Sul\",\"S\\u00e3o Carlos\",\"S\\u00e3o Crist\\u00f3v\\u00e3o\",\"S\\u00e3o Fid\\u00e9lis\",\"S\\u00e3o Gon\\u00e7alo\",\"S\\u00e3o Gon\\u00e7alo do Amarante\",\"S\\u00e3o Gon\\u00e7alo dos Campos\",\"S\\u00e3o Jos\\u00e9\",\"S\\u00e3o Jos\\u00e9 da Coroa Grande\",\"S\\u00e3o Jos\\u00e9 do Rio Preto\",\"S\\u00e3o Jos\\u00e9 dos Campos\",\"S\\u00e3o Jos\\u00e9 dos Pinhais\",\"S\\u00e3o Jo\\u00e3o da Barra\",\"S\\u00e3o Jo\\u00e3o de Meriti\",\"S\\u00e3o Jo\\u00e3o do Para\\u00edso\",\"S\\u00e3o Leopoldo\",\"S\\u00e3o Lu\\u00eds\",\"S\\u00e3o Paulo\",\"S\\u00e3o Pedro\",\"S\\u00e3o Pedro da Aldeia\",\"S\\u00e3o Roque\",\"Taiobeiras\",\"Tanabi\",\"Taubat\\u00e9\",\"Teixeira de Freitas\",\"Terra de Areia\",\"Trememb\\u00e9\",\"Tr\\u00eas Lagoas\",\"Tr\\u00eas Marias\",\"Tup\\u00e3\",\"UBERABA\",\"Ubatuba\",\"Uberl\\u00e2ndia\",\"Valentim Gentil\",\"Valinhos\",\"Valpara\\u00edso de Goi\\u00e1s\",\"Vera Cruz\",\"Vespasiano\",\"Viam\\u00e3o\",\"Vila Velha\",\"Vinhedo\",\"Vit\\u00f3ria\",\"Vit\\u00f3ria da Conquista\",\"Votorantim\",\"V\\u00e1rzea Grande\",\"V\\u00e1rzea Paulista\"],\"legendgroup\":\"\",\"marker\":{\"color\":\"#636efa\"},\"name\":\"\",\"notched\":false,\"offsetgroup\":\"\",\"orientation\":\"v\",\"showlegend\":false,\"x0\":\" \",\"xaxis\":\"x\",\"y\":[1,3,2,1,4,42,2,1,16,19,1,1,6,38,13,7,1,37,1,1,1,1,3,1,1,1,2,62,1,1,1,81,24,7,1,1,6,35,2,34,2,1,2,10,5,1,7,1,14,25,52,2,3,40,14,1,1,1,13,2,7,7,12,2,1,3,1,1,1,1,1,1,1,1,1,1,71,48,3,1,1,1,1,1,1,5,1,1,33,7,34,26,2,1,2,1,23,11,1,1,1,67,1,3,1,1,1,1,7,1,1,2,1,1,1,4,1,8,42,2,20,7,1,1,1,1,1,37,38,18,2,1,6,2,11,3,1,42,3,1,21,37,1,3,1,1,8,37,1,8,1,6,1,2,9,25,25,2,4,1,1,4,2,6,1,1,22,3,1,1,1,1,1,1,1,20,1,76,1,2,40,1,1,1,2,1,1,35,9,1,1,1,116,5,4,1,13,71,1,9,56,1,16,1,4,7,2,1,12,3,1,48,1,4,3,39,2,23,1,1,11,1,1,16,1,1,16,1,134,54,8,1,5,1,8,3,88,1,1,1,1,1,33,1,1,4,1,1,1,38,1,93,1,3,22,2,10,7,5,1,10,4,4,36,1],\"y0\":\" \",\"yaxis\":\"y\",\"type\":\"box\"}],                        {\"template\":{\"data\":{\"bar\":[{\"error_x\":{\"color\":\"#2a3f5f\"},\"error_y\":{\"color\":\"#2a3f5f\"},\"marker\":{\"line\":{\"color\":\"#E5ECF6\",\"width\":0.5},\"pattern\":{\"fillmode\":\"overlay\",\"size\":10,\"solidity\":0.2}},\"type\":\"bar\"}],\"barpolar\":[{\"marker\":{\"line\":{\"color\":\"#E5ECF6\",\"width\":0.5},\"pattern\":{\"fillmode\":\"overlay\",\"size\":10,\"solidity\":0.2}},\"type\":\"barpolar\"}],\"carpet\":[{\"aaxis\":{\"endlinecolor\":\"#2a3f5f\",\"gridcolor\":\"white\",\"linecolor\":\"white\",\"minorgridcolor\":\"white\",\"startlinecolor\":\"#2a3f5f\"},\"baxis\":{\"endlinecolor\":\"#2a3f5f\",\"gridcolor\":\"white\",\"linecolor\":\"white\",\"minorgridcolor\":\"white\",\"startlinecolor\":\"#2a3f5f\"},\"type\":\"carpet\"}],\"choropleth\":[{\"colorbar\":{\"outlinewidth\":0,\"ticks\":\"\"},\"type\":\"choropleth\"}],\"contour\":[{\"colorbar\":{\"outlinewidth\":0,\"ticks\":\"\"},\"colorscale\":[[0.0,\"#0d0887\"],[0.1111111111111111,\"#46039f\"],[0.2222222222222222,\"#7201a8\"],[0.3333333333333333,\"#9c179e\"],[0.4444444444444444,\"#bd3786\"],[0.5555555555555556,\"#d8576b\"],[0.6666666666666666,\"#ed7953\"],[0.7777777777777778,\"#fb9f3a\"],[0.8888888888888888,\"#fdca26\"],[1.0,\"#f0f921\"]],\"type\":\"contour\"}],\"contourcarpet\":[{\"colorbar\":{\"outlinewidth\":0,\"ticks\":\"\"},\"type\":\"contourcarpet\"}],\"heatmap\":[{\"colorbar\":{\"outlinewidth\":0,\"ticks\":\"\"},\"colorscale\":[[0.0,\"#0d0887\"],[0.1111111111111111,\"#46039f\"],[0.2222222222222222,\"#7201a8\"],[0.3333333333333333,\"#9c179e\"],[0.4444444444444444,\"#bd3786\"],[0.5555555555555556,\"#d8576b\"],[0.6666666666666666,\"#ed7953\"],[0.7777777777777778,\"#fb9f3a\"],[0.8888888888888888,\"#fdca26\"],[1.0,\"#f0f921\"]],\"type\":\"heatmap\"}],\"heatmapgl\":[{\"colorbar\":{\"outlinewidth\":0,\"ticks\":\"\"},\"colorscale\":[[0.0,\"#0d0887\"],[0.1111111111111111,\"#46039f\"],[0.2222222222222222,\"#7201a8\"],[0.3333333333333333,\"#9c179e\"],[0.4444444444444444,\"#bd3786\"],[0.5555555555555556,\"#d8576b\"],[0.6666666666666666,\"#ed7953\"],[0.7777777777777778,\"#fb9f3a\"],[0.8888888888888888,\"#fdca26\"],[1.0,\"#f0f921\"]],\"type\":\"heatmapgl\"}],\"histogram\":[{\"marker\":{\"pattern\":{\"fillmode\":\"overlay\",\"size\":10,\"solidity\":0.2}},\"type\":\"histogram\"}],\"histogram2d\":[{\"colorbar\":{\"outlinewidth\":0,\"ticks\":\"\"},\"colorscale\":[[0.0,\"#0d0887\"],[0.1111111111111111,\"#46039f\"],[0.2222222222222222,\"#7201a8\"],[0.3333333333333333,\"#9c179e\"],[0.4444444444444444,\"#bd3786\"],[0.5555555555555556,\"#d8576b\"],[0.6666666666666666,\"#ed7953\"],[0.7777777777777778,\"#fb9f3a\"],[0.8888888888888888,\"#fdca26\"],[1.0,\"#f0f921\"]],\"type\":\"histogram2d\"}],\"histogram2dcontour\":[{\"colorbar\":{\"outlinewidth\":0,\"ticks\":\"\"},\"colorscale\":[[0.0,\"#0d0887\"],[0.1111111111111111,\"#46039f\"],[0.2222222222222222,\"#7201a8\"],[0.3333333333333333,\"#9c179e\"],[0.4444444444444444,\"#bd3786\"],[0.5555555555555556,\"#d8576b\"],[0.6666666666666666,\"#ed7953\"],[0.7777777777777778,\"#fb9f3a\"],[0.8888888888888888,\"#fdca26\"],[1.0,\"#f0f921\"]],\"type\":\"histogram2dcontour\"}],\"mesh3d\":[{\"colorbar\":{\"outlinewidth\":0,\"ticks\":\"\"},\"type\":\"mesh3d\"}],\"parcoords\":[{\"line\":{\"colorbar\":{\"outlinewidth\":0,\"ticks\":\"\"}},\"type\":\"parcoords\"}],\"pie\":[{\"automargin\":true,\"type\":\"pie\"}],\"scatter\":[{\"marker\":{\"colorbar\":{\"outlinewidth\":0,\"ticks\":\"\"}},\"type\":\"scatter\"}],\"scatter3d\":[{\"line\":{\"colorbar\":{\"outlinewidth\":0,\"ticks\":\"\"}},\"marker\":{\"colorbar\":{\"outlinewidth\":0,\"ticks\":\"\"}},\"type\":\"scatter3d\"}],\"scattercarpet\":[{\"marker\":{\"colorbar\":{\"outlinewidth\":0,\"ticks\":\"\"}},\"type\":\"scattercarpet\"}],\"scattergeo\":[{\"marker\":{\"colorbar\":{\"outlinewidth\":0,\"ticks\":\"\"}},\"type\":\"scattergeo\"}],\"scattergl\":[{\"marker\":{\"colorbar\":{\"outlinewidth\":0,\"ticks\":\"\"}},\"type\":\"scattergl\"}],\"scattermapbox\":[{\"marker\":{\"colorbar\":{\"outlinewidth\":0,\"ticks\":\"\"}},\"type\":\"scattermapbox\"}],\"scatterpolar\":[{\"marker\":{\"colorbar\":{\"outlinewidth\":0,\"ticks\":\"\"}},\"type\":\"scatterpolar\"}],\"scatterpolargl\":[{\"marker\":{\"colorbar\":{\"outlinewidth\":0,\"ticks\":\"\"}},\"type\":\"scatterpolargl\"}],\"scatterternary\":[{\"marker\":{\"colorbar\":{\"outlinewidth\":0,\"ticks\":\"\"}},\"type\":\"scatterternary\"}],\"surface\":[{\"colorbar\":{\"outlinewidth\":0,\"ticks\":\"\"},\"colorscale\":[[0.0,\"#0d0887\"],[0.1111111111111111,\"#46039f\"],[0.2222222222222222,\"#7201a8\"],[0.3333333333333333,\"#9c179e\"],[0.4444444444444444,\"#bd3786\"],[0.5555555555555556,\"#d8576b\"],[0.6666666666666666,\"#ed7953\"],[0.7777777777777778,\"#fb9f3a\"],[0.8888888888888888,\"#fdca26\"],[1.0,\"#f0f921\"]],\"type\":\"surface\"}],\"table\":[{\"cells\":{\"fill\":{\"color\":\"#EBF0F8\"},\"line\":{\"color\":\"white\"}},\"header\":{\"fill\":{\"color\":\"#C8D4E3\"},\"line\":{\"color\":\"white\"}},\"type\":\"table\"}]},\"layout\":{\"annotationdefaults\":{\"arrowcolor\":\"#2a3f5f\",\"arrowhead\":0,\"arrowwidth\":1},\"autotypenumbers\":\"strict\",\"coloraxis\":{\"colorbar\":{\"outlinewidth\":0,\"ticks\":\"\"}},\"colorscale\":{\"diverging\":[[0,\"#8e0152\"],[0.1,\"#c51b7d\"],[0.2,\"#de77ae\"],[0.3,\"#f1b6da\"],[0.4,\"#fde0ef\"],[0.5,\"#f7f7f7\"],[0.6,\"#e6f5d0\"],[0.7,\"#b8e186\"],[0.8,\"#7fbc41\"],[0.9,\"#4d9221\"],[1,\"#276419\"]],\"sequential\":[[0.0,\"#0d0887\"],[0.1111111111111111,\"#46039f\"],[0.2222222222222222,\"#7201a8\"],[0.3333333333333333,\"#9c179e\"],[0.4444444444444444,\"#bd3786\"],[0.5555555555555556,\"#d8576b\"],[0.6666666666666666,\"#ed7953\"],[0.7777777777777778,\"#fb9f3a\"],[0.8888888888888888,\"#fdca26\"],[1.0,\"#f0f921\"]],\"sequentialminus\":[[0.0,\"#0d0887\"],[0.1111111111111111,\"#46039f\"],[0.2222222222222222,\"#7201a8\"],[0.3333333333333333,\"#9c179e\"],[0.4444444444444444,\"#bd3786\"],[0.5555555555555556,\"#d8576b\"],[0.6666666666666666,\"#ed7953\"],[0.7777777777777778,\"#fb9f3a\"],[0.8888888888888888,\"#fdca26\"],[1.0,\"#f0f921\"]]},\"colorway\":[\"#636efa\",\"#EF553B\",\"#00cc96\",\"#ab63fa\",\"#FFA15A\",\"#19d3f3\",\"#FF6692\",\"#B6E880\",\"#FF97FF\",\"#FECB52\"],\"font\":{\"color\":\"#2a3f5f\"},\"geo\":{\"bgcolor\":\"white\",\"lakecolor\":\"white\",\"landcolor\":\"#E5ECF6\",\"showlakes\":true,\"showland\":true,\"subunitcolor\":\"white\"},\"hoverlabel\":{\"align\":\"left\"},\"hovermode\":\"closest\",\"mapbox\":{\"style\":\"light\"},\"paper_bgcolor\":\"white\",\"plot_bgcolor\":\"#E5ECF6\",\"polar\":{\"angularaxis\":{\"gridcolor\":\"white\",\"linecolor\":\"white\",\"ticks\":\"\"},\"bgcolor\":\"#E5ECF6\",\"radialaxis\":{\"gridcolor\":\"white\",\"linecolor\":\"white\",\"ticks\":\"\"}},\"scene\":{\"xaxis\":{\"backgroundcolor\":\"#E5ECF6\",\"gridcolor\":\"white\",\"gridwidth\":2,\"linecolor\":\"white\",\"showbackground\":true,\"ticks\":\"\",\"zerolinecolor\":\"white\"},\"yaxis\":{\"backgroundcolor\":\"#E5ECF6\",\"gridcolor\":\"white\",\"gridwidth\":2,\"linecolor\":\"white\",\"showbackground\":true,\"ticks\":\"\",\"zerolinecolor\":\"white\"},\"zaxis\":{\"backgroundcolor\":\"#E5ECF6\",\"gridcolor\":\"white\",\"gridwidth\":2,\"linecolor\":\"white\",\"showbackground\":true,\"ticks\":\"\",\"zerolinecolor\":\"white\"}},\"shapedefaults\":{\"line\":{\"color\":\"#2a3f5f\"}},\"ternary\":{\"aaxis\":{\"gridcolor\":\"white\",\"linecolor\":\"white\",\"ticks\":\"\"},\"baxis\":{\"gridcolor\":\"white\",\"linecolor\":\"white\",\"ticks\":\"\"},\"bgcolor\":\"#E5ECF6\",\"caxis\":{\"gridcolor\":\"white\",\"linecolor\":\"white\",\"ticks\":\"\"}},\"title\":{\"x\":0.05},\"xaxis\":{\"automargin\":true,\"gridcolor\":\"white\",\"linecolor\":\"white\",\"ticks\":\"\",\"title\":{\"standoff\":15},\"zerolinecolor\":\"white\",\"zerolinewidth\":2},\"yaxis\":{\"automargin\":true,\"gridcolor\":\"white\",\"linecolor\":\"white\",\"ticks\":\"\",\"title\":{\"standoff\":15},\"zerolinecolor\":\"white\",\"zerolinewidth\":2}}},\"xaxis\":{\"anchor\":\"y\",\"domain\":[0.0,1.0]},\"yaxis\":{\"anchor\":\"x\",\"domain\":[0.0,1.0],\"title\":{\"text\":\"inadimplencia_count\"}},\"legend\":{\"tracegroupgap\":0},\"margin\":{\"t\":60},\"boxmode\":\"group\"},                        {\"responsive\": true}                    ).then(function(){\n",
              "                            \n",
              "var gd = document.getElementById('82dbe8cc-aae2-4050-8214-714fc70a84f6');\n",
              "var x = new MutationObserver(function (mutations, observer) {{\n",
              "        var display = window.getComputedStyle(gd).display;\n",
              "        if (!display || display === 'none') {{\n",
              "            console.log([gd, 'removed!']);\n",
              "            Plotly.purge(gd);\n",
              "            observer.disconnect();\n",
              "        }}\n",
              "}});\n",
              "\n",
              "// Listen for the removal of the full notebook cells\n",
              "var notebookContainer = gd.closest('#notebook-container');\n",
              "if (notebookContainer) {{\n",
              "    x.observe(notebookContainer, {childList: true});\n",
              "}}\n",
              "\n",
              "// Listen for the clearing of the current output cell\n",
              "var outputEl = gd.closest('.output');\n",
              "if (outputEl) {{\n",
              "    x.observe(outputEl, {childList: true});\n",
              "}}\n",
              "\n",
              "                        })                };                            </script>        </div>\n",
              "</body>\n",
              "</html>"
            ]
          },
          "metadata": {}
        }
      ]
    },
    {
      "cell_type": "code",
      "source": [
        "sem_inadimplencia = df_city_inad[df_city_inad.inadimplencia == \"NÃO\"][[\"cidade\", \"inadimplencia_count\"]].rename(columns={\"inadimplencia_count\":\"NAO\"})\n",
        "com_inadimplencia = df_city_inad[df_city_inad.inadimplencia == \"SIM\"][[\"cidade\", \"inadimplencia_count\"]].rename(columns={\"inadimplencia_count\":\"SIM\"})"
      ],
      "metadata": {
        "id": "Raqznmsg7YyV"
      },
      "execution_count": null,
      "outputs": []
    },
    {
      "cell_type": "code",
      "source": [
        "inadimplencia_per_city = sem_inadimplencia.merge(com_inadimplencia, on=\"cidade\").set_index(\"cidade\")"
      ],
      "metadata": {
        "id": "QsKUrQCz8B0a"
      },
      "execution_count": null,
      "outputs": []
    },
    {
      "cell_type": "code",
      "source": [
        "px.bar(inadimplencia_per_city.apply(lambda x: x/sum(x) * 100, axis=1)\\\n",
        "       .reset_index().sort_values(by=\"SIM\", ascending=False), \n",
        "       x=\"cidade\", y=[\"SIM\", \"NAO\"])"
      ],
      "metadata": {
        "colab": {
          "base_uri": "https://localhost:8080/",
          "height": 542
        },
        "id": "JOUVdGO19ELe",
        "outputId": "b37bc159-8d24-418c-d132-c45eddfa7eba"
      },
      "execution_count": null,
      "outputs": [
        {
          "output_type": "display_data",
          "data": {
            "text/html": [
              "<html>\n",
              "<head><meta charset=\"utf-8\" /></head>\n",
              "<body>\n",
              "    <div>            <script src=\"https://cdnjs.cloudflare.com/ajax/libs/mathjax/2.7.5/MathJax.js?config=TeX-AMS-MML_SVG\"></script><script type=\"text/javascript\">if (window.MathJax) {MathJax.Hub.Config({SVG: {font: \"STIX-Web\"}});}</script>                <script type=\"text/javascript\">window.PlotlyConfig = {MathJaxConfig: 'local'};</script>\n",
              "        <script src=\"https://cdn.plot.ly/plotly-2.8.3.min.js\"></script>                <div id=\"7f1051e0-0ea6-4748-9b40-9db38e18d0b5\" class=\"plotly-graph-div\" style=\"height:525px; width:100%;\"></div>            <script type=\"text/javascript\">                                    window.PLOTLYENV=window.PLOTLYENV || {};                                    if (document.getElementById(\"7f1051e0-0ea6-4748-9b40-9db38e18d0b5\")) {                    Plotly.newPlot(                        \"7f1051e0-0ea6-4748-9b40-9db38e18d0b5\",                        [{\"alignmentgroup\":\"True\",\"hovertemplate\":\"variable=SIM<br>cidade=%{x}<br>value=%{y}<extra></extra>\",\"legendgroup\":\"SIM\",\"marker\":{\"color\":\"#636efa\",\"pattern\":{\"shape\":\"\"}},\"name\":\"SIM\",\"offsetgroup\":\"SIM\",\"orientation\":\"v\",\"showlegend\":true,\"textposition\":\"auto\",\"x\":[\"Barueri\",\"Cabedelo\",\"B\\u00e1lsamo\",\"Lagoa dos Patos\",\"Ivoti\",\"It\\u00fa\",\"Bady Bassitt\",\"Trememb\\u00e9\",\"Serop\\u00e9dica\",\"Est\\u00e2ncia Velha\",\"Maric\\u00e1\",\"Guararapes\",\"Ca\\u00e7apava\",\"Fazenda Rio Grande\",\"Francisco Morato\",\"Gar\\u00e7a\",\"Gavi\\u00e3o Peixoto\",\"Guapia\\u00e7u\",\"Maranguape\",\"Mairinque\",\"Rio Grande da Serra\",\"S\\u00e3o Jo\\u00e3o do Para\\u00edso\",\"Quissam\\u00e3\",\"Potirendaba\",\"Ipor\\u00e1\",\"Iracem\\u00e1polis\",\"Itagua\\u00ed\",\"Itu\",\"Paulo Afonso\",\"Patroc\\u00ednio Paulista\",\"Janu\\u00e1ria\",\"Jataizinho\",\"Luzi\\u00e2nia\",\"Capivari\",\"Linhares\",\"Aracruz\",\"Tr\\u00eas Lagoas\",\"Barra de S\\u00e3o Jo\\u00e3o\",\"Atalaia\",\"Vera Cruz\",\"Tanabi\",\"Jo\\u00e3o Pessoa\",\"Vila Velha\",\"Valpara\\u00edso de Goi\\u00e1s\",\"Ibat\\u00e9\",\"Palho\\u00e7a\",\"S\\u00e3o Leopoldo\",\"Nova Odessa\",\"Caxias do Sul\",\"Arapongas\",\"Campina Grande\",\"Campos do Jord\\u00e3o\",\"Sapucaia do Sul\",\"Cajamar\",\"S\\u00e3o Jos\\u00e9 do Rio Preto\",\"Cama\\u00e7ari\",\"S\\u00e3o Jo\\u00e3o de Meriti\",\"Montes Claros\",\"Jandaia do Sul\",\"Macei\\u00f3\",\"Nova Lima\",\"Bonfim Paulista\",\"S\\u00e3o Crist\\u00f3v\\u00e3o\",\"S\\u00e3o Jo\\u00e3o da Barra\",\"S\\u00e3o Gon\\u00e7alo do Amarante\",\"S\\u00e3o Fid\\u00e9lis\",\"Colombo\",\"S\\u00e3o Roque\",\"S\\u00e3o Pedro da Aldeia\",\"Santos Dumont\",\"S\\u00e3o Pedro\",\"Franca\",\"Ara\\u00e7atuba\",\"Betim\",\"Mirassol\",\"V\\u00e1rzea Grande\",\"Uberl\\u00e2ndia\",\"Taubat\\u00e9\",\"Cuiab\\u00e1\",\"Cariacica\",\"Sarandi\",\"Ribeir\\u00e3o Preto\",\"Piracicaba\",\"Mar\\u00edlia\",\"Viam\\u00e3o\",\"Alvorada\",\"Vit\\u00f3ria\",\"Bauru\",\"Campo Grande\",\"Esteio\",\"Sim\\u00f5es Filho\",\"Campos dos Goytacazes\",\"Aparecida de Goi\\u00e2nia\",\"Arauc\\u00e1ria\",\"Feira de Santana\",\"Vespasiano\",\"Sorocaba\",\"Rio das Ostras\",\"Pindamonhangaba\",\"Serra\",\"Nil\\u00f3polis\",\"PARNAMIRIM\",\"Pomp\\u00e9ia\",\"Rio Claro\",\"Santa B\\u00e1rbara do Oeste\",\"Abrantes\",\"V\\u00e1rzea Paulista\",\"Itabora\\u00ed\",\"Araguari\",\"Concei\\u00e7\\u00e3o de Macabu\",\"Carapicu\\u00edba\",\"Ibipor\\u00e3\",\"Itatiaia\",\"Barra Bonita\",\"Cotia\",\"Aparecida\",\"S\\u00e3o Jos\\u00e9 dos Campos\",\"Recife\",\"Natal\",\"S\\u00e3o Jos\\u00e9\",\"UBERABA\",\"Suzano\",\"Ribeir\\u00e3o das Neves\",\"Aracaju\",\"Florian\\u00f3polis\",\"Campo Limpo Paulista\",\"Jaboat\\u00e3o dos Guararapes\",\"Sumar\\u00e9\",\"Sete Lagoas\",\"Cachoeirinha\",\"Santa B\\u00e1rbara D'Oeste\",\"S\\u00e3o Lu\\u00eds\",\"Joinville\",\"CONTAGEM\",\"Guarulhos\",\"Caruaru\",\"Maca\\u00e9\",\"Bras\\u00edlia\",\"Americana\",\"Maracana\\u00fa\",\"Vinhedo\",\"Ol\\u00edmpia\",\"Camb\\u00e9\",\"Salvador\",\"S\\u00e3o Jos\\u00e9 dos Pinhais\",\"Birig\\u00fci\",\"Araras\",\"Goi\\u00e2nia\",\"Belo Horizonte\",\"Juiz de Fora\",\"Gravata\\u00ed\",\"Mau\\u00e1\",\"Jacare\\u00ed\",\"Araraquara\",\"Londrina\",\"Curitiba\",\"Votorantim\",\"Lagoa Santa\",\"Fortaleza\",\"S\\u00e3o Gon\\u00e7alo\",\"Rio de Janeiro\",\"Sabar\\u00e1\",\"Diadema\",\"Pinhais\",\"DUQUE DE CAXIAS\",\"Resende\",\"S\\u00e3o Paulo\",\"Lauro de Freitas\",\"Porto Alegre\",\"Campinas\",\"Itaquaquecetuba\",\"Ibirit\\u00e9\",\"Am\\u00e9rico Brasiliense\",\"Niter\\u00f3i\",\"Catanduva\",\"Canoas\",\"Salto\",\"Mogi Gua\\u00e7u\",\"Cravinhos\",\"Palmas\",\"Santa Luzia\",\"S\\u00e3o Carlos\",\"Valinhos\",\"Novo Hamburgo\",\"Vit\\u00f3ria da Conquista\",\"Mogi das Cruzes\",\"Belford Roxo\",\"Indaiatuba\",\"Hortol\\u00e2ndia\",\"S\\u00e3o Caetano do Sul\",\"Santo Andr\\u00e9\",\"Botucatu\",\"Nova Igua\\u00e7u\",\"Ponta Grossa\",\"Maring\\u00e1\",\"Limeira\",\"Jundia\\u00ed\",\"Presidente Prudente\"],\"xaxis\":\"x\",\"y\":[66.66666666666666,66.66666666666666,66.66666666666666,66.66666666666666,66.66666666666666,64.61538461538461,60.0,57.14285714285714,50.0,50.0,50.0,50.0,50.0,50.0,50.0,50.0,50.0,50.0,50.0,50.0,50.0,50.0,50.0,50.0,50.0,50.0,50.0,50.0,50.0,50.0,50.0,50.0,50.0,50.0,50.0,50.0,50.0,50.0,50.0,50.0,50.0,45.78313253012048,45.45454545454545,44.0,42.857142857142854,42.857142857142854,40.0,40.0,40.0,40.0,38.88888888888889,37.5,37.5,37.03703703703704,36.71232876712329,35.714285714285715,35.714285714285715,33.78378378378378,33.33333333333333,33.33333333333333,33.33333333333333,33.33333333333333,33.33333333333333,33.33333333333333,33.33333333333333,33.33333333333333,33.33333333333333,33.33333333333333,33.33333333333333,33.33333333333333,33.33333333333333,32.91139240506329,32.743362831858406,32.0,31.57894736842105,31.57894736842105,30.592105263157894,30.555555555555557,30.472103004291846,30.23255813953488,30.0,29.82005141388175,29.457364341085274,29.365079365079367,29.166666666666668,28.57142857142857,28.57142857142857,28.440366972477065,27.956989247311824,27.77777777777778,27.27272727272727,27.2108843537415,27.11864406779661,26.923076923076923,26.400000000000002,26.31578947368421,26.174496644295303,26.0,25.97402597402597,25.668449197860966,25.0,25.0,25.0,25.0,25.0,25.0,25.0,25.0,25.0,25.0,25.0,25.0,25.0,25.0,25.0,25.0,24.88479262672811,24.822695035460992,24.509803921568626,23.88059701492537,23.75,23.0,22.727272727272727,22.61904761904762,22.58064516129032,22.22222222222222,22.22222222222222,22.22222222222222,22.22222222222222,22.22222222222222,21.91780821917808,21.428571428571427,21.142857142857142,20.98765432098765,20.9375,20.588235294117645,20.588235294117645,20.46783625730994,20.388349514563107,20.0,20.0,20.0,19.444444444444446,19.047619047619047,19.047619047619047,18.91891891891892,18.84057971014493,18.69918699186992,18.45102505694761,18.367346938775512,18.333333333333332,18.181818181818183,17.5,17.431192660550458,17.42738589211618,17.391304347826086,17.391304347826086,17.142857142857142,17.08542713567839,16.842105263157894,16.745283018867923,16.666666666666664,16.666666666666664,16.666666666666664,16.666666666666664,16.666666666666664,16.57250470809793,16.417910447761194,15.873015873015872,15.151515151515152,14.285714285714285,14.285714285714285,14.285714285714285,14.285714285714285,14.285714285714285,14.14141414141414,14.0625,12.5,12.5,12.5,11.76470588235294,11.578947368421053,11.11111111111111,10.909090909090908,10.256410256410255,10.0,10.0,9.210526315789473,9.090909090909092,9.090909090909092,8.974358974358974,8.571428571428571,6.666666666666667,6.666666666666667,6.299212598425196,5.88235294117647,5.263157894736842,4.25531914893617],\"yaxis\":\"y\",\"type\":\"bar\"},{\"alignmentgroup\":\"True\",\"hovertemplate\":\"variable=NAO<br>cidade=%{x}<br>value=%{y}<extra></extra>\",\"legendgroup\":\"NAO\",\"marker\":{\"color\":\"#EF553B\",\"pattern\":{\"shape\":\"\"}},\"name\":\"NAO\",\"offsetgroup\":\"NAO\",\"orientation\":\"v\",\"showlegend\":true,\"textposition\":\"auto\",\"x\":[\"Barueri\",\"Cabedelo\",\"B\\u00e1lsamo\",\"Lagoa dos Patos\",\"Ivoti\",\"It\\u00fa\",\"Bady Bassitt\",\"Trememb\\u00e9\",\"Serop\\u00e9dica\",\"Est\\u00e2ncia Velha\",\"Maric\\u00e1\",\"Guararapes\",\"Ca\\u00e7apava\",\"Fazenda Rio Grande\",\"Francisco Morato\",\"Gar\\u00e7a\",\"Gavi\\u00e3o Peixoto\",\"Guapia\\u00e7u\",\"Maranguape\",\"Mairinque\",\"Rio Grande da Serra\",\"S\\u00e3o Jo\\u00e3o do Para\\u00edso\",\"Quissam\\u00e3\",\"Potirendaba\",\"Ipor\\u00e1\",\"Iracem\\u00e1polis\",\"Itagua\\u00ed\",\"Itu\",\"Paulo Afonso\",\"Patroc\\u00ednio Paulista\",\"Janu\\u00e1ria\",\"Jataizinho\",\"Luzi\\u00e2nia\",\"Capivari\",\"Linhares\",\"Aracruz\",\"Tr\\u00eas Lagoas\",\"Barra de S\\u00e3o Jo\\u00e3o\",\"Atalaia\",\"Vera Cruz\",\"Tanabi\",\"Jo\\u00e3o Pessoa\",\"Vila Velha\",\"Valpara\\u00edso de Goi\\u00e1s\",\"Ibat\\u00e9\",\"Palho\\u00e7a\",\"S\\u00e3o Leopoldo\",\"Nova Odessa\",\"Caxias do Sul\",\"Arapongas\",\"Campina Grande\",\"Campos do Jord\\u00e3o\",\"Sapucaia do Sul\",\"Cajamar\",\"S\\u00e3o Jos\\u00e9 do Rio Preto\",\"Cama\\u00e7ari\",\"S\\u00e3o Jo\\u00e3o de Meriti\",\"Montes Claros\",\"Jandaia do Sul\",\"Macei\\u00f3\",\"Nova Lima\",\"Bonfim Paulista\",\"S\\u00e3o Crist\\u00f3v\\u00e3o\",\"S\\u00e3o Jo\\u00e3o da Barra\",\"S\\u00e3o Gon\\u00e7alo do Amarante\",\"S\\u00e3o Fid\\u00e9lis\",\"Colombo\",\"S\\u00e3o Roque\",\"S\\u00e3o Pedro da Aldeia\",\"Santos Dumont\",\"S\\u00e3o Pedro\",\"Franca\",\"Ara\\u00e7atuba\",\"Betim\",\"Mirassol\",\"V\\u00e1rzea Grande\",\"Uberl\\u00e2ndia\",\"Taubat\\u00e9\",\"Cuiab\\u00e1\",\"Cariacica\",\"Sarandi\",\"Ribeir\\u00e3o Preto\",\"Piracicaba\",\"Mar\\u00edlia\",\"Viam\\u00e3o\",\"Alvorada\",\"Vit\\u00f3ria\",\"Bauru\",\"Campo Grande\",\"Esteio\",\"Sim\\u00f5es Filho\",\"Campos dos Goytacazes\",\"Aparecida de Goi\\u00e2nia\",\"Arauc\\u00e1ria\",\"Feira de Santana\",\"Vespasiano\",\"Sorocaba\",\"Rio das Ostras\",\"Pindamonhangaba\",\"Serra\",\"Nil\\u00f3polis\",\"PARNAMIRIM\",\"Pomp\\u00e9ia\",\"Rio Claro\",\"Santa B\\u00e1rbara do Oeste\",\"Abrantes\",\"V\\u00e1rzea Paulista\",\"Itabora\\u00ed\",\"Araguari\",\"Concei\\u00e7\\u00e3o de Macabu\",\"Carapicu\\u00edba\",\"Ibipor\\u00e3\",\"Itatiaia\",\"Barra Bonita\",\"Cotia\",\"Aparecida\",\"S\\u00e3o Jos\\u00e9 dos Campos\",\"Recife\",\"Natal\",\"S\\u00e3o Jos\\u00e9\",\"UBERABA\",\"Suzano\",\"Ribeir\\u00e3o das Neves\",\"Aracaju\",\"Florian\\u00f3polis\",\"Campo Limpo Paulista\",\"Jaboat\\u00e3o dos Guararapes\",\"Sumar\\u00e9\",\"Sete Lagoas\",\"Cachoeirinha\",\"Santa B\\u00e1rbara D'Oeste\",\"S\\u00e3o Lu\\u00eds\",\"Joinville\",\"CONTAGEM\",\"Guarulhos\",\"Caruaru\",\"Maca\\u00e9\",\"Bras\\u00edlia\",\"Americana\",\"Maracana\\u00fa\",\"Vinhedo\",\"Ol\\u00edmpia\",\"Camb\\u00e9\",\"Salvador\",\"S\\u00e3o Jos\\u00e9 dos Pinhais\",\"Birig\\u00fci\",\"Araras\",\"Goi\\u00e2nia\",\"Belo Horizonte\",\"Juiz de Fora\",\"Gravata\\u00ed\",\"Mau\\u00e1\",\"Jacare\\u00ed\",\"Araraquara\",\"Londrina\",\"Curitiba\",\"Votorantim\",\"Lagoa Santa\",\"Fortaleza\",\"S\\u00e3o Gon\\u00e7alo\",\"Rio de Janeiro\",\"Sabar\\u00e1\",\"Diadema\",\"Pinhais\",\"DUQUE DE CAXIAS\",\"Resende\",\"S\\u00e3o Paulo\",\"Lauro de Freitas\",\"Porto Alegre\",\"Campinas\",\"Itaquaquecetuba\",\"Ibirit\\u00e9\",\"Am\\u00e9rico Brasiliense\",\"Niter\\u00f3i\",\"Catanduva\",\"Canoas\",\"Salto\",\"Mogi Gua\\u00e7u\",\"Cravinhos\",\"Palmas\",\"Santa Luzia\",\"S\\u00e3o Carlos\",\"Valinhos\",\"Novo Hamburgo\",\"Vit\\u00f3ria da Conquista\",\"Mogi das Cruzes\",\"Belford Roxo\",\"Indaiatuba\",\"Hortol\\u00e2ndia\",\"S\\u00e3o Caetano do Sul\",\"Santo Andr\\u00e9\",\"Botucatu\",\"Nova Igua\\u00e7u\",\"Ponta Grossa\",\"Maring\\u00e1\",\"Limeira\",\"Jundia\\u00ed\",\"Presidente Prudente\"],\"xaxis\":\"x\",\"y\":[33.33333333333333,33.33333333333333,33.33333333333333,33.33333333333333,33.33333333333333,35.38461538461539,40.0,42.857142857142854,50.0,50.0,50.0,50.0,50.0,50.0,50.0,50.0,50.0,50.0,50.0,50.0,50.0,50.0,50.0,50.0,50.0,50.0,50.0,50.0,50.0,50.0,50.0,50.0,50.0,50.0,50.0,50.0,50.0,50.0,50.0,50.0,50.0,54.21686746987952,54.54545454545454,56.00000000000001,57.14285714285714,57.14285714285714,60.0,60.0,60.0,60.0,61.111111111111114,62.5,62.5,62.96296296296296,63.287671232876704,64.28571428571429,64.28571428571429,66.21621621621621,66.66666666666666,66.66666666666666,66.66666666666666,66.66666666666666,66.66666666666666,66.66666666666666,66.66666666666666,66.66666666666666,66.66666666666666,66.66666666666666,66.66666666666666,66.66666666666666,66.66666666666666,67.08860759493672,67.2566371681416,68.0,68.42105263157895,68.42105263157895,69.4078947368421,69.44444444444444,69.52789699570815,69.76744186046511,70.0,70.17994858611826,70.54263565891473,70.63492063492063,70.83333333333334,71.42857142857143,71.42857142857143,71.55963302752293,72.04301075268818,72.22222222222221,72.72727272727273,72.78911564625851,72.88135593220339,73.07692307692307,73.6,73.68421052631578,73.8255033557047,74.0,74.02597402597402,74.33155080213903,75.0,75.0,75.0,75.0,75.0,75.0,75.0,75.0,75.0,75.0,75.0,75.0,75.0,75.0,75.0,75.0,75.11520737327189,75.177304964539,75.49019607843137,76.11940298507463,76.25,77.0,77.27272727272727,77.38095238095238,77.41935483870968,77.77777777777779,77.77777777777779,77.77777777777779,77.77777777777779,77.77777777777779,78.08219178082192,78.57142857142857,78.85714285714286,79.01234567901234,79.0625,79.41176470588235,79.41176470588235,79.53216374269006,79.6116504854369,80.0,80.0,80.0,80.55555555555556,80.95238095238095,80.95238095238095,81.08108108108108,81.15942028985508,81.30081300813008,81.54897494305239,81.63265306122449,81.66666666666667,81.81818181818183,82.5,82.56880733944955,82.57261410788381,82.6086956521739,82.6086956521739,82.85714285714286,82.91457286432161,83.15789473684211,83.25471698113208,83.33333333333334,83.33333333333334,83.33333333333334,83.33333333333334,83.33333333333334,83.42749529190208,83.5820895522388,84.12698412698413,84.84848484848484,85.71428571428571,85.71428571428571,85.71428571428571,85.71428571428571,85.71428571428571,85.85858585858585,85.9375,87.5,87.5,87.5,88.23529411764706,88.42105263157895,88.88888888888889,89.0909090909091,89.74358974358975,90.0,90.0,90.78947368421053,90.9090909090909,90.9090909090909,91.02564102564102,91.42857142857143,93.33333333333333,93.33333333333333,93.7007874015748,94.11764705882352,94.73684210526315,95.74468085106383],\"yaxis\":\"y\",\"type\":\"bar\"}],                        {\"template\":{\"data\":{\"bar\":[{\"error_x\":{\"color\":\"#2a3f5f\"},\"error_y\":{\"color\":\"#2a3f5f\"},\"marker\":{\"line\":{\"color\":\"#E5ECF6\",\"width\":0.5},\"pattern\":{\"fillmode\":\"overlay\",\"size\":10,\"solidity\":0.2}},\"type\":\"bar\"}],\"barpolar\":[{\"marker\":{\"line\":{\"color\":\"#E5ECF6\",\"width\":0.5},\"pattern\":{\"fillmode\":\"overlay\",\"size\":10,\"solidity\":0.2}},\"type\":\"barpolar\"}],\"carpet\":[{\"aaxis\":{\"endlinecolor\":\"#2a3f5f\",\"gridcolor\":\"white\",\"linecolor\":\"white\",\"minorgridcolor\":\"white\",\"startlinecolor\":\"#2a3f5f\"},\"baxis\":{\"endlinecolor\":\"#2a3f5f\",\"gridcolor\":\"white\",\"linecolor\":\"white\",\"minorgridcolor\":\"white\",\"startlinecolor\":\"#2a3f5f\"},\"type\":\"carpet\"}],\"choropleth\":[{\"colorbar\":{\"outlinewidth\":0,\"ticks\":\"\"},\"type\":\"choropleth\"}],\"contour\":[{\"colorbar\":{\"outlinewidth\":0,\"ticks\":\"\"},\"colorscale\":[[0.0,\"#0d0887\"],[0.1111111111111111,\"#46039f\"],[0.2222222222222222,\"#7201a8\"],[0.3333333333333333,\"#9c179e\"],[0.4444444444444444,\"#bd3786\"],[0.5555555555555556,\"#d8576b\"],[0.6666666666666666,\"#ed7953\"],[0.7777777777777778,\"#fb9f3a\"],[0.8888888888888888,\"#fdca26\"],[1.0,\"#f0f921\"]],\"type\":\"contour\"}],\"contourcarpet\":[{\"colorbar\":{\"outlinewidth\":0,\"ticks\":\"\"},\"type\":\"contourcarpet\"}],\"heatmap\":[{\"colorbar\":{\"outlinewidth\":0,\"ticks\":\"\"},\"colorscale\":[[0.0,\"#0d0887\"],[0.1111111111111111,\"#46039f\"],[0.2222222222222222,\"#7201a8\"],[0.3333333333333333,\"#9c179e\"],[0.4444444444444444,\"#bd3786\"],[0.5555555555555556,\"#d8576b\"],[0.6666666666666666,\"#ed7953\"],[0.7777777777777778,\"#fb9f3a\"],[0.8888888888888888,\"#fdca26\"],[1.0,\"#f0f921\"]],\"type\":\"heatmap\"}],\"heatmapgl\":[{\"colorbar\":{\"outlinewidth\":0,\"ticks\":\"\"},\"colorscale\":[[0.0,\"#0d0887\"],[0.1111111111111111,\"#46039f\"],[0.2222222222222222,\"#7201a8\"],[0.3333333333333333,\"#9c179e\"],[0.4444444444444444,\"#bd3786\"],[0.5555555555555556,\"#d8576b\"],[0.6666666666666666,\"#ed7953\"],[0.7777777777777778,\"#fb9f3a\"],[0.8888888888888888,\"#fdca26\"],[1.0,\"#f0f921\"]],\"type\":\"heatmapgl\"}],\"histogram\":[{\"marker\":{\"pattern\":{\"fillmode\":\"overlay\",\"size\":10,\"solidity\":0.2}},\"type\":\"histogram\"}],\"histogram2d\":[{\"colorbar\":{\"outlinewidth\":0,\"ticks\":\"\"},\"colorscale\":[[0.0,\"#0d0887\"],[0.1111111111111111,\"#46039f\"],[0.2222222222222222,\"#7201a8\"],[0.3333333333333333,\"#9c179e\"],[0.4444444444444444,\"#bd3786\"],[0.5555555555555556,\"#d8576b\"],[0.6666666666666666,\"#ed7953\"],[0.7777777777777778,\"#fb9f3a\"],[0.8888888888888888,\"#fdca26\"],[1.0,\"#f0f921\"]],\"type\":\"histogram2d\"}],\"histogram2dcontour\":[{\"colorbar\":{\"outlinewidth\":0,\"ticks\":\"\"},\"colorscale\":[[0.0,\"#0d0887\"],[0.1111111111111111,\"#46039f\"],[0.2222222222222222,\"#7201a8\"],[0.3333333333333333,\"#9c179e\"],[0.4444444444444444,\"#bd3786\"],[0.5555555555555556,\"#d8576b\"],[0.6666666666666666,\"#ed7953\"],[0.7777777777777778,\"#fb9f3a\"],[0.8888888888888888,\"#fdca26\"],[1.0,\"#f0f921\"]],\"type\":\"histogram2dcontour\"}],\"mesh3d\":[{\"colorbar\":{\"outlinewidth\":0,\"ticks\":\"\"},\"type\":\"mesh3d\"}],\"parcoords\":[{\"line\":{\"colorbar\":{\"outlinewidth\":0,\"ticks\":\"\"}},\"type\":\"parcoords\"}],\"pie\":[{\"automargin\":true,\"type\":\"pie\"}],\"scatter\":[{\"marker\":{\"colorbar\":{\"outlinewidth\":0,\"ticks\":\"\"}},\"type\":\"scatter\"}],\"scatter3d\":[{\"line\":{\"colorbar\":{\"outlinewidth\":0,\"ticks\":\"\"}},\"marker\":{\"colorbar\":{\"outlinewidth\":0,\"ticks\":\"\"}},\"type\":\"scatter3d\"}],\"scattercarpet\":[{\"marker\":{\"colorbar\":{\"outlinewidth\":0,\"ticks\":\"\"}},\"type\":\"scattercarpet\"}],\"scattergeo\":[{\"marker\":{\"colorbar\":{\"outlinewidth\":0,\"ticks\":\"\"}},\"type\":\"scattergeo\"}],\"scattergl\":[{\"marker\":{\"colorbar\":{\"outlinewidth\":0,\"ticks\":\"\"}},\"type\":\"scattergl\"}],\"scattermapbox\":[{\"marker\":{\"colorbar\":{\"outlinewidth\":0,\"ticks\":\"\"}},\"type\":\"scattermapbox\"}],\"scatterpolar\":[{\"marker\":{\"colorbar\":{\"outlinewidth\":0,\"ticks\":\"\"}},\"type\":\"scatterpolar\"}],\"scatterpolargl\":[{\"marker\":{\"colorbar\":{\"outlinewidth\":0,\"ticks\":\"\"}},\"type\":\"scatterpolargl\"}],\"scatterternary\":[{\"marker\":{\"colorbar\":{\"outlinewidth\":0,\"ticks\":\"\"}},\"type\":\"scatterternary\"}],\"surface\":[{\"colorbar\":{\"outlinewidth\":0,\"ticks\":\"\"},\"colorscale\":[[0.0,\"#0d0887\"],[0.1111111111111111,\"#46039f\"],[0.2222222222222222,\"#7201a8\"],[0.3333333333333333,\"#9c179e\"],[0.4444444444444444,\"#bd3786\"],[0.5555555555555556,\"#d8576b\"],[0.6666666666666666,\"#ed7953\"],[0.7777777777777778,\"#fb9f3a\"],[0.8888888888888888,\"#fdca26\"],[1.0,\"#f0f921\"]],\"type\":\"surface\"}],\"table\":[{\"cells\":{\"fill\":{\"color\":\"#EBF0F8\"},\"line\":{\"color\":\"white\"}},\"header\":{\"fill\":{\"color\":\"#C8D4E3\"},\"line\":{\"color\":\"white\"}},\"type\":\"table\"}]},\"layout\":{\"annotationdefaults\":{\"arrowcolor\":\"#2a3f5f\",\"arrowhead\":0,\"arrowwidth\":1},\"autotypenumbers\":\"strict\",\"coloraxis\":{\"colorbar\":{\"outlinewidth\":0,\"ticks\":\"\"}},\"colorscale\":{\"diverging\":[[0,\"#8e0152\"],[0.1,\"#c51b7d\"],[0.2,\"#de77ae\"],[0.3,\"#f1b6da\"],[0.4,\"#fde0ef\"],[0.5,\"#f7f7f7\"],[0.6,\"#e6f5d0\"],[0.7,\"#b8e186\"],[0.8,\"#7fbc41\"],[0.9,\"#4d9221\"],[1,\"#276419\"]],\"sequential\":[[0.0,\"#0d0887\"],[0.1111111111111111,\"#46039f\"],[0.2222222222222222,\"#7201a8\"],[0.3333333333333333,\"#9c179e\"],[0.4444444444444444,\"#bd3786\"],[0.5555555555555556,\"#d8576b\"],[0.6666666666666666,\"#ed7953\"],[0.7777777777777778,\"#fb9f3a\"],[0.8888888888888888,\"#fdca26\"],[1.0,\"#f0f921\"]],\"sequentialminus\":[[0.0,\"#0d0887\"],[0.1111111111111111,\"#46039f\"],[0.2222222222222222,\"#7201a8\"],[0.3333333333333333,\"#9c179e\"],[0.4444444444444444,\"#bd3786\"],[0.5555555555555556,\"#d8576b\"],[0.6666666666666666,\"#ed7953\"],[0.7777777777777778,\"#fb9f3a\"],[0.8888888888888888,\"#fdca26\"],[1.0,\"#f0f921\"]]},\"colorway\":[\"#636efa\",\"#EF553B\",\"#00cc96\",\"#ab63fa\",\"#FFA15A\",\"#19d3f3\",\"#FF6692\",\"#B6E880\",\"#FF97FF\",\"#FECB52\"],\"font\":{\"color\":\"#2a3f5f\"},\"geo\":{\"bgcolor\":\"white\",\"lakecolor\":\"white\",\"landcolor\":\"#E5ECF6\",\"showlakes\":true,\"showland\":true,\"subunitcolor\":\"white\"},\"hoverlabel\":{\"align\":\"left\"},\"hovermode\":\"closest\",\"mapbox\":{\"style\":\"light\"},\"paper_bgcolor\":\"white\",\"plot_bgcolor\":\"#E5ECF6\",\"polar\":{\"angularaxis\":{\"gridcolor\":\"white\",\"linecolor\":\"white\",\"ticks\":\"\"},\"bgcolor\":\"#E5ECF6\",\"radialaxis\":{\"gridcolor\":\"white\",\"linecolor\":\"white\",\"ticks\":\"\"}},\"scene\":{\"xaxis\":{\"backgroundcolor\":\"#E5ECF6\",\"gridcolor\":\"white\",\"gridwidth\":2,\"linecolor\":\"white\",\"showbackground\":true,\"ticks\":\"\",\"zerolinecolor\":\"white\"},\"yaxis\":{\"backgroundcolor\":\"#E5ECF6\",\"gridcolor\":\"white\",\"gridwidth\":2,\"linecolor\":\"white\",\"showbackground\":true,\"ticks\":\"\",\"zerolinecolor\":\"white\"},\"zaxis\":{\"backgroundcolor\":\"#E5ECF6\",\"gridcolor\":\"white\",\"gridwidth\":2,\"linecolor\":\"white\",\"showbackground\":true,\"ticks\":\"\",\"zerolinecolor\":\"white\"}},\"shapedefaults\":{\"line\":{\"color\":\"#2a3f5f\"}},\"ternary\":{\"aaxis\":{\"gridcolor\":\"white\",\"linecolor\":\"white\",\"ticks\":\"\"},\"baxis\":{\"gridcolor\":\"white\",\"linecolor\":\"white\",\"ticks\":\"\"},\"bgcolor\":\"#E5ECF6\",\"caxis\":{\"gridcolor\":\"white\",\"linecolor\":\"white\",\"ticks\":\"\"}},\"title\":{\"x\":0.05},\"xaxis\":{\"automargin\":true,\"gridcolor\":\"white\",\"linecolor\":\"white\",\"ticks\":\"\",\"title\":{\"standoff\":15},\"zerolinecolor\":\"white\",\"zerolinewidth\":2},\"yaxis\":{\"automargin\":true,\"gridcolor\":\"white\",\"linecolor\":\"white\",\"ticks\":\"\",\"title\":{\"standoff\":15},\"zerolinecolor\":\"white\",\"zerolinewidth\":2}}},\"xaxis\":{\"anchor\":\"y\",\"domain\":[0.0,1.0],\"title\":{\"text\":\"cidade\"}},\"yaxis\":{\"anchor\":\"x\",\"domain\":[0.0,1.0],\"title\":{\"text\":\"value\"}},\"legend\":{\"title\":{\"text\":\"variable\"},\"tracegroupgap\":0},\"margin\":{\"t\":60},\"barmode\":\"relative\"},                        {\"responsive\": true}                    ).then(function(){\n",
              "                            \n",
              "var gd = document.getElementById('7f1051e0-0ea6-4748-9b40-9db38e18d0b5');\n",
              "var x = new MutationObserver(function (mutations, observer) {{\n",
              "        var display = window.getComputedStyle(gd).display;\n",
              "        if (!display || display === 'none') {{\n",
              "            console.log([gd, 'removed!']);\n",
              "            Plotly.purge(gd);\n",
              "            observer.disconnect();\n",
              "        }}\n",
              "}});\n",
              "\n",
              "// Listen for the removal of the full notebook cells\n",
              "var notebookContainer = gd.closest('#notebook-container');\n",
              "if (notebookContainer) {{\n",
              "    x.observe(notebookContainer, {childList: true});\n",
              "}}\n",
              "\n",
              "// Listen for the clearing of the current output cell\n",
              "var outputEl = gd.closest('.output');\n",
              "if (outputEl) {{\n",
              "    x.observe(outputEl, {childList: true});\n",
              "}}\n",
              "\n",
              "                        })                };                            </script>        </div>\n",
              "</body>\n",
              "</html>"
            ]
          },
          "metadata": {}
        }
      ]
    },
    {
      "cell_type": "code",
      "source": [
        "px.bar(df_city_inad[df_city_inad.inadimplencia == \"SIM\"].sort_values(by=\"inadimplencia_count\", ascending=False), \n",
        "       x=\"cidade\", \n",
        "       y=\"inadimplencia_count\")"
      ],
      "metadata": {
        "colab": {
          "base_uri": "https://localhost:8080/",
          "height": 542
        },
        "id": "q983doTf2PF3",
        "outputId": "56ead3a8-4a68-4c4c-acc5-e1499e1a311b"
      },
      "execution_count": null,
      "outputs": [
        {
          "output_type": "display_data",
          "data": {
            "text/html": [
              "<html>\n",
              "<head><meta charset=\"utf-8\" /></head>\n",
              "<body>\n",
              "    <div>            <script src=\"https://cdnjs.cloudflare.com/ajax/libs/mathjax/2.7.5/MathJax.js?config=TeX-AMS-MML_SVG\"></script><script type=\"text/javascript\">if (window.MathJax) {MathJax.Hub.Config({SVG: {font: \"STIX-Web\"}});}</script>                <script type=\"text/javascript\">window.PlotlyConfig = {MathJaxConfig: 'local'};</script>\n",
              "        <script src=\"https://cdn.plot.ly/plotly-2.8.3.min.js\"></script>                <div id=\"0374f2c9-e229-4bc3-83b3-c34c78e024a7\" class=\"plotly-graph-div\" style=\"height:525px; width:100%;\"></div>            <script type=\"text/javascript\">                                    window.PLOTLYENV=window.PLOTLYENV || {};                                    if (document.getElementById(\"0374f2c9-e229-4bc3-83b3-c34c78e024a7\")) {                    Plotly.newPlot(                        \"0374f2c9-e229-4bc3-83b3-c34c78e024a7\",                        [{\"alignmentgroup\":\"True\",\"hovertemplate\":\"cidade=%{x}<br>inadimplencia_count=%{y}<extra></extra>\",\"legendgroup\":\"\",\"marker\":{\"color\":\"#636efa\",\"pattern\":{\"shape\":\"\"}},\"name\":\"\",\"offsetgroup\":\"\",\"orientation\":\"v\",\"showlegend\":false,\"textposition\":\"auto\",\"x\":[\"S\\u00e3o Jos\\u00e9 do Rio Preto\",\"Ribeir\\u00e3o Preto\",\"Uberl\\u00e2ndia\",\"S\\u00e3o Paulo\",\"Belo Horizonte\",\"Piracicaba\",\"Rio de Janeiro\",\"Cuiab\\u00e1\",\"Guarulhos\",\"Bauru\",\"Salvador\",\"S\\u00e3o Jos\\u00e9 dos Campos\",\"Campo Grande\",\"Serra\",\"Curitiba\",\"Americana\",\"Londrina\",\"It\\u00fa\",\"Porto Alegre\",\"Campos dos Goytacazes\",\"Sorocaba\",\"Jo\\u00e3o Pessoa\",\"UBERABA\",\"Araraquara\",\"Macei\\u00f3\",\"Joinville\",\"Mar\\u00edlia\",\"Ara\\u00e7atuba\",\"V\\u00e1rzea Grande\",\"Bras\\u00edlia\",\"Recife\",\"CONTAGEM\",\"Fortaleza\",\"Taubat\\u00e9\",\"Feira de Santana\",\"Franca\",\"Campinas\",\"Montes Claros\",\"Natal\",\"Betim\",\"Suzano\",\"Goi\\u00e2nia\",\"PARNAMIRIM\",\"Valpara\\u00edso de Goi\\u00e1s\",\"Maca\\u00e9\",\"Jaboat\\u00e3o dos Guararapes\",\"Pindamonhangaba\",\"Aracaju\",\"Juiz de Fora\",\"S\\u00e3o Gon\\u00e7alo\",\"S\\u00e3o Jos\\u00e9\",\"Aparecida de Goi\\u00e2nia\",\"Santa B\\u00e1rbara D'Oeste\",\"Canoas\",\"Campina Grande\",\"Araras\",\"Rio das Ostras\",\"Cariacica\",\"Caxias do Sul\",\"Sapucaia do Sul\",\"S\\u00e3o Carlos\",\"Gravata\\u00ed\",\"Lauro de Freitas\",\"Cajamar\",\"Vit\\u00f3ria\",\"Vespasiano\",\"Mogi das Cruzes\",\"Resende\",\"Salto\",\"Maring\\u00e1\",\"Itu\",\"Mau\\u00e1\",\"S\\u00e3o Leopoldo\",\"S\\u00e3o Jos\\u00e9 dos Pinhais\",\"Indaiatuba\",\"Jacare\\u00ed\",\"Santo Andr\\u00e9\",\"Florian\\u00f3polis\",\"Caruaru\",\"Catanduva\",\"Birig\\u00fci\",\"Camb\\u00e9\",\"Viam\\u00e3o\",\"Arauc\\u00e1ria\",\"Mirassol\",\"Arapongas\",\"Botucatu\",\"Lagoa Santa\",\"Novo Hamburgo\",\"Esteio\",\"Vila Velha\",\"Cama\\u00e7ari\",\"Ribeir\\u00e3o das Neves\",\"S\\u00e3o Jo\\u00e3o de Meriti\",\"Santa Luzia\",\"Trememb\\u00e9\",\"Sete Lagoas\",\"Rio Claro\",\"Niter\\u00f3i\",\"Nova Odessa\",\"Vit\\u00f3ria da Conquista\",\"Votorantim\",\"Alvorada\",\"Itaquaquecetuba\",\"Maracana\\u00fa\",\"Luzi\\u00e2nia\",\"Valinhos\",\"Bady Bassitt\",\"Campos do Jord\\u00e3o\",\"Limeira\",\"Abrantes\",\"Palho\\u00e7a\",\"DUQUE DE CAXIAS\",\"Sarandi\",\"S\\u00e3o Lu\\u00eds\",\"Ibat\\u00e9\",\"Colombo\",\"Sim\\u00f5es Filho\",\"Am\\u00e9rico Brasiliense\",\"Nova Santa Rita\",\"Nil\\u00f3polis\",\"Ponta Grossa\",\"Lagoa dos Patos\",\"Francisco Morato\",\"Gar\\u00e7a\",\"Presidente Prudente\",\"Vera Cruz\",\"Ca\\u00e7apava\",\"Barueri\",\"Sumar\\u00e9\",\"Agudos\",\"Mogi Gua\\u00e7u\",\"Cabedelo\",\"Carpina\",\"Santos\",\"Ivoti\",\"Cachoeirinha\",\"Campo Limpo Paulista\",\"Itabora\\u00ed\",\"B\\u00e1lsamo\",\"Jundia\\u00ed\",\"S\\u00e3o Jos\\u00e9 da Coroa Grande\",\"Ribas do Rio Pardo\",\"Riacho de Santo Ant\\u00f4nio\",\"S\\u00e3o Fid\\u00e9lis\",\"Terra de Areia\",\"Riacho das Almas\",\"S\\u00e3o Gon\\u00e7alo do Amarante\",\"S\\u00e3o Gon\\u00e7alo dos Campos\",\"Potirendaba\",\"S\\u00e3o Jo\\u00e3o do Para\\u00edso\",\"Serop\\u00e9dica\",\"Quissam\\u00e3\",\"Quebrangulo\",\"Prad\\u00f3polis\",\"Po\\u00e7\\u00e3o\",\"S\\u00e3o Pedro\",\"S\\u00e3o Pedro da Aldeia\",\"Teixeira de Freitas\",\"Tr\\u00eas Marias\",\"Tup\\u00e3\",\"S\\u00e3o Br\\u00e1s\",\"Sabar\\u00e1\",\"Ubatuba\",\"S\\u00e3o Jo\\u00e3o da Barra\",\"Valentim Gentil\",\"S\\u00e3o Caetano do Sul\",\"Tr\\u00eas Lagoas\",\"Santos Dumont\",\"Taiobeiras\",\"Santa B\\u00e1rbara\",\"Santa B\\u00e1rbara do Oeste\",\"S\\u00e3o Crist\\u00f3v\\u00e3o\",\"Sert\\u00e3ozinho\",\"S\\u00e3o Roque\",\"Tanabi\",\"Vinhedo\",\"Rio Grande da Serra\",\"Abadia\",\"Pomp\\u00e9ia\",\"Cotia\",\"Carapicu\\u00edba\",\"Cedral\",\"Concei\\u00e7\\u00e3o de Macabu\",\"Coqueiro Seco\",\"Cora\\u00e7\\u00e3o de Jesus\",\"Cordeiro\",\"Corea\\u00fa\",\"Corn\\u00e9lio Proc\\u00f3pio\",\"Cravinhos\",\"Capim Grosso\",\"Crici\\u00fama\",\"Cristina\",\"Delta\",\"Diadema\",\"Domingos Martins\",\"Duartina\",\"Embu das Artes\",\"Esperan\\u00e7a\",\"Capivari\",\"Campestre\",\"Pinhais\",\"Atalaia\",\"Alum\\u00ednio\",\"Aparecida\",\"Aracruz\",\"Araguari\",\"Ara\\u00e7agi\",\"Arealva\",\"Ariranha\",\"Arroio dos Ratos\",\"Barra Bonita\",\"Cambori\\u00fa\",\"Barra Mansa\",\"Barra de S\\u00e3o Jo\\u00e3o\",\"Bayeux\",\"Bela Vista do Para\\u00edso\",\"Belford Roxo\",\"Blumenau\",\"Bonfim Paulista\",\"Cachoeira\",\"Est\\u00e2ncia Velha\",\"Fazenda Rio Grande\",\"Francisco S\\u00e1\",\"Nova Lima\",\"Lu\\u00eds Ant\\u00f4nio\",\"Mairinque\",\"Maranguape\",\"Maric\\u00e1\",\"Mauriti\",\"Miguel\\u00f3polis\",\"Mirassol\\u00e2ndia\",\"Nova Igua\\u00e7u\",\"Ol\\u00edmpia\",\"Gavi\\u00e3o Peixoto\",\"Orl\\u00e2ndia\",\"Palmas\",\"Para\\u00edso do Tocantins\",\"Patos de Minas\",\"Patroc\\u00ednio Paulista\",\"Paulo Afonso\",\"Pereira Barreto\",\"Pilar do Sul\",\"Linhares\",\"J\\u00falio Mesquita\",\"Jataizinho\",\"Janu\\u00e1ria\",\"Guapia\\u00e7u\",\"Guarabira\",\"Guararapes\",\"Hortol\\u00e2ndia\",\"Ibipor\\u00e3\",\"Ibirit\\u00e9\",\"Ibir\\u00e1\",\"Imbituba\",\"Ipor\\u00e1\",\"Iracem\\u00e1polis\",\"Itagua\\u00ed\",\"Itajobi\",\"Itapeva\",\"Itatiaia\",\"Jaguaria\\u00edva\",\"Jandaia do Sul\",\"Jangada\",\"V\\u00e1rzea Paulista\"],\"xaxis\":\"x\",\"y\":[134,116,93,88,81,76,71,71,67,62,56,54,52,48,48,42,42,42,40,40,39,38,38,38,37,37,37,37,36,35,35,34,34,33,33,26,25,25,25,24,23,23,22,22,21,20,20,19,18,16,16,16,16,14,14,13,13,13,12,12,11,11,11,10,10,10,9,9,9,8,8,8,8,8,7,7,7,7,7,7,7,7,7,7,6,6,6,6,6,5,5,5,5,5,4,4,4,4,4,4,4,4,4,4,3,3,3,3,3,3,3,3,3,3,3,3,3,3,2,2,2,2,2,2,2,2,2,2,2,2,2,2,2,2,2,2,2,2,2,2,2,1,1,1,1,1,1,1,1,1,1,1,1,1,1,1,1,1,1,1,1,1,1,1,1,1,1,1,1,1,1,1,1,1,1,1,1,1,1,1,1,1,1,1,1,1,1,1,1,1,1,1,1,1,1,1,1,1,1,1,1,1,1,1,1,1,1,1,1,1,1,1,1,1,1,1,1,1,1,1,1,1,1,1,1,1,1,1,1,1,1,1,1,1,1,1,1,1,1,1,1,1,1,1,1,1,1,1,1,1,1,1,1,1,1,1,1,1,1,1,1,1,1,1,1],\"yaxis\":\"y\",\"type\":\"bar\"}],                        {\"template\":{\"data\":{\"bar\":[{\"error_x\":{\"color\":\"#2a3f5f\"},\"error_y\":{\"color\":\"#2a3f5f\"},\"marker\":{\"line\":{\"color\":\"#E5ECF6\",\"width\":0.5},\"pattern\":{\"fillmode\":\"overlay\",\"size\":10,\"solidity\":0.2}},\"type\":\"bar\"}],\"barpolar\":[{\"marker\":{\"line\":{\"color\":\"#E5ECF6\",\"width\":0.5},\"pattern\":{\"fillmode\":\"overlay\",\"size\":10,\"solidity\":0.2}},\"type\":\"barpolar\"}],\"carpet\":[{\"aaxis\":{\"endlinecolor\":\"#2a3f5f\",\"gridcolor\":\"white\",\"linecolor\":\"white\",\"minorgridcolor\":\"white\",\"startlinecolor\":\"#2a3f5f\"},\"baxis\":{\"endlinecolor\":\"#2a3f5f\",\"gridcolor\":\"white\",\"linecolor\":\"white\",\"minorgridcolor\":\"white\",\"startlinecolor\":\"#2a3f5f\"},\"type\":\"carpet\"}],\"choropleth\":[{\"colorbar\":{\"outlinewidth\":0,\"ticks\":\"\"},\"type\":\"choropleth\"}],\"contour\":[{\"colorbar\":{\"outlinewidth\":0,\"ticks\":\"\"},\"colorscale\":[[0.0,\"#0d0887\"],[0.1111111111111111,\"#46039f\"],[0.2222222222222222,\"#7201a8\"],[0.3333333333333333,\"#9c179e\"],[0.4444444444444444,\"#bd3786\"],[0.5555555555555556,\"#d8576b\"],[0.6666666666666666,\"#ed7953\"],[0.7777777777777778,\"#fb9f3a\"],[0.8888888888888888,\"#fdca26\"],[1.0,\"#f0f921\"]],\"type\":\"contour\"}],\"contourcarpet\":[{\"colorbar\":{\"outlinewidth\":0,\"ticks\":\"\"},\"type\":\"contourcarpet\"}],\"heatmap\":[{\"colorbar\":{\"outlinewidth\":0,\"ticks\":\"\"},\"colorscale\":[[0.0,\"#0d0887\"],[0.1111111111111111,\"#46039f\"],[0.2222222222222222,\"#7201a8\"],[0.3333333333333333,\"#9c179e\"],[0.4444444444444444,\"#bd3786\"],[0.5555555555555556,\"#d8576b\"],[0.6666666666666666,\"#ed7953\"],[0.7777777777777778,\"#fb9f3a\"],[0.8888888888888888,\"#fdca26\"],[1.0,\"#f0f921\"]],\"type\":\"heatmap\"}],\"heatmapgl\":[{\"colorbar\":{\"outlinewidth\":0,\"ticks\":\"\"},\"colorscale\":[[0.0,\"#0d0887\"],[0.1111111111111111,\"#46039f\"],[0.2222222222222222,\"#7201a8\"],[0.3333333333333333,\"#9c179e\"],[0.4444444444444444,\"#bd3786\"],[0.5555555555555556,\"#d8576b\"],[0.6666666666666666,\"#ed7953\"],[0.7777777777777778,\"#fb9f3a\"],[0.8888888888888888,\"#fdca26\"],[1.0,\"#f0f921\"]],\"type\":\"heatmapgl\"}],\"histogram\":[{\"marker\":{\"pattern\":{\"fillmode\":\"overlay\",\"size\":10,\"solidity\":0.2}},\"type\":\"histogram\"}],\"histogram2d\":[{\"colorbar\":{\"outlinewidth\":0,\"ticks\":\"\"},\"colorscale\":[[0.0,\"#0d0887\"],[0.1111111111111111,\"#46039f\"],[0.2222222222222222,\"#7201a8\"],[0.3333333333333333,\"#9c179e\"],[0.4444444444444444,\"#bd3786\"],[0.5555555555555556,\"#d8576b\"],[0.6666666666666666,\"#ed7953\"],[0.7777777777777778,\"#fb9f3a\"],[0.8888888888888888,\"#fdca26\"],[1.0,\"#f0f921\"]],\"type\":\"histogram2d\"}],\"histogram2dcontour\":[{\"colorbar\":{\"outlinewidth\":0,\"ticks\":\"\"},\"colorscale\":[[0.0,\"#0d0887\"],[0.1111111111111111,\"#46039f\"],[0.2222222222222222,\"#7201a8\"],[0.3333333333333333,\"#9c179e\"],[0.4444444444444444,\"#bd3786\"],[0.5555555555555556,\"#d8576b\"],[0.6666666666666666,\"#ed7953\"],[0.7777777777777778,\"#fb9f3a\"],[0.8888888888888888,\"#fdca26\"],[1.0,\"#f0f921\"]],\"type\":\"histogram2dcontour\"}],\"mesh3d\":[{\"colorbar\":{\"outlinewidth\":0,\"ticks\":\"\"},\"type\":\"mesh3d\"}],\"parcoords\":[{\"line\":{\"colorbar\":{\"outlinewidth\":0,\"ticks\":\"\"}},\"type\":\"parcoords\"}],\"pie\":[{\"automargin\":true,\"type\":\"pie\"}],\"scatter\":[{\"marker\":{\"colorbar\":{\"outlinewidth\":0,\"ticks\":\"\"}},\"type\":\"scatter\"}],\"scatter3d\":[{\"line\":{\"colorbar\":{\"outlinewidth\":0,\"ticks\":\"\"}},\"marker\":{\"colorbar\":{\"outlinewidth\":0,\"ticks\":\"\"}},\"type\":\"scatter3d\"}],\"scattercarpet\":[{\"marker\":{\"colorbar\":{\"outlinewidth\":0,\"ticks\":\"\"}},\"type\":\"scattercarpet\"}],\"scattergeo\":[{\"marker\":{\"colorbar\":{\"outlinewidth\":0,\"ticks\":\"\"}},\"type\":\"scattergeo\"}],\"scattergl\":[{\"marker\":{\"colorbar\":{\"outlinewidth\":0,\"ticks\":\"\"}},\"type\":\"scattergl\"}],\"scattermapbox\":[{\"marker\":{\"colorbar\":{\"outlinewidth\":0,\"ticks\":\"\"}},\"type\":\"scattermapbox\"}],\"scatterpolar\":[{\"marker\":{\"colorbar\":{\"outlinewidth\":0,\"ticks\":\"\"}},\"type\":\"scatterpolar\"}],\"scatterpolargl\":[{\"marker\":{\"colorbar\":{\"outlinewidth\":0,\"ticks\":\"\"}},\"type\":\"scatterpolargl\"}],\"scatterternary\":[{\"marker\":{\"colorbar\":{\"outlinewidth\":0,\"ticks\":\"\"}},\"type\":\"scatterternary\"}],\"surface\":[{\"colorbar\":{\"outlinewidth\":0,\"ticks\":\"\"},\"colorscale\":[[0.0,\"#0d0887\"],[0.1111111111111111,\"#46039f\"],[0.2222222222222222,\"#7201a8\"],[0.3333333333333333,\"#9c179e\"],[0.4444444444444444,\"#bd3786\"],[0.5555555555555556,\"#d8576b\"],[0.6666666666666666,\"#ed7953\"],[0.7777777777777778,\"#fb9f3a\"],[0.8888888888888888,\"#fdca26\"],[1.0,\"#f0f921\"]],\"type\":\"surface\"}],\"table\":[{\"cells\":{\"fill\":{\"color\":\"#EBF0F8\"},\"line\":{\"color\":\"white\"}},\"header\":{\"fill\":{\"color\":\"#C8D4E3\"},\"line\":{\"color\":\"white\"}},\"type\":\"table\"}]},\"layout\":{\"annotationdefaults\":{\"arrowcolor\":\"#2a3f5f\",\"arrowhead\":0,\"arrowwidth\":1},\"autotypenumbers\":\"strict\",\"coloraxis\":{\"colorbar\":{\"outlinewidth\":0,\"ticks\":\"\"}},\"colorscale\":{\"diverging\":[[0,\"#8e0152\"],[0.1,\"#c51b7d\"],[0.2,\"#de77ae\"],[0.3,\"#f1b6da\"],[0.4,\"#fde0ef\"],[0.5,\"#f7f7f7\"],[0.6,\"#e6f5d0\"],[0.7,\"#b8e186\"],[0.8,\"#7fbc41\"],[0.9,\"#4d9221\"],[1,\"#276419\"]],\"sequential\":[[0.0,\"#0d0887\"],[0.1111111111111111,\"#46039f\"],[0.2222222222222222,\"#7201a8\"],[0.3333333333333333,\"#9c179e\"],[0.4444444444444444,\"#bd3786\"],[0.5555555555555556,\"#d8576b\"],[0.6666666666666666,\"#ed7953\"],[0.7777777777777778,\"#fb9f3a\"],[0.8888888888888888,\"#fdca26\"],[1.0,\"#f0f921\"]],\"sequentialminus\":[[0.0,\"#0d0887\"],[0.1111111111111111,\"#46039f\"],[0.2222222222222222,\"#7201a8\"],[0.3333333333333333,\"#9c179e\"],[0.4444444444444444,\"#bd3786\"],[0.5555555555555556,\"#d8576b\"],[0.6666666666666666,\"#ed7953\"],[0.7777777777777778,\"#fb9f3a\"],[0.8888888888888888,\"#fdca26\"],[1.0,\"#f0f921\"]]},\"colorway\":[\"#636efa\",\"#EF553B\",\"#00cc96\",\"#ab63fa\",\"#FFA15A\",\"#19d3f3\",\"#FF6692\",\"#B6E880\",\"#FF97FF\",\"#FECB52\"],\"font\":{\"color\":\"#2a3f5f\"},\"geo\":{\"bgcolor\":\"white\",\"lakecolor\":\"white\",\"landcolor\":\"#E5ECF6\",\"showlakes\":true,\"showland\":true,\"subunitcolor\":\"white\"},\"hoverlabel\":{\"align\":\"left\"},\"hovermode\":\"closest\",\"mapbox\":{\"style\":\"light\"},\"paper_bgcolor\":\"white\",\"plot_bgcolor\":\"#E5ECF6\",\"polar\":{\"angularaxis\":{\"gridcolor\":\"white\",\"linecolor\":\"white\",\"ticks\":\"\"},\"bgcolor\":\"#E5ECF6\",\"radialaxis\":{\"gridcolor\":\"white\",\"linecolor\":\"white\",\"ticks\":\"\"}},\"scene\":{\"xaxis\":{\"backgroundcolor\":\"#E5ECF6\",\"gridcolor\":\"white\",\"gridwidth\":2,\"linecolor\":\"white\",\"showbackground\":true,\"ticks\":\"\",\"zerolinecolor\":\"white\"},\"yaxis\":{\"backgroundcolor\":\"#E5ECF6\",\"gridcolor\":\"white\",\"gridwidth\":2,\"linecolor\":\"white\",\"showbackground\":true,\"ticks\":\"\",\"zerolinecolor\":\"white\"},\"zaxis\":{\"backgroundcolor\":\"#E5ECF6\",\"gridcolor\":\"white\",\"gridwidth\":2,\"linecolor\":\"white\",\"showbackground\":true,\"ticks\":\"\",\"zerolinecolor\":\"white\"}},\"shapedefaults\":{\"line\":{\"color\":\"#2a3f5f\"}},\"ternary\":{\"aaxis\":{\"gridcolor\":\"white\",\"linecolor\":\"white\",\"ticks\":\"\"},\"baxis\":{\"gridcolor\":\"white\",\"linecolor\":\"white\",\"ticks\":\"\"},\"bgcolor\":\"#E5ECF6\",\"caxis\":{\"gridcolor\":\"white\",\"linecolor\":\"white\",\"ticks\":\"\"}},\"title\":{\"x\":0.05},\"xaxis\":{\"automargin\":true,\"gridcolor\":\"white\",\"linecolor\":\"white\",\"ticks\":\"\",\"title\":{\"standoff\":15},\"zerolinecolor\":\"white\",\"zerolinewidth\":2},\"yaxis\":{\"automargin\":true,\"gridcolor\":\"white\",\"linecolor\":\"white\",\"ticks\":\"\",\"title\":{\"standoff\":15},\"zerolinecolor\":\"white\",\"zerolinewidth\":2}}},\"xaxis\":{\"anchor\":\"y\",\"domain\":[0.0,1.0],\"title\":{\"text\":\"cidade\"}},\"yaxis\":{\"anchor\":\"x\",\"domain\":[0.0,1.0],\"title\":{\"text\":\"inadimplencia_count\"}},\"legend\":{\"tracegroupgap\":0},\"margin\":{\"t\":60},\"barmode\":\"relative\"},                        {\"responsive\": true}                    ).then(function(){\n",
              "                            \n",
              "var gd = document.getElementById('0374f2c9-e229-4bc3-83b3-c34c78e024a7');\n",
              "var x = new MutationObserver(function (mutations, observer) {{\n",
              "        var display = window.getComputedStyle(gd).display;\n",
              "        if (!display || display === 'none') {{\n",
              "            console.log([gd, 'removed!']);\n",
              "            Plotly.purge(gd);\n",
              "            observer.disconnect();\n",
              "        }}\n",
              "}});\n",
              "\n",
              "// Listen for the removal of the full notebook cells\n",
              "var notebookContainer = gd.closest('#notebook-container');\n",
              "if (notebookContainer) {{\n",
              "    x.observe(notebookContainer, {childList: true});\n",
              "}}\n",
              "\n",
              "// Listen for the clearing of the current output cell\n",
              "var outputEl = gd.closest('.output');\n",
              "if (outputEl) {{\n",
              "    x.observe(outputEl, {childList: true});\n",
              "}}\n",
              "\n",
              "                        })                };                            </script>        </div>\n",
              "</body>\n",
              "</html>"
            ]
          },
          "metadata": {}
        }
      ]
    },
    {
      "cell_type": "code",
      "source": [
        "df.describe()"
      ],
      "metadata": {
        "colab": {
          "base_uri": "https://localhost:8080/",
          "height": 300
        },
        "id": "LOXqeeZN2b3t",
        "outputId": "50783975-c302-4bff-a907-214434d50223"
      },
      "execution_count": null,
      "outputs": [
        {
          "output_type": "execute_result",
          "data": {
            "text/plain": [
              "       ano_venda  renda_cliente  parcelas_entradas  valor_imovel\n",
              "count   12672.00       12632.00           12672.00      12672.00\n",
              "mean     2015.54        3622.06              27.62     151496.13\n",
              "std         1.15       23243.19              13.85      28404.92\n",
              "min      2014.00        1000.00               0.00      99000.00\n",
              "25%      2014.00        1865.00              23.00     135168.00\n",
              "50%      2016.00        2275.00              30.00     145000.00\n",
              "75%      2017.00        3259.00              35.00     161533.00\n",
              "max      2017.00      997000.00              60.00     711229.00"
            ],
            "text/html": [
              "\n",
              "  <div id=\"df-85cdce52-a708-42d3-b195-1845ef7113cc\">\n",
              "    <div class=\"colab-df-container\">\n",
              "      <div>\n",
              "<style scoped>\n",
              "    .dataframe tbody tr th:only-of-type {\n",
              "        vertical-align: middle;\n",
              "    }\n",
              "\n",
              "    .dataframe tbody tr th {\n",
              "        vertical-align: top;\n",
              "    }\n",
              "\n",
              "    .dataframe thead th {\n",
              "        text-align: right;\n",
              "    }\n",
              "</style>\n",
              "<table border=\"1\" class=\"dataframe\">\n",
              "  <thead>\n",
              "    <tr style=\"text-align: right;\">\n",
              "      <th></th>\n",
              "      <th>ano_venda</th>\n",
              "      <th>renda_cliente</th>\n",
              "      <th>parcelas_entradas</th>\n",
              "      <th>valor_imovel</th>\n",
              "    </tr>\n",
              "  </thead>\n",
              "  <tbody>\n",
              "    <tr>\n",
              "      <th>count</th>\n",
              "      <td>12672.00</td>\n",
              "      <td>12632.00</td>\n",
              "      <td>12672.00</td>\n",
              "      <td>12672.00</td>\n",
              "    </tr>\n",
              "    <tr>\n",
              "      <th>mean</th>\n",
              "      <td>2015.54</td>\n",
              "      <td>3622.06</td>\n",
              "      <td>27.62</td>\n",
              "      <td>151496.13</td>\n",
              "    </tr>\n",
              "    <tr>\n",
              "      <th>std</th>\n",
              "      <td>1.15</td>\n",
              "      <td>23243.19</td>\n",
              "      <td>13.85</td>\n",
              "      <td>28404.92</td>\n",
              "    </tr>\n",
              "    <tr>\n",
              "      <th>min</th>\n",
              "      <td>2014.00</td>\n",
              "      <td>1000.00</td>\n",
              "      <td>0.00</td>\n",
              "      <td>99000.00</td>\n",
              "    </tr>\n",
              "    <tr>\n",
              "      <th>25%</th>\n",
              "      <td>2014.00</td>\n",
              "      <td>1865.00</td>\n",
              "      <td>23.00</td>\n",
              "      <td>135168.00</td>\n",
              "    </tr>\n",
              "    <tr>\n",
              "      <th>50%</th>\n",
              "      <td>2016.00</td>\n",
              "      <td>2275.00</td>\n",
              "      <td>30.00</td>\n",
              "      <td>145000.00</td>\n",
              "    </tr>\n",
              "    <tr>\n",
              "      <th>75%</th>\n",
              "      <td>2017.00</td>\n",
              "      <td>3259.00</td>\n",
              "      <td>35.00</td>\n",
              "      <td>161533.00</td>\n",
              "    </tr>\n",
              "    <tr>\n",
              "      <th>max</th>\n",
              "      <td>2017.00</td>\n",
              "      <td>997000.00</td>\n",
              "      <td>60.00</td>\n",
              "      <td>711229.00</td>\n",
              "    </tr>\n",
              "  </tbody>\n",
              "</table>\n",
              "</div>\n",
              "      <button class=\"colab-df-convert\" onclick=\"convertToInteractive('df-85cdce52-a708-42d3-b195-1845ef7113cc')\"\n",
              "              title=\"Convert this dataframe to an interactive table.\"\n",
              "              style=\"display:none;\">\n",
              "        \n",
              "  <svg xmlns=\"http://www.w3.org/2000/svg\" height=\"24px\"viewBox=\"0 0 24 24\"\n",
              "       width=\"24px\">\n",
              "    <path d=\"M0 0h24v24H0V0z\" fill=\"none\"/>\n",
              "    <path d=\"M18.56 5.44l.94 2.06.94-2.06 2.06-.94-2.06-.94-.94-2.06-.94 2.06-2.06.94zm-11 1L8.5 8.5l.94-2.06 2.06-.94-2.06-.94L8.5 2.5l-.94 2.06-2.06.94zm10 10l.94 2.06.94-2.06 2.06-.94-2.06-.94-.94-2.06-.94 2.06-2.06.94z\"/><path d=\"M17.41 7.96l-1.37-1.37c-.4-.4-.92-.59-1.43-.59-.52 0-1.04.2-1.43.59L10.3 9.45l-7.72 7.72c-.78.78-.78 2.05 0 2.83L4 21.41c.39.39.9.59 1.41.59.51 0 1.02-.2 1.41-.59l7.78-7.78 2.81-2.81c.8-.78.8-2.07 0-2.86zM5.41 20L4 18.59l7.72-7.72 1.47 1.35L5.41 20z\"/>\n",
              "  </svg>\n",
              "      </button>\n",
              "      \n",
              "  <style>\n",
              "    .colab-df-container {\n",
              "      display:flex;\n",
              "      flex-wrap:wrap;\n",
              "      gap: 12px;\n",
              "    }\n",
              "\n",
              "    .colab-df-convert {\n",
              "      background-color: #E8F0FE;\n",
              "      border: none;\n",
              "      border-radius: 50%;\n",
              "      cursor: pointer;\n",
              "      display: none;\n",
              "      fill: #1967D2;\n",
              "      height: 32px;\n",
              "      padding: 0 0 0 0;\n",
              "      width: 32px;\n",
              "    }\n",
              "\n",
              "    .colab-df-convert:hover {\n",
              "      background-color: #E2EBFA;\n",
              "      box-shadow: 0px 1px 2px rgba(60, 64, 67, 0.3), 0px 1px 3px 1px rgba(60, 64, 67, 0.15);\n",
              "      fill: #174EA6;\n",
              "    }\n",
              "\n",
              "    [theme=dark] .colab-df-convert {\n",
              "      background-color: #3B4455;\n",
              "      fill: #D2E3FC;\n",
              "    }\n",
              "\n",
              "    [theme=dark] .colab-df-convert:hover {\n",
              "      background-color: #434B5C;\n",
              "      box-shadow: 0px 1px 3px 1px rgba(0, 0, 0, 0.15);\n",
              "      filter: drop-shadow(0px 1px 2px rgba(0, 0, 0, 0.3));\n",
              "      fill: #FFFFFF;\n",
              "    }\n",
              "  </style>\n",
              "\n",
              "      <script>\n",
              "        const buttonEl =\n",
              "          document.querySelector('#df-85cdce52-a708-42d3-b195-1845ef7113cc button.colab-df-convert');\n",
              "        buttonEl.style.display =\n",
              "          google.colab.kernel.accessAllowed ? 'block' : 'none';\n",
              "\n",
              "        async function convertToInteractive(key) {\n",
              "          const element = document.querySelector('#df-85cdce52-a708-42d3-b195-1845ef7113cc');\n",
              "          const dataTable =\n",
              "            await google.colab.kernel.invokeFunction('convertToInteractive',\n",
              "                                                     [key], {});\n",
              "          if (!dataTable) return;\n",
              "\n",
              "          const docLinkHtml = 'Like what you see? Visit the ' +\n",
              "            '<a target=\"_blank\" href=https://colab.research.google.com/notebooks/data_table.ipynb>data table notebook</a>'\n",
              "            + ' to learn more about interactive tables.';\n",
              "          element.innerHTML = '';\n",
              "          dataTable['output_type'] = 'display_data';\n",
              "          await google.colab.output.renderOutput(dataTable, element);\n",
              "          const docLink = document.createElement('div');\n",
              "          docLink.innerHTML = docLinkHtml;\n",
              "          element.appendChild(docLink);\n",
              "        }\n",
              "      </script>\n",
              "    </div>\n",
              "  </div>\n",
              "  "
            ]
          },
          "metadata": {},
          "execution_count": 21
        }
      ]
    },
    {
      "cell_type": "code",
      "source": [
        "px.violin(df, y=\"renda_cliente\", color=\"inadimplencia\", box=True)"
      ],
      "metadata": {
        "colab": {
          "base_uri": "https://localhost:8080/",
          "height": 542
        },
        "id": "coZHHn6s3QNU",
        "outputId": "4d7d0ebb-384b-4110-ee46-72bc554e485c"
      },
      "execution_count": null,
      "outputs": [
        {
          "output_type": "display_data",
          "data": {
            "text/html": [
              "<html>\n",
              "<head><meta charset=\"utf-8\" /></head>\n",
              "<body>\n",
              "    <div>            <script src=\"https://cdnjs.cloudflare.com/ajax/libs/mathjax/2.7.5/MathJax.js?config=TeX-AMS-MML_SVG\"></script><script type=\"text/javascript\">if (window.MathJax) {MathJax.Hub.Config({SVG: {font: \"STIX-Web\"}});}</script>                <script type=\"text/javascript\">window.PlotlyConfig = {MathJaxConfig: 'local'};</script>\n",
              "        <script src=\"https://cdn.plot.ly/plotly-2.8.3.min.js\"></script>                <div id=\"b7dd297e-5382-4bec-b511-d65fa82eeb1c\" class=\"plotly-graph-div\" style=\"height:525px; width:100%;\"></div>            <script type=\"text/javascript\">                                    window.PLOTLYENV=window.PLOTLYENV || {};                                    if (document.getElementById(\"b7dd297e-5382-4bec-b511-d65fa82eeb1c\")) {                    Plotly.newPlot(                        \"b7dd297e-5382-4bec-b511-d65fa82eeb1c\",                        [{\"alignmentgroup\":\"True\",\"box\":{\"visible\":true},\"hovertemplate\":\"inadimplencia=N\\u00c3O<br>renda_cliente=%{y}<extra></extra>\",\"legendgroup\":\"N\\u00c3O\",\"marker\":{\"color\":\"#636efa\"},\"name\":\"N\\u00c3O\",\"offsetgroup\":\"N\\u00c3O\",\"orientation\":\"v\",\"scalegroup\":\"True\",\"showlegend\":true,\"x0\":\" \",\"xaxis\":\"x\",\"y\":[3268.0,2039.0000000000002,2413.0,2386.0,1860.0,1786.0,2727.0,3158.0,2303.0,15757.0,3176.0,2600.0,1710.0,3330.0,1625.0,5000.0,3256.0,5416.0,1810.0,4500.0,2720.0,1642.0,2029.0,2777.0,4685.0,1677.0,3000.0,3911.0,1760.0,4352.0,1780.0,1804.0,3330.0,5610.0,1840.0,3792.0,1677.0,1800.0,1400.0,3022.0,2456.0,1930.0,4850.0,3513.0,5960.0,1700.0,1650.0,2152.0,5162.0,4318.0,2001.9999999999998,1650.0,2553.0,10005.0,1600.0,1601.0,2714.0,1168.0,4912.0,5000.0,2283.0,1867.0,1600.0,2217.0,1641.0,2577.0,4300.0,2400.0,5039.0,2521.0,3150.0,2020.0,2200.0,1600.0,3573.0,2395.0,1860.0,1888.0,3391.0,2141.0,3158.0,1950.0,1616.0,5804.0,2090.0,2165.0,3251.0,3090.0,2769.0,4686.0,2394.0,1822.0,2546.0,4261.0,1945.0,2146.0,1868.0,2310.0,4809.0,2156.0,9066.0,2000.0,1620.0,3080.0,3934.0,8666.0,4688.0,2489.0,1890.0,7631.0,1900.0,3576.0,4000.0,2400.0,1701.0,2187.0,2719.0,3909.0,5768.0,2708.0,2500.0,2167.0,3000.0,8637.0,2200.0,1780.0,2448.0,4218.0,2216.0,1693.0,1760.0,1613.0,1713.0,1850.0,2105.0,3005.0,3489.0,2925.0,1946.0,3059.0,2115.0,1601.0,1900.0,3503.0,4344.0,5407.0,2929.0,12024.0,2204.0,2000.0,2119.0,2023.0000000000002,1866.0,2500.0,3479.0,1786.0,1850.0,4209.0,6681.0,2200.0,2464.0,8093.999999999999,2858.0,5306.0,3271.0,2147.0,2800.0,8042.999999999999,1989.0,6453.0,4632.0,1663.0,1954.0,1842.0,2396.0,5322.0,1808.0,1772.0,3712.0,4478.0,2100.0,1780.0,4315.0,1727.0,5159.0,3081.0,2359.0,3948.0,2920.0,2296.0,2200.0,2685.0,2353.0,2820.0,1900.0,1916.0,2365.0,3768.0,3535.0,1718.0,1636.0,2000.0,5357.0,3184.0,3442.0,1612.0,4856.0,1590.0,3943.0,2190.0,2205.0,2032.0,1868.0,3839.0,2688.0,2248.0,1780.0,2500.0,1727.0,2135.0,3036.0,1864.0,6511.0,2217.0,3176.0,3213.0,2184.0,2600.0,1786.0,1722.0,4937.0,2937.0,6582.0,4610.0,2445.0,2050.0,2122.0,4005.0,2121.0,5236.0,4686.0,1912.0,3353.0,2229.0,1497.0,1665.0,12108.0,2641.0,4748.0,2524.0,3037.0,10334.0,1849.0,2996.0,1743.0,1216.0,2650.0,1750.0,1614.0,2083.0,7119.0,1948.0,2193.0,2101.0,1950.0,1800.0,1700.0,1965.0,3181.0,1641.0,2317.0,1764.0,8777.0,2449.0,2851.0,2238.0,3067.0,7279.0,1760.0,2058.0,5804.0,4938.0,2634.0,2801.0,3416.0,4955.0,7942.0,2796.0,2139.0,1600.0,4746.0,2511.0,2365.0,2000.0,1734.0,1300.0,8163.0,2961.0,3105.0,2426.0,7215.0,2000.0,7505.0,3025.0,5229.0,1796.0,4262.0,2875.0,2917.0,1701.0,3461.0,1922.0,1666.0,2246.0,5838.0,2100.0,4817.0,2561.0,1600.0,1842.0,5934.0,1800.0,6289.0,2901.0,1935.0,2856.0,1875.0,1600.0,1846.0,1587.0,4276.0,1830.0,2696.0,2250.0,3060.0,2345.0,1914.0,3330.0,1965.0,1855.0,2200.0,1719.0,2493.0,5000.0,4054.9999999999995,1680.0,3917.0,2727.0,2294.0,8148.0,2499.0,1856.0,7951.0,2844.0,8016.0,3161.0,2050.0,1795.0,1775.0,1812.0,1982.0,2358.0,1780.0,2367.0,2434.0,2175.0,1674.0,5118.0,2900.0,4955.0,2200.0,4254.0,1750.0,1918.0,2200.0,1372.0,1959.0,2846.0,4743.0,3378.0,4872.0,3756.0,3827.0,2365.0,2123.0,2243.0,1867.0,2285.0,3256.0,2619.0,2223.0,5417.0,1860.0,3280.0,3470.0,1805.0,5075.0,1887.0,3846.0,4434.0,2123.0,3031.0,2100.0,2101.0,1600.0,2076.0,3039.0,2942.0,4403.0,3615.0,1866.0,2031.0000000000002,2440.0,2218.0,1650.0,1914.0,5253.0,2688.0,4659.0,5610.0,5697.0,1780.0,1772.0,5268.0,3195.0,2633.0,2528.0,10753.0,2300.0,3636.0,5152.0,3310.0,1700.0,1522.0,2259.0,1850.0,1797.0,2150.0,1695.0,2584.0,2000.0,1409.0,1690.0,1870.0,1780.0,3116.0,2069.0,2255.0,3110.0,3000.0,2328.0,2369.0,2028.0,5235.0,1781.0,2233.0,1626.0,12063.0,2326.0,2485.0,6042.0,1867.0,3438.0,2275.0,2919.0,2629.0,3000.0,1860.0,8687.0,2300.0,2410.0,1730.0,2438.0,2762.0,10868.0,1556.0,4195.0,3753.0,1600.0,3828.0,1929.0,2185.0,2571.0,2200.0,3137.0,3800.0,7532.0,3905.0,2911.0,7110.0,2736.0,3630.0,1910.0,1604.0,5192.0,2566.0,2256.0,1680.0,1781.0,1425.0,3865.0,1547.0,1600.0,1740.0,2586.0,6444.0,2300.0,3380.0,2085.0,4921.0,1872.0,1508.0,1624.0,3279.0,2362.0,2467.0,15219.0,1150.0,4607.0,3717.0,1913.0,1642.0,1900.0,1890.0,2369.0,1829.0,1900.0,1680.0,1567.0,1764.0,5720.0,1865.0,1700.0,2097.0,1589.0,5478.0,1593.0,1660.0,1932.0,11058.0,2615.0,1838.0,2460.0,4863.0,2015.0000000000002,1752.0,5817.0,1820.0,1680.0,3820.0,2001.0,2168.0,6328.0,7760.0,1700.0,1667.0,1600.0,3919.0,2069.0,2979.0,1999.0,2632.0,2826.0,7115.0,2372.0,2000.0,2589.0,1964.0,2000.0,2300.0,5639.0,2690.0,4000.0,3373.0,1975.0,1893.0,2309.0,3049.0,2758.0,1577.0,7138.0,2615.0,2693.0,2252.0,7946.0,1800.0,2213.0,2000.0,1866.0,2004.0,5240.0,1423.0,1978.0,3006.0,2416.0,24646.0,1805.0,3880.0,7173.0,1986.0,1860.0,1819.0,2216.0,3491.0,3246.0,8609.0,2579.0,2163.0,2531.0,5300.0,1949.0,1500.0,5964.0,1850.0,3209.0,4247.0,11084.0,1980.0,1864.0,2075.0,4992.0,2103.0,2481.0,1900.0,6383.0,11228.0,2885.0,2558.0,2412.0,2211.0,2674.0,2746.0,2189.0,3051.0,1859.0,2305.0,1801.0,2339.0,4038.9999999999995,2204.0,6520.0,7509.0,5204.0,1887.0,2148.0,1760.0,2189.0,4784.0,3408.0,1780.0,2881.0,5215.0,4455.0,1787.0,2507.0,2105.0,1595.0,3939.0,2162.0,1685.0,2133.0,1813.0,3490.0,2000.0,2843.0,2587.0,1780.0,2021.0,1902.0,2744.0,2301.0,1925.0,3820.0,2168.0,1866.0,2000.0,35172.0,2250.0,1600.0,2771.0,1860.0,4037.0,2319.0,1600.0,3700.0,3794.0,2419.0,1859.0,1990.0,1671.0,1598.0,3082.0,2224.0,2544.0,1782.0,1868.0,3182.0,3366.0,1860.0,1923.0,1730.0,4257.0,2520.0,3553.0,2500.0,1988.0,2000.0,2116.0,1868.0,4215.0,2567.0,1780.0,2571.0,1680.0,2657.0,2070.0,1718.0,4480.0,2982.0,2500.0,11950.0,1900.0,2200.0,1960.0,2138.0,4105.0,2553.0,1562.0,1863.0,1800.0,1856.0,1774.0,1600.0,6600.0,5436.0,1590.0,1309.0,2608.0,1903.0,2138.0,2300.0,3313.0,1906.0,2035.0000000000002,2746.0,2358.0,4440.0,2190.0,1773.0,1785.0,2013.9999999999998,6361.0,2906.0,1990.0,2747.0,2382.0,5643.0,3309.0,2700.0,2770.0,2100.0,5251.0,9425.0,3506.0,2093.0,1734.0,1773.0,2742.0,3000.0,1800.0,5617.0,1901.0,1785.0,4676.0,2452.0,1924.0,2121.0,3551.0,7476.0,14798.0,1600.0,5239.0,2065.0,2126.0,2009.9999999999998,4644.0,1693.0,2501.0,2668.0,2328.0,3002.0,5709.0,11535.0,2029.0,2270.0,2500.0,2358.0,4492.0,1987.0,1925.0,2400.0,4368.0,1695.0,1850.0,3120.0,1584.0,2500.0,2001.0,2581.0,2200.0,1850.0,2911.0,2500.0,2050.0,1800.0,1518.0,2654.0,5144.0,860000.0,3713.0,2174.0,3202.0,1726.0,6346.0,2372.0,17926.0,1680.0,2037.0,2462.0,1605.0,4386.0,2454.0,3255.0,6422.0,11255.0,2124.0,1849.0,1724.0,1680.0,2363.0,2414.0,1650.0,2158.0,2188.0,5475.0,1716.0,2206.0,5271.0,8731.0,6355.0,3753.0,1721.0,1437.0,4027.0,2811.0,2909.0,2179.0,1600.0,3200.0,1950.0,3100.0,4924.0,null,1645.0,3701.0,2353.0,1812.0,7134.0,2158.0,1881.0,1823.0,4571.0,1530.0,3658.0,2734.0,1635.0,null,2586.0,5365.0,1906.0,2050.0,3962.0,2887.0,2316.0,2800.0,2345.0,3166.0,2118.0,2089.0,2050.0,2671.0,2213.0,5157.0,5701.0,11328.0,2393.0,2694.0,1780.0,3000.0,5097.0,2300.0,1436.0,1807.0,3206.0,5084.0,1747.0,1710.0,1600.0,2380.0,1619.0,1800.0,1715.0,1860.0,1578.0,1773.0,3500.0,1758.0,3312.0,1702.0,2624.0,6245.0,2652.0,5198.0,3028.0,2156.0,2358.0,5442.0,1890.0,1780.0,5874.0,1780.0,3860.0,2200.0,6895.0,2462.0,1868.0,2647.0,1770.0,4124.0,2037.0,1959.0,3462.0,5717.0,3429.0,1876.0,1863.0,1644.0,1740.0,1651.0,12322.0,2323.0,2651.0,2231.0,1600.0,1596.0,3769.0,4367.0,3939.0,1982.0,4580.0,3046.0,1850.0,3675.0,2606.0,2148.0,1479.0,1800.0,1679.0,4289.0,1921.0,5854.0,4661.0,1800.0,1600.0,2269.0,2825.0,7279.0,1904.0,2305.0,1800.0,10748.0,3030.0,2621.0,3528.0,2642.0,1911.0,2964.0,7591.0,1861.0,2041.9999999999998,1700.0,1870.0,4621.0,2378.0,2397.0,2686.0,3500.0,4389.0,5403.0,2453.0,2908.0,2437.0,2733.0,3801.0,2363.0,1886.0,4174.0,1805.0,4821.0,2000.0,1780.0,1598.0,3034.0,1601.0,2287.0,1629.0,1917.0,2499.0,2680.0,1780.0,2485.0,2547.0,5942.0,1959.0,2647.0,3464.0,1900.0,2340.0,1600.0,2278.0,1751.0,1680.0,2052.0,2172.0,1680.0,2287.0,3063.0,1770.0,2187.0,1787.0,2508.0,3000.0,2606.0,3216.0,6894.0,2585.0,1887.0,4294.0,1902.0,5199.0,2090.0,2530.0,6540.0,1850.0,1600.0,3100.0,1780.0,2439.0,2420.0,7149.0,3758.0,1670.0,3350.0,2000.0,3040.0,1650.0,2304.0,2299.0,2428.0,1912.0,1781.0,3862.0,12387.0,1665.0,2475.0,2372.0,1788.0,1320.0,7827.0,1800.0,1700.0,1994.0,2364.0,2960.0,1680.0,1680.0,2049.0,15910.0,2741.0,3286.0,4623.0,2745.0,2085.0,2001.0,6448.0,2000.0,1780.0,1904.0,2700.0,3392.0,3011.0,7161.0,1380.0,2827.0,null,2150.0,2878.0,3214.0,1627.0,1930.0,6239.0,4093.0,6668.0,1802.0,1600.0,1777.0,4143.0,1850.0,2907.0,2195.0,2200.0,2582.0,2278.0,2500.0,2147.0,1584.0,2482.0,3403.0,7194.0,2000.0,2001.0,1868.0,2342.0,3357.0,2400.0,1923.0,8809.0,7132.0,2370.0,1727.0,2147.0,1776.0,4685.0,5300.0,1840.0,4153.0,2595.0,2000.0,2127.0,1909.0,2068.0,2565.0,1526.0,2140.0,38539.0,1952.0,2921.0,3410.0,1800.0,2337.0,5738.0,1974.0,4467.0,4334.0,2757.0,2134.0,3761.0,1859.0,2029.9999999999998,2715.0,1780.0,1820.0,1721.0,4148.0,2204.0,2134.0,5245.0,3079.0,2538.0,2154.0,3501.0,3832.0,2911.0,2552.0,8261.0,5306.0,2181.0,3289.0,1787.0,1850.0,2000.0,2232.0,8150.0,1600.0,1417.0,2000.0,3411.0,3554.0,2227.0,1950.0,3549.0,1707.0,2386.0,1978.0,2202.0,3739.0,1860.0,2401.0,5539.0,2280.0,1925.0,2100.0,2100.0,2774.0,4298.0,1832.0,2005.9999999999998,2574.0,1650.0,4269.0,null,1780.0,2230.0,2772.0,2212.0,1682.0,3784.0,1842.0,1877.0,4492.0,5697.0,5573.0,4000.0,3267.0,4393.0,2204.0,2888.0,1958.0,3000.0,1950.0,2198.0,2132.0,1734.0,1847.0,2000.0,7429.0,2450.0,2422.0,1869.0,2273.0,3795.0,1833.0,2047.0000000000002,1886.0,2943.0,2425.0,1778.0,2817.0,2406.0,2339.0,2956.0,2308.0,1864.0,2194.0,2000.0,1780.0,2064.0,1703.0,1525.0,2791.0,2658.0,1902.0,2074.0,1924.0,7326.0,1507.0,4473.0,5990.0,1765.0,2230.0,2471.0,1950.0,2000.0,1511.0,4522.0,1868.0,4137.0,2021.9999999999998,1529.0,1786.0,2033.9999999999998,3152.0,3374.0,1600.0,2655.0,1868.0,1640.0,4339.0,2050.0,2481.0,2000.0,3760.0,1785.0,1900.0,3308.0,6117.0,2050.0,3425.0,1600.0,1977.0,1593.0,3895.0,2564.0,1780.0,3242.0,2902.0,5253.0,2242.0,2100.0,2617.0,5017.0,2786.0,2199.0,9870.0,2104.0,2802.0,2161.0,2535.0,1788.0,2558.0,4231.0,3346.0,2201.0,5200.0,1975.0,3759.0,1728.0,3927.0,3590.0,3530.0,4386.0,2009.9999999999998,1205.0,2342.0,2051.0,1536.0,1865.0,2229.0,2258.0,2201.0,2000.0,3382.0,3756.0,2500.0,2013.0,4230.0,4002.0,4441.0,2143.0,2033.9999999999998,1773.0,6649.0,3689.0,1600.0,1907.0,1900.0,2500.0,2600.0,1824.0,2041.0,1928.0,1600.0,2174.0,1597.0,2057.0,2121.0,2100.0,1761.0,1878.0,4593.0,2151.0,4783.0,4019.0,1780.0,1910.0,3301.0,2664.0,2143.0,2909.0,3918.0,1650.0,1322.0,2344.0,3102.0,2150.0,2253.0,4878.0,4836.0,1657.0,2754.0,1760.0,2102.0,2403.0,5444.0,3500.0,3677.0,3022.0,1591.0,2266.0,3777.0,3010.0,3469.0,11542.0,1778.0,1555.0,4077.0,3600.0,1460.0,2127.0,2094.0,1643.0,2703.0,1867.0,2843.0,1648.0,1771.0,4982.0,1980.0,3712.0,1780.0,3467.0,2162.0,2300.0,9190.0,3818.0,1775.0,2546.0,2323.0,2228.0,1618.0,1860.0,1660.0,2100.0,1700.0,2768.0,1950.0,2540.0,2300.0,1823.0,3762.0,2757.0,3228.0,4624.0,2041.9999999999998,4123.0,2179.0,1783.0,1868.0,1662.0,4225.0,2004.0,6185.0,3408.0,1867.0,8457.0,1820.0,2584.0,1780.0,1650.0,2606.0,7357.0,1986.0,2655.0,3205.0,1920.0,3232.0,5381.0,2187.0,1865.0,1780.0,1944.0,2000.0,4711.0,10200.0,2650.0,1876.0,6324.0,null,1796.0,2661.0,null,2050.0,3283.0,2387.0,2180.0,2382.0,3359.0,6519.0,3701.0,4000.0,2037.9999999999998,2234.0,2000.0,1853.0,4180.0,5208.0,5712.0,2564.0,1751.0,6993.0,2216.0,2090.0,2655.0,1467.0,1600.0,4026.0,3230.0,1571.0,2192.0,3437.0,2542.0,1860.0,1688.0,8208.0,2131.0,1812.0,3422.0,2622.0,2119.0,6595.0,1865.0,5000.0,3000.0,1700.0,3412.0,1700.0,2463.0,2354.0,1769.0,2333.0,2160.0,2315.0,5640.0,2257.0,2134.0,2612.0,1944.0,3064.0,2100.0,1993.0,2200.0,1655.0,2200.0,1686.0,3699.0,2970.0,11529.0,2126.0,1868.0,4500.0,2600.0,2121.0,1800.0,1762.0,1731.0,1715.0,2000.0,4800.0,2023.0000000000002,2460.0,1783.0,1924.0,2344.0,3353.0,4404.0,1998.0,1829.0,1727.0,3000.0,4700.0,1197.0,18654.0,2853.0,1593.0,2501.0,1733.0,6542.0,2461.0,3343.0,2799.0,1758.0,3240.0,4268.0,2370.0,3567.0,2201.0,3107.0,4887.0,3095.0,2029.0,2200.0,1868.0,2480.0,1829.0,1800.0,2848.0,2314.0,1597.0,1670.0,2796.0,2200.0,4235.0,2660.0,2272.0,8368.0,9167.0,1041.0,2400.0,1600.0,3502.0,4575.0,2422.0,2212.0,2000.0,1868.0,2077.0,2200.0,2656.0,1844.0,2608.0,8045.0,2121.0,1868.0,1799.0,9047.0,1930.0,1850.0,2500.0,1739.0,1409.0,3487.0,2025.0,3315.0,2312.0,2872.0,1719.0,2856.0,1370.0,3520.0,1743.0,2300.0,3066.0,2179.0,3602.0,1057.0,2400.0,2355.0,2618.0,2371.0,2135.0,1366.0,1665.0,3073.0,1600.0,1785.0,1878.0,1800.0,1830.0,1931.0,1944.0,3802.0,7612.0,7379.0,1680.0,3000.0,8556.0,1800.0,2338.0,2618.0,2529.0,2200.0,2563.0,1719.0,3144.0,3703.0,2345.0,2084.0,2992.0,2991.0,2476.0,3412.0,2521.0,2084.0,1723.0,3283.0,3818.0,2218.0,2545.0,1952.0,6661.0,2996.0,1618.0,1868.0,1984.0,3830.0,2719.0,1646.0,4200.0,1778.0,2416.0,2033.9999999999998,1660.0,1092.0,1963.0,1805.0,1602.0,2447.0,2102.0,2000.0,2150.0,2833.0,1700.0,2045.0,4024.0,1857.0,2232.0,2561.0,4476.0,1988.0,2661.0,2563.0,1680.0,5689.0,1604.0,5611.0,1861.0,3043.0,3264.0,4134.0,3933.0,1705.0,2287.0,2000.0,1499.0,2261.0,1762.0,2517.0,2650.0,3498.0,1488.0,1231.0,1510.0,2663.0,2019.0000000000002,1824.0,1880.0,1860.0,3200.0,1700.0,1772.0,2608.0,1612.0,3258.0,1680.0,2000.0,2000.0,1680.0,4300.0,2112.0,2013.9999999999998,2236.0,2672.0,1969.0,2024.0,3151.0,5325.0,1816.0,3202.0,2178.0,2182.0,2241.0,5786.0,2000.0,2029.9999999999998,1860.0,1868.0,7001.0,2000.0,3000.0,2970.0,1737.0,4695.0,3568.0,2350.0,2246.0,2004.0,2223.0,1861.0,2000.0,1680.0,2322.0,1861.0,1998.0,2233.0,1862.0,4243.0,1780.0,2000.0,2854.0,2131.0,22501.0,2100.0,1945.0,14418.0,5143.0,2900.0,32692.0,1868.0,2051.0,2394.0,4875.0,1646.0,2915.0,2050.0,1622.0,3786.0,2653.0,3041.0,1994.0,1599.0,1860.0,1790.0,2300.0,6389.0,2000.0,4570.0,2100.0,2200.0,2080.0,3321.0,3427.0,2178.0,2200.0,1786.0,1801.0,1780.0,1600.0,3179.0,2126.0,1858.0,1850.0,1843.0,1787.0,1949.0,1959.0,3050.0,2584.0,6458.0,2300.0,7057.0,2270.0,5078.0,4122.0,1868.0,2500.0,2851.0,1718.0,1790.0,3918.0,2300.0,2200.0,2637.0,2491.0,2538.0,1511.0,3173.0,2158.0,1718.0,1722.0,3041.0,2096.0,2777.0,4849.0,2596.0,7230.0,2200.0,2365.0,4942.0,1874.0,2124.0,2041.0,2601.0,1734.0,2275.0,2032.0,2610.0,1650.0,2056.0,3547.0,2029.9999999999998,2535.0,5184.0,3763.0,2434.0,2182.0,6671.0,1929.0,5246.0,1750.0,4500.0,4098.0,2360.0,5243.0,1837.0,3374.0,3778.0,9643.0,1787.0,2152.0,1877.0,4410.0,2497.0,2000.0,1710.0,4360.0,3753.0,6132.0,6966.0,3800.0,1863.0,1910.0,2174.0,1864.0,1742.0,2269.0,2606.0,2376.0,4290.0,1819.0,1787.0,1775.0,1777.0,2144.0,1859.0,3420.0,1860.0,1600.0,2210.0,1336.0,1723.0,6134.0,2152.0,1900.0,3584.0,1880.0,2855.0,1860.0,2600.0,3420.0,3174.0,6834.0,1900.0,1979.0,2609.0,4520.0,2397.0,3260.0,3184.0,2176.0,4081.0000000000005,1782.0,5911.0,3080.0,2675.0,3076.0,2958.0,4335.0,1660.0,2092.0,2185.0,5970.0,1868.0,1548.0,2502.0,1604.0,5425.0,5271.0,3867.0,2136.0,3124.0,2017.9999999999998,2358.0,1607.0,2651.0,1768.0,1900.0,3837.0,12180.0,2300.0,2098.0,2674.0,3500.0,1820.0,3910.0,2196.0,3300.0,2089.0,2427.0,2503.0,2047.0000000000002,3500.0,6460.0,6852.0,4290.0,1820.0,2074.0,1605.0,5942.0,4030.9999999999995,2013.0,5673.0,32152.0,3915.0,1866.0,1704.0,2357.0,4766.0,2394.0,1785.0,3441.0,8475.0,10371.0,4166.0,4727.0,1858.0,1780.0,2663.0,3945.0,1868.0,2021.0,1700.0,2031.0000000000002,2485.0,2300.0,3908.0,2009.0,1999.0,1355.0,5803.0,2684.0,1776.0,1736.0,3545.0,2300.0,4951.0,2500.0,2796.0,4816.0,1991.0,2094.0,1600.0,2224.0,2372.0,4199.0,3390.0,2657.0,2600.0,5920.0,2731.0,3758.0,2720.0,1867.0,2008.0,1806.0,2971.0,1889.0,2094.0,4312.0,1750.0,3284.0,1900.0,1769.0,4933.0,1405.0,2966.0,6264.0,2305.0,1650.0,2265.0,2710.0,1680.0,3364.0,3569.0,2167.0,4120.0,2503.0,3620.0,5455.0,1788.0,8346.0,7443.0,5123.0,1835.0,2500.0,1780.0,1911.0,3358.0,2156.0,4970.0,2500.0,1886.0,3209.0,2306.0,1850.0,5190.0,2640.0,2000.0,4304.0,3126.0,null,3061.0,2061.0,1914.0,1600.0,1601.0,4803.0,2341.0,2697.0,2733.0,1925.0,2603.0,1012.0,2893.0,2824.0,2325.0,3451.0,3747.0,2954.0,2927.0,2466.0,2637.0,1741.0,1937.0,1904.0,2097.0,1914.0,4111.0,3776.0,3785.0,3828.0,2005.0,3109.0,2788.0,3139.0,2831.0,2294.0,1522.0,4066.0,2502.0,18055.0,3500.0,2303.0,1882.0,1680.0,6631.0,3230.0,1589.0,5412.0,2449.0,1843.0,2588.0,2988.0,1740.0,2728.0,1702.0,1790.0,2421.0,15548.0,2897.0,2000.0,2388.0,2695.0,3413.0,2389.0,2362.0,1735.0,6160.0,1921.0,8066.000000000001,1448.0,2380.0,2350.0,4080.0,2590.0,2766.0,2294.0,1788.0,1600.0,3798.0,3402.0,1778.0,2800.0,2401.0,1896.0,8180.999999999999,1892.0,2717.0,2209.0,2928.0,2323.0,6355.0,2475.0,3062.0,3446.0,3452.0,2661.0,2496.0,3200.0,2402.0,2150.0,4319.0,2052.0,3547.0,1600.0,6414.0,3016.0,2723.0,6321.0,3500.0,3064.0,2251.0,1750.0,1600.0,1560.0,4715.0,3744.0,2387.0,1697.0,4962.0,1760.0,3170.0,4489.0,2552.0,2576.0,2465.0,2045.9999999999998,1994.0,2388.0,2300.0,1611.0,2111.0,3231.0,2037.9999999999998,2103.0,1650.0,3193.0,3274.0,1962.0,2092.0,2271.0,1957.0,3590.0,2134.0,6057.0,3826.0,5457.0,2439.0,3484.0,1750.0,1202.0,1700.0,2158.0,2303.0,1780.0,2370.0,1874.0,4857.0,3084.0,2700.0,2187.0,1230.0,6009.0,2168.0,4914.0,1860.0,2176.0,2324.0,2150.0,1950.0,1873.0,2365.0,3316.0,3500.0,3426.0,1950.0,3082.0,2527.0,2300.0,8316.0,1800.0,1655.0,4804.0,6925.0,1688.0,2080.0,null,2050.0,15427.0,4762.0,1678.0,2836.0,3223.0,1867.0,2174.0,2290.0,4362.0,5122.0,5988.0,2434.0,2118.0,11539.0,4397.0,12542.0,1860.0,2519.0,2154.0,5289.0,1800.0,2053.0,1861.0,3714.0,6500.0,1897.0,1676.0,1728.0,2518.0,4925.0,1877.0,2227.0,1641.0,1650.0,1900.0,4113.0,4928.0,1599.0,1836.0,3427.0,1832.0,2554.0,3279.0,3188.0,2073.0,9718.0,2253.0,1989.0,6732.0,1504.0,2009.9999999999998,4174.0,1850.0,3559.0,1760.0,2130.0,3545.0,2582.0,1900.0,2200.0,2123.0,5240.0,1894.0,1600.0,3022.0,3239.0,2004.0,5043.0,5741.0,1690.0,3453.0,1800.0,3405.0,4744.0,2145.0,2282.0,2959.0,1930.0,1698.0,2900.0,2511.0,1760.0,3101.0,1936.0,1678.0,5000.0,1515.0,2920.0,4237.0,1562.0,2800.0,5654.0,8536.0,4451.0,1880.0,1600.0,2546.0,1780.0,2258.0,2142.0,5628.0,4338.0,1598.0,2710.0,6835.0,2694.0,3402.0,1875.0,1874.0,5737.0,1780.0,1875.0,3174.0,1800.0,1501.0,5730.0,1670.0,2400.0,989000.0,4291.0,1941.0,null,1914.0,3175.0,1878.0,2769.0,1779.0,1780.0,5640.0,2146.0,3439.0,2750.0,1530.0,2491.0,2459.0,1872.0,2541.0,2665.0,3382.0,1600.0,6780.0,2063.0,6899.0,1800.0,2304.0,null,1700.0,2555.0,2210.0,1524.0,2025.0,6563.0,1601.0,1583.0,1551.0,2008.0,1770.0,2682.0,2798.0,1860.0,2818.0,1913.0,2000.0,2000.0,1600.0,2080.0,7006.0,1977.0,7198.0,4576.0,1587.0,3697.0,6500.0,2100.0,1850.0,2849.0,2393.0,4869.0,5156.0,4446.0,2354.0,1915.0,1588.0,1955.0,2200.0,1582.0,3823.0,2658.0,1880.0,1867.0,1750.0,4135.0,1838.0,6537.0,10926.0,1662.0,1782.0,6316.0,2347.0,1787.0,1002.9999999999999,2175.0,1779.0,1613.0,2441.0,2654.0,2807.0,2523.0,null,1383.0,2887.0,2400.0,2103.0,2518.0,1100.0,5635.0,2424.0,2880.0,2934.0,3594.0,3721.0,1600.0,2104.0,2259.0,7859.0,2089.0,2146.0,2300.0,2376.0,4565.0,2734.0,2119.0,1555.0,1780.0,2262.0,10228.0,2524.0,2330.0,6586.0,1758.0,6859.0,2540.0,1866.0,3500.0,3110.0,1906.0,4581.0,2401.0,12208.0,1178.0,1650.0,3251.0,1522.0,2362.0,4367.0,1812.0,2500.0,3229.0,1494.0,2096.0,3078.0,1986.0,1751.0,1872.0,2750.0,2451.0,4294.0,2100.0,1747.0,2288.0,3172.0,1780.0,1554.0,2170.0,1829.0,1594.0,1857.0,2501.0,1670.0,1458.0,3098.0,2277.0,12417.0,1712.0,5683.0,3508.0,2219.0,2362.0,8500.0,2551.0,1800.0,15239.0,3596.0,2616.0,2912.0,2279.0,1700.0,1842.0,1670.0,2358.0,1787.0,2296.0,4707.0,2770.0,2186.0,3115.0,3858.0,2066.0,1610.0,1600.0,3222.0,2683.0,2017.9999999999998,1880.0,1859.0,4178.0,1787.0,2959.0,1778.0,1740.0,5001.0,4973.0,1700.0,1860.0,2430.0,2293.0,7661.0,1800.0,2571.0,2569.0,3729.0,2075.0,1802.0,2100.0,1706.0,8972.0,10562.0,6933.0,1592.0,1535.0,5561.0,1966.0,2300.0,3454.0,1741.0,2518.0,595000.0,4329.0,2206.0,4170.0,2000.0,4713.0,4442.0,2566.0,2408.0,1860.0,1778.0,3656.0,2817.0,4255.0,57051.0,1800.0,2524.0,1600.0,2162.0,1765.0,3937.0,3372.0,2974.0,2522.0,1944.0,2080.0,2138.0,7000.0,1887.0,4343.0,2440.0,1680.0,2523.0,2470.0,2869.0,1937.0,1910.0,1837.0,3451.0,3619.0,2098.0,1978.0,1766.0,1780.0,2799.0,1689.0,10261.0,2199.0,null,2484.0,6619.0,2265.0,4425.0,3855.0,2320.0,1899.0,2289.0,4840.0,2788.0,1854.0,2460.0,6864.0,2538.0,1965.0,1251.0,1758.0,1659.0,2249.0,2290.0,5779.0,3800.0,1683.0,3188.0,2587.0,2283.0,4111.0,2699.0,1600.0,1778.0,1992.0,2373.0,2945.0,2647.0,2546.0,2400.0,4712.0,3171.0,1950.0,7271.0,3091.0,1868.0,1908.0,2100.0,2800.0,1580.0,1780.0,1671.0,1563.0,1736.0,2236.0,2672.0,1472.0,2902.0,7836.0,4640.0,3000.0,2296.0,8148.999999999999,2614.0,13009.0,2197.0,2629.0,2611.0,2000.0,1750.0,1950.0,4486.0,1780.0,1465.0,1920.0,2381.0,2832.0,3677.0,2700.0,1637.0,3157.0,3095.0,1787.0,1850.0,3796.0,3279.0,2350.0,8918.0,6921.0,1248.0,1868.0,1844.0,1726.0,2184.0,2848.0,1600.0,1942.0,2041.0,4256.0,2334.0,2506.0,1829.0,2200.0,2444.0,1860.0,3430.0,2201.0,2202.0,2058.0,1950.0,1865.0,3770.0,2017.0,1867.0,13068.0,1710.0,1948.0,1700.0,2250.0,1981.0,2160.0,3097.0,1900.0,3941.0,1780.0,1600.0,2916.0,2100.0,1850.0,5861.0,2000.0,1522.0,3750.0,2162.0,2045.0,1785.0,3100.0,6699.0,1710.0,1618.0,2336.0,1235.0,3059.0,2341.0,1939.0,2884.0,2123.0,19419.0,1865.0,2969.0,1676.0,2000.0,1760.0,2097.0,2028.0,3190.0,2343.0,2000.0,1750.0,3023.0,11571.0,2883.0,2561.0,1811.0,2669.0,4807.0,8606.0,6358.0,2230.0,1527.0,1662.0,1814.0,1851.0,1960.0,2176.0,10825.0,2898.0,2359.0,2297.0,1787.0,1871.0,5036.0,1238.0,4989.0,2565.0,4234.0,1865.0,6191.0,2733.0,1720.0,1518.0,2059.0,2745.0,4870.0,9401.0,1896.0,9004.0,3682.0,1596.0,2033.9999999999998,1777.0,3558.0,2834.0,10210.0,2581.0,6487.0,1707.0,4130.0,1674.0,1780.0,1650.0,1787.0,6698.0,3000.0,1857.0,2244.0,12685.0,2631.0,2001.9999999999998,2400.0,1750.0,1702.0,5015.0,2382.0,2302.0,6172.0,3276.0,1982.0,2110.0,2000.0,3065.0,4992.0,2974.0,3981.0,2100.0,1611.0,1924.0,2036.0,3581.0,1732.0,2569.0,3331.0,2200.0,1785.0,1600.0,2045.9999999999998,3400.0,2158.0,2675.0,1658.0,2620.0,2590.0,2756.0,1900.0,1707.0,2000.0,4524.0,1825.0,2547.0,4054.9999999999995,1750.0,2377.0,2255.0,9416.0,1666.0,3766.0,1865.0,1787.0,2017.9999999999998,2052.0,1680.0,2917.0,1747.0,2899.0,1850.0,2091.0,1975.0,1595.0,1850.0,2768.0,2763.0,8489.0,2951.0,2100.0,12592.0,2441.0,2029.0,1680.0,2000.0,2416.0,2745.0,4957.0,1899.0,2364.0,3009.0,3799.0,5994.0,1700.0,9456.0,2140.0,1900.0,2266.0,4418.0,3591.0,2342.0,1840.0,1930.0,2573.0,2090.0,1847.0,1610.0,5118.0,4230.0,1997.0,1772.0,1600.0,3669.0,2043.0000000000002,10277.0,2192.0,2029.9999999999998,1943.0,1613.0,3002.0,1651.0,2234.0,11000.0,5727.0,3049.0,1528.0,1969.0,1773.0,2627.0,2153.0,1780.0,2609.0,19341.0,12106.0,3066.0,3489.0,1860.0,1860.0,1845.0,2350.0,3842.0,2903.0,1652.0,1600.0,2189.0,16027.000000000002,2029.9999999999998,2170.0,2000.0,1766.0,2435.0,1660.0,3138.0,2800.0,3582.0,2100.0,5387.0,3764.0,12297.0,1564.0,4279.0,2104.0,1450.0,1651.0,1976.0,1977.0,2156.0,2000.0,10000.0,1923.0,1818.0,6096.0,2500.0,2792.0,1580.0,1734.0,1998.0,2607.0,4086.9999999999995,3901.0,4907.0,1850.0,1372.0,3287.0,1638.0,3330.0,2447.0,1791.0,2068.0,2300.0,1860.0,15624.0,1865.0,5675.0,3392.0,2000.0,1985.0,1887.0,1757.0,1684.0,3649.0,1867.0,2785.0,1850.0,2100.0,5542.0,2360.0,1920.0,3046.0,2416.0,1678.0,2594.0,6051.0,1856.0,2133.0,2379.0,1501.0,1884.0,15773.0,9590.0,2200.0,2860.0,2357.0,2385.0,2325.0,2000.0,15963.0,3888.0,2361.0,2749.0,1822.0,2653.0,2189.0,1630.0,1672.0,7148.0,1762.0,4129.0,2661.0,3046.0,997000.0,3382.0,1909.0,3989.0,1680.0,1766.0,2326.0,4395.0,2896.0,4226.0,2807.0,3718.0,1960.0,1752.0,2200.0,2296.0,1651.0,1921.0,2313.0,2207.0,1780.0,1742.0,2050.0,1942.0,2352.0,4465.0,4067.9999999999995,2083.0,1600.0,2375.0,2592.0,2300.0,1800.0,2877.0,4700.0,2500.0,2142.0,1913.0,5100.0,3396.0,3135.0,1547.0,1785.0,1868.0,2522.0,2640.0,3563.0,7460.0,2113.0,3300.0,3577.0,2693.0,1682.0,1641.0,2359.0,4308.0,3996.0,2536.0,4998.0,2980.0,2766.0,2918.0,3893.0,2745.0,2244.0,14910.0,3086.0,2366.0,1596.0,2236.0,1800.0,3434.0,3135.0,2852.0,2352.0,2785.0,1600.0,1800.0,2025.9999999999998,2050.0,1940.0,6364.0,2195.0,2250.0,6565.0,2820.0,1799.0,3759.0,1600.0,2035.0000000000002,5047.0,2660.0,2843.0,2555.0,5797.0,5208.0,1945.0,4310.0,5450.0,4973.0,4465.0,2060.0,2607.0,3092.0,2657.0,1865.0,1911.0,2100.0,1680.0,1800.0,3948.0,4035.9999999999995,3052.0,2237.0,3079.0,3051.0,2273.0,3625.0,1816.0,2866.0,1900.0,4966.0,2459.0,2301.0,3164.0,2052.0,8688.0,1565.0,2253.0,6140.0,1800.0,2792.0,2244.0,1781.0,1905.0,2123.0,3418.0,4190.0,1573.0,1848.0,8909.0,1912.0,2693.0,1780.0,4357.0,2011.0000000000002,1740.0,1868.0,2429.0,1981.0,1600.0,10000.0,2864.0,4343.0,1787.0,1713.0,2145.0,1900.0,5984.0,1900.0,1842.0,2100.0,4470.0,3554.0,4026.0,2385.0,3008.0,1938.0,3370.0,1529.0,8800.0,2976.0,10715.0,2207.0,3530.0,3484.0,2291.0,1863.0,2426.0,1725.0,2000.0,2008.0,31335.0,1909.0,1675.0,2137.0,1833.0,2024.0,3232.0,2310.0,1934.0,10625.0,2884.0,4944.0,2078.0,2163.0,1987.0,4466.0,2400.0,3096.0,2003.0,1858.0,7091.0,2575.0,5687.0,1770.0,5458.0,1881.0,12217.0,2300.0,5436.0,1716.0,2087.0,1787.0,2214.0,2146.0,3383.0,6059.0,2107.0,4744.0,2539.0,2503.0,2519.0,2433.0,3444.0,3578.0,2500.0,1860.0,1780.0,1950.0,4871.0,2246.0,2952.0,2263.0,4176.0,1800.0,1599.0,1724.0,1860.0,3600.0,2660.0,2420.0,1823.0,1771.0,16397.0,1887.0,7005.0,2050.0,2037.0,1912.0,4752.0,2088.0,1599.0,2707.0,1264.0,2180.0,1947.0,3000.0,1428.0,1600.0,1955.0,2099.0,5572.0,2607.0,2452.0,1909.0,2815.0,2542.0,2929.0,8742.0,1885.0,2152.0,1681.0,2235.0,3714.0,1386.0,2000.0,2793.0,5000.0,1801.0,1759.0,1868.0,1948.0,5440.0,2100.0,1630.0,2198.0,1865.0,2428.0,1750.0,7031.0,4393.0,2687.0,1680.0,7921.0,1963.0,3197.0,2021.0,1783.0,1787.0,3568.0,2205.0,2152.0,1820.0,2227.0,1844.0,1719.0,1962.0,9964.0,1600.0,5781.0,3055.0,9042.0,1641.0,3283.0,1935.0,5854.0,3205.0,3701.0,5000.0,1794.0,1950.0,2600.0,1549.0,2361.0,7472.0,1610.0,3609.0,2110.0,3479.0,5745.0,8386.0,2041.9999999999998,4040.0,2454.0,1950.0,1800.0,1824.0,1900.0,1934.0,2594.0,4849.0,3868.0,3329.0,2169.0,2929.0,1860.0,2048.0,1868.0,1865.0,4528.0,3844.0,5082.0,2342.0,4715.0,2231.0,2120.0,2822.0,3780.0,2728.0,1770.0,1914.0,5359.0,3995.0,1600.0,1770.0,7776.0,1924.0,1780.0,2378.0,2391.0,5202.0,3866.0,1874.0,1668.0,1600.0,2171.0,4126.0,2313.0,1865.0,2556.0,1876.0,2020.0,1802.0,1602.0,1950.0,4214.0,2400.0,1600.0,1941.0,2137.0,1917.0,2090.0,3595.0,2479.0,4320.0,1860.0,14282.0,1448.0,2267.0,2118.0,5196.0,3285.0,2592.0,2340.0,1351.0,4319.0,4777.0,2411.0,1665.0,8459.0,3500.0,2202.0,2167.0,2480.0,1783.0,3651.0,2144.0,1601.0,1842.0,1700.0,2969.0,4508.0,4471.0,2742.0,1700.0,2523.0,2285.0,3906.0,2240.0,1718.0,2841.0,2193.0,1910.0,1854.0,1562.0,2267.0,5500.0,2105.0,2463.0,2438.0,1810.0,2150.0,1816.0,3556.0,4500.0,2550.0,1771.0,1785.0,1780.0,2055.0,2500.0,2905.0,5761.0,2186.0,6966.0,15759.0,2818.0,3152.0,2540.0,1944.0,2000.0,2200.0,2294.0,3946.0,2275.0,1890.0,1704.0,4575.0,6196.0,2119.0,1916.0,2053.0,9308.0,3305.0,1896.0,4477.0,2119.0,5195.0,1500.0,2000.0,1987.0,3037.0,6242.0,9355.0,2460.0,2621.0,1900.0,1722.0,1947.0,2240.0,5475.0,2880.0,3067.0,1784.0,1779.0,2739.0,2051.0,2500.0,1868.0,1976.0,2944.0,5302.0,4791.0,5536.0,11848.0,7307.0,3317.0,2124.0,1700.0,5563.0,1600.0,2130.0,1755.0,4041.0000000000005,6619.0,2473.0,2582.0,1801.0,3578.0,1710.0,2110.0,1831.0,1600.0,3000.0,6904.0,2479.0,3561.0,2814.0,3549.0,4618.0,1864.0,1928.0,1660.0,2579.0,3015.0,1695.0,1858.0,4310.0,2355.0,1783.0,5304.0,2199.0,2109.0,3109.0,3230.0,2036.0,3418.0,6145.0,2236.0,8848.0,2326.0,2716.0,1860.0,2016.0,4862.0,1680.0,3909.0,2020.0,1800.0,2283.0,4117.0,3949.0,8735.0,1780.0,3562.0,2893.0,2139.0,2640.0,3675.0,1979.0,2020.0,1860.0,1918.0,2937.0,6516.0,2500.0,3988.0,3239.0,1780.0,2651.0,2021.9999999999998,4266.0,2728.0,2082.0,1274.0,2104.0,7226.0,2109.0,2401.0,1788.0,2885.0,4467.0,10201.0,2460.0,2381.0,3146.0,1600.0,3580.0,4676.0,1950.0,2421.0,4411.0,2347.0,2991.0,1917.0,4019.0,5831.0,2931.0,1443.0,1696.0,2776.0,1656.0,2009.9999999999998,3525.0,2395.0,2953.0,1609.0,5663.0,1512.0,1700.0,1913.0,2158.0,3518.0,3867.0,3815.0,2416.0,1938.0,2413.0,3757.0,2000.0,2984.0,6118.0,1751.0,1500.0,3862.0,1980.0,2592.0,2236.0,2001.0,1725.0,2607.0,15224.0,1695.0,6230.0,2066.0,2679.0,7706.0,1467.0,1510.0,1601.0,4054.0000000000005,1854.0,6000.0,1780.0,4147.0,4360.0,1729.0,6289.0,1763.0,1961.0,2523.0,4367.0,1753.0,2735.0,2100.0,2357.0,1589.0,2962.0,2135.0,2050.0,4401.0,1839.0,2236.0,2714.0,4710.0,2335.0,2300.0,1763.0,1601.0,5596.0,1787.0,2048.0,3261.0,1680.0,3312.0,1788.0,1600.0,1969.0,2105.0,1704.0,2071.0,4853.0,2497.0,2217.0,3599.0,2576.0,4639.0,14391.0,2112.0,2300.0,2403.0,1865.0,6342.0,2755.0,1600.0,2652.0,2499.0,3772.0,1946.0,1979.0,4109.0,2124.0,2900.0,5729.0,7198.0,9450.0,5500.0,4467.0,2058.0,7991.0,1800.0,1752.0,2300.0,2324.0,2313.0,2342.0,1906.0,2062.0,3584.0,7768.0,2500.0,2646.0,2045.9999999999998,3000.0,2228.0,1680.0,2150.0,1600.0,1951.0,3718.0,10207.0,1831.0,2222.0,7868.0,4500.0,2217.0,1977.0,6400.0,2501.0,1906.0,1636.0,3286.0,5309.0,1895.0,1800.0,6597.0,5799.0,6158.0,2976.0,3531.0,4050.0,2287.0,1750.0,2624.0,1700.0,2267.0,1656.0,2706.0,4779.0,2526.0,4495.0,4572.0,1316.0,7817.0,1850.0,4842.0,3153.0,2300.0,2438.0,1900.0,2050.0,2676.0,11936.0,1734.0,2676.0,2481.0,1698.0,4282.0,3190.0,1780.0,2238.0,3000.0,1787.0,2164.0,1970.0,1680.0,1615.0,1787.0,2283.0,1638.0,1940.0,2007.0000000000002,2314.0,27473.0,5638.0,1867.0,7092.0,2428.0,1611.0,2635.0,2525.0,1890.0,1600.0,3800.0,1860.0,2289.0,1780.0,2915.0,1963.0,2000.0,2218.0,1680.0,3288.0,2025.9999999999998,1727.0,2400.0,1940.0,2218.0,2258.0,1762.0,1787.0,2569.0,2742.0,3875.0,3472.0,2098.0,2300.0,2383.0,2700.0,1800.0,1542.0,3695.0,2000.0,2487.0,1787.0,2182.0,1780.0,1913.0,null,1806.0,1549.0,1728.0,2659.0,3500.0,1970.0,2103.0,44945.0,2298.0,3356.0,2367.0,2775.0,12025.0,4515.0,3870.0,6061.0,1759.0,1910.0,1846.0,1665.0,1785.0,4707.0,1860.0,1947.0,3232.0,1780.0,5210.0,4810.0,1862.0,5672.0,1712.0,2359.0,6241.0,3191.0,2702.0,2210.0,1864.0,12101.0,1600.0,1860.0,3388.0,2099.0,3045.0,2349.0,3479.0,3147.0,2775.0,3195.0,1618.0,2003.0,2779.0,5424.0,2120.0,1979.0,2963.0,3791.0,1649.0,2150.0,2154.0,1858.0,1860.0,2367.0,1532.0,2795.0,2000.0,1596.0,2343.0,9404.0,1751.0,2268.0,2429.0,2213.0,1974.0,2000.0,2682.0,1441.0,3061.0,5203.0,3659.0,1800.0,3035.0,1717.0,3805.0,1600.0,2503.0,2113.0,1780.0,2607.0,1858.0,2736.0,1730.0,9310.0,3471.0,2320.0,1600.0,1702.0,6107.0,4329.0,3218.0,2097.0,4600.0,5272.0,4180.0,2000.0,2155.0,6115.0,3658.0,2883.0,2153.0,1750.0,3896.0,2100.0,9536.0,3910.0,2704.0,2767.0,2505.0,2958.0,2533.0,1809.0,1679.0,2561.0,2000.0,2732.0,2000.0,5046.0,1879.0,4940.0,1698.0,2841.0,2119.0,2170.0,3963.0,2146.0,1953.0,2100.0,1996.0,3203.0,14500.0,2407.0,5460.0,4623.0,3193.0,5926.0,2000.0,2226.0,3968.0,2393.0,1899.0,4997.0,1868.0,2500.0,5230.0,2897.0,1789.0,2056.0,6226.0,3328.0,4173.0,2491.0,1574.0,1234.0,2078.0,3044.0,2392.0,1720.0,2200.0,1790.0,1890.0,1865.0,2782.0,2177.0,2733.0,1860.0,1600.0,1764.0,2377.0,1868.0,2192.0,1963.0,1964.0,3019.0,1600.0,1950.0,1999.0,2254.0,4795.0,4175.0,2023.0000000000002,2472.0,1858.0,1671.0,3022.0,1952.0,2124.0,1235.0,2074.0,3211.0,2177.0,1937.0,3254.0,3086.0,1586.0,2270.0,1995.0,2009.0,3751.0,1710.0,2041.0,8146.000000000001,2013.0,1778.0,2101.0,2528.0,2157.0,2424.0,7689.0,5000.0,1758.0,2436.0,4674.0,1800.0,2300.0,1785.0,16647.0,11797.0,5228.0,3633.0,1449.0,1845.0,4070.0000000000005,1677.0,2599.0,3030.0,1766.0,3709.0,1645.0,2500.0,2459.0,1787.0,4446.0,1817.0,10012.0,2200.0,3267.0,1904.0,2372.0,2000.0,3561.0,1501.0,1935.0,2338.0,2436.0,1990.0,2000.0,1755.0,4500.0,2000.0,3739.0,3000.0,4790.0,1860.0,1823.0,1860.0,4276.0,2212.0,1780.0,1863.0,7482.0,8756.0,3376.0,2200.0,2650.0,2967.0,2527.0,1144.0,1586.0,1606.0,1680.0,null,1992.0,3500.0,4858.0,1678.0,2529.0,1850.0,3502.0,1787.0,3542.0,1780.0,3066.0,2772.0,9361.0,1918.0,3203.0,1900.0,2037.0,2000.0,9880.0,4057.0000000000005,1680.0,5477.0,1750.0,2158.0,2189.0,2200.0,2500.0,3790.0,3433.0,2244.0,4598.0,1883.0,2109.0,3904.0,1860.0,2096.0,2080.0,2188.0,2000.0,1812.0,1860.0,2643.0,2000.0,8611.0,2540.0,1500.0,1605.0,3741.0,1781.0,3274.0,3155.0,1781.0,1910.0,1435.0,1860.0,1599.0,1898.0,2019.0000000000002,26061.0,1600.0,2184.0,3652.0,1601.0,2413.0,1787.0,3059.0,3025.0,1912.0,5453.0,2300.0,5717.0,1790.0,2461.0,3865.0,2000.0,1728.0,9833.0,2880.0,3371.0,1979.0,3500.0,2000.0,2080.0,4442.0,3795.0,4506.0,2342.0,1678.0,2250.0,3610.0,3458.0,1712.0,3825.0,2517.0,1939.0,2455.0,2502.0,1660.0,1230.0,1980.0,3381.0,2100.0,2569.0,3259.0,2597.0,1900.0,1791.0,2538.0,6849.0,2410.0,5010.0,2150.0,2124.0,4088.0,1650.0,1672.0,2300.0,1863.0,2827.0,4148.0,3083.0,2125.0,1960.0,1780.0,2919.0,2238.0,4127.0,3219.0,1860.0,6160.0,1550.0,2150.0,2850.0,2000.0,2775.0,2516.0,3791.0,2245.0,1835.0,3911.0,2100.0,1780.0,1999.0,4731.0,1700.0,4589.0,1710.0,3115.0,1987.0,2788.0,6697.0,1853.0,1654.0,4597.0,2869.0,2110.0,1786.0,2630.0,1669.0,4296.0,3894.0,2282.0,1844.0,1800.0,1982.0,6876.0,4000.0,2639.0,1488.0,2827.0,5963.0,1863.0,1620.0,2949.0,5063.0,1476.0,2607.0,4291.0,2591.0,1649.0,2429.0,4132.0,2730.0,2100.0,2316.0,7423.0,2441.0,3258.0,19669.0,2300.0,null,1921.0,1775.0,1952.0,2218.0,3667.0,2294.0,1731.0,3006.0,2335.0,2000.0,2206.0,1900.0,2145.0,2000.0,2380.0,2280.0,2581.0,3290.0,1896.0,4297.0,2500.0,4771.0,1774.0,1858.0,3588.0,1741.0,3002.0,1900.0,1971.0,4708.0,2206.0,1813.0,1639.0,2174.0,4133.0,2180.0,1860.0,1831.0,2112.0,2149.0,4960.0,2100.0,6615.0,1600.0,1788.0,5118.0,3920.0,2701.0,5777.0,2301.0,5220.0,3268.0,1777.0,2890.0,5005.0,2403.0,2000.0,1710.0,1686.0,1984.0,1675.0,4884.0,1979.0,1680.0,5888.0,1979.0,7076.0,1603.0,3200.0,3911.0,2033.9999999999998,2429.0,1785.0,2401.0,3776.0,4260.0,3669.0,1600.0,2564.0,2374.0,2273.0,8167.999999999999,1900.0,3376.0,2145.0,2462.0,2301.0,2200.0,1758.0,2956.0,1561.0,2181.0,1898.0,2582.0,3553.0,2970.0,8611.0,5987.0,4056.0,4631.0,2517.0,2570.0,1865.0,2507.0,1800.0,1302.0,1529.0,11657.0,3564.0,2501.0,1680.0,6300.0,2902.0,2009.9999999999998,1907.0,1840.0,3060.0,1800.0,1660.0,3939.0,2224.0,2759.0,5190.0,3700.0,2162.0,1984.0,3592.0,4874.0,3285.0,1864.0,3781.0,1710.0,1700.0,1600.0,2500.0,1780.0,1372.0,1600.0,2192.0,2040.0,2976.0,2500.0,1680.0,2828.0,1600.0,2220.0,1808.0,8884.0,1868.0,3583.0,2200.0,2951.0,2000.0,1600.0,2529.0,3087.0,2240.0,2091.0,12349.0,4482.0,2225.0,2173.0,5787.0,2442.0,7706.0,1800.0,1880.0,3042.0,4242.0,6651.0,2142.0,1860.0,6361.0,2220.0,5300.0,1700.0,2752.0,2120.0,2957.0,3500.0,2352.0,1926.0,2536.0,9164.0,3715.0,2101.0,1860.0,1900.0,1673.0,7272.0,11936.0,1936.0,2281.0,3477.0,1790.0,1970.0,1680.0,4300.0,3378.0,4398.0,2135.0,1780.0,2600.0,1787.0,2000.0,1571.0,2340.0,2050.0,1947.0,5100.0,1731.0,2000.0,1800.0,1930.0,2451.0,1624.0,2078.0,2947.0,4175.0,3581.0,3300.0,25477.0,1777.0,2307.0,1629.0,3505.0,7043.0,1974.0,4266.0,1562.0,2400.0,2173.0,1778.0,2992.0,2639.0,1752.0,1802.0,1643.0,2009.0,2461.0,1970.0,2082.0,3000.0,3000.0,1628.0,2734.0,3595.0,1827.0,1885.0,2200.0,2385.0,1820.0,1226.0,1611.0,1886.0,1948.0,2925.0,1599.0,2318.0,2177.0,5097.0,1866.0,1664.0,2055.0,2896.0,2600.0,5258.0,2287.0,2466.0,2071.0,1759.0,2969.0,5895.0,2435.0,1600.0,6106.0,1800.0,2198.0,6223.0,2100.0,2278.0,1498.0,4022.0000000000005,1990.0,2271.0,1804.0,6250.0,1800.0,1830.0,3018.0,2571.0,1754.0,1920.0,2426.0,1565.0,1599.0,3211.0,2211.0,1710.0,1880.0,4317.0,1868.0,1643.0,1860.0,1770.0,5085.0,2328.0,1860.0,2760.0,3494.0,1977.0,1780.0,4789.0,8000.0,3489.0,1868.0,2511.0,1605.0,1681.0,3154.0,2222.0,4276.0,11157.0,3621.0,1655.0,3090.0,2180.0,1957.0,1912.0,2130.0,4801.0,3788.0,1807.0,2634.0,3872.0,2256.0,2519.0,2467.0,2284.0,3065.0,1758.0,3428.0,1703.0,2005.0,1800.0,1910.0,4631.0,5963.0,1974.0,2713.0,1818.0,5174.0,3036.0,2489.0,4026.0,3694.0,2460.0,1763.0,1862.0,3017.0,6902.0,2236.0,2011.0000000000002,3084.0,1605.0,1940.0,1723.0,2259.0,1779.0,6020.0,4288.0,7886.0,1229.0,2324.0,1664.0,2025.0,2591.0,2211.0,3583.0,2350.0,8289.0,3322.0,1817.0,2324.0,1845.0,1860.0,2238.0,6191.0,1801.0,5175.0,4293.0,2767.0,2800.0,1762.0,2317.0,8417.0,1838.0,1858.0,4059.0,1865.0,6695.0,2020.0,1646.0,1801.0,2419.0,4901.0,2698.0,4493.0,3769.0,1648.0,2355.0,2530.0,3610.0,1787.0,5422.0,5387.0,20666.0,3139.0,1597.0,2053.0,11216.0,1950.0,2068.0,10000.0,3245.0,1780.0,1459.0,11229.0,2100.0,4142.0,2172.0,2300.0,8536.0,6984.0,1680.0,5416.0,3789.0,3898.0,2008.0,4996.0,2106.0,1500.0,2300.0,1681.0,1737.0,2437.0,2858.0,1787.0,1858.0,2959.0,2209.0,1774.0,4501.0,1782.0,3142.0,1849.0,2127.0,1652.0,7230.0,9853.0,1816.0,3629.0,3576.0,2000.0,3927.0,1860.0,2043.0000000000002,1442.0,1816.0,3197.0,2129.0,1663.0,7516.0,5203.0,2050.0,30962.0,3166.0,1680.0,2050.0,2421.0,2074.0,4611.0,1945.0,1660.0,1878.0,1448.0,1900.0,1542.0,null,1617.0,1680.0,33731.0,3545.0,null,2000.0,1974.0,2001.9999999999998,2301.0,2093.0,2416.0,2516.0,2790.0,3339.0,1596.0,1750.0,1600.0,3113.0,3225.0,9245.0,2779.0,2000.0,1588.0,3545.0,6700.0,4158.0,2100.0,2004.0,4708.0,6386.0,1980.0,3132.0,4669.0,3319.0,3283.0,1644.0,1645.0,3518.0,4565.0,2850.0,3631.0,2655.0,15911.0,1605.0,1830.0,2115.0,3200.0,5934.0,3024.0,3368.0,1600.0,1860.0,9182.0,2974.0,1828.0,2192.0,3053.0,2015.0000000000002,8976.0,1868.0,6761.0,1780.0,2100.0,1411.0,2000.0,2540.0,2353.0,2500.0,2899.0,2150.0,6591.0,2870.0,1787.0,1553.0,1608.0,4418.0,2940.0,3023.0,2314.0,8239.0,4265.0,6433.0,1517.0,3465.0,1645.0,9914.0,2227.0,3346.0,1868.0,9734.0,1819.0,1772.0,1500.0,1822.0,7864.0,4957.0,4993.0,1787.0,12406.0,5745.0,5247.0,5043.0,1860.0,10000.0,2518.0,3597.0,6052.0,2404.0,1679.0,1660.0,1576.0,3890.0,2327.0,4954.0,5326.0,1751.0,4273.0,2300.0,5392.0,2196.0,5907.0,23397.0,2292.0,4603.0,2134.0,1800.0,1985.0,3155.0,4486.0,8675.0,2353.0,3046.0,3182.0,2736.0,1950.0,1875.0,1865.0,5359.0,2702.0,1493.0,2353.0,3617.0,2331.0,3173.0,3824.0,2851.0,1538.0,2280.0,5442.0,2000.0,2404.0,1965.0,1860.0,2452.0,1928.0,1656.0,1780.0,6126.0,1865.0,3085.0,2135.0,2197.0,1998.0,1786.0,1819.0,2571.0,2506.0,1579.0,2090.0,3958.0,2504.0,1638.0,7390.0,3192.0,2496.0,2741.0,1892.0,35000.0,2659.0,3022.0,3587.0,2202.0,3317.0,1931.0,2528.0,1535.0,1470.0,2500.0,2672.0,3002.0,1860.0,1630.0,10886.0,1787.0,2161.0,2350.0,2599.0,3846.0,7369.0,2492.0,2070.0,2253.0,4184.0,3925.0,2223.0,4910.0,1785.0,6000.0,7869.0,2378.0,2287.0,2888.0,2727.0,1540.0,2267.0,1851.0,2214.0,2000.0,1796.0,2542.0,2596.0,2273.0,12783.0,10458.0,1779.0,1700.0,3200.0,2358.0,6683.0,6765.0,3875.0,1807.0,2302.0,2341.0,3493.0,2279.0,3010.0,2105.0,2100.0,2045.9999999999998,1570.0,1786.0,1994.0,1780.0,3400.0,1967.0,1904.0,1700.0,8305.0,6004.0,3667.0,2100.0,2449.0,2956.0,4770.0,2289.0,2715.0,3008.0,2000.0,1507.0,3133.0,2000.0,1402.0,1877.0,1500.0,2115.0,3585.0,1600.0,1923.0,2482.0,3981.0,2069.0,3285.0,1838.0,3336.0,8384.0,1860.0,2400.0,3267.0,8500.0,2354.0,1700.0,4649.0,2309.0,3764.0,1475.0,2516.0,4158.0,1600.0,5117.0,null,1997.0,2796.0,1680.0,4518.0,2515.0,2050.0,3088.0,1634.0,2037.0,2000.0,2102.0,1610.0,1872.0,1770.0,2400.0,6511.0,2505.0,6428.0,1600.0,2255.0,2469.0,3362.0,1932.0,5336.0,4370.0,3196.0,2100.0,2202.0,3000.0,3253.0,1840.0,4008.0,6733.0,4140.0,1927.0,1989.0,3609.0,2528.0,1900.0,4200.0,1675.0,2100.0,1868.0,3335.0,3929.0,2250.0,1953.0,2111.0,1699.0,1815.0,2255.0,2300.0,1680.0,3185.0,3244.0,3187.0,4634.0,1687.0,2180.0,2448.0,1748.0,3133.0,2558.0,1684.0,3668.0,5265.0,2139.0,2500.0,3437.0,2392.0,3726.0,2036.0,3331.0,1841.0,2300.0,1760.0,1780.0,1860.0,2802.0,1689.0,3604.0,1554.0,1750.0,2220.0,1700.0,3488.0,6042.0,2375.0,4743.0,3521.0,6709.0,1890.0,2341.0,1860.0,3045.0,2316.0,2220.0,1700.0,2972.0,1724.0,4568.0,1904.0,1610.0,1921.0,1950.0,3017.0,3556.0,7174.0,6980.0,1827.0,1760.0,1420.0,1680.0,2420.0,4273.0,2175.0,2889.0,3117.0,1787.0,2074.0,1797.0,2304.0,2584.0,1770.0,5689.0,1708.0,2158.0,4999.0,2208.0,1413.0,2928.0,4697.0,2535.0,2503.0,4365.0,1744.0,2211.0,1671.0,2705.0,2191.0,2250.0,3226.0,2169.0,2090.0,1960.0,2082.0,2527.0,2077.0,2460.0,2523.0,7596.0,3916.0,3184.0,8066.000000000001,2944.0,3800.0,2677.0,3126.0,3221.0,1670.0,2588.0,4378.0,2050.0,2093.0,2013.9999999999998,1800.0,3819.0,3202.0,2200.0,1787.0,2761.0,2350.0,2993.0,5739.0,2143.0,1780.0,2028.0,3350.0,4246.0,9735.0,2159.0,1785.0,1787.0,3634.0,2029.0,2709.0,1600.0,2555.0,1680.0,1998.0,2205.0,5000.0,2547.0,2386.0,1900.0,1700.0,2126.0,2300.0,1800.0,2390.0,2843.0,2004.0,8740.0,3257.0,3238.0,2225.0,5320.0,1925.0,2400.0,8213.0,1600.0,1680.0,7094.0,2200.0,1680.0,2991.0,1865.0,8688.0,1417.0,7097.0,3479.0,1600.0,1727.0,1700.0,8414.0,1991.0,1950.0,1675.0,12000.0,6068.0,33438.0,5506.0,2355.0,5244.0,1600.0,2443.0,2463.0,2041.9999999999998,6087.0,2397.0,1687.0,4800.0,2266.0,4000.0,2459.0,5214.0,14111.0,8312.0,1787.0,1800.0,2031.0000000000002,1727.0,3337.0,3500.0,2715.0,2925.0,2602.0,4213.0,2019.0000000000002,2200.0,2033.9999999999998,2523.0,1221.0,5430.0,4296.0,3971.0,1777.0,2505.0,1901.0,2374.0,1951.0,1800.0,6592.0,1787.0,2232.0,2735.0,9693.0,1634.0,1909.0,1466.0,1786.0,13060.0,1800.0,1865.0,3861.0,2322.0,2628.0,7326.0,1755.0,1388.0,2118.0,4265.0,2892.0,1458.0,7480.0,2604.0,3499.0,3340.0,1750.0,2408.0,1801.0,3692.0,1789.0,2079.0,2080.0,2032.0,2495.0,22000.0,2000.0,2334.0,1600.0,2908.0,3017.0,1846.0,2188.0,3776.0,3512.0,4096.0,2000.0,15022.0,1805.0,1825.0,4879.0,3236.0,2009.9999999999998,1652.0,2191.0,2748.0,1980.0,2308.0,1479.0,2600.0,4628.0,6000.0,14454.0,1800.0,2898.0,2551.0,2291.0,1780.0,2883.0,6389.0,1592.0,1717.0,2340.0,4206.0,1680.0,2519.0,2111.0,3862.0,1800.0,2531.0,8000.0,1670.0,1975.0,1600.0,4375.0,4416.0,1847.0,1600.0,3500.0,2400.0,1663.0,1561.0,2492.0,4253.0,2820.0,1950.0,4489.0,1600.0,14089.0,2311.0,4599.0,9387.0,2804.0,2498.0,3928.0,6322.0,6379.0,1787.0,1934.0,2234.0,2000.0,3597.0,1905.0,1606.0,2762.0,1585.0,2754.0,1768.0,1964.0,2375.0,3172.0,1615.0,1754.0,2217.0,14733.0,1816.0,1891.0,7542.0,2407.0,3001.0,1171.0,2542.0,2661.0,1378.0,4130.0,2140.0,1709.0,2084.0,2226.0,3108.0,3195.0,2920.0,4331.0,2300.0,1939.0,4280.0,2730.0,2050.0,1859.0,1414.0,2713.0,5390.0,2617.0,1857.0,2000.0,2186.0,1900.0,1920.0,6033.0,2730.0,2000.0,2379.0,5239.0,2197.0,2130.0,1785.0,1567.0,1498.0,1868.0,3302.0,1602.0,1272.0,1932.0,2203.0,3210.0,11481.0,1916.0,5216.0,1699.0,2728.0,1603.0,3551.0,2812.0,1534.0,1944.0,2374.0,17025.0,3280.0,1860.0,18988.0,1907.0,1693.0,2184.0,1578.0,3959.0,2382.0,2543.0,1888.0,3978.0,3095.0,2017.9999999999998,3700.0,4364.0,3626.0,2159.0,1209.0,3099.0,2447.0,11494.0,1680.0,1600.0,2958.0,2100.0,2122.0,2349.0,5956.0,2100.0,2600.0,1670.0,2173.0,1580.0,1865.0,4550.0,1837.0,11456.0,1800.0,5388.0,1793.0,2312.0,1800.0,1908.0,3081.0,1780.0,2213.0,5041.0,2037.9999999999998,1429.0,5672.0,4255.0,5271.0,1624.0,3581.0,3537.0,5945.0,4462.0,3584.0,2200.0,1990.0,2339.0,2657.0,4000.0,2640.0,1750.0,3290.0,1868.0,4000.0,1937.0,2184.0,2186.0,2499.0,9726.0,1911.0,2411.0,3325.0,5106.0,2240.0,2934.0,2300.0,2036.0,2070.0,2245.0,1901.0,5179.0,2121.0,4873.0,2000.0,3799.0,2407.0,2226.0,3467.0,1865.0,3210.0,1713.0,1751.0,1440.0,1780.0,1885.0,3220.0,1861.0,1621.0,1608.0,2795.0,2593.0,2090.0,3679.0,2573.0,5726.0,2146.0,2200.0,1603.0,2401.0,2745.0,1990.0,46167.0,2250.0,1978.0,1990.0,2363.0,1794.0,1866.0,2070.0,3944.0,2254.0,1958.0,1864.0,2562.0,4491.0,1742.0,3074.0,3820.0,1850.0,7016.0,2507.0,1700.0,5982.0,2367.0,1759.0,1817.0,2303.0,3560.0,2626.0,1847.0,4274.0,3057.0,1944.0,1779.0,8427.0,3817.0,1999.0,4786.0,1952.0,2253.0,1982.0,2000.0,3152.0,1660.0,1998.0,2200.0,1800.0,1787.0,1941.0,4389.0,1811.0,2020.0,2001.9999999999998,2092.0,2000.0,2133.0,1600.0,3267.0,2747.0,2957.0,2400.0,1814.0,2316.0,1911.0,1680.0,2661.0,2622.0,2559.0,4326.0,2926.0,6464.0,1786.0,1585.0,1615.0,1629.0,2201.0,2200.0,1968.0,3500.0,2027.0000000000002,2471.0,2214.0,5584.0,2009.9999999999998,2365.0,1677.0,2176.0,1636.0,2655.0,2642.0,1921.0,6985.0,2350.0,3443.0,2100.0,1800.0,1598.0,2128.0,4392.0,3504.0,1710.0,1774.0,3190.0,3721.0,2740.0,4727.0,3006.0,5277.0,1873.0,1849.0,1861.0,4842.0,1680.0,2846.0,3929.0,1784.0,2100.0,1201.0,2150.0,2045.9999999999998,3800.0,2734.0,1600.0,1819.0,2689.0,2840.0,4827.0,1680.0,3702.0,1860.0,1787.0,3959.0,5967.0,2121.0,1919.0,3180.0,3646.0,1744.0,1676.0,2080.0,2477.0,3656.0,15662.0,1600.0,2400.0,1538.0,1931.0,2661.0,3214.0,4098.0,1746.0,2150.0,1868.0,1863.0,2000.0,5109.0,11857.0,1740.0,2000.0,1508.0,2000.0,2989.0,1847.0,1995.0,2254.0,1860.0,4600.0,3599.0,2162.0,2538.0,2193.0,2200.0,3930.0,1575.0,2200.0,11005.0,3125.0,2717.0,2000.0,11478.0,3876.0,1914.0,3139.0,1930.0,1717.0,2438.0,3131.0,1926.0,15507.0,1498.0,2408.0,2089.0,2047.0000000000002,2400.0,2138.0,7597.0,2198.0,1996.0,4663.0,4080.0,null,1649.0,14868.0,2146.0,7506.0,1563.0,1772.0,1984.0,8638.0,2642.0,10770.0,10259.0,1750.0,2084.0,2138.0,5702.0,2100.0,1631.0,1898.0,3161.0,2000.0,1847.0,1432.0,1502.0,2897.0,2066.0,2000.0,4724.0,1600.0,2408.0,1700.0,2265.0,1800.0,3072.0,2348.0,1750.0,2220.0,2468.0,2054.0,3500.0,2589.0,1868.0,1713.0,1950.0,1780.0,3316.0,1882.0,1778.0,2280.0,2323.0,1600.0,1858.0,1826.0,2608.0,1962.0,2068.0,3193.0,9803.0,3189.0,1829.0,1500.0,2948.0,2362.0,5569.0,4026.0,1918.0,1893.0,2757.0,2394.0,1807.0,1600.0,3535.0,1874.0,1750.0,3355.0,1850.0,1961.0,1612.0,4059.9999999999995,2364.0,1964.0,1208.0,1680.0,1849.0,2027.0000000000002,2300.0,3267.0,1850.0,2584.0,3532.0,5662.0,1900.0,1787.0,1803.0,8196.0,2448.0,1600.0,8348.0,1923.0,2235.0,3119.0,2545.0,1597.0,6380.0,2477.0,8700.0,4045.0,3300.0,2747.0,5149.0,2186.0,1610.0,5465.0,3501.0,1726.0,1496.0,2029.0,2558.0,3836.0,1900.0,5790.0,3987.0,2201.0,2218.0,3663.0,2400.0,1913.0,3863.0,2401.0,2000.0,1338.0,2092.0,2422.0,5046.0,4533.0,1900.0,5014.0,5314.0,3203.0,4236.0,4114.0,2178.0,2007.0000000000002,2402.0,2936.0,1839.0,1645.0,5890.0,3297.0,2804.0,1802.0,1786.0,5810.0,2237.0,2190.0,4981.0,2967.0,4554.0,5183.0,7737.0,4911.0,2531.0,1942.0,1945.0,2255.0,3220.0,1820.0,1865.0,2063.0,2315.0,1785.0,3998.0,4190.0,2438.0,3000.0,3959.0,2007.0000000000002,4912.0,4442.0,1210.0,1600.0,9150.0,5218.0,2000.0,3622.0,1860.0,11672.0,1926.0,3765.0,3180.0,1845.0,3087.0,1876.0,5000.0,2227.0,1991.0,2220.0,4400.0,7996.0,2175.0,1500.0,2403.0,1950.0,1578.0,1900.0,3727.0,1775.0,1807.0,3094.0,1855.0,1994.0,2601.0,28000.0,1442.0,4358.0,1600.0,1911.0,2804.0,12695.0,1962.0,3245.0,2500.0,2195.0,11598.0,2600.0,3005.0,4797.0,2577.0,5550.0,2844.0,2882.0,2060.0,1858.0,3684.0,2528.0,1860.0,5011.0,1710.0,2743.0,2000.0,3163.0,5109.0,6350.0,1860.0,2268.0,2269.0,1645.0,1952.0,1985.0,3316.0,3888.0,1860.0,2050.0,2651.0,2485.0,2342.0,1700.0,4189.0,2087.0,4292.0,1900.0,1832.0,2500.0,4288.0,2045.9999999999998,1774.0,3276.0,4184.0,3033.0,4524.0,3519.0,3622.0,2073.0,2000.0,2011.0000000000002,1787.0,1917.0,2398.0,3249.0,3081.0,1784.0,1242.0,1780.0,3831.0,25932.0,2400.0,5104.0,1957.0,2873.0,1821.0,6242.0,1880.0,1993.0,3557.0,1708.0,2350.0,1879.0,3560.0,2528.0,1988.0,1900.0,1800.0,6439.0,2654.0,2008.0,1983.0,5341.0,3953.0,2572.0,1883.0,5312.0,2407.0,4254.0,2233.0,2840.0,1750.0,4658.0,2045.9999999999998,6000.0,3365.0,3215.0,1798.0,3204.0,3334.0,1823.0,1775.0,1798.0,2400.0,2550.0,1860.0,1835.0,3760.0,3422.0,2229.0,1700.0,1780.0,2126.0,3800.0,2569.0,1817.0,1912.0,2782.0,5226.0,2372.0,3277.0,3317.0,3081.0,2428.0,2436.0,1700.0,2759.0,1600.0,3602.0,2518.0,989000.0,2780.0,2274.0,4366.0,2100.0,1850.0,2170.0,2974.0,2200.0,5262.0,2310.0,2053.0,4601.0,2829.0,1900.0,2543.0,2100.0,2058.0,9163.0,2400.0,2748.0,2917.0,2145.0,3795.0,1805.0,2099.0,2429.0,3920.0,2120.0,1463.0,1719.0,9624.0,1766.0,2168.0,1637.0,5894.0,3826.0,2623.0,3773.0,1300.0,6800.0,1630.0,1799.0,2148.0,3428.0,1757.0,2600.0,3983.0,2858.0,2455.0,2520.0,2876.0,1803.0,3827.0,4593.0,1933.0,2383.0,18079.0,4697.0,2275.0,4742.0,2321.0,1600.0,3700.0,1728.0,2337.0,5047.0,1575.0,2222.0,4046.0000000000005,1854.0,7868.0,2246.0,2847.0,1600.0,2977.0,4406.0,2416.0,2001.0,3179.0,4000.0,2500.0,1600.0,2383.0,2364.0,6819.0,2398.0,1805.0,1921.0,20139.0,1787.0,5146.0,2107.0,1863.0,4388.0,3982.0,7000.0,2233.0,2429.0,2260.0,2300.0,5731.0,1680.0,2731.0,3750.0,2722.0,1868.0,1699.0,2652.0,2810.0,1640.0,1604.0,6515.0,2381.0,6157.0,5434.0,3966.0,1518.0,1779.0,1787.0,4457.0,1850.0,1549.0,1636.0,2134.0,3984.0,4148.0,1993.0,2629.0,5217.0,4620.0,2093.0,1797.0,3839.0,1876.0,2367.0,2900.0,3041.0,1779.0,1860.0,6657.0,6918.0,2108.0,2055.0,1925.0,2009.9999999999998,2998.0,1860.0,1860.0,2303.0,2731.0,2303.0,7311.0,2790.0,2183.0,1457.0,3098.0,3213.0,3968.0,4534.0,2066.0,1780.0,3014.0,1807.0,1798.0,2300.0,1898.0,2490.0,1713.0,6774.0,2000.0,1940.0,2631.0,2000.0,1750.0,7139.0,1785.0,1680.0,1787.0,3292.0,1614.0,1850.0,1652.0,4592.0,8452.0,3500.0,4259.0,1778.0,2300.0,1780.0,2834.0,2857.0,1900.0,1758.0,1860.0,15272.0,1800.0,1697.0,1823.0,1780.0,1765.0,12847.0,1785.0,2497.0,2693.0,1988.0,6137.0,1600.0,1583.0,2611.0,1804.0,2434.0,24175.0,2505.0,1674.0,4587.0,12198.0,5118.0,2297.0,2163.0,1964.0,5400.0,2220.0,2304.0,9872.0,2420.0,2113.0,2100.0,2307.0,2591.0,4191.0,1868.0,2569.0,2734.0,1864.0,1920.0,2343.0,2061.0,3817.0,15646.0,1800.0,2567.0,2450.0,2627.0,1932.0,1600.0,3521.0,3404.0,3386.0,1678.0,5057.0,2327.0,19604.0,2785.0,2391.0,2165.0,3988.0,2050.0,5816.0,1750.0,1996.0,3181.0,11856.0,2358.0,2122.0,1860.0,3000.0,1601.0,2507.0,4711.0,2800.0,1955.0,2393.0,2224.0,3369.0,1760.0,3494.0,2149.0,2400.0,2762.0,2440.0,1907.0,2410.0,1894.0,1764.0,3101.0,1750.0,9677.0,4026.0,1860.0,4500.0,2525.0,18701.0,4536.0,7000.0,2165.0,4284.0,2737.0,2437.0,5448.0,6554.0,2275.0,8204.0,1920.0,2075.0,2279.0,3205.0,2885.0,2637.0,2050.0,3593.0,10041.0,1898.0,2174.0,2348.0,1860.0,7780.0,3341.0,1597.0,2271.0,1696.0,2700.0,3588.0,1782.0,1820.0,11316.0,1953.0,6446.0,2930.0,1972.0,2149.0,1600.0,3739.0,6418.0,2000.0,1908.0,3456.0,2997.0,3556.0,2300.0,3000.0,2136.0,11446.0,2759.0,10500.0,1908.0,2794.0,2643.0,3692.0,3211.0,1874.0,3393.0,2972.0,2358.0,5904.0,2370.0,null,4545.0,1575.0,2656.0,3719.0,1780.0,1955.0,2605.0,2112.0,2013.0,2609.0,1780.0,2320.0,2309.0,1700.0,1651.0,6691.0,4488.0,1929.0,2100.0,1836.0,1865.0,1710.0,2172.0,2024.0,1987.0,1830.0,1787.0,2072.0,2688.0,5971.0,1787.0,1855.0,1680.0,2689.0,9138.0,2100.0,1669.0,4951.0,2710.0,5638.0,7251.0,3059.0,3376.0,2294.0,2100.0,8892.0,2398.0,13905.0,2000.0,2328.0,2939.0,2210.0,1787.0,2809.0,1603.0,2035.0000000000002,2723.0,5394.0,2045.0,3000.0,1800.0,1880.0,4545.0,2380.0,1821.0,1832.0,1932.0,2205.0,2112.0,2862.0,3369.0,3282.0,2045.0,8763.0,7442.0,1800.0,2673.0,1750.0,7318.0,1666.0,1642.0,1880.0,5442.0,2400.0,2367.0,2099.0,2023.0000000000002,null,2413.0,6653.0,8228.0,1680.0,2785.0,1784.0,2282.0,1838.0,2353.0,1746.0,2712.0,2000.0,4424.0,2149.0,1722.0,3013.0,2221.0,2411.0,2444.0,2364.0,1597.0,3988.0,4152.0,1958.0,1598.0,3214.0,2614.0,8707.0,1899.0,2620.0,2162.0,2391.0,2837.0,1900.0,1578.0,3240.0,1869.0,2492.0,13087.0,2045.0,6854.0,8199.0,4073.0000000000005,3491.0,2686.0,1874.0,1780.0,4526.0,5427.0,1680.0,1892.0,3803.0,1787.0,3520.0,4570.0,1736.0,2709.0,2235.0,5855.0,1682.0,7502.0,3010.0,3100.0,1950.0,2257.0,1865.0,1600.0,3328.0,1738.0,1860.0,2000.0,4701.0,2055.0,1967.0,2331.0,1406.0,2194.0,1850.0,2100.0,2979.0,1720.0,3500.0,2300.0,6009.0,2455.0,2831.0,2024.0,2293.0,1787.0,3023.0,6996.0,2300.0,2360.0,3624.0,2257.0,1843.0,2124.0,5315.0,1864.0,2000.0,2101.0,2292.0,2050.0,3200.0,6299.0,2036.0,2720.0,2345.0,1865.0,1555.0,1952.0,2543.0,2156.0,2413.0,1760.0,3501.0,2690.0,2738.0,3568.0,3841.0,2400.0,2479.0,2000.0,1777.0,2645.0,2262.0,6334.0,3726.0,2754.0,2375.0,5448.0,4319.0,1506.0,4312.0,4088.0,2434.0,2280.0,1830.0,1682.0,1821.0,1843.0,3772.0,4140.0,2280.0,2100.0,1800.0,3448.0,1787.0,1787.0,3611.0,2343.0,2058.0,2100.0,3737.0,2909.0,3075.0,3099.0,1841.0,2171.0,3189.0,4872.0,2000.0,1760.0,11278.0,2344.0,3970.0,1680.0,2659.0,1688.0,2620.0,3339.0,1657.0,4094.9999999999995,3868.0,2649.0,1775.0,1603.0,15413.0,3500.0,2333.0,1780.0,2751.0,2520.0,2558.0,2078.0,2521.0,3295.0,2516.0,2299.0,2157.0,4070.9999999999995,1838.0,2000.0,2273.0,2630.0,1860.0,2596.0,2013.9999999999998,1547.0,1995.0,2083.0,1529.0,2201.0,4925.0,1779.0,1921.0,2514.0,7712.0,2870.0,1600.0,2515.0,1563.0,3096.0,1788.0,1886.0,1937.0,2482.0,4550.0,1860.0,2165.0,1936.0,1900.0,966000.0,2200.0,4204.0,2429.0,2654.0,5094.0,1600.0,3057.0,4415.0,3969.0,3234.0,2461.0,4863.0,2161.0,3761.0,2436.0,2294.0,2253.0,3711.0,2131.0,2001.9999999999998,4062.9999999999995,2402.0,1976.0,3142.0,3625.0,1545.0,1722.0,7709.0,2433.0,4476.0,1868.0,2500.0,3093.0,4003.0,12515.0,7001.0,1571.0,1865.0,2700.0,2693.0,2200.0,2182.0,2241.0,4741.0,2017.0,5500.0,3800.0,2884.0,1818.0,3000.0,2399.0,2807.0,2019.0000000000002,1860.0,3776.0,1929.0,1860.0,1623.0,1539.0,1804.0,3032.0,1911.0,3908.0,1931.0,2690.0,1900.0,4393.0,2179.0,2200.0,2905.0,1800.0,2582.0,3464.0,1850.0,2161.0,1500.0,1599.0,2000.0,2270.0,3032.0,2805.0,1589.0,2698.0,1777.0,1770.0,1990.0,2114.0,1744.0,3753.0,2062.0,1950.0,4970.0,7526.0,2263.0,1930.0,3259.0,2596.0,21278.0,8262.0,1780.0,3663.0,2845.0,2539.0,4671.0,2500.0,7219.0,2000.0,1899.0,1786.0,2681.0,1924.0,1860.0,12427.0,1742.0,3600.0,2000.0,2001.0,2182.0,4588.0,2312.0,1824.0,5530.0,5338.0,2995.0,16687.0,2258.0,8799.0,1680.0,2674.0,2319.0,1670.0,2377.0,2000.0,3000.0,1956.0,2196.0,2932.0,2267.0,2774.0,1821.0,4131.0,2330.0,1996.0,7838.0,1588.0,1538.0,5211.0,2473.0,2033.9999999999998,2375.0,2425.0,6322.0,1846.0,2313.0,2576.0,5624.0,3557.0,2478.0,2381.0,2200.0,2308.0,1600.0,3961.0,1780.0,3438.0,2521.0,2656.0,1827.0,2163.0,1780.0,1868.0,1680.0,3417.0,1859.0,1850.0,2959.0,1860.0,2518.0,1868.0,2194.0,11036.0,1770.0,5485.0,3197.0,1595.0,3309.0,3007.0,5386.0,2003.0,1674.0,2987.0,3041.0,3966.0,4934.0,1726.0,2164.0,4984.0,2503.0,2200.0,2318.0,3000.0,2100.0,11108.0,3447.0,1600.0,3840.0,1950.0,1780.0,2025.0,3008.0,1884.0,2200.0,5000.0,3672.0,1710.0,6809.0,1837.0,2237.0,2027.0000000000002,3054.0,1800.0,1929.0,2388.0,1854.0,1786.0,7965.0,8419.0,4662.0,2830.0,1957.0,2000.0,2195.0,1780.0,1656.0,2386.0,2112.0,1930.0,2505.0,1393.0,1912.0,1862.0,3935.0,3699.0,2612.0,1770.0,1744.0,1800.0,2101.0,3287.0,1680.0,4098.0,1509.0,4817.0,7779.0,2425.0,2000.0,2465.0,5432.0,5315.0,2060.0,2576.0,2361.0,2577.0,2729.0,7946.0,5645.0,2050.0,4059.0,1600.0,2217.0,1865.0,2056.0,5621.0,4877.0,2121.0,1883.0,2789.0,2544.0,2313.0,3318.0,1778.0,1787.0,3420.0,1800.0,1780.0,2066.0,1512.0,2000.0,2005.0,2842.0,4053.0,3070.0,2553.0,2095.0,1917.0,4849.0,2190.0,1886.0,2302.0,1700.0,1972.0,1823.0,2000.0,2169.0,1754.0,2000.0,4166.0,1757.0,2921.0,3093.0,1600.0,2918.0,2748.0,4259.0,5686.0,2527.0,2516.0,4641.0,3073.0,2200.0,1943.0,3895.0,6219.0,1860.0,4500.0,2510.0,1590.0,2101.0,4746.0,2029.9999999999998,2543.0,2260.0,null,3574.0,1602.0,1946.0,2462.0,3594.0,1780.0,2600.0,3721.0,1795.0,2000.0,1634.0,1500.0,2481.0,1785.0,1600.0,3403.0,2280.0,2622.0,1876.0,1874.0,5774.0,1860.0,1850.0,4609.0,1757.0,5219.0,1860.0,1780.0,1520.0,2200.0,2261.0,1600.0,1600.0,null,2946.0,2075.0,2095.0,2201.0,1900.0,2330.0,1846.0,2763.0,2294.0,1903.0,2343.0,1760.0,2903.0,1860.0,1824.0,1514.0,2100.0,5700.0,1797.0,3187.0,3958.0,1885.0,1648.0,2475.0,2201.0,1671.0,2329.0,1900.0,1316.0,4508.0,2000.0,2818.0,6085.0,1604.0,4935.0,1994.0,1784.0,2663.0,1785.0,2300.0,1712.0,6344.0,3521.0,2095.0,1572.0,3729.0,2396.0,1599.0,12707.0,2194.0,2251.0,2975.0,2341.0,1975.0,1860.0,2122.0,2200.0,1787.0,2471.0,3856.0,2837.0,2016.0,2371.0,1955.0,2144.0,1900.0,2435.0,1600.0,6647.0,2444.0,2836.0,2100.0,1740.0,null,4707.0,2830.0,4006.0,2253.0,1960.0,3030.0,1787.0,2264.0,2300.0,2200.0,1994.0,1780.0,2722.0,1850.0,8960.0,6643.0,5067.0,18308.0,3394.0,1787.0,1529.0,2064.0,2108.0,2291.0,3275.0,2147.0,11365.0,2121.0,8655.0,1961.0,1601.0,3914.0,1632.0,2080.0,2199.0,2695.0,2300.0,3260.0,3940.0,1678.0,4999.0,2012.0,2213.0,2449.0,1680.0,1900.0,3528.0,4098.0,1894.0,3841.0,1600.0,1600.0,1836.0,2350.0,1568.0,1928.0,2127.0,2519.0,2681.0,12823.0,1787.0,2775.0,2706.0,3564.0,2200.0,10750.0,2368.0,1945.0,2718.0,2679.0,7020.0,2239.0,1999.0,1901.0,2123.0,2544.0,2196.0,1990.0,2100.0,4770.0,2100.0,1334.0,3982.0,1839.0,3466.0,2341.0,4998.0,8422.0,2150.0,2029.9999999999998,2181.0,2243.0,3301.0,2000.0,1770.0,3188.0,1791.0,1839.0,3980.0,2150.0,7179.0,4103.0,2240.0,2655.0,3031.0,1615.0,2694.0,2249.0,4538.0,3120.0,3274.0,2070.0,2500.0,2695.0,3177.0,2041.9999999999998,2700.0,2757.0,2020.0,1869.0,6500.0,1597.0,1376.0,2529.0,2217.0,2598.0,3100.0,2236.0,2000.0,15920.0,2400.0,1780.0,2546.0,1725.0,2200.0,1328.0,2415.0,2263.0,1943.0,1813.0,3452.0,3951.0,13455.0,4355.0,2037.9999999999998,2453.0,1680.0,4016.0,10936.0,2335.0,3425.0,1780.0,3224.0,3617.0,2312.0,2320.0,1750.0,1949.0,6490.0,6743.0,6306.0,1886.0,2086.0,1757.0,2100.0,2299.0,2302.0,2432.0,4416.0,2567.0,3681.0,1601.0,5517.0,1501.0,1680.0,3330.0,2222.0,2750.0,2100.0,7164.0,4144.0,1524.0,2896.0,2100.0,3466.0,3943.0,2580.0,2517.0,2293.0,934000.0,3294.0,1998.0,2699.0,1824.0,2103.0,3125.0,1850.0,1900.0,2300.0,1788.0,1600.0,6921.0,4898.0,1787.0,2200.0,2037.9999999999998,2145.0,4674.0,1835.0,3416.0,3179.0,1900.0,2596.0,1750.0,3451.0,2500.0,2957.0,3178.0,4905.0,1780.0,2755.0,2830.0,3883.0,2694.0,1813.0,2021.9999999999998,1852.0,2761.0,2045.9999999999998,10377.0,3180.0,1830.0,2000.0,23463.0,3132.0,2141.0,2421.0,1881.0,2176.0,2916.0,1700.0,2781.0,1747.0,2383.0,3686.0,2846.0,1600.0,2949.0,5209.0,1865.0,1905.0,2804.0,3705.0,4842.0,1370.0,2846.0,2973.0,3159.0,2008.0,3705.0,1635.0,2091.0,2441.0,4390.0,2290.0,4000.0,2898.0,1780.0,2427.0,3953.0,9780.0,1862.0,17800.0,2000.0,2205.0,1889.0,4815.0,6248.0,2450.0,2200.0,3443.0,4500.0,1500.0,1950.0,1680.0,3603.0,2161.0,2233.0,2727.0,1782.0,2811.0,2890.0,1426.0,5362.0,2729.0,3711.0,1835.0,2302.0,1939.0,1525.0,2061.0,1863.0,1850.0,2187.0,3438.0,3895.0,7000.0,1612.0,1900.0,1753.0,2293.0,2185.0,2146.0,3251.0,1600.0,5620.0,2200.0,3758.0,12280.0,1787.0,4909.0,1780.0,2176.0,1835.0,7612.0,1500.0,2550.0,4474.0,2100.0,2949.0,1555.0,3027.0,1730.0,1836.0,1600.0,3278.0,1800.0,1778.0,3449.0,3477.0,2070.0,3579.0,2608.0,4771.0,2533.0,1715.0,5670.0,1937.0,3740.0,2100.0,2792.0,5015.0,1802.0,4633.0,2422.0,1835.0,2586.0,2864.0,2100.0,2120.0,2429.0,2028.0,2477.0,2288.0,2787.0,1788.0,1798.0,1600.0,1600.0,5194.0,11500.0,2500.0,2849.0,2652.0,3200.0,4210.0,2132.0,2792.0,2763.0,1879.0,3357.0,1600.0,2357.0,2903.0,2776.0,3295.0,1754.0,2627.0,1700.0,1810.0,2051.0,2559.0,2124.0,2704.0,1837.0,6498.0,1750.0,1796.0,1600.0,2805.0,2661.0,1882.0,2740.0,1680.0,1854.0,1731.0,null,2439.0,4457.0,1787.0,1902.0,1903.0,1521.0,3200.0,2652.0,2499.0,2141.0,2500.0,3014.0,5310.0,6306.0,2532.0,2594.0,5899.0,7314.0,1847.0,1569.0,4846.0,2190.0,1787.0,1800.0,1780.0,7137.0,1833.0,2250.0,2343.0,2528.0,1780.0,3769.0,4548.0,2028.0,13033.0,1883.0,4865.0,1727.0,1952.0,1926.0,2150.0,1890.0,3411.0,2300.0,4292.0,2182.0,2935.0,2025.0,2336.0,2089.0,2935.0,2029.9999999999998,1600.0,1685.0,1679.0,2060.0,1782.0,1818.0,1913.0,6621.0,5374.0,3149.0,2488.0,1600.0,4510.0,1680.0,3422.0,1900.0,4557.0,1779.0,1996.0,2074.0,2017.0,2382.0,3367.0,1320.0,4478.0,2274.0,4257.0,1597.0,2895.0,1600.0,1734.0,2707.0,1860.0,3217.0,5143.0,3093.0,2236.0,2209.0,4679.0,2445.0,3528.0,3000.0,1800.0,1600.0,2200.0,12227.0,2520.0,2091.0,3345.0,3156.0,1417.0,3079.0,2594.0,2064.0,3701.0,3762.0,2000.0,2000.0,1715.0,2697.0,2192.0,1701.0,3757.0,2288.0,2235.0,2000.0,1782.0,1950.0,2079.0,2924.0,2100.0,2023.0000000000002,1800.0,3053.0,1887.0,2070.0,2147.0,2929.0,3666.0,4969.0,2319.0,3768.0,2400.0,2165.0,1903.0,1900.0,1888.0,2275.0,2224.0,7770.0,4325.0,1786.0,1680.0,1600.0,2525.0,1865.0,2970.0,1786.0,1748.0,1780.0,2100.0,7007.0,2073.0,2268.0,1780.0,2888.0,2268.0,2687.0,1700.0,3202.0,4181.0,1641.0,1669.0,1751.0,4304.0,6233.0,2551.0,2408.0,1904.0,1721.0,2431.0,1590.0,3236.0,2493.0,1989.0,4950.0,2274.0,1664.0,2230.0,14769.0,2425.0,1784.0,1650.0,7506.0,1801.0,2005.0,2313.0,2050.0,6269.0,3138.0,1600.0,2757.0,28724.0,1760.0,1800.0,3460.0,17933.0,5014.0,2544.0,3219.0,2435.0,8794.0,1725.0,1603.0,2387.0,3085.0,1660.0,1850.0,2388.0,2243.0,1945.0,11457.0,1821.0,2891.0,1816.0,1379.0,2136.0,6164.0,5000.0,2119.0,2310.0,3075.0,1700.0,1857.0,1637.0,1860.0,3375.0,1757.0,1679.0,1750.0,2100.0,2584.0,1949.0,2531.0,2100.0,1921.0,3936.0,1980.0,2300.0,1853.0,1462.0,2576.0,1780.0,3151.0,1734.0,1417.0,5628.0,3111.0,3902.0,1600.0,2812.0,6302.0,2088.0,2238.0,2409.0,2935.0,3682.0,2251.0,1874.0,1756.0,2029.0,2149.0,1972.0,1840.0,3729.0,2000.0,1710.0,2728.0,2429.0,1720.0,1724.0,5505.0,1923.0,2081.0,2086.0,1843.0,2500.0,4992.0,2189.0,2300.0,2200.0,2200.0,2103.0,1843.0,2350.0,1882.0,1465.0,2517.0,2167.0,2200.0,3479.0,2700.0,3078.0,null,3460.0,1650.0,1859.0,5277.0,1766.0,2000.0,3308.0,1690.0,6871.0,5242.0,2218.0,2553.0,1868.0,1800.0,2100.0,1786.0,2455.0,2500.0,2063.0,2151.0,2200.0,2438.0,3574.0,2530.0,1900.0,1490.0,2574.0,1680.0,1434.0,2677.0,1593.0,2000.0,2162.0,null,2520.0,1637.0,1999.0,2600.0,3634.0,3434.0,2035.0000000000002,2200.0,1779.0,2379.0,5641.0,5787.0,2200.0,2151.0,1650.0,2960.0,1777.0,1680.0,1938.0,1577.0,1700.0,2522.0,1801.0,2122.0,2500.0,2000.0,2081.0,2728.0,1909.0,2218.0,2504.0,2754.0,1601.0,1800.0,2750.0,2176.0,2500.0,3416.0,3724.0,2019.0000000000002,1980.0,2875.0,2105.0,1832.0,3052.0,2213.0,8605.0,1492.0,5547.0,1971.0,4438.0,1950.0,2363.0,11629.0,2515.0,1700.0,4534.0,3989.0,3500.0,1770.0,3946.0,2536.0,2441.0,1503.0,3392.0,4455.0,1850.0,1850.0,1812.0,1992.0,1389.0,4390.0,2858.0,3288.0,3660.0,10514.0,2092.0,2593.0,2402.0,3413.0,8000.0,3644.0,2498.0,2226.0,2619.0,6474.0,2112.0,2350.0,6275.0,2959.0,1961.0,3568.0,1800.0,7456.0,3220.0,3114.0,1691.0,2810.0,4000.0,2905.0,2143.0,1952.0,2040.0,4716.0,2057.0,1960.0,null,4829.0,1796.0,4412.0,4814.0,2066.0,2394.0,1933.0,1857.0,2908.0,2105.0,1700.0,2096.0,9738.0,3992.0,2647.0,2336.0,3667.0,2239.0,3638.0,2590.0,2762.0,15805.0,1784.0,2096.0,2100.0,2085.0,3100.0,3197.0,3825.0,3226.0,2226.0,1600.0,1809.0,2266.0,1604.0,2108.0,5827.0,2599.0,2041.9999999999998,2516.0,1871.0,3982.0,1945.0,2648.0,4230.0,3904.0,5923.0,3947.0,1650.0,3319.0,1796.0,1800.0,4613.0,1984.0,2016.0,2041.0,7684.0,4202.0,3463.0,1792.0,2150.0,4256.0,1852.0,4127.0,4199.0,2760.0,2886.0,2961.0,2445.0,1900.0,6014.0,1860.0,2979.0,1868.0,1940.0,1680.0,1335.0,3345.0,3451.0,2946.0,5598.0,1680.0,1680.0,4443.0,2901.0,2515.0,4302.0,1859.0,2100.0,3012.0,2993.0,2357.0,24470.0,2147.0,2228.0,1700.0,2061.0,1690.0,2637.0,1649.0,4502.0,3000.0,1900.0,2851.0,4780.0,2100.0,5128.0,1732.0,3023.0,4290.0,4414.0,2110.0,2009.0,4381.0,9031.0,2833.0,2480.0,1850.0,5881.0,3200.0,8000.0,1840.0,2000.0,1903.0,1670.0,3131.0,2000.0,2762.0,1800.0,1974.0,3857.0,3327.0,1635.0,8821.0,2799.0,2354.0,4094.9999999999995,1927.0,3724.0,2183.0,4134.0,7287.0,5605.0,2836.0,3271.0,2500.0,3081.0,2990.0,5829.0,2017.0,1865.0,1925.0,2510.0,2275.0,3390.0,1962.0,2421.0,2228.0,2000.0,2000.0,2524.0,2727.0,2841.0,3625.0,2300.0,1651.0,2045.9999999999998,1780.0,2940.0,1606.0,2193.0,6408.0,16825.0,2782.0,1971.0,1817.0,1930.0,3215.0,1838.0,1538.0,2223.0,2413.0,1800.0,3010.0,3009.0,1500.0,2097.0,1871.0,2461.0,1515.0,3381.0,1221.0,2000.0,3245.0,3384.0,1990.0,8834.0,10423.0,2456.0,1819.0,6167.0,6717.0,1780.0,1313.0,1750.0,1600.0,3569.0,4260.0,1750.0,1860.0,2630.0,3200.0,1681.0,2720.0,2138.0,2905.0,2380.0,1821.0,3869.0,5428.0,1624.0,6532.0,5103.0,2642.0,1979.0,2100.0,1850.0,1784.0,2247.0,1854.0,1900.0,9953.0,1748.0,4892.0,1906.0,3301.0,4668.0,2330.0,6449.0,1874.0,6134.0,1944.0,1562.0,3300.0,1785.0,3162.0,2447.0,3079.0,3152.0,1850.0,2447.0,11466.0,3027.0,2191.0,1647.0,4103.0,1600.0,2300.0,2274.0,1751.0,2300.0,2323.0,2594.0,2952.0,2200.0,1600.0,2220.0,3420.0,2247.0,1700.0,1725.0,1787.0,1551.0,7476.0,1874.0,1780.0,1860.0,6488.0,3146.0,1572.0,2588.0,2365.0,3246.0,2928.0,3593.0,1780.0,3006.0,1874.0,1600.0,2209.0,1723.0,3331.0,2241.0,2444.0,2801.0,2810.0,2835.0,2003.0,3103.0,1500.0,2029.9999999999998,1600.0,3081.0,2458.0,1780.0,7089.0,3196.0,2412.0,1945.0,1882.0,3100.0,5205.0,1946.0,4936.0,3000.0,3171.0,1600.0,2057.0,1847.0,3470.0,2118.0,1770.0,1796.0,4741.0,1913.0,2807.0,2983.0,2146.0,1800.0,1787.0,2234.0,4639.0,3102.0,3909.0,2000.0,2050.0,1781.0,1961.0,2490.0,1963.0,1850.0,3497.0,3783.0,1977.0,3773.0,1665.0,14310.0,2712.0,null,1600.0,3929.0,2300.0,1862.0,1735.0,3156.0,1072.0,5425.0,1177.0,1868.0,15517.0,2150.0,8064.999999999999,1617.0,4267.0,18588.0,3003.0,1612.0,2566.0,2200.0,2238.0,2017.9999999999998,1951.0,4213.0,7421.0,4493.0,5071.0,1669.0,1876.0,1831.0,2016.0,1600.0,1732.0,3304.0,5126.0,1648.0,2409.0,3348.0,5036.0,6847.0,1620.0,1710.0,7247.0,3688.0,2584.0,2427.0,7810.0,2995.0,3511.0,2090.0,32719.0,6082.0,3063.0,1650.0,2100.0,3439.0,2390.0,1736.0,2776.0,2923.0,1860.0,8845.0,3492.0,2000.0,1655.0,2494.0,2812.0,2057.0,3132.0,1606.0,2390.0,4302.0,2334.0,2181.0,2040.0,8192.0,1831.0,2395.0,1655.0,4154.0,3113.0,2799.0,1607.0,1785.0,1680.0,3007.0,1859.0,6000.0,1685.0,2123.0,1800.0,4022.0000000000005,2547.0,8596.0,3770.0,1600.0,2392.0,4222.0,3097.0,1659.0,5113.0,3355.0,2470.0,3340.0,2983.0,1680.0,2415.0,1480.0,4563.0,2364.0,1769.0,9178.0,1589.0,2664.0,3362.0,2098.0,2007.0000000000002,1864.0,4431.0,8180.0,1941.0,2693.0,2033.9999999999998,2027.0000000000002,1700.0,1770.0,1700.0,2187.0,3500.0,4360.0,1968.0,2716.0,4633.0,1800.0,2678.0,2260.0,6132.0,2199.0,4939.0,2200.0,2324.0,2607.0,2467.0,2358.0,7334.0,7302.0,1787.0,1926.0,12154.0,1922.0,5246.0,1785.0,6838.0,5560.0,3200.0,1982.0,1740.0,1799.0,4041.0000000000005,4981.0,1530.0,2227.0,2262.0,5209.0,3189.0,4858.0,3179.0,4289.0,2071.0,2611.0,1985.0,1895.0,1787.0,2711.0,1859.0,2515.0,1796.0,1530.0,2827.0,1787.0,1787.0,1600.0,1831.0,2212.0,1780.0,2229.0,3993.0,1845.0,1700.0,14207.0,5422.0,2000.0,2000.0,3853.0,3386.0,1787.0,4374.0,5174.0,1785.0,3830.0,2199.0,4042.0,6070.0,1680.0,10122.0,3121.0,2432.0,1880.0,2245.0,4779.0,3188.0,1787.0,2000.0,2101.0,5500.0,2600.0,1854.0,2607.0,2277.0,2300.0,1955.0,4256.0,6150.0,1766.0,2276.0,2511.0,11963.0,1800.0,2100.0,1754.0,1904.0,2355.0,2220.0,2096.0,2141.0,1550.0,2416.0,5522.0,4618.0,2340.0,2324.0,6029.0,1867.0,2117.0,2328.0,2294.0,4180.0,2908.0,2715.0,1681.0,4309.0,3088.0,2029.0,4561.0,3000.0,3000.0,5384.0,1885.0,1750.0,1578.0,6426.0,3633.0,4066.0,2246.0,1590.0,1800.0,1942.0,7037.0,1446.0,3062.0,13698.0,2468.0,2290.0,1787.0,2252.0,1846.0,2300.0,2551.0,1786.0,1800.0,2350.0,1850.0,2049.0,5792.0,4538.0,19919.0,5148.0,10278.0,1082.0,5122.0,2322.0,5625.0,1215.0,8459.0,2924.0,2338.0,1911.0,1792.0,2735.0,3156.0,2975.0,1500.0,1870.0,3017.0,5283.0,2573.0,2292.0,2908.0,2631.0,4500.0,3125.0,2013.0,2355.0,1737.0,1700.0,1868.0,1840.0,6651.0,1990.0,1600.0,2207.0,1797.0,1315.0,4461.0,5262.0,2454.0,6001.0,1649.0,2243.0,3699.0,2776.0,2214.0,2417.0,2009.0,6359.0,1611.0,2000.0,4010.0,27300.0,1697.0,1719.0,2499.0,2122.0,1872.0,4235.0,2907.0,2825.0,3535.0,2048.0,1780.0,1771.0,3500.0,17672.0,2504.0,1886.0,1936.0,4134.0,3013.0,2200.0,1864.0,1757.0,3157.0,2017.9999999999998,5000.0,2804.0,4767.0,1780.0,5627.0,2300.0,3511.0,2313.0,1844.0,2300.0,2588.0,1590.0,2032.0,2250.0,2309.0,2668.0,1600.0,3504.0,2100.0,1600.0,2647.0,2250.0,2066.0,1865.0,4507.0,2687.0,7351.0,3328.0,1900.0,4631.0,1865.0,2343.0,2297.0,2120.0,2154.0,3905.0,2388.0,2322.0,3248.0,2239.0,2314.0,1900.0,3296.0,1850.0,5776.0,2288.0,2000.0,5838.0,3194.0,4861.0,1900.0,2450.0,6226.0,1900.0,1734.0,1824.0,1760.0,2282.0,1525.0,3356.0,2216.0,1787.0,1670.0,5194.0,2446.0,2270.0,2220.0,2986.0,4105.0,2185.0,1800.0,1845.0,3506.0,1845.0,1750.0,2612.0,11346.0,1803.0,1537.0,2000.0,2350.0,1596.0,2475.0,2005.9999999999998,1710.0,1882.0,2263.0,5078.0,2609.0,2237.0,2655.0,1830.0,7968.0,1809.0,4214.0,1904.0,2265.0,1650.0,1909.0,1914.0,5272.0,1710.0,2104.0,2392.0,1850.0,19123.0,1865.0,4800.0,1800.0,3560.0,3029.0,4488.0,3818.0,1886.0,2000.0,3507.0,21976.0,10262.0,4750.0,2781.0,1982.0,1577.0,2070.0,3200.0,1803.0,2085.0,3708.0,1890.0,2310.0,3030.0,3584.0,9043.0,2071.0,4510.0,1961.0,1827.0,4009.0000000000005,2657.0,6421.0,2068.0,1680.0,2201.0,1622.0,2409.0,1785.0,2854.0,2341.0,2993.0,1700.0,2297.0,2902.0,6479.0,2175.0,2300.0,2267.0,2500.0,1650.0,1986.0,7653.0,1900.0,1800.0,2443.0,2903.0,2717.0,1780.0,1800.0,3144.0,2874.0,18757.0,2148.0,2527.0,1787.0,5533.0,3500.0,2081.0,2306.0,2131.0,2053.0,3035.0,2294.0,2905.0,3760.0,2547.0,2024.0,2475.0,1967.0,3634.0,1996.0,1780.0,1787.0,6481.0,9295.0,1751.0,2588.0,1612.0,1842.0,3355.0,4870.0,5512.0,3066.0,3218.0,2780.0,1650.0,1600.0,1710.0,2300.0,2275.0,2912.0,1680.0,4436.0,1493.0,2459.0,2183.0,4118.0,1800.0,4760.0,3780.0,4335.0,2150.0,1981.0,6150.0,3194.0,3396.0,2603.0,6995.0,2743.0,2500.0,2261.0,4602.0,3911.0,2317.0,2174.0,5910.0,2000.0,2067.0,2268.0,2674.0,1690.0,2184.0,2078.0,10712.0,6511.0,3955.0,4936.0,3519.0,1874.0,1900.0,3559.0,2468.0,1936.0,4350.0,1100.0,4561.0,3100.0,2221.0,1780.0,9331.0,2127.0,2477.0,1667.0,1688.0,5551.0,1841.0,1818.0,16439.0,1893.0,1800.0,10872.0,2100.0,1443.0,2234.0,4888.0,2938.0,1780.0,5047.0,3800.0,3500.0,5067.0,1982.0,2053.0,2631.0,2017.9999999999998,2000.0,1538.0,1773.0,4145.0,5247.0,11672.0,3292.0,2000.0,2728.0,2207.0,5436.0,2790.0,2367.0,2466.0,2023.0000000000002,2336.0,6380.0,1808.0,1913.0,2387.0,1900.0,1649.0,4739.0,2529.0,2281.0,2872.0,3056.0,1785.0,2800.0,2089.0,2250.0,1997.0,1916.0,1862.0,8594.0,1913.0,4313.0,3726.0,2747.0,1871.0,1886.0,1512.0,1300.0,1600.0,1680.0,1915.0,1787.0,1600.0,1784.0,1882.0,1850.0,4029.0,2354.0,2737.0,1860.0,1892.0,2276.0,3580.0,3866.0,2568.0,1780.0,1769.0,1894.0,6381.0,11051.0,1989.0,3028.0,2050.0,4009.0000000000005,8317.0,1246.0,2017.9999999999998,2329.0,1865.0,2290.0,3452.0,2360.0,1600.0,1913.0,2023.0000000000002,4571.0,1787.0,1501.0,5692.0,1767.0,2245.0,1874.0,2242.0,2000.0,5028.0,1876.0,1511.0,1885.0,3540.0,5236.0,1718.0,2151.0,2204.0,2067.0,1778.0,1680.0,2755.0,2351.0,1777.0,2009.9999999999998,1813.0,5728.0,1600.0,5029.0,2350.0,2107.0,1953.0,4219.0,2500.0,2061.0,4729.0,3682.0,1750.0,1835.0,1910.0,2012.0,6129.0,2021.0,2750.0,4500.0,null,2983.0,1680.0,1600.0,2123.0,1799.0,3464.0,2750.0,3741.0,2295.0,2044.0,1566.0,1569.0,1979.0,4543.0,2954.0,1777.0,2310.0,5172.0,1750.0,2000.0,1810.0,2347.0,3294.0,2850.0,2488.0,1860.0,2041.9999999999998,2051.0,2451.0,2449.0,2100.0,2211.0,4540.0,3037.0,6461.0,4444.0,2960.0,3664.0,1780.0,2141.0,1950.0,1276.0,1493.0,2351.0,2403.0,1739.0,3027.0,2051.0,3974.0,3246.0,2242.0,6634.0,8214.0,2053.0,2633.0,1600.0,2978.0,2067.0,5197.0,3420.0,4256.0,3857.0,2000.0,1831.0,2000.0,2411.0,2131.0,1620.0,2041.9999999999998,1554.0,2127.0,4416.0,2145.0,2788.0,2165.0,5359.0,1785.0,5649.0,1642.0,1780.0,13226.0,4943.0,2350.0,1780.0,2364.0,3771.0,1600.0,5719.0,11565.0,1780.0,2256.0,2199.0,4179.0,2687.0,3123.0,2600.0,1960.0,1989.0,2684.0,2104.0,3304.0,2236.0,1700.0,2689.0,1882.0,8201.0,5271.0,1778.0,4326.0,1982.0,1862.0,3437.0,2169.0,1787.0,5617.0,5339.0,2180.0,2048.0,6135.0,1950.0,6156.0,2840.0,3869.0,2638.0,2565.0,17069.0,1862.0,1614.0,1764.0,1719.0,2106.0,1847.0,2901.0,4091.9999999999995,2055.0,4180.0,1650.0,3087.0,2045.9999999999998,1809.0,1800.0,2352.0,1950.0,2158.0,2908.0,4460.0,1700.0,3140.0,1992.0,2494.0,3734.0,6574.0,5968.0,2100.0,2131.0,1835.0,1900.0,1767.0,4097.0,3366.0,4431.0,2510.0,4379.0,2619.0,12999.0,2500.0,3198.0,3391.0,2692.0,2100.0,1871.0,3203.0,3893.0,4886.0,2069.0,9779.0,2100.0,2043.0000000000002,1605.0,2259.0,2767.0,1554.0,10323.0,9300.0,2200.0,1410.0,2482.0,3138.0,1814.0,3168.0,1680.0,1785.0,1555.0,3208.0,2185.0,2416.0,2353.0,3564.0,11460.0,4438.0,2214.0,4035.9999999999995,2200.0,3748.0,1830.0,2401.0,2777.0,4374.0,3417.0,1953.0,2619.0,2058.0,2651.0,1901.0,7187.0,2000.0,4944.0,1615.0,3631.0,3797.0,1649.0,2948.0,4594.0,2094.0,3230.0,4050.0,2850.0,1860.0,2100.0,1736.0,1949.0,1490.0,4849.0,2169.0,3808.0,7345.0,2230.0,2421.0,1866.0,6011.0,2040.0,2230.0,2098.0,1650.0,2175.0,1600.0,3228.0,2736.0,1864.0,2062.0,10920.0,9215.0,1777.0,3561.0,1814.0,1680.0,3469.0,1734.0,1775.0,1651.0,4470.0,4838.0,1787.0,2954.0,7093.0,2405.0,5009.0,2713.0,2518.0,6054.0,4823.0,3181.0,1810.0,1661.0,3375.0,2237.0,2197.0,3212.0,1924.0,2400.0,1750.0,3444.0,21043.0,1846.0,1900.0,2849.0,2507.0,3556.0,2582.0,5928.0,2922.0,2107.0,1509.0,3144.0,3810.0,2073.0,6662.0,3300.0,1812.0,2285.0,2089.0,2185.0,3543.0,2741.0,1551.0,2050.0,1541.0,2950.0,6243.0,2379.0,5445.0,3461.0,3013.0,2130.0,9492.0,4173.0,2436.0,3650.0,7320.0,1780.0,1940.0,1502.0,4678.0,1787.0,4666.0,null,2410.0,2235.0,1988.0,5814.0,2000.0,1693.0,2429.0,2200.0,2835.0,1442.0,1600.0,3000.0,3428.0,1788.0,5538.0,2992.0,1369.0,4883.0,2877.0,2688.0,2060.0,2516.0,1989.0,1851.0,2875.0,1820.0,3750.0,2194.0,2959.0,3557.0,1395.0,4846.0,1709.0,7165.0,2150.0,2442.0,3676.0,1780.0,4611.0,1600.0,4341.0,9632.0,2013.0,3175.0,9283.0,4385.0,6655.0,1948.0,1787.0,3117.0,2690.0,2100.0,3443.0,1800.0,2199.0,4111.0,2403.0,2434.0,1858.0,7142.0,1697.0,2600.0,1552.0],\"y0\":\" \",\"yaxis\":\"y\",\"type\":\"violin\"},{\"alignmentgroup\":\"True\",\"box\":{\"visible\":true},\"hovertemplate\":\"inadimplencia=SIM<br>renda_cliente=%{y}<extra></extra>\",\"legendgroup\":\"SIM\",\"marker\":{\"color\":\"#EF553B\"},\"name\":\"SIM\",\"offsetgroup\":\"SIM\",\"orientation\":\"v\",\"scalegroup\":\"True\",\"showlegend\":true,\"x0\":\" \",\"xaxis\":\"x\",\"y\":[2154.0,6349.0,2000.0,1832.0,2168.0,6087.0,2176.0,2129.0,1780.0,1780.0,4373.0,2160.0,2151.0,1810.0,7951.0,1754.0,8060.000000000001,2271.0,1866.0,2136.0,1926.0,1700.0,2210.0,1860.0,1853.0,3183.0,2164.0,1600.0,1277.0,1787.0,2300.0,1822.0,2199.0,2119.0,2321.0,3167.0,1865.0,1780.0,1877.0,2519.0,1858.0,1779.0,1922.0,2553.0,3403.0,4053.0,3166.0,2725.0,2050.0,1584.0,5775.0,2068.0,3642.0,3352.0,2631.0,1600.0,1868.0,4458.0,3629.0,1660.0,2421.0,2600.0,3769.0,1780.0,4165.0,2000.0,3856.0,4000.0,3269.0,2350.0,2252.0,2388.0,1708.0,1463.0,1782.0,3244.0,1780.0,1780.0,1894.0,7345.0,2212.0,2305.0,1787.0,2335.0,1884.0,1843.0,1600.0,9809.0,3600.0,1998.0,3075.0,4597.0,4482.0,1756.0,11140.0,1785.0,2192.0,1852.0,2295.0,1849.0,1679.0,2084.0,1926.0,1497.0,1780.0,3024.0,2300.0,2388.0,4442.0,2820.0,6981.0,1846.0,2196.0,4315.0,2626.0,2998.0,3331.0,1732.0,2992.0,2214.0,3114.0,1986.0,2586.0,null,2525.0,2469.0,5824.0,2017.9999999999998,2405.0,2211.0,2100.0,2100.0,1970.0,2989.0,4500.0,2003.0,1868.0,2905.0,1625.0,1982.0,4600.0,2311.0,1798.0,3596.0,3920.0,1708.0,2697.0,2402.0,2811.0,2238.0,4358.0,5030.0,3916.0,3615.0,2235.0,2005.0,1680.0,2744.0,2187.0,1780.0,7071.0,2416.0,2914.0,2300.0,2100.0,3662.0,4443.0,1450.0,1905.0,1852.0,2448.0,2259.0,1700.0,10261.0,3158.0,4472.0,2494.0,3146.0,2825.0,2143.0,2760.0,5741.0,1944.0,1819.0,4365.0,1896.0,3521.0,1700.0,2720.0,1719.0,1860.0,1557.0,1857.0,1940.0,2611.0,3100.0,2843.0,3150.0,2516.0,1730.0,2719.0,1800.0,3065.0,2198.0,2164.0,3348.0,24787.0,2350.0,4504.0,7889.0,5491.0,1850.0,1780.0,1905.0,2141.0,2754.0,1894.0,1600.0,1860.0,1778.0,1600.0,2570.0,2695.0,1950.0,3746.0,2522.0,1695.0,6592.0,1566.0,2000.0,3000.0,2085.0,4091.0,13478.0,1921.0,5480.0,2388.0,2188.0,1786.0,6600.0,10000.0,3657.0,2084.0,4290.0,2515.0,4364.0,2000.0,3775.0,1868.0,3539.0,1780.0,2000.0,2500.0,1905.0,3352.0,1858.0,2195.0,3210.0,2000.0,3493.0,2176.0,1807.0,1787.0,2485.0,2242.0,1685.0,1878.0,1700.0,1786.0,2083.0,1866.0,2510.0,2100.0,2111.0,4077.0,2809.0,3908.0,2603.0,1771.0,1500.0,2200.0,2249.0,2250.0,2713.0,1787.0,1837.0,1680.0,2259.0,1800.0,2633.0,3206.0,2247.0,1710.0,2968.0,2618.0,2848.0,1980.0,1700.0,5059.0,1780.0,3821.0,1785.0,3792.0,1430.0,2200.0,2118.0,1886.0,1913.0,1787.0,2098.0,2951.0,2351.0,2408.0,1850.0,3072.0,1830.0,6003.0,1785.0,6213.0,2164.0,3115.0,1950.0,1780.0,1700.0,1800.0,1780.0,2000.0,1529.0,1800.0,1785.0,3227.0,1616.0,2383.0,3481.0,2949.0,5639.0,1868.0,6804.0,1786.0,1600.0,1655.0,3114.0,3034.0,2900.0,1680.0,2467.0,4598.0,3508.0,6755.0,4027.9999999999995,2326.0,1600.0,2406.0,2645.0,1602.0,1764.0,2100.0,5000.0,1776.0,2400.0,3073.0,2150.0,2004.0,1865.0,2515.0,2961.0,1798.0,2355.0,2009.9999999999998,1900.0,1787.0,4264.0,3905.0,2300.0,5800.0,27962.0,2969.0,1993.0,4317.0,1600.0,9000.0,3169.0,1506.0,2098.0,4371.0,1800.0,2728.0,2865.0,24910.0,1693.0,1780.0,7095.0,3504.0,2365.0,null,2306.0,2000.0,1841.0,4472.0,1846.0,5096.0,1860.0,3348.0,2483.0,1865.0,1829.0,1787.0,2000.0,5538.0,2300.0,1632.0,1622.0,2633.0,1782.0,1800.0,1769.0,1680.0,1780.0,1865.0,3828.0,2309.0,3569.0,6133.0,2100.0,1726.0,3880.0,2200.0,2075.0,1971.0,1770.0,3241.0,2436.0,1750.0,1856.0,5000.0,3123.0,1787.0,2375.0,2100.0,1800.0,1725.0,1952.0,1702.0,2818.0,1585.0,1898.0,2427.0,1731.0,1851.0,2398.0,1919.0,2119.0,2324.0,5500.0,1600.0,2300.0,4795.0,1972.0,1803.0,1868.0,8950.0,2956.0,7296.0,2495.0,4976.0,2400.0,2309.0,null,1618.0,5050.0,2377.0,1696.0,3104.0,2055.0,1800.0,2600.0,1822.0,2628.0,2057.0,1632.0,2525.0,1860.0,2080.0,2436.0,1700.0,2000.0,1680.0,2759.0,2852.0,1675.0,4531.0,2080.0,2572.0,2165.0,1860.0,1894.0,4279.0,1929.0,2288.0,2371.0,3900.0,5712.0,1705.0,1804.0,2200.0,2520.0,2483.0,6086.0,3102.0,1700.0,1722.0,1701.0,1700.0,1867.0,3582.0,1763.0,2000.0,1760.0,2047.0000000000002,1850.0,3029.0,4536.0,1780.0,5121.0,1780.0,1400.0,1900.0,5799.0,3200.0,2029.0,1827.0,3579.0,2453.0,1624.0,2435.0,1919.0,2381.0,1800.0,1892.0,1581.0,2000.0,1849.0,1859.0,1616.0,1680.0,3698.0,2445.0,1785.0,1800.0,1785.0,2100.0,1680.0,2600.0,3254.0,1868.0,2514.0,2100.0,2363.0,2167.0,3243.0,1785.0,1787.0,1860.0,1787.0,2100.0,1300.0,6556.0,3088.0,1748.0,2241.0,1680.0,1780.0,4429.0,1933.0,2896.0,1785.0,2298.0,1850.0,1930.0,3900.0,2300.0,null,1900.0,2003.0,3261.0,1820.0,2856.0,1700.0,3452.0,1750.0,3224.0,3983.0,2200.0,2236.0,3293.0,1850.0,1787.0,2200.0,1868.0,1950.0,6835.0,2000.0,2970.0,1748.0,5713.0,2598.0,1869.0,1726.0,2950.0,3545.0,1967.0,2680.0,1780.0,1785.0,973000.0,1660.0,1585.0,4467.0,2400.0,3114.0,1867.0,2000.0,2944.0,2012.0,2028.0,3858.0,2100.0,1720.0,1640.0,1787.0,3271.0,2284.0,1900.0,1837.0,2864.0,2120.0,3406.0,1787.0,1797.0,5287.0,11678.0,2400.0,1680.0,2531.0,2994.0,2583.0,3007.0,1780.0,1812.0,1942.0,1600.0,1777.0,2391.0,2371.0,1600.0,4904.0,4474.0,2827.0,1765.0,1879.0,3129.0,1681.0,1865.0,3067.0,2570.0,1804.0,1862.0,1860.0,1865.0,3827.0,3962.0,1924.0,1819.0,null,2803.0,7662.0,2187.0,5070.0,2419.0,1571.0,1850.0,1860.0,1800.0,2621.0,2514.0,1600.0,2578.0,3292.0,2265.0,5306.0,1602.0,1785.0,1866.0,4457.0,2000.0,4367.0,1900.0,2200.0,1800.0,2939.0,1999.0,1813.0,2500.0,2198.0,3296.0,3380.0,2197.0,2209.0,4962.0,1806.0,2004.0,2625.0,2979.0,1635.0,1906.0,1986.0,1858.0,1575.0,1778.0,1941.0,2624.0,2666.0,2004.0,2100.0,3326.0,1600.0,1780.0,2100.0,1700.0,6340.0,1900.0,2200.0,1721.0,2080.0,1900.0,1917.0,1950.0,2000.0,3062.0,2688.0,3000.0,1854.0,2162.0,3493.0,1953.0,1712.0,3934.0,2554.0,1780.0,1680.0,2050.0,1827.0,2015.0000000000002,1795.0,2696.0,15293.0,1760.0,1899.0,3000.0,2281.0,1917.0,1889.0,1640.0,4243.0,2626.0,2487.0,2080.0,1767.0,2325.0,3338.0,5845.0,2509.0,1600.0,1770.0,2276.0,3000.0,2921.0,2617.0,4838.0,3118.0,2228.0,2000.0,3084.0,2600.0,4400.0,3138.0,1600.0,2822.0,2651.0,3709.0,2050.0,2475.0,2674.0,2188.0,2320.0,2154.0,null,1950.0,1701.0,2187.0,1900.0,1892.0,3000.0,2100.0,2350.0,2360.0,1780.0,1780.0,1844.0,3060.0,1770.0,1755.0,1951.0,2409.0,5527.0,2240.0,1868.0,1950.0,4831.0,1780.0,2413.0,1921.0,1860.0,1912.0,3094.0,8060.000000000001,1717.0,3396.0,1768.0,1885.0,5936.0,5187.0,2276.0,1980.0,1806.0,1882.0,4268.0,1867.0,2631.0,2469.0,1984.0,1868.0,1824.0,2999.0,1866.0,1930.0,2835.0,2275.0,1780.0,1960.0,1868.0,3186.0,2300.0,2481.0,1845.0,2433.0,1786.0,11574.0,3148.0,1660.0,1947.0,1444.0,1600.0,1747.0,3415.0,2200.0,1889.0,2793.0,1650.0,1680.0,1900.0,2390.0,1915.0,2060.0,1900.0,6634.0,1780.0,1974.0,1920.0,3932.0,1680.0,1635.0,2001.0,2423.0,1780.0,1687.0,3522.0,1680.0,3578.0,2110.0,1950.0,1930.0,2000.0,1903.0,1942.0,2011.0000000000002,2738.0,1865.0,1868.0,3481.0,5403.0,1588.0,2521.0,7873.0,2526.0,2417.0,2399.0,2410.0,2071.0,3981.0,1810.0,1780.0,2600.0,12061.0,2141.0,3286.0,6379.0,1860.0,2069.0,1805.0,3170.0,3439.0,2945.0,2626.0,2417.0,1750.0,1780.0,2509.0,2238.0,1617.0,3466.0,1970.0,1972.0,2830.0,2402.0,2832.0,1820.0,1658.0,2563.0,1874.0,1710.0,1623.0,2200.0,1680.0,2380.0,1971.0,2419.0,2215.0,2220.0,6589.0,2000.0,9141.0,1600.0,1690.0,2472.0,2278.0,2204.0,1850.0,1673.0,2100.0,2300.0,3700.0,1844.0,2050.0,1948.0,5691.0,1750.0,1868.0,3931.0,2250.0,3719.0,1777.0,1917.0,3498.0,1600.0,1651.0,1775.0,1800.0,2094.0,1998.0,2050.0,2629.0,4130.0,1786.0,1880.0,1741.0,3161.0,2478.0,4825.0,2185.0,6771.0,1867.0,1912.0,1860.0,2173.0,1685.0,1900.0,3351.0,2707.0,2001.0,2100.0,2542.0,3002.0,2176.0,1680.0,1860.0,1950.0,5519.0,2093.0,2668.0,1950.0,2074.0,2670.0,1954.0,1661.0,3054.0,2471.0,2223.0,1785.0,7662.0,1459.0,1800.0,2084.0,4108.0,1958.0,6000.0,2241.0,2674.0,1050.0,2381.0,3704.0,1840.0,1680.0,2114.0,2564.0,2856.0,2712.0,2380.0,2041.9999999999998,2952.0,1600.0,3161.0,3291.0,1900.0,2109.0,3086.0,4002.0,2657.0,1925.0,1884.0,1631.0,1950.0,2345.0,2083.0,null,1831.0,5278.0,2000.0,2116.0,1780.0,2187.0,2016.0,2116.0,3542.0,1826.0,1700.0,2469.0,1810.0,2892.0,3879.0,4100.0,2547.0,1785.0,4940.0,null,1576.0,2598.0,2182.0,1800.0,2651.0,5084.0,1850.0,1649.0,1861.0,1786.0,4782.0,1970.0,3528.0,6114.0,4918.0,4163.0,2633.0,2228.0,1864.0,1780.0,1750.0,2117.0,1480.0,2448.0,2135.0,1600.0,2391.0,2199.0,1820.0,10050.0,2319.0,2200.0,3796.0,2121.0,2100.0,1869.0,3865.0,2300.0,1800.0,2501.0,1600.0,1867.0,1598.0,2050.0,5178.0,3439.0,1747.0,1726.0,1700.0,3742.0,1787.0,2213.0,1728.0,1851.0,2726.0,1725.0,2542.0,2855.0,1917.0,2078.0,3234.0,2412.0,1679.0,4307.0,1838.0,2618.0,1716.0,4612.0,2283.0,2344.0,3313.0,2092.0,3098.0,2172.0,2033.9999999999998,2104.0,1780.0,2922.0,1884.0,2021.0,4287.0,1807.0,1850.0,1780.0,1782.0,2471.0,1576.0,2250.0,2509.0,2334.0,1680.0,1768.0,1868.0,1914.0,6494.0,1553.0,2558.0,1815.0,2467.0,1900.0,2292.0,1970.0,2200.0,1890.0,2113.0,1642.0,2542.0,1799.0,1860.0,1760.0,1846.0,2656.0,15216.0,1680.0,2777.0,2000.0,1988.0,1780.0,1680.0,4563.0,9060.0,1780.0,1972.0,2300.0,5410.0,4240.0,2297.0,4831.0,1600.0,2947.0,2430.0,2100.0,4000.0,2893.0,1780.0,1997.0,2448.0,4621.0,1971.0,2017.0,2880.0,1864.0,3174.0,3106.0,3715.0,2207.0,4018.0,1780.0,2000.0,1831.0,1868.0,3082.0,2732.0,1724.0,2100.0,2630.0,1700.0,2124.0,2000.0,2700.0,3067.0,2100.0,2840.0,2000.0,1963.0,1532.0,1750.0,2400.0,4579.0,1803.0,2297.0,8254.0,2400.0,2187.0,1780.0,2523.0,1629.0,2082.0,2826.0,1919.0,3502.0,2300.0,1700.0,2266.0,1861.0,3091.0,4915.0,1850.0,2029.0,1679.0,1925.0,1678.0,2067.0,3417.0,2200.0,3033.0,5138.0,1520.0,1787.0,2348.0,1855.0,2505.0,2913.0,1600.0,2056.0,2998.0,1750.0,1700.0,1830.0,4843.0,2330.0,1760.0,5348.0,4174.0,1700.0,2268.0,2100.0,1680.0,3432.0,4810.0,5410.0,2404.0,1780.0,2250.0,2450.0,1907.0,6454.0,7980.0,1772.0,2945.0,1850.0,1790.0,1760.0,1700.0,1680.0,3100.0,2807.0,2584.0,3400.0,1750.0,1780.0,2758.0,1703.0,7962.0,2450.0,1860.0,3319.0,2455.0,1578.0,3778.0,3470.0,8261.0,2577.0,1800.0,1584.0,2676.0,2500.0,3196.0,3012.0,6480.0,2700.0,8000.0,1850.0,4156.0,3450.0,1596.0,1888.0,3553.0,2275.0,4501.0,2000.0,1933.0,2112.0,1805.0,1962.0,1582.0,2511.0,1734.0,1900.0,9464.0,2086.0,1787.0,2951.0,1901.0,3184.0,2227.0,1860.0,1840.0,5250.0,1856.0,3023.0,3878.0,3591.0,2431.0,2389.0,1621.0,2301.0,2299.0,2667.0,2240.0,4164.0,2300.0,15073.0,2537.0,6690.0,1862.0,1860.0,1688.0,1820.0,2708.0,2025.9999999999998,2358.0,2253.0,12000.0,1787.0,1969.0,2608.0,1562.0,2000.0,3260.0,2547.0,2000.0,1801.0,1600.0,4619.0,2017.0,2000.0,3292.0,2217.0,9328.0,1841.0,2100.0,1659.0,1730.0,2699.0,1479.0,2714.0,1930.0,2672.0,2500.0,4317.0,2118.0,1901.0,2036.0,2179.0,2408.0,1860.0,3069.0,1668.0,2823.0,1856.0,2400.0,2529.0,3623.0,2156.0,4145.0,1907.0,1800.0,1777.0,1888.0,3844.0,2037.0,2541.0,1871.0,1573.0,1710.0,4195.0,4629.0,2974.0,2220.0,2418.0,2659.0,1409.0,1868.0,2435.0,2422.0,2108.0,1861.0,4900.0,1846.0,1712.0,1670.0,3912.0,1936.0,2500.0,2269.0,2122.0,1853.0,3500.0,2080.0,1976.0,1800.0,1948.0,3857.0,4760.0,1916.0,1639.0,2001.9999999999998,1968.0,1750.0,9562.0,3099.0,3846.0,2271.0,1103.0,1868.0,5000.0,2590.0,1824.0,2870.0,6504.0,2653.0,1680.0,3241.0,4742.0,12534.0,1756.0,1863.0,2994.0,1815.0,1693.0,2668.0,1860.0,4293.0,2914.0,2344.0,2685.0,1780.0,2277.0,2915.0,1600.0,3475.0,2478.0,2168.0,1712.0,1950.0,2187.0,6494.0,5734.0,3577.0,1950.0,1859.0,2070.0,2050.0,2000.0,1788.0,2243.0,1850.0,1780.0,1860.0,1700.0,2472.0,5337.0,2157.0,3147.0,1780.0,4561.0,1682.0,2052.0,2521.0,3354.0,2130.0,2946.0,1800.0,1680.0,3936.0,1855.0,1950.0,1780.0,2037.0,1680.0,2244.0,2258.0,3775.0,1975.0,4737.0,2067.0,1472.0,2779.0,1913.0,2873.0,2302.0,3975.0,2151.0,3414.0,1970.0,1501.0,2450.0,1600.0,3224.0,2000.0,1830.0,2246.0,2360.0,1865.0,2089.0,1942.0,4480.0,2414.0,2066.0,1467.0,2562.0,1729.0,3800.0,3728.0,2200.0,2817.0,1529.0,4078.9999999999995,1907.0,2637.0,5219.0,3919.0,2000.0,1787.0,1946.0,1778.0,5699.0,1295.0,1270.0,1711.0,2257.0,2199.0,1900.0,2100.0,2986.0,3700.0,1780.0,2140.0,2060.0,1868.0,2395.0,8045.999999999999,1867.0,1924.0,2322.0,1780.0,2443.0,1781.0,4464.0,1950.0,4755.0,6262.0,1900.0,6182.0,1750.0,1934.0,2000.0,2269.0,2680.0,2392.0,9597.0,2137.0,1989.0,2115.0,2994.0,1914.0,1960.0,1787.0,4261.0,2100.0,10977.0,1625.0,4816.0,2088.0,2437.0,1800.0,1787.0,2310.0,3825.0,2141.0,1847.0,3580.0,2500.0,2372.0,1564.0,2100.0,6541.0,1868.0,3186.0,1860.0,1700.0,3289.0,2379.0,2301.0,1787.0,2350.0,2101.0,2029.9999999999998,1500.0,1784.0,3204.0,2145.0,1633.0,2100.0,1723.0,1850.0,2677.0,1440.0,2554.0,2842.0,2713.0,2378.0,1615.0,3138.0,1877.0,12436.0,3532.0,1894.0,1807.0,2315.0,4710.0,2624.0,1953.0,2450.0,2231.0,1632.0,3067.0,1650.0,3064.0,1622.0,1741.0,2001.0,1862.0,3386.0,2200.0,1940.0,2815.0,3934.0,2190.0,6206.0,3913.0,3738.0,2000.0,4939.0,1860.0,2000.0,1912.0,3300.0,13445.0,1750.0,3711.0,1851.0,1714.0,2496.0,1833.0,1596.0,3100.0,2300.0,2230.0,2045.0,1865.0,2227.0,2087.0,1846.0,2440.0,1685.0,2077.0,5056.0,1609.0,1473.0,2901.0,1780.0,3104.0,1780.0,2097.0,2830.0,1777.0,1631.0,2909.0,2431.0,5013.0,1960.0,1780.0,1601.0,1753.0,2250.0,1950.0,2415.0,1700.0,1900.0,2339.0,5323.0,1710.0,2000.0,2033.0,2753.0,1600.0,2004.0,1860.0,2241.0,2023.0000000000002,3600.0,1787.0,1900.0,2306.0,2224.0,2000.0,4628.0,2508.0,3425.0,1865.0,1900.0,3226.0,17420.0,2124.0,1709.0,2896.0,4695.0,2232.0,3331.0,2135.0,1940.0,9448.0,11553.0,1650.0,1860.0,2000.0,1994.0,1660.0,2182.0,2055.0,1785.0,1685.0,1734.0,1780.0,1900.0,7090.0,2605.0,4089.0000000000005,1648.0,1900.0,4898.0,1946.0,2070.0,1641.0,1860.0,1815.0,1600.0,4234.0,4017.0000000000005,1569.0,2092.0,2000.0,1764.0,4966.0,2414.0,1838.0,3281.0,2000.0,2123.0,3499.0,1780.0,1600.0,1608.0,2905.0,5652.0,1830.0,2100.0,1574.0,2032.0,6000.0,1787.0,2500.0,3279.0,2765.0,2101.0,3772.0,1865.0,1600.0,1787.0,1735.0,2736.0,1902.0,2742.0,1637.0,2050.0,4810.0,1978.0,2064.0,2255.0,1593.0,1780.0,3200.0,1785.0,2188.0,4527.0,4170.0,3265.0,1865.0,5884.0,24051.0,1760.0,5406.0,2231.0,1866.0,1785.0,1599.0,2350.0,2111.0,2635.0,1963.0,2400.0,2350.0,4529.0,4382.0,1759.0,4243.0,1905.0,1750.0,2618.0,1800.0,4125.0,2000.0,1392.0,2300.0,2568.0,1736.0,1780.0,3066.0,2248.0,2013.9999999999998,2243.0,2150.0,2205.0,1950.0,1700.0,2160.0,4275.0,1860.0,1825.0,5875.0,2047.0000000000002,2036.0,2242.0,2607.0,1900.0,1680.0,2583.0,1300.0,1710.0,2003.0,1800.0,2962.0,2497.0,9037.0,6102.0,2922.0,2943.0,3943.0,2551.0,2873.0,1867.0,2049.0,2906.0,2300.0,15058.0,2392.0,1949.0,2450.0,1780.0,1780.0,2200.0,6555.0,3019.0,2544.0,2215.0,1510.0,3211.0,3651.0,2124.0,1734.0,1984.0,2984.0,2300.0,3963.0,1611.0,3961.0,1600.0,1776.0,2300.0,1864.0,7366.0,1680.0,1704.0,1868.0,5161.0,2050.0,1900.0,6012.0,3439.0,1990.0,1702.0,2000.0,3406.0,1800.0,1738.0,1589.0,1990.0,3200.0,1993.0,4325.0,6480.0,4108.0,2373.0,1600.0,2050.0,1798.0,1762.0,1882.0,23376.0,1749.0,3540.0,1778.0,1780.0,2300.0,2100.0,2204.0,1867.0,1977.0,2088.0,2195.0,1900.0,2372.0,2000.0,2295.0,2261.0,2000.0,1710.0,2393.0,3148.0,2051.0,2100.0,2328.0,4835.0,4062.9999999999995,2059.0,1650.0,1743.0,2000.0,1780.0,3295.0,1780.0,1500.0,2075.0,2383.0,3435.0,2100.0,2910.0,1807.0,2024.0,2200.0,1860.0,1900.0,2242.0,1867.0,1950.0,2938.0,4150.0,2949.0,1666.0,1397.0,3000.0,1539.0,2300.0,3838.0,1935.0,2000.0,1868.0,1897.0,1800.0,3920.0,1950.0,2982.0,2205.0,8912.0,6276.0,3490.0,1859.0,2300.0,1856.0,2061.0,1786.0,1860.0,1750.0,5601.0,1780.0,4461.0,2137.0,1630.0,1847.0,8552.0,2050.0,1701.0,1860.0,2050.0,1750.0,1860.0,3203.0,1724.0,3071.0,7378.0,4600.0,2619.0,1860.0,1861.0,1733.0,2271.0,3149.0,1831.0,1780.0,1987.0,3552.0,1719.0,2000.0,2281.0,7831.0,1960.0,1866.0,2050.0,1970.0,1865.0,2001.9999999999998,3627.0,1805.0,13306.0,1260.0,2027.0000000000002,2495.0,1543.0,2016.0,4500.0,8283.0,1780.0,1910.0,2005.0,1979.0,1756.0,1900.0,1723.0,2023.0000000000002,2800.0,1900.0,2200.0,1860.0,1786.0,1757.0,2260.0,6241.0,1677.0,2497.0,2253.0,4778.0,1700.0,2100.0,2163.0,1787.0,1900.0,5000.0,2941.0,2196.0,1533.0,3337.0,2100.0,1787.0,1666.0,2616.0,2935.0,1780.0,2154.0,4406.0,1750.0,2413.0,8650.0,2187.0,2492.0,2001.0,1979.0,1518.0,2000.0,2749.0,2944.0,3343.0,2059.0,2400.0,1785.0,7090.0,1800.0,1983.0,2420.0,2033.0,2050.0,3241.0,1660.0,2403.0,1730.0,7000.0,4867.0,5898.0,2976.0,1860.0,2107.0,5103.0,4305.0,1591.0,3125.0,1750.0,6230.0,10547.0,3368.0,2443.0,1780.0,2347.0,2052.0,1968.0,4476.0,1988.0,1709.0,3532.0,2115.0,2248.0,1867.0,2543.0,2320.0,3169.0,1780.0,2614.0,3372.0,2874.0,1893.0,3600.0,4000.0,1800.0,1950.0,3394.0,1757.0,1770.0,2000.0,2300.0,1600.0,1850.0,2196.0,1855.0,1780.0,3622.0,1629.0,1750.0,9059.0,3529.0,3604.0,2208.0,2103.0,3707.0,1500.0,1733.0,3530.0,2150.0,3103.0,2300.0,4625.0,2295.0,1950.0,2172.0,2150.0,1735.0,3307.0,1867.0,3980.0,1996.0,3997.0,2923.0,1900.0,1863.0,1780.0,2169.0,2933.0,5625.0,1200.0,2205.0,2688.0,1779.0,1864.0,3156.0,4397.0,1780.0,2278.0,2036.0,2448.0,2826.0,1787.0,5231.0,14068.0,3129.0,2230.0,6534.0,2517.0,4022.0000000000005,2199.0,1820.0,3344.0,1780.0,2180.0,2349.0,1900.0,5565.0,1724.0,2033.0,1860.0,2029.0,2000.0,2248.0,2116.0,3419.0,2500.0,1462.0,3488.0,1000.0,2289.0,4271.0,1578.0,1601.0,1865.0,2926.0,1868.0,2703.0,1978.0,1966.0,3248.0,2033.9999999999998,3064.0,2255.0,3900.0,1780.0,1865.0,1866.0,2500.0,2103.0,1800.0,1886.0,4214.0,1798.0,1765.0,2644.0,7411.0,1973.0,2163.0,2376.0,1989.0,2713.0,1950.0,2101.0,2810.0,1750.0,1850.0,1700.0,1750.0,2241.0,2249.0,2073.0,1787.0,4132.0,2000.0,1690.0,1613.0,1861.0,2517.0,1236.0,2349.0,2118.0,1764.0,2570.0,3405.0,2323.0,2729.0,1700.0,1789.0,2300.0,1908.0,1772.0,3728.0,2190.0,1701.0,2790.0,2315.0,4700.0,2001.0,5367.0,2079.0,4113.0,1785.0,1784.0,4679.0,2803.0,1902.0,2489.0,2260.0,2197.0,1780.0,2131.0,3666.0,1850.0,2962.0,1421.0,1858.0,2184.0,1763.0,2427.0,2045.9999999999998,3573.0,2600.0,1723.0,1782.0,2453.0,1866.0,3621.0,2364.0,2166.0,2300.0,1617.0,4548.0,1982.0,1780.0,2061.0,1981.0,1688.0,2400.0,1710.0,1860.0,2017.0,3007.0,1648.0,1931.0,2000.0,1728.0,4308.0,1868.0,2367.0,2148.0,4405.0,3335.0,2277.0,1865.0,2302.0,1868.0,2378.0,2428.0,1719.0,4404.0,1600.0,2500.0,2100.0,1770.0,3406.0,2693.0,4970.0,1860.0,1948.0,3117.0,3409.0,1950.0,3599.0,2025.9999999999998,2741.0,1680.0,2250.0,3009.0,4118.0,3071.0,6121.0,4117.0,8000.0,1680.0,2442.0,2268.0,1947.0,2640.0,3203.0,2000.0,3975.0,5424.0,2925.0,2572.0,1780.0,2405.0,2100.0,1231.0,3008.0,3303.0,2151.0,2891.0,7642.0,1768.0,2063.0,3564.0,3340.0,2512.0,2670.0,2500.0,6221.0,9111.0,2875.0,2000.0,12433.0,2961.0,3343.0,9934.0,2888.0,2250.0,2146.0,2802.0,2005.9999999999998,3670.0,1478.0,2021.9999999999998,1903.0,1953.0,1600.0,1788.0,4709.0,1773.0,1886.0,2757.0,1600.0,15483.0,1787.0,1800.0,1827.0,2287.0,2100.0,2192.0,1780.0,2101.0,1785.0,1950.0,2037.0,1919.0,1980.0,2467.0,2068.0,1587.0,1839.0,3184.0,1779.0,2009.0,2000.0,2550.0,2000.0,1976.0,4287.0,2396.0,2745.0,2395.0,3885.0,2310.0,1866.0,2072.0,2136.0,5200.0,1861.0,2203.0,5658.0,1478.0,2176.0,1746.0,1714.0,1620.0,2421.0,6019.0,2980.0,3031.0,3110.0,3143.0,2100.0,6272.0,1582.0,1908.0,2630.0,2195.0,1518.0,2141.0,2500.0,4043.0,2300.0,1600.0,3515.0,1836.0,2000.0,1748.0,2100.0,1680.0,5287.0,2165.0,null,1940.0,1786.0,2284.0,2373.0,2450.0,2590.0,3975.0,2108.0,13533.0,1781.0,1680.0,1908.0,5399.0,9101.0,1840.0,2500.0,3994.0,2321.0,2300.0,1785.0,5080.0,2000.0,1764.0,1529.0,4218.0,2000.0,2139.0,2104.0,2165.0,2614.0,1500.0,3580.0,3909.0,1877.0,2001.9999999999998,1995.0,4525.0,2077.0,5920.0,2322.0,1364.0,3021.0,1849.0,1700.0,5169.0,1750.0,2601.0,1780.0,2062.0,1780.0,3770.0,2247.0,1934.0,2280.0,1860.0,1930.0,2086.0,2236.0,1670.0,2411.0,2104.0,7699.0,2086.0,2155.0,2274.0,5548.0,2016.0,3261.0,3541.0,2221.0,2734.0,2562.0,5500.0,1787.0,2500.0,1801.0,2913.0,1787.0,1605.0,2050.0,1837.0,1924.0,1859.0,1993.0,1760.0,1756.0,1783.0,3478.0,1598.0,1920.0,2360.0,2100.0,1860.0,2041.9999999999998,1990.0,2500.0,3103.0,4884.0,1860.0,2602.0,1600.0,1787.0,2279.0,18304.0,1780.0,11711.0,2508.0,1700.0,3469.0,3775.0,1866.0,2114.0,1595.0,2059.0,1768.0,2100.0,1715.0,2532.0,3166.0,2045.0,1787.0,5469.0,2000.0,2781.0,1787.0,3698.0,3200.0,1612.0,3508.0,2155.0,2113.0,2096.0,2000.0,4877.0,1693.0,2083.0,5500.0,2084.0,2740.0,1779.0,2541.0,2427.0,1815.0,4101.0,2000.0,1600.0,2387.0,1780.0,1766.0,1604.0,1860.0,1907.0,1786.0,2343.0,3355.0,2363.0,2003.0,2436.0,3609.0,1860.0,1927.0,2179.0,1783.0,2121.0,1874.0,1911.0,2970.0,2574.0,2791.0,1930.0,6390.0,1938.0,1952.0,5340.0,1979.0,2520.0,1817.0,6128.0,2020.0,6201.0,4735.0,1853.0,1833.0,1539.0,2704.0,2803.0,1950.0,2483.0,2619.0,2400.0,1782.0,1860.0,2227.0,1865.0,6649.0,11988.0,3230.0,2473.0,2620.0,1621.0,2528.0,1719.0,1807.0,2700.0,3651.0,1750.0,5001.0,2394.0,2431.0,2438.0,1890.0,1974.0,3656.0,2291.0,1240.0,1865.0,1800.0,2000.0,1787.0,3767.0,1750.0,1783.0,1602.0,1944.0,2285.0,6035.0,4034.0,1679.0,3838.0,1780.0,2184.0,2900.0,1945.0,2017.9999999999998,3298.0,2982.0,2200.0,1627.0,1785.0,1533.0,2459.0,2118.0,1820.0,2200.0,9121.0,2100.0,1661.0,2385.0,1666.0,2262.0,1860.0,2120.0,1719.0,2078.0,6020.0,1867.0,9811.0,1700.0,2191.0,2827.0,2141.0,2135.0,2250.0,8146.000000000001,2676.0,2194.0,9800.0,3260.0,2001.0,2016.0,1787.0],\"y0\":\" \",\"yaxis\":\"y\",\"type\":\"violin\"}],                        {\"template\":{\"data\":{\"bar\":[{\"error_x\":{\"color\":\"#2a3f5f\"},\"error_y\":{\"color\":\"#2a3f5f\"},\"marker\":{\"line\":{\"color\":\"#E5ECF6\",\"width\":0.5},\"pattern\":{\"fillmode\":\"overlay\",\"size\":10,\"solidity\":0.2}},\"type\":\"bar\"}],\"barpolar\":[{\"marker\":{\"line\":{\"color\":\"#E5ECF6\",\"width\":0.5},\"pattern\":{\"fillmode\":\"overlay\",\"size\":10,\"solidity\":0.2}},\"type\":\"barpolar\"}],\"carpet\":[{\"aaxis\":{\"endlinecolor\":\"#2a3f5f\",\"gridcolor\":\"white\",\"linecolor\":\"white\",\"minorgridcolor\":\"white\",\"startlinecolor\":\"#2a3f5f\"},\"baxis\":{\"endlinecolor\":\"#2a3f5f\",\"gridcolor\":\"white\",\"linecolor\":\"white\",\"minorgridcolor\":\"white\",\"startlinecolor\":\"#2a3f5f\"},\"type\":\"carpet\"}],\"choropleth\":[{\"colorbar\":{\"outlinewidth\":0,\"ticks\":\"\"},\"type\":\"choropleth\"}],\"contour\":[{\"colorbar\":{\"outlinewidth\":0,\"ticks\":\"\"},\"colorscale\":[[0.0,\"#0d0887\"],[0.1111111111111111,\"#46039f\"],[0.2222222222222222,\"#7201a8\"],[0.3333333333333333,\"#9c179e\"],[0.4444444444444444,\"#bd3786\"],[0.5555555555555556,\"#d8576b\"],[0.6666666666666666,\"#ed7953\"],[0.7777777777777778,\"#fb9f3a\"],[0.8888888888888888,\"#fdca26\"],[1.0,\"#f0f921\"]],\"type\":\"contour\"}],\"contourcarpet\":[{\"colorbar\":{\"outlinewidth\":0,\"ticks\":\"\"},\"type\":\"contourcarpet\"}],\"heatmap\":[{\"colorbar\":{\"outlinewidth\":0,\"ticks\":\"\"},\"colorscale\":[[0.0,\"#0d0887\"],[0.1111111111111111,\"#46039f\"],[0.2222222222222222,\"#7201a8\"],[0.3333333333333333,\"#9c179e\"],[0.4444444444444444,\"#bd3786\"],[0.5555555555555556,\"#d8576b\"],[0.6666666666666666,\"#ed7953\"],[0.7777777777777778,\"#fb9f3a\"],[0.8888888888888888,\"#fdca26\"],[1.0,\"#f0f921\"]],\"type\":\"heatmap\"}],\"heatmapgl\":[{\"colorbar\":{\"outlinewidth\":0,\"ticks\":\"\"},\"colorscale\":[[0.0,\"#0d0887\"],[0.1111111111111111,\"#46039f\"],[0.2222222222222222,\"#7201a8\"],[0.3333333333333333,\"#9c179e\"],[0.4444444444444444,\"#bd3786\"],[0.5555555555555556,\"#d8576b\"],[0.6666666666666666,\"#ed7953\"],[0.7777777777777778,\"#fb9f3a\"],[0.8888888888888888,\"#fdca26\"],[1.0,\"#f0f921\"]],\"type\":\"heatmapgl\"}],\"histogram\":[{\"marker\":{\"pattern\":{\"fillmode\":\"overlay\",\"size\":10,\"solidity\":0.2}},\"type\":\"histogram\"}],\"histogram2d\":[{\"colorbar\":{\"outlinewidth\":0,\"ticks\":\"\"},\"colorscale\":[[0.0,\"#0d0887\"],[0.1111111111111111,\"#46039f\"],[0.2222222222222222,\"#7201a8\"],[0.3333333333333333,\"#9c179e\"],[0.4444444444444444,\"#bd3786\"],[0.5555555555555556,\"#d8576b\"],[0.6666666666666666,\"#ed7953\"],[0.7777777777777778,\"#fb9f3a\"],[0.8888888888888888,\"#fdca26\"],[1.0,\"#f0f921\"]],\"type\":\"histogram2d\"}],\"histogram2dcontour\":[{\"colorbar\":{\"outlinewidth\":0,\"ticks\":\"\"},\"colorscale\":[[0.0,\"#0d0887\"],[0.1111111111111111,\"#46039f\"],[0.2222222222222222,\"#7201a8\"],[0.3333333333333333,\"#9c179e\"],[0.4444444444444444,\"#bd3786\"],[0.5555555555555556,\"#d8576b\"],[0.6666666666666666,\"#ed7953\"],[0.7777777777777778,\"#fb9f3a\"],[0.8888888888888888,\"#fdca26\"],[1.0,\"#f0f921\"]],\"type\":\"histogram2dcontour\"}],\"mesh3d\":[{\"colorbar\":{\"outlinewidth\":0,\"ticks\":\"\"},\"type\":\"mesh3d\"}],\"parcoords\":[{\"line\":{\"colorbar\":{\"outlinewidth\":0,\"ticks\":\"\"}},\"type\":\"parcoords\"}],\"pie\":[{\"automargin\":true,\"type\":\"pie\"}],\"scatter\":[{\"marker\":{\"colorbar\":{\"outlinewidth\":0,\"ticks\":\"\"}},\"type\":\"scatter\"}],\"scatter3d\":[{\"line\":{\"colorbar\":{\"outlinewidth\":0,\"ticks\":\"\"}},\"marker\":{\"colorbar\":{\"outlinewidth\":0,\"ticks\":\"\"}},\"type\":\"scatter3d\"}],\"scattercarpet\":[{\"marker\":{\"colorbar\":{\"outlinewidth\":0,\"ticks\":\"\"}},\"type\":\"scattercarpet\"}],\"scattergeo\":[{\"marker\":{\"colorbar\":{\"outlinewidth\":0,\"ticks\":\"\"}},\"type\":\"scattergeo\"}],\"scattergl\":[{\"marker\":{\"colorbar\":{\"outlinewidth\":0,\"ticks\":\"\"}},\"type\":\"scattergl\"}],\"scattermapbox\":[{\"marker\":{\"colorbar\":{\"outlinewidth\":0,\"ticks\":\"\"}},\"type\":\"scattermapbox\"}],\"scatterpolar\":[{\"marker\":{\"colorbar\":{\"outlinewidth\":0,\"ticks\":\"\"}},\"type\":\"scatterpolar\"}],\"scatterpolargl\":[{\"marker\":{\"colorbar\":{\"outlinewidth\":0,\"ticks\":\"\"}},\"type\":\"scatterpolargl\"}],\"scatterternary\":[{\"marker\":{\"colorbar\":{\"outlinewidth\":0,\"ticks\":\"\"}},\"type\":\"scatterternary\"}],\"surface\":[{\"colorbar\":{\"outlinewidth\":0,\"ticks\":\"\"},\"colorscale\":[[0.0,\"#0d0887\"],[0.1111111111111111,\"#46039f\"],[0.2222222222222222,\"#7201a8\"],[0.3333333333333333,\"#9c179e\"],[0.4444444444444444,\"#bd3786\"],[0.5555555555555556,\"#d8576b\"],[0.6666666666666666,\"#ed7953\"],[0.7777777777777778,\"#fb9f3a\"],[0.8888888888888888,\"#fdca26\"],[1.0,\"#f0f921\"]],\"type\":\"surface\"}],\"table\":[{\"cells\":{\"fill\":{\"color\":\"#EBF0F8\"},\"line\":{\"color\":\"white\"}},\"header\":{\"fill\":{\"color\":\"#C8D4E3\"},\"line\":{\"color\":\"white\"}},\"type\":\"table\"}]},\"layout\":{\"annotationdefaults\":{\"arrowcolor\":\"#2a3f5f\",\"arrowhead\":0,\"arrowwidth\":1},\"autotypenumbers\":\"strict\",\"coloraxis\":{\"colorbar\":{\"outlinewidth\":0,\"ticks\":\"\"}},\"colorscale\":{\"diverging\":[[0,\"#8e0152\"],[0.1,\"#c51b7d\"],[0.2,\"#de77ae\"],[0.3,\"#f1b6da\"],[0.4,\"#fde0ef\"],[0.5,\"#f7f7f7\"],[0.6,\"#e6f5d0\"],[0.7,\"#b8e186\"],[0.8,\"#7fbc41\"],[0.9,\"#4d9221\"],[1,\"#276419\"]],\"sequential\":[[0.0,\"#0d0887\"],[0.1111111111111111,\"#46039f\"],[0.2222222222222222,\"#7201a8\"],[0.3333333333333333,\"#9c179e\"],[0.4444444444444444,\"#bd3786\"],[0.5555555555555556,\"#d8576b\"],[0.6666666666666666,\"#ed7953\"],[0.7777777777777778,\"#fb9f3a\"],[0.8888888888888888,\"#fdca26\"],[1.0,\"#f0f921\"]],\"sequentialminus\":[[0.0,\"#0d0887\"],[0.1111111111111111,\"#46039f\"],[0.2222222222222222,\"#7201a8\"],[0.3333333333333333,\"#9c179e\"],[0.4444444444444444,\"#bd3786\"],[0.5555555555555556,\"#d8576b\"],[0.6666666666666666,\"#ed7953\"],[0.7777777777777778,\"#fb9f3a\"],[0.8888888888888888,\"#fdca26\"],[1.0,\"#f0f921\"]]},\"colorway\":[\"#636efa\",\"#EF553B\",\"#00cc96\",\"#ab63fa\",\"#FFA15A\",\"#19d3f3\",\"#FF6692\",\"#B6E880\",\"#FF97FF\",\"#FECB52\"],\"font\":{\"color\":\"#2a3f5f\"},\"geo\":{\"bgcolor\":\"white\",\"lakecolor\":\"white\",\"landcolor\":\"#E5ECF6\",\"showlakes\":true,\"showland\":true,\"subunitcolor\":\"white\"},\"hoverlabel\":{\"align\":\"left\"},\"hovermode\":\"closest\",\"mapbox\":{\"style\":\"light\"},\"paper_bgcolor\":\"white\",\"plot_bgcolor\":\"#E5ECF6\",\"polar\":{\"angularaxis\":{\"gridcolor\":\"white\",\"linecolor\":\"white\",\"ticks\":\"\"},\"bgcolor\":\"#E5ECF6\",\"radialaxis\":{\"gridcolor\":\"white\",\"linecolor\":\"white\",\"ticks\":\"\"}},\"scene\":{\"xaxis\":{\"backgroundcolor\":\"#E5ECF6\",\"gridcolor\":\"white\",\"gridwidth\":2,\"linecolor\":\"white\",\"showbackground\":true,\"ticks\":\"\",\"zerolinecolor\":\"white\"},\"yaxis\":{\"backgroundcolor\":\"#E5ECF6\",\"gridcolor\":\"white\",\"gridwidth\":2,\"linecolor\":\"white\",\"showbackground\":true,\"ticks\":\"\",\"zerolinecolor\":\"white\"},\"zaxis\":{\"backgroundcolor\":\"#E5ECF6\",\"gridcolor\":\"white\",\"gridwidth\":2,\"linecolor\":\"white\",\"showbackground\":true,\"ticks\":\"\",\"zerolinecolor\":\"white\"}},\"shapedefaults\":{\"line\":{\"color\":\"#2a3f5f\"}},\"ternary\":{\"aaxis\":{\"gridcolor\":\"white\",\"linecolor\":\"white\",\"ticks\":\"\"},\"baxis\":{\"gridcolor\":\"white\",\"linecolor\":\"white\",\"ticks\":\"\"},\"bgcolor\":\"#E5ECF6\",\"caxis\":{\"gridcolor\":\"white\",\"linecolor\":\"white\",\"ticks\":\"\"}},\"title\":{\"x\":0.05},\"xaxis\":{\"automargin\":true,\"gridcolor\":\"white\",\"linecolor\":\"white\",\"ticks\":\"\",\"title\":{\"standoff\":15},\"zerolinecolor\":\"white\",\"zerolinewidth\":2},\"yaxis\":{\"automargin\":true,\"gridcolor\":\"white\",\"linecolor\":\"white\",\"ticks\":\"\",\"title\":{\"standoff\":15},\"zerolinecolor\":\"white\",\"zerolinewidth\":2}}},\"xaxis\":{\"anchor\":\"y\",\"domain\":[0.0,1.0]},\"yaxis\":{\"anchor\":\"x\",\"domain\":[0.0,1.0],\"title\":{\"text\":\"renda_cliente\"}},\"legend\":{\"title\":{\"text\":\"inadimplencia\"},\"tracegroupgap\":0},\"margin\":{\"t\":60},\"violinmode\":\"group\"},                        {\"responsive\": true}                    ).then(function(){\n",
              "                            \n",
              "var gd = document.getElementById('b7dd297e-5382-4bec-b511-d65fa82eeb1c');\n",
              "var x = new MutationObserver(function (mutations, observer) {{\n",
              "        var display = window.getComputedStyle(gd).display;\n",
              "        if (!display || display === 'none') {{\n",
              "            console.log([gd, 'removed!']);\n",
              "            Plotly.purge(gd);\n",
              "            observer.disconnect();\n",
              "        }}\n",
              "}});\n",
              "\n",
              "// Listen for the removal of the full notebook cells\n",
              "var notebookContainer = gd.closest('#notebook-container');\n",
              "if (notebookContainer) {{\n",
              "    x.observe(notebookContainer, {childList: true});\n",
              "}}\n",
              "\n",
              "// Listen for the clearing of the current output cell\n",
              "var outputEl = gd.closest('.output');\n",
              "if (outputEl) {{\n",
              "    x.observe(outputEl, {childList: true});\n",
              "}}\n",
              "\n",
              "                        })                };                            </script>        </div>\n",
              "</body>\n",
              "</html>"
            ]
          },
          "metadata": {}
        }
      ]
    },
    {
      "cell_type": "code",
      "source": [
        "def transform_percentage_in_number(df_transformed, columns_list, column_times, new_columns_list):\n",
        "    df_transformed[columns_list] = df_transformed[columns_list].apply(lambda x: x.str[:-1]\\\n",
        "                                              .apply(lambda number: \\\n",
        "                                                float(number) / 100), axis=1)\n",
        "    \n",
        "    df_transformed[new_columns_list] = df_transformed[columns_list].apply(lambda x: x * df_transformed[column_times])\n",
        "    return df_transformed.drop(columns_list, axis=1)"
      ],
      "metadata": {
        "id": "pPSib1Bl4oDE"
      },
      "execution_count": null,
      "outputs": []
    },
    {
      "cell_type": "code",
      "source": [
        "transform_percentage_in_number(df, \n",
        "                               columns_list=[\"fgts_imovel\", \"sinal_imovel\", \n",
        "                                             \"mrv_imovel\", \"banco_imovel\"],\n",
        "                               column_times=\"valor_imovel\",\n",
        "                               new_columns_list=[\"fgts_value\", \"sinal_value\", \"mrv_value\", \"banco_value\"])"
      ],
      "metadata": {
        "colab": {
          "base_uri": "https://localhost:8080/",
          "height": 502
        },
        "id": "N7AvG-xq6oBC",
        "outputId": "4fd84151-4956-4151-bb31-88f006d7bdf6"
      },
      "execution_count": null,
      "outputs": [
        {
          "output_type": "execute_result",
          "data": {
            "text/plain": [
              "       ano_venda estado_civil              cidade  renda_cliente  \\\n",
              "0           2017   Divorciado      Ribeirão Preto        3268.00   \n",
              "1           2014     Solteiro           Joinville        2154.00   \n",
              "2           2017     Solteiro             UBERABA        2039.00   \n",
              "3           2015     Solteiro           São Paulo        6349.00   \n",
              "4           2016     Solteiro            Salvador        2413.00   \n",
              "...          ...          ...                 ...            ...   \n",
              "12667       2016     Solteiro  São Caetano do Sul        7142.00   \n",
              "12668       2015     Solteiro               Serra        1697.00   \n",
              "12669       2016     Solteiro           Nilópolis        2600.00   \n",
              "12670       2017     Solteiro            Botucatu        1552.00   \n",
              "12671       2014     Solteiro            Londrina        1787.00   \n",
              "\n",
              "       parcelas_entradas renda_parcela_entrada  valor_imovel inadimplencia  \\\n",
              "0                     33                   16%     134017.00           NÃO   \n",
              "1                     23                   24%     130284.00           SIM   \n",
              "2                     45                    6%     140184.00           NÃO   \n",
              "3                     30                   11%     201016.00           SIM   \n",
              "4                     36                   13%     146673.00           NÃO   \n",
              "...                  ...                   ...           ...           ...   \n",
              "12667                 23                   11%     241250.00           NÃO   \n",
              "12668                 36                   13%     126464.00           NÃO   \n",
              "12669                 36                   16%     145815.00           NÃO   \n",
              "12670                 13                   43%     122000.00           NÃO   \n",
              "12671                 34                   22%     131135.00           SIM   \n",
              "\n",
              "       fgts_value  sinal_value  mrv_value  banco_value  \n",
              "0         5360.68      1340.17   18762.38    109893.94  \n",
              "1        10422.72         0.00   13028.40    106832.88  \n",
              "2            0.00     25233.12    5607.36    109343.52  \n",
              "3        16081.28      4020.32   20101.60    158802.64  \n",
              "4         1466.73      1466.73   13200.57    130538.97  \n",
              "...           ...          ...        ...          ...  \n",
              "12667    41012.50      7237.50   19300.00    173700.00  \n",
              "12668     2529.28      1264.64    8852.48    113817.60  \n",
              "12669     5832.60         0.00   14581.50    125400.90  \n",
              "12670     3660.00         0.00    9760.00    108580.00  \n",
              "12671        0.00         0.00   13113.50    116710.15  \n",
              "\n",
              "[12672 rows x 12 columns]"
            ],
            "text/html": [
              "\n",
              "  <div id=\"df-8ff3d860-bae2-484b-8526-37068f860bec\">\n",
              "    <div class=\"colab-df-container\">\n",
              "      <div>\n",
              "<style scoped>\n",
              "    .dataframe tbody tr th:only-of-type {\n",
              "        vertical-align: middle;\n",
              "    }\n",
              "\n",
              "    .dataframe tbody tr th {\n",
              "        vertical-align: top;\n",
              "    }\n",
              "\n",
              "    .dataframe thead th {\n",
              "        text-align: right;\n",
              "    }\n",
              "</style>\n",
              "<table border=\"1\" class=\"dataframe\">\n",
              "  <thead>\n",
              "    <tr style=\"text-align: right;\">\n",
              "      <th></th>\n",
              "      <th>ano_venda</th>\n",
              "      <th>estado_civil</th>\n",
              "      <th>cidade</th>\n",
              "      <th>renda_cliente</th>\n",
              "      <th>parcelas_entradas</th>\n",
              "      <th>renda_parcela_entrada</th>\n",
              "      <th>valor_imovel</th>\n",
              "      <th>inadimplencia</th>\n",
              "      <th>fgts_value</th>\n",
              "      <th>sinal_value</th>\n",
              "      <th>mrv_value</th>\n",
              "      <th>banco_value</th>\n",
              "    </tr>\n",
              "  </thead>\n",
              "  <tbody>\n",
              "    <tr>\n",
              "      <th>0</th>\n",
              "      <td>2017</td>\n",
              "      <td>Divorciado</td>\n",
              "      <td>Ribeirão Preto</td>\n",
              "      <td>3268.00</td>\n",
              "      <td>33</td>\n",
              "      <td>16%</td>\n",
              "      <td>134017.00</td>\n",
              "      <td>NÃO</td>\n",
              "      <td>5360.68</td>\n",
              "      <td>1340.17</td>\n",
              "      <td>18762.38</td>\n",
              "      <td>109893.94</td>\n",
              "    </tr>\n",
              "    <tr>\n",
              "      <th>1</th>\n",
              "      <td>2014</td>\n",
              "      <td>Solteiro</td>\n",
              "      <td>Joinville</td>\n",
              "      <td>2154.00</td>\n",
              "      <td>23</td>\n",
              "      <td>24%</td>\n",
              "      <td>130284.00</td>\n",
              "      <td>SIM</td>\n",
              "      <td>10422.72</td>\n",
              "      <td>0.00</td>\n",
              "      <td>13028.40</td>\n",
              "      <td>106832.88</td>\n",
              "    </tr>\n",
              "    <tr>\n",
              "      <th>2</th>\n",
              "      <td>2017</td>\n",
              "      <td>Solteiro</td>\n",
              "      <td>UBERABA</td>\n",
              "      <td>2039.00</td>\n",
              "      <td>45</td>\n",
              "      <td>6%</td>\n",
              "      <td>140184.00</td>\n",
              "      <td>NÃO</td>\n",
              "      <td>0.00</td>\n",
              "      <td>25233.12</td>\n",
              "      <td>5607.36</td>\n",
              "      <td>109343.52</td>\n",
              "    </tr>\n",
              "    <tr>\n",
              "      <th>3</th>\n",
              "      <td>2015</td>\n",
              "      <td>Solteiro</td>\n",
              "      <td>São Paulo</td>\n",
              "      <td>6349.00</td>\n",
              "      <td>30</td>\n",
              "      <td>11%</td>\n",
              "      <td>201016.00</td>\n",
              "      <td>SIM</td>\n",
              "      <td>16081.28</td>\n",
              "      <td>4020.32</td>\n",
              "      <td>20101.60</td>\n",
              "      <td>158802.64</td>\n",
              "    </tr>\n",
              "    <tr>\n",
              "      <th>4</th>\n",
              "      <td>2016</td>\n",
              "      <td>Solteiro</td>\n",
              "      <td>Salvador</td>\n",
              "      <td>2413.00</td>\n",
              "      <td>36</td>\n",
              "      <td>13%</td>\n",
              "      <td>146673.00</td>\n",
              "      <td>NÃO</td>\n",
              "      <td>1466.73</td>\n",
              "      <td>1466.73</td>\n",
              "      <td>13200.57</td>\n",
              "      <td>130538.97</td>\n",
              "    </tr>\n",
              "    <tr>\n",
              "      <th>...</th>\n",
              "      <td>...</td>\n",
              "      <td>...</td>\n",
              "      <td>...</td>\n",
              "      <td>...</td>\n",
              "      <td>...</td>\n",
              "      <td>...</td>\n",
              "      <td>...</td>\n",
              "      <td>...</td>\n",
              "      <td>...</td>\n",
              "      <td>...</td>\n",
              "      <td>...</td>\n",
              "      <td>...</td>\n",
              "    </tr>\n",
              "    <tr>\n",
              "      <th>12667</th>\n",
              "      <td>2016</td>\n",
              "      <td>Solteiro</td>\n",
              "      <td>São Caetano do Sul</td>\n",
              "      <td>7142.00</td>\n",
              "      <td>23</td>\n",
              "      <td>11%</td>\n",
              "      <td>241250.00</td>\n",
              "      <td>NÃO</td>\n",
              "      <td>41012.50</td>\n",
              "      <td>7237.50</td>\n",
              "      <td>19300.00</td>\n",
              "      <td>173700.00</td>\n",
              "    </tr>\n",
              "    <tr>\n",
              "      <th>12668</th>\n",
              "      <td>2015</td>\n",
              "      <td>Solteiro</td>\n",
              "      <td>Serra</td>\n",
              "      <td>1697.00</td>\n",
              "      <td>36</td>\n",
              "      <td>13%</td>\n",
              "      <td>126464.00</td>\n",
              "      <td>NÃO</td>\n",
              "      <td>2529.28</td>\n",
              "      <td>1264.64</td>\n",
              "      <td>8852.48</td>\n",
              "      <td>113817.60</td>\n",
              "    </tr>\n",
              "    <tr>\n",
              "      <th>12669</th>\n",
              "      <td>2016</td>\n",
              "      <td>Solteiro</td>\n",
              "      <td>Nilópolis</td>\n",
              "      <td>2600.00</td>\n",
              "      <td>36</td>\n",
              "      <td>16%</td>\n",
              "      <td>145815.00</td>\n",
              "      <td>NÃO</td>\n",
              "      <td>5832.60</td>\n",
              "      <td>0.00</td>\n",
              "      <td>14581.50</td>\n",
              "      <td>125400.90</td>\n",
              "    </tr>\n",
              "    <tr>\n",
              "      <th>12670</th>\n",
              "      <td>2017</td>\n",
              "      <td>Solteiro</td>\n",
              "      <td>Botucatu</td>\n",
              "      <td>1552.00</td>\n",
              "      <td>13</td>\n",
              "      <td>43%</td>\n",
              "      <td>122000.00</td>\n",
              "      <td>NÃO</td>\n",
              "      <td>3660.00</td>\n",
              "      <td>0.00</td>\n",
              "      <td>9760.00</td>\n",
              "      <td>108580.00</td>\n",
              "    </tr>\n",
              "    <tr>\n",
              "      <th>12671</th>\n",
              "      <td>2014</td>\n",
              "      <td>Solteiro</td>\n",
              "      <td>Londrina</td>\n",
              "      <td>1787.00</td>\n",
              "      <td>34</td>\n",
              "      <td>22%</td>\n",
              "      <td>131135.00</td>\n",
              "      <td>SIM</td>\n",
              "      <td>0.00</td>\n",
              "      <td>0.00</td>\n",
              "      <td>13113.50</td>\n",
              "      <td>116710.15</td>\n",
              "    </tr>\n",
              "  </tbody>\n",
              "</table>\n",
              "<p>12672 rows × 12 columns</p>\n",
              "</div>\n",
              "      <button class=\"colab-df-convert\" onclick=\"convertToInteractive('df-8ff3d860-bae2-484b-8526-37068f860bec')\"\n",
              "              title=\"Convert this dataframe to an interactive table.\"\n",
              "              style=\"display:none;\">\n",
              "        \n",
              "  <svg xmlns=\"http://www.w3.org/2000/svg\" height=\"24px\"viewBox=\"0 0 24 24\"\n",
              "       width=\"24px\">\n",
              "    <path d=\"M0 0h24v24H0V0z\" fill=\"none\"/>\n",
              "    <path d=\"M18.56 5.44l.94 2.06.94-2.06 2.06-.94-2.06-.94-.94-2.06-.94 2.06-2.06.94zm-11 1L8.5 8.5l.94-2.06 2.06-.94-2.06-.94L8.5 2.5l-.94 2.06-2.06.94zm10 10l.94 2.06.94-2.06 2.06-.94-2.06-.94-.94-2.06-.94 2.06-2.06.94z\"/><path d=\"M17.41 7.96l-1.37-1.37c-.4-.4-.92-.59-1.43-.59-.52 0-1.04.2-1.43.59L10.3 9.45l-7.72 7.72c-.78.78-.78 2.05 0 2.83L4 21.41c.39.39.9.59 1.41.59.51 0 1.02-.2 1.41-.59l7.78-7.78 2.81-2.81c.8-.78.8-2.07 0-2.86zM5.41 20L4 18.59l7.72-7.72 1.47 1.35L5.41 20z\"/>\n",
              "  </svg>\n",
              "      </button>\n",
              "      \n",
              "  <style>\n",
              "    .colab-df-container {\n",
              "      display:flex;\n",
              "      flex-wrap:wrap;\n",
              "      gap: 12px;\n",
              "    }\n",
              "\n",
              "    .colab-df-convert {\n",
              "      background-color: #E8F0FE;\n",
              "      border: none;\n",
              "      border-radius: 50%;\n",
              "      cursor: pointer;\n",
              "      display: none;\n",
              "      fill: #1967D2;\n",
              "      height: 32px;\n",
              "      padding: 0 0 0 0;\n",
              "      width: 32px;\n",
              "    }\n",
              "\n",
              "    .colab-df-convert:hover {\n",
              "      background-color: #E2EBFA;\n",
              "      box-shadow: 0px 1px 2px rgba(60, 64, 67, 0.3), 0px 1px 3px 1px rgba(60, 64, 67, 0.15);\n",
              "      fill: #174EA6;\n",
              "    }\n",
              "\n",
              "    [theme=dark] .colab-df-convert {\n",
              "      background-color: #3B4455;\n",
              "      fill: #D2E3FC;\n",
              "    }\n",
              "\n",
              "    [theme=dark] .colab-df-convert:hover {\n",
              "      background-color: #434B5C;\n",
              "      box-shadow: 0px 1px 3px 1px rgba(0, 0, 0, 0.15);\n",
              "      filter: drop-shadow(0px 1px 2px rgba(0, 0, 0, 0.3));\n",
              "      fill: #FFFFFF;\n",
              "    }\n",
              "  </style>\n",
              "\n",
              "      <script>\n",
              "        const buttonEl =\n",
              "          document.querySelector('#df-8ff3d860-bae2-484b-8526-37068f860bec button.colab-df-convert');\n",
              "        buttonEl.style.display =\n",
              "          google.colab.kernel.accessAllowed ? 'block' : 'none';\n",
              "\n",
              "        async function convertToInteractive(key) {\n",
              "          const element = document.querySelector('#df-8ff3d860-bae2-484b-8526-37068f860bec');\n",
              "          const dataTable =\n",
              "            await google.colab.kernel.invokeFunction('convertToInteractive',\n",
              "                                                     [key], {});\n",
              "          if (!dataTable) return;\n",
              "\n",
              "          const docLinkHtml = 'Like what you see? Visit the ' +\n",
              "            '<a target=\"_blank\" href=https://colab.research.google.com/notebooks/data_table.ipynb>data table notebook</a>'\n",
              "            + ' to learn more about interactive tables.';\n",
              "          element.innerHTML = '';\n",
              "          dataTable['output_type'] = 'display_data';\n",
              "          await google.colab.output.renderOutput(dataTable, element);\n",
              "          const docLink = document.createElement('div');\n",
              "          docLink.innerHTML = docLinkHtml;\n",
              "          element.appendChild(docLink);\n",
              "        }\n",
              "      </script>\n",
              "    </div>\n",
              "  </div>\n",
              "  "
            ]
          },
          "metadata": {},
          "execution_count": 259
        }
      ]
    },
    {
      "cell_type": "code",
      "source": [
        "df.drop([\"fgts_imovel\", \"sinal_imovel\", \n",
        "        \"mrv_imovel\", \"banco_imovel\"], axis=1, inplace=True)"
      ],
      "metadata": {
        "id": "8QKSlLSa7D0D"
      },
      "execution_count": null,
      "outputs": []
    },
    {
      "cell_type": "code",
      "source": [
        "df.head()"
      ],
      "metadata": {
        "colab": {
          "base_uri": "https://localhost:8080/",
          "height": 250
        },
        "id": "17EXB5Px7Tdq",
        "outputId": "379f5541-884e-4346-fa1e-af8ccd90b71f"
      },
      "execution_count": null,
      "outputs": [
        {
          "output_type": "execute_result",
          "data": {
            "text/plain": [
              "   ano_venda estado_civil          cidade  renda_cliente  parcelas_entradas  \\\n",
              "0       2017   Divorciado  Ribeirão Preto        3268.00                 33   \n",
              "1       2014     Solteiro       Joinville        2154.00                 23   \n",
              "2       2017     Solteiro         UBERABA        2039.00                 45   \n",
              "3       2015     Solteiro       São Paulo        6349.00                 30   \n",
              "4       2016     Solteiro        Salvador        2413.00                 36   \n",
              "\n",
              "  renda_parcela_entrada  valor_imovel inadimplencia  fgts_value  sinal_value  \\\n",
              "0                   16%     134017.00           NÃO     5360.68      1340.17   \n",
              "1                   24%     130284.00           SIM    10422.72         0.00   \n",
              "2                    6%     140184.00           NÃO        0.00     25233.12   \n",
              "3                   11%     201016.00           SIM    16081.28      4020.32   \n",
              "4                   13%     146673.00           NÃO     1466.73      1466.73   \n",
              "\n",
              "   mrv_value  banco_value  \n",
              "0   18762.38    109893.94  \n",
              "1   13028.40    106832.88  \n",
              "2    5607.36    109343.52  \n",
              "3   20101.60    158802.64  \n",
              "4   13200.57    130538.97  "
            ],
            "text/html": [
              "\n",
              "  <div id=\"df-b72ec0d9-42d3-4170-b269-09961d6b4668\">\n",
              "    <div class=\"colab-df-container\">\n",
              "      <div>\n",
              "<style scoped>\n",
              "    .dataframe tbody tr th:only-of-type {\n",
              "        vertical-align: middle;\n",
              "    }\n",
              "\n",
              "    .dataframe tbody tr th {\n",
              "        vertical-align: top;\n",
              "    }\n",
              "\n",
              "    .dataframe thead th {\n",
              "        text-align: right;\n",
              "    }\n",
              "</style>\n",
              "<table border=\"1\" class=\"dataframe\">\n",
              "  <thead>\n",
              "    <tr style=\"text-align: right;\">\n",
              "      <th></th>\n",
              "      <th>ano_venda</th>\n",
              "      <th>estado_civil</th>\n",
              "      <th>cidade</th>\n",
              "      <th>renda_cliente</th>\n",
              "      <th>parcelas_entradas</th>\n",
              "      <th>renda_parcela_entrada</th>\n",
              "      <th>valor_imovel</th>\n",
              "      <th>inadimplencia</th>\n",
              "      <th>fgts_value</th>\n",
              "      <th>sinal_value</th>\n",
              "      <th>mrv_value</th>\n",
              "      <th>banco_value</th>\n",
              "    </tr>\n",
              "  </thead>\n",
              "  <tbody>\n",
              "    <tr>\n",
              "      <th>0</th>\n",
              "      <td>2017</td>\n",
              "      <td>Divorciado</td>\n",
              "      <td>Ribeirão Preto</td>\n",
              "      <td>3268.00</td>\n",
              "      <td>33</td>\n",
              "      <td>16%</td>\n",
              "      <td>134017.00</td>\n",
              "      <td>NÃO</td>\n",
              "      <td>5360.68</td>\n",
              "      <td>1340.17</td>\n",
              "      <td>18762.38</td>\n",
              "      <td>109893.94</td>\n",
              "    </tr>\n",
              "    <tr>\n",
              "      <th>1</th>\n",
              "      <td>2014</td>\n",
              "      <td>Solteiro</td>\n",
              "      <td>Joinville</td>\n",
              "      <td>2154.00</td>\n",
              "      <td>23</td>\n",
              "      <td>24%</td>\n",
              "      <td>130284.00</td>\n",
              "      <td>SIM</td>\n",
              "      <td>10422.72</td>\n",
              "      <td>0.00</td>\n",
              "      <td>13028.40</td>\n",
              "      <td>106832.88</td>\n",
              "    </tr>\n",
              "    <tr>\n",
              "      <th>2</th>\n",
              "      <td>2017</td>\n",
              "      <td>Solteiro</td>\n",
              "      <td>UBERABA</td>\n",
              "      <td>2039.00</td>\n",
              "      <td>45</td>\n",
              "      <td>6%</td>\n",
              "      <td>140184.00</td>\n",
              "      <td>NÃO</td>\n",
              "      <td>0.00</td>\n",
              "      <td>25233.12</td>\n",
              "      <td>5607.36</td>\n",
              "      <td>109343.52</td>\n",
              "    </tr>\n",
              "    <tr>\n",
              "      <th>3</th>\n",
              "      <td>2015</td>\n",
              "      <td>Solteiro</td>\n",
              "      <td>São Paulo</td>\n",
              "      <td>6349.00</td>\n",
              "      <td>30</td>\n",
              "      <td>11%</td>\n",
              "      <td>201016.00</td>\n",
              "      <td>SIM</td>\n",
              "      <td>16081.28</td>\n",
              "      <td>4020.32</td>\n",
              "      <td>20101.60</td>\n",
              "      <td>158802.64</td>\n",
              "    </tr>\n",
              "    <tr>\n",
              "      <th>4</th>\n",
              "      <td>2016</td>\n",
              "      <td>Solteiro</td>\n",
              "      <td>Salvador</td>\n",
              "      <td>2413.00</td>\n",
              "      <td>36</td>\n",
              "      <td>13%</td>\n",
              "      <td>146673.00</td>\n",
              "      <td>NÃO</td>\n",
              "      <td>1466.73</td>\n",
              "      <td>1466.73</td>\n",
              "      <td>13200.57</td>\n",
              "      <td>130538.97</td>\n",
              "    </tr>\n",
              "  </tbody>\n",
              "</table>\n",
              "</div>\n",
              "      <button class=\"colab-df-convert\" onclick=\"convertToInteractive('df-b72ec0d9-42d3-4170-b269-09961d6b4668')\"\n",
              "              title=\"Convert this dataframe to an interactive table.\"\n",
              "              style=\"display:none;\">\n",
              "        \n",
              "  <svg xmlns=\"http://www.w3.org/2000/svg\" height=\"24px\"viewBox=\"0 0 24 24\"\n",
              "       width=\"24px\">\n",
              "    <path d=\"M0 0h24v24H0V0z\" fill=\"none\"/>\n",
              "    <path d=\"M18.56 5.44l.94 2.06.94-2.06 2.06-.94-2.06-.94-.94-2.06-.94 2.06-2.06.94zm-11 1L8.5 8.5l.94-2.06 2.06-.94-2.06-.94L8.5 2.5l-.94 2.06-2.06.94zm10 10l.94 2.06.94-2.06 2.06-.94-2.06-.94-.94-2.06-.94 2.06-2.06.94z\"/><path d=\"M17.41 7.96l-1.37-1.37c-.4-.4-.92-.59-1.43-.59-.52 0-1.04.2-1.43.59L10.3 9.45l-7.72 7.72c-.78.78-.78 2.05 0 2.83L4 21.41c.39.39.9.59 1.41.59.51 0 1.02-.2 1.41-.59l7.78-7.78 2.81-2.81c.8-.78.8-2.07 0-2.86zM5.41 20L4 18.59l7.72-7.72 1.47 1.35L5.41 20z\"/>\n",
              "  </svg>\n",
              "      </button>\n",
              "      \n",
              "  <style>\n",
              "    .colab-df-container {\n",
              "      display:flex;\n",
              "      flex-wrap:wrap;\n",
              "      gap: 12px;\n",
              "    }\n",
              "\n",
              "    .colab-df-convert {\n",
              "      background-color: #E8F0FE;\n",
              "      border: none;\n",
              "      border-radius: 50%;\n",
              "      cursor: pointer;\n",
              "      display: none;\n",
              "      fill: #1967D2;\n",
              "      height: 32px;\n",
              "      padding: 0 0 0 0;\n",
              "      width: 32px;\n",
              "    }\n",
              "\n",
              "    .colab-df-convert:hover {\n",
              "      background-color: #E2EBFA;\n",
              "      box-shadow: 0px 1px 2px rgba(60, 64, 67, 0.3), 0px 1px 3px 1px rgba(60, 64, 67, 0.15);\n",
              "      fill: #174EA6;\n",
              "    }\n",
              "\n",
              "    [theme=dark] .colab-df-convert {\n",
              "      background-color: #3B4455;\n",
              "      fill: #D2E3FC;\n",
              "    }\n",
              "\n",
              "    [theme=dark] .colab-df-convert:hover {\n",
              "      background-color: #434B5C;\n",
              "      box-shadow: 0px 1px 3px 1px rgba(0, 0, 0, 0.15);\n",
              "      filter: drop-shadow(0px 1px 2px rgba(0, 0, 0, 0.3));\n",
              "      fill: #FFFFFF;\n",
              "    }\n",
              "  </style>\n",
              "\n",
              "      <script>\n",
              "        const buttonEl =\n",
              "          document.querySelector('#df-b72ec0d9-42d3-4170-b269-09961d6b4668 button.colab-df-convert');\n",
              "        buttonEl.style.display =\n",
              "          google.colab.kernel.accessAllowed ? 'block' : 'none';\n",
              "\n",
              "        async function convertToInteractive(key) {\n",
              "          const element = document.querySelector('#df-b72ec0d9-42d3-4170-b269-09961d6b4668');\n",
              "          const dataTable =\n",
              "            await google.colab.kernel.invokeFunction('convertToInteractive',\n",
              "                                                     [key], {});\n",
              "          if (!dataTable) return;\n",
              "\n",
              "          const docLinkHtml = 'Like what you see? Visit the ' +\n",
              "            '<a target=\"_blank\" href=https://colab.research.google.com/notebooks/data_table.ipynb>data table notebook</a>'\n",
              "            + ' to learn more about interactive tables.';\n",
              "          element.innerHTML = '';\n",
              "          dataTable['output_type'] = 'display_data';\n",
              "          await google.colab.output.renderOutput(dataTable, element);\n",
              "          const docLink = document.createElement('div');\n",
              "          docLink.innerHTML = docLinkHtml;\n",
              "          element.appendChild(docLink);\n",
              "        }\n",
              "      </script>\n",
              "    </div>\n",
              "  </div>\n",
              "  "
            ]
          },
          "metadata": {},
          "execution_count": 26
        }
      ]
    },
    {
      "cell_type": "code",
      "source": [
        "df_inad_value = df.groupby([\"inadimplencia\"]).agg({\n",
        "    \"fgts_value\":\"sum\",\n",
        "    \"mrv_value\":\"sum\",\n",
        "    \"banco_value\":\"sum\",\n",
        "    \"sinal_value\":\"sum\"\n",
        "}).T"
      ],
      "metadata": {
        "id": "cA4T6z8p97Tc"
      },
      "execution_count": null,
      "outputs": []
    },
    {
      "cell_type": "code",
      "source": [
        "df_inad_value.reset_index()"
      ],
      "metadata": {
        "colab": {
          "base_uri": "https://localhost:8080/",
          "height": 175
        },
        "id": "zPLINo8VAdvI",
        "outputId": "d7130326-c30a-485d-ff32-450b713b0352"
      },
      "execution_count": null,
      "outputs": [
        {
          "output_type": "execute_result",
          "data": {
            "text/plain": [
              "inadimplencia        index           NÃO          SIM\n",
              "0               fgts_value   57966189.14  12003166.01\n",
              "1                mrv_value  162855752.61  51795739.20\n",
              "2              banco_value 1233248737.87 346059519.58\n",
              "3              sinal_value   50009943.64   7236379.91"
            ],
            "text/html": [
              "\n",
              "  <div id=\"df-71315c3a-8117-4e39-90c1-a54f14e77c6c\">\n",
              "    <div class=\"colab-df-container\">\n",
              "      <div>\n",
              "<style scoped>\n",
              "    .dataframe tbody tr th:only-of-type {\n",
              "        vertical-align: middle;\n",
              "    }\n",
              "\n",
              "    .dataframe tbody tr th {\n",
              "        vertical-align: top;\n",
              "    }\n",
              "\n",
              "    .dataframe thead th {\n",
              "        text-align: right;\n",
              "    }\n",
              "</style>\n",
              "<table border=\"1\" class=\"dataframe\">\n",
              "  <thead>\n",
              "    <tr style=\"text-align: right;\">\n",
              "      <th>inadimplencia</th>\n",
              "      <th>index</th>\n",
              "      <th>NÃO</th>\n",
              "      <th>SIM</th>\n",
              "    </tr>\n",
              "  </thead>\n",
              "  <tbody>\n",
              "    <tr>\n",
              "      <th>0</th>\n",
              "      <td>fgts_value</td>\n",
              "      <td>57966189.14</td>\n",
              "      <td>12003166.01</td>\n",
              "    </tr>\n",
              "    <tr>\n",
              "      <th>1</th>\n",
              "      <td>mrv_value</td>\n",
              "      <td>162855752.61</td>\n",
              "      <td>51795739.20</td>\n",
              "    </tr>\n",
              "    <tr>\n",
              "      <th>2</th>\n",
              "      <td>banco_value</td>\n",
              "      <td>1233248737.87</td>\n",
              "      <td>346059519.58</td>\n",
              "    </tr>\n",
              "    <tr>\n",
              "      <th>3</th>\n",
              "      <td>sinal_value</td>\n",
              "      <td>50009943.64</td>\n",
              "      <td>7236379.91</td>\n",
              "    </tr>\n",
              "  </tbody>\n",
              "</table>\n",
              "</div>\n",
              "      <button class=\"colab-df-convert\" onclick=\"convertToInteractive('df-71315c3a-8117-4e39-90c1-a54f14e77c6c')\"\n",
              "              title=\"Convert this dataframe to an interactive table.\"\n",
              "              style=\"display:none;\">\n",
              "        \n",
              "  <svg xmlns=\"http://www.w3.org/2000/svg\" height=\"24px\"viewBox=\"0 0 24 24\"\n",
              "       width=\"24px\">\n",
              "    <path d=\"M0 0h24v24H0V0z\" fill=\"none\"/>\n",
              "    <path d=\"M18.56 5.44l.94 2.06.94-2.06 2.06-.94-2.06-.94-.94-2.06-.94 2.06-2.06.94zm-11 1L8.5 8.5l.94-2.06 2.06-.94-2.06-.94L8.5 2.5l-.94 2.06-2.06.94zm10 10l.94 2.06.94-2.06 2.06-.94-2.06-.94-.94-2.06-.94 2.06-2.06.94z\"/><path d=\"M17.41 7.96l-1.37-1.37c-.4-.4-.92-.59-1.43-.59-.52 0-1.04.2-1.43.59L10.3 9.45l-7.72 7.72c-.78.78-.78 2.05 0 2.83L4 21.41c.39.39.9.59 1.41.59.51 0 1.02-.2 1.41-.59l7.78-7.78 2.81-2.81c.8-.78.8-2.07 0-2.86zM5.41 20L4 18.59l7.72-7.72 1.47 1.35L5.41 20z\"/>\n",
              "  </svg>\n",
              "      </button>\n",
              "      \n",
              "  <style>\n",
              "    .colab-df-container {\n",
              "      display:flex;\n",
              "      flex-wrap:wrap;\n",
              "      gap: 12px;\n",
              "    }\n",
              "\n",
              "    .colab-df-convert {\n",
              "      background-color: #E8F0FE;\n",
              "      border: none;\n",
              "      border-radius: 50%;\n",
              "      cursor: pointer;\n",
              "      display: none;\n",
              "      fill: #1967D2;\n",
              "      height: 32px;\n",
              "      padding: 0 0 0 0;\n",
              "      width: 32px;\n",
              "    }\n",
              "\n",
              "    .colab-df-convert:hover {\n",
              "      background-color: #E2EBFA;\n",
              "      box-shadow: 0px 1px 2px rgba(60, 64, 67, 0.3), 0px 1px 3px 1px rgba(60, 64, 67, 0.15);\n",
              "      fill: #174EA6;\n",
              "    }\n",
              "\n",
              "    [theme=dark] .colab-df-convert {\n",
              "      background-color: #3B4455;\n",
              "      fill: #D2E3FC;\n",
              "    }\n",
              "\n",
              "    [theme=dark] .colab-df-convert:hover {\n",
              "      background-color: #434B5C;\n",
              "      box-shadow: 0px 1px 3px 1px rgba(0, 0, 0, 0.15);\n",
              "      filter: drop-shadow(0px 1px 2px rgba(0, 0, 0, 0.3));\n",
              "      fill: #FFFFFF;\n",
              "    }\n",
              "  </style>\n",
              "\n",
              "      <script>\n",
              "        const buttonEl =\n",
              "          document.querySelector('#df-71315c3a-8117-4e39-90c1-a54f14e77c6c button.colab-df-convert');\n",
              "        buttonEl.style.display =\n",
              "          google.colab.kernel.accessAllowed ? 'block' : 'none';\n",
              "\n",
              "        async function convertToInteractive(key) {\n",
              "          const element = document.querySelector('#df-71315c3a-8117-4e39-90c1-a54f14e77c6c');\n",
              "          const dataTable =\n",
              "            await google.colab.kernel.invokeFunction('convertToInteractive',\n",
              "                                                     [key], {});\n",
              "          if (!dataTable) return;\n",
              "\n",
              "          const docLinkHtml = 'Like what you see? Visit the ' +\n",
              "            '<a target=\"_blank\" href=https://colab.research.google.com/notebooks/data_table.ipynb>data table notebook</a>'\n",
              "            + ' to learn more about interactive tables.';\n",
              "          element.innerHTML = '';\n",
              "          dataTable['output_type'] = 'display_data';\n",
              "          await google.colab.output.renderOutput(dataTable, element);\n",
              "          const docLink = document.createElement('div');\n",
              "          docLink.innerHTML = docLinkHtml;\n",
              "          element.appendChild(docLink);\n",
              "        }\n",
              "      </script>\n",
              "    </div>\n",
              "  </div>\n",
              "  "
            ]
          },
          "metadata": {},
          "execution_count": 28
        }
      ]
    },
    {
      "cell_type": "code",
      "source": [
        "df_inad_value.apply(lambda x: x/sum(x) * 100, axis=1)"
      ],
      "metadata": {
        "colab": {
          "base_uri": "https://localhost:8080/",
          "height": 175
        },
        "id": "FOyoo6X8vZyy",
        "outputId": "ba759cd5-8b52-4efa-b6e9-16667632ee72"
      },
      "execution_count": null,
      "outputs": [
        {
          "output_type": "execute_result",
          "data": {
            "text/plain": [
              "inadimplencia   NÃO   SIM\n",
              "fgts_value    82.85 17.15\n",
              "mrv_value     75.87 24.13\n",
              "banco_value   78.09 21.91\n",
              "sinal_value   87.36 12.64"
            ],
            "text/html": [
              "\n",
              "  <div id=\"df-c23c39b3-bb8a-4f24-b446-106a99164b1d\">\n",
              "    <div class=\"colab-df-container\">\n",
              "      <div>\n",
              "<style scoped>\n",
              "    .dataframe tbody tr th:only-of-type {\n",
              "        vertical-align: middle;\n",
              "    }\n",
              "\n",
              "    .dataframe tbody tr th {\n",
              "        vertical-align: top;\n",
              "    }\n",
              "\n",
              "    .dataframe thead th {\n",
              "        text-align: right;\n",
              "    }\n",
              "</style>\n",
              "<table border=\"1\" class=\"dataframe\">\n",
              "  <thead>\n",
              "    <tr style=\"text-align: right;\">\n",
              "      <th>inadimplencia</th>\n",
              "      <th>NÃO</th>\n",
              "      <th>SIM</th>\n",
              "    </tr>\n",
              "  </thead>\n",
              "  <tbody>\n",
              "    <tr>\n",
              "      <th>fgts_value</th>\n",
              "      <td>82.85</td>\n",
              "      <td>17.15</td>\n",
              "    </tr>\n",
              "    <tr>\n",
              "      <th>mrv_value</th>\n",
              "      <td>75.87</td>\n",
              "      <td>24.13</td>\n",
              "    </tr>\n",
              "    <tr>\n",
              "      <th>banco_value</th>\n",
              "      <td>78.09</td>\n",
              "      <td>21.91</td>\n",
              "    </tr>\n",
              "    <tr>\n",
              "      <th>sinal_value</th>\n",
              "      <td>87.36</td>\n",
              "      <td>12.64</td>\n",
              "    </tr>\n",
              "  </tbody>\n",
              "</table>\n",
              "</div>\n",
              "      <button class=\"colab-df-convert\" onclick=\"convertToInteractive('df-c23c39b3-bb8a-4f24-b446-106a99164b1d')\"\n",
              "              title=\"Convert this dataframe to an interactive table.\"\n",
              "              style=\"display:none;\">\n",
              "        \n",
              "  <svg xmlns=\"http://www.w3.org/2000/svg\" height=\"24px\"viewBox=\"0 0 24 24\"\n",
              "       width=\"24px\">\n",
              "    <path d=\"M0 0h24v24H0V0z\" fill=\"none\"/>\n",
              "    <path d=\"M18.56 5.44l.94 2.06.94-2.06 2.06-.94-2.06-.94-.94-2.06-.94 2.06-2.06.94zm-11 1L8.5 8.5l.94-2.06 2.06-.94-2.06-.94L8.5 2.5l-.94 2.06-2.06.94zm10 10l.94 2.06.94-2.06 2.06-.94-2.06-.94-.94-2.06-.94 2.06-2.06.94z\"/><path d=\"M17.41 7.96l-1.37-1.37c-.4-.4-.92-.59-1.43-.59-.52 0-1.04.2-1.43.59L10.3 9.45l-7.72 7.72c-.78.78-.78 2.05 0 2.83L4 21.41c.39.39.9.59 1.41.59.51 0 1.02-.2 1.41-.59l7.78-7.78 2.81-2.81c.8-.78.8-2.07 0-2.86zM5.41 20L4 18.59l7.72-7.72 1.47 1.35L5.41 20z\"/>\n",
              "  </svg>\n",
              "      </button>\n",
              "      \n",
              "  <style>\n",
              "    .colab-df-container {\n",
              "      display:flex;\n",
              "      flex-wrap:wrap;\n",
              "      gap: 12px;\n",
              "    }\n",
              "\n",
              "    .colab-df-convert {\n",
              "      background-color: #E8F0FE;\n",
              "      border: none;\n",
              "      border-radius: 50%;\n",
              "      cursor: pointer;\n",
              "      display: none;\n",
              "      fill: #1967D2;\n",
              "      height: 32px;\n",
              "      padding: 0 0 0 0;\n",
              "      width: 32px;\n",
              "    }\n",
              "\n",
              "    .colab-df-convert:hover {\n",
              "      background-color: #E2EBFA;\n",
              "      box-shadow: 0px 1px 2px rgba(60, 64, 67, 0.3), 0px 1px 3px 1px rgba(60, 64, 67, 0.15);\n",
              "      fill: #174EA6;\n",
              "    }\n",
              "\n",
              "    [theme=dark] .colab-df-convert {\n",
              "      background-color: #3B4455;\n",
              "      fill: #D2E3FC;\n",
              "    }\n",
              "\n",
              "    [theme=dark] .colab-df-convert:hover {\n",
              "      background-color: #434B5C;\n",
              "      box-shadow: 0px 1px 3px 1px rgba(0, 0, 0, 0.15);\n",
              "      filter: drop-shadow(0px 1px 2px rgba(0, 0, 0, 0.3));\n",
              "      fill: #FFFFFF;\n",
              "    }\n",
              "  </style>\n",
              "\n",
              "      <script>\n",
              "        const buttonEl =\n",
              "          document.querySelector('#df-c23c39b3-bb8a-4f24-b446-106a99164b1d button.colab-df-convert');\n",
              "        buttonEl.style.display =\n",
              "          google.colab.kernel.accessAllowed ? 'block' : 'none';\n",
              "\n",
              "        async function convertToInteractive(key) {\n",
              "          const element = document.querySelector('#df-c23c39b3-bb8a-4f24-b446-106a99164b1d');\n",
              "          const dataTable =\n",
              "            await google.colab.kernel.invokeFunction('convertToInteractive',\n",
              "                                                     [key], {});\n",
              "          if (!dataTable) return;\n",
              "\n",
              "          const docLinkHtml = 'Like what you see? Visit the ' +\n",
              "            '<a target=\"_blank\" href=https://colab.research.google.com/notebooks/data_table.ipynb>data table notebook</a>'\n",
              "            + ' to learn more about interactive tables.';\n",
              "          element.innerHTML = '';\n",
              "          dataTable['output_type'] = 'display_data';\n",
              "          await google.colab.output.renderOutput(dataTable, element);\n",
              "          const docLink = document.createElement('div');\n",
              "          docLink.innerHTML = docLinkHtml;\n",
              "          element.appendChild(docLink);\n",
              "        }\n",
              "      </script>\n",
              "    </div>\n",
              "  </div>\n",
              "  "
            ]
          },
          "metadata": {},
          "execution_count": 29
        }
      ]
    },
    {
      "cell_type": "code",
      "source": [
        "px.bar(df_inad_value.apply(lambda x: x/sum(x) * 100, axis=1).reset_index(), x=\"index\", y=[\"SIM\", \"NÃO\"])"
      ],
      "metadata": {
        "colab": {
          "base_uri": "https://localhost:8080/",
          "height": 542
        },
        "id": "FpQhnbyP-Rle",
        "outputId": "24464e57-dc8c-41f6-d690-a1f92b9668f0"
      },
      "execution_count": null,
      "outputs": [
        {
          "output_type": "display_data",
          "data": {
            "text/html": [
              "<html>\n",
              "<head><meta charset=\"utf-8\" /></head>\n",
              "<body>\n",
              "    <div>            <script src=\"https://cdnjs.cloudflare.com/ajax/libs/mathjax/2.7.5/MathJax.js?config=TeX-AMS-MML_SVG\"></script><script type=\"text/javascript\">if (window.MathJax) {MathJax.Hub.Config({SVG: {font: \"STIX-Web\"}});}</script>                <script type=\"text/javascript\">window.PlotlyConfig = {MathJaxConfig: 'local'};</script>\n",
              "        <script src=\"https://cdn.plot.ly/plotly-2.8.3.min.js\"></script>                <div id=\"0f0b3ad8-b581-417e-b4a9-b691ec055f57\" class=\"plotly-graph-div\" style=\"height:525px; width:100%;\"></div>            <script type=\"text/javascript\">                                    window.PLOTLYENV=window.PLOTLYENV || {};                                    if (document.getElementById(\"0f0b3ad8-b581-417e-b4a9-b691ec055f57\")) {                    Plotly.newPlot(                        \"0f0b3ad8-b581-417e-b4a9-b691ec055f57\",                        [{\"alignmentgroup\":\"True\",\"hovertemplate\":\"variable=SIM<br>index=%{x}<br>value=%{y}<extra></extra>\",\"legendgroup\":\"SIM\",\"marker\":{\"color\":\"#636efa\",\"pattern\":{\"shape\":\"\"}},\"name\":\"SIM\",\"offsetgroup\":\"SIM\",\"orientation\":\"v\",\"showlegend\":true,\"textposition\":\"auto\",\"x\":[\"fgts_value\",\"mrv_value\",\"banco_value\",\"sinal_value\"],\"xaxis\":\"x\",\"y\":[17.154890143360138,24.13015570646362,21.912094611520516,12.640776666958557],\"yaxis\":\"y\",\"type\":\"bar\"},{\"alignmentgroup\":\"True\",\"hovertemplate\":\"variable=N\\u00c3O<br>index=%{x}<br>value=%{y}<extra></extra>\",\"legendgroup\":\"N\\u00c3O\",\"marker\":{\"color\":\"#EF553B\",\"pattern\":{\"shape\":\"\"}},\"name\":\"N\\u00c3O\",\"offsetgroup\":\"N\\u00c3O\",\"orientation\":\"v\",\"showlegend\":true,\"textposition\":\"auto\",\"x\":[\"fgts_value\",\"mrv_value\",\"banco_value\",\"sinal_value\"],\"xaxis\":\"x\",\"y\":[82.84510985663985,75.86984429353639,78.08790538847948,87.35922333304144],\"yaxis\":\"y\",\"type\":\"bar\"}],                        {\"template\":{\"data\":{\"bar\":[{\"error_x\":{\"color\":\"#2a3f5f\"},\"error_y\":{\"color\":\"#2a3f5f\"},\"marker\":{\"line\":{\"color\":\"#E5ECF6\",\"width\":0.5},\"pattern\":{\"fillmode\":\"overlay\",\"size\":10,\"solidity\":0.2}},\"type\":\"bar\"}],\"barpolar\":[{\"marker\":{\"line\":{\"color\":\"#E5ECF6\",\"width\":0.5},\"pattern\":{\"fillmode\":\"overlay\",\"size\":10,\"solidity\":0.2}},\"type\":\"barpolar\"}],\"carpet\":[{\"aaxis\":{\"endlinecolor\":\"#2a3f5f\",\"gridcolor\":\"white\",\"linecolor\":\"white\",\"minorgridcolor\":\"white\",\"startlinecolor\":\"#2a3f5f\"},\"baxis\":{\"endlinecolor\":\"#2a3f5f\",\"gridcolor\":\"white\",\"linecolor\":\"white\",\"minorgridcolor\":\"white\",\"startlinecolor\":\"#2a3f5f\"},\"type\":\"carpet\"}],\"choropleth\":[{\"colorbar\":{\"outlinewidth\":0,\"ticks\":\"\"},\"type\":\"choropleth\"}],\"contour\":[{\"colorbar\":{\"outlinewidth\":0,\"ticks\":\"\"},\"colorscale\":[[0.0,\"#0d0887\"],[0.1111111111111111,\"#46039f\"],[0.2222222222222222,\"#7201a8\"],[0.3333333333333333,\"#9c179e\"],[0.4444444444444444,\"#bd3786\"],[0.5555555555555556,\"#d8576b\"],[0.6666666666666666,\"#ed7953\"],[0.7777777777777778,\"#fb9f3a\"],[0.8888888888888888,\"#fdca26\"],[1.0,\"#f0f921\"]],\"type\":\"contour\"}],\"contourcarpet\":[{\"colorbar\":{\"outlinewidth\":0,\"ticks\":\"\"},\"type\":\"contourcarpet\"}],\"heatmap\":[{\"colorbar\":{\"outlinewidth\":0,\"ticks\":\"\"},\"colorscale\":[[0.0,\"#0d0887\"],[0.1111111111111111,\"#46039f\"],[0.2222222222222222,\"#7201a8\"],[0.3333333333333333,\"#9c179e\"],[0.4444444444444444,\"#bd3786\"],[0.5555555555555556,\"#d8576b\"],[0.6666666666666666,\"#ed7953\"],[0.7777777777777778,\"#fb9f3a\"],[0.8888888888888888,\"#fdca26\"],[1.0,\"#f0f921\"]],\"type\":\"heatmap\"}],\"heatmapgl\":[{\"colorbar\":{\"outlinewidth\":0,\"ticks\":\"\"},\"colorscale\":[[0.0,\"#0d0887\"],[0.1111111111111111,\"#46039f\"],[0.2222222222222222,\"#7201a8\"],[0.3333333333333333,\"#9c179e\"],[0.4444444444444444,\"#bd3786\"],[0.5555555555555556,\"#d8576b\"],[0.6666666666666666,\"#ed7953\"],[0.7777777777777778,\"#fb9f3a\"],[0.8888888888888888,\"#fdca26\"],[1.0,\"#f0f921\"]],\"type\":\"heatmapgl\"}],\"histogram\":[{\"marker\":{\"pattern\":{\"fillmode\":\"overlay\",\"size\":10,\"solidity\":0.2}},\"type\":\"histogram\"}],\"histogram2d\":[{\"colorbar\":{\"outlinewidth\":0,\"ticks\":\"\"},\"colorscale\":[[0.0,\"#0d0887\"],[0.1111111111111111,\"#46039f\"],[0.2222222222222222,\"#7201a8\"],[0.3333333333333333,\"#9c179e\"],[0.4444444444444444,\"#bd3786\"],[0.5555555555555556,\"#d8576b\"],[0.6666666666666666,\"#ed7953\"],[0.7777777777777778,\"#fb9f3a\"],[0.8888888888888888,\"#fdca26\"],[1.0,\"#f0f921\"]],\"type\":\"histogram2d\"}],\"histogram2dcontour\":[{\"colorbar\":{\"outlinewidth\":0,\"ticks\":\"\"},\"colorscale\":[[0.0,\"#0d0887\"],[0.1111111111111111,\"#46039f\"],[0.2222222222222222,\"#7201a8\"],[0.3333333333333333,\"#9c179e\"],[0.4444444444444444,\"#bd3786\"],[0.5555555555555556,\"#d8576b\"],[0.6666666666666666,\"#ed7953\"],[0.7777777777777778,\"#fb9f3a\"],[0.8888888888888888,\"#fdca26\"],[1.0,\"#f0f921\"]],\"type\":\"histogram2dcontour\"}],\"mesh3d\":[{\"colorbar\":{\"outlinewidth\":0,\"ticks\":\"\"},\"type\":\"mesh3d\"}],\"parcoords\":[{\"line\":{\"colorbar\":{\"outlinewidth\":0,\"ticks\":\"\"}},\"type\":\"parcoords\"}],\"pie\":[{\"automargin\":true,\"type\":\"pie\"}],\"scatter\":[{\"marker\":{\"colorbar\":{\"outlinewidth\":0,\"ticks\":\"\"}},\"type\":\"scatter\"}],\"scatter3d\":[{\"line\":{\"colorbar\":{\"outlinewidth\":0,\"ticks\":\"\"}},\"marker\":{\"colorbar\":{\"outlinewidth\":0,\"ticks\":\"\"}},\"type\":\"scatter3d\"}],\"scattercarpet\":[{\"marker\":{\"colorbar\":{\"outlinewidth\":0,\"ticks\":\"\"}},\"type\":\"scattercarpet\"}],\"scattergeo\":[{\"marker\":{\"colorbar\":{\"outlinewidth\":0,\"ticks\":\"\"}},\"type\":\"scattergeo\"}],\"scattergl\":[{\"marker\":{\"colorbar\":{\"outlinewidth\":0,\"ticks\":\"\"}},\"type\":\"scattergl\"}],\"scattermapbox\":[{\"marker\":{\"colorbar\":{\"outlinewidth\":0,\"ticks\":\"\"}},\"type\":\"scattermapbox\"}],\"scatterpolar\":[{\"marker\":{\"colorbar\":{\"outlinewidth\":0,\"ticks\":\"\"}},\"type\":\"scatterpolar\"}],\"scatterpolargl\":[{\"marker\":{\"colorbar\":{\"outlinewidth\":0,\"ticks\":\"\"}},\"type\":\"scatterpolargl\"}],\"scatterternary\":[{\"marker\":{\"colorbar\":{\"outlinewidth\":0,\"ticks\":\"\"}},\"type\":\"scatterternary\"}],\"surface\":[{\"colorbar\":{\"outlinewidth\":0,\"ticks\":\"\"},\"colorscale\":[[0.0,\"#0d0887\"],[0.1111111111111111,\"#46039f\"],[0.2222222222222222,\"#7201a8\"],[0.3333333333333333,\"#9c179e\"],[0.4444444444444444,\"#bd3786\"],[0.5555555555555556,\"#d8576b\"],[0.6666666666666666,\"#ed7953\"],[0.7777777777777778,\"#fb9f3a\"],[0.8888888888888888,\"#fdca26\"],[1.0,\"#f0f921\"]],\"type\":\"surface\"}],\"table\":[{\"cells\":{\"fill\":{\"color\":\"#EBF0F8\"},\"line\":{\"color\":\"white\"}},\"header\":{\"fill\":{\"color\":\"#C8D4E3\"},\"line\":{\"color\":\"white\"}},\"type\":\"table\"}]},\"layout\":{\"annotationdefaults\":{\"arrowcolor\":\"#2a3f5f\",\"arrowhead\":0,\"arrowwidth\":1},\"autotypenumbers\":\"strict\",\"coloraxis\":{\"colorbar\":{\"outlinewidth\":0,\"ticks\":\"\"}},\"colorscale\":{\"diverging\":[[0,\"#8e0152\"],[0.1,\"#c51b7d\"],[0.2,\"#de77ae\"],[0.3,\"#f1b6da\"],[0.4,\"#fde0ef\"],[0.5,\"#f7f7f7\"],[0.6,\"#e6f5d0\"],[0.7,\"#b8e186\"],[0.8,\"#7fbc41\"],[0.9,\"#4d9221\"],[1,\"#276419\"]],\"sequential\":[[0.0,\"#0d0887\"],[0.1111111111111111,\"#46039f\"],[0.2222222222222222,\"#7201a8\"],[0.3333333333333333,\"#9c179e\"],[0.4444444444444444,\"#bd3786\"],[0.5555555555555556,\"#d8576b\"],[0.6666666666666666,\"#ed7953\"],[0.7777777777777778,\"#fb9f3a\"],[0.8888888888888888,\"#fdca26\"],[1.0,\"#f0f921\"]],\"sequentialminus\":[[0.0,\"#0d0887\"],[0.1111111111111111,\"#46039f\"],[0.2222222222222222,\"#7201a8\"],[0.3333333333333333,\"#9c179e\"],[0.4444444444444444,\"#bd3786\"],[0.5555555555555556,\"#d8576b\"],[0.6666666666666666,\"#ed7953\"],[0.7777777777777778,\"#fb9f3a\"],[0.8888888888888888,\"#fdca26\"],[1.0,\"#f0f921\"]]},\"colorway\":[\"#636efa\",\"#EF553B\",\"#00cc96\",\"#ab63fa\",\"#FFA15A\",\"#19d3f3\",\"#FF6692\",\"#B6E880\",\"#FF97FF\",\"#FECB52\"],\"font\":{\"color\":\"#2a3f5f\"},\"geo\":{\"bgcolor\":\"white\",\"lakecolor\":\"white\",\"landcolor\":\"#E5ECF6\",\"showlakes\":true,\"showland\":true,\"subunitcolor\":\"white\"},\"hoverlabel\":{\"align\":\"left\"},\"hovermode\":\"closest\",\"mapbox\":{\"style\":\"light\"},\"paper_bgcolor\":\"white\",\"plot_bgcolor\":\"#E5ECF6\",\"polar\":{\"angularaxis\":{\"gridcolor\":\"white\",\"linecolor\":\"white\",\"ticks\":\"\"},\"bgcolor\":\"#E5ECF6\",\"radialaxis\":{\"gridcolor\":\"white\",\"linecolor\":\"white\",\"ticks\":\"\"}},\"scene\":{\"xaxis\":{\"backgroundcolor\":\"#E5ECF6\",\"gridcolor\":\"white\",\"gridwidth\":2,\"linecolor\":\"white\",\"showbackground\":true,\"ticks\":\"\",\"zerolinecolor\":\"white\"},\"yaxis\":{\"backgroundcolor\":\"#E5ECF6\",\"gridcolor\":\"white\",\"gridwidth\":2,\"linecolor\":\"white\",\"showbackground\":true,\"ticks\":\"\",\"zerolinecolor\":\"white\"},\"zaxis\":{\"backgroundcolor\":\"#E5ECF6\",\"gridcolor\":\"white\",\"gridwidth\":2,\"linecolor\":\"white\",\"showbackground\":true,\"ticks\":\"\",\"zerolinecolor\":\"white\"}},\"shapedefaults\":{\"line\":{\"color\":\"#2a3f5f\"}},\"ternary\":{\"aaxis\":{\"gridcolor\":\"white\",\"linecolor\":\"white\",\"ticks\":\"\"},\"baxis\":{\"gridcolor\":\"white\",\"linecolor\":\"white\",\"ticks\":\"\"},\"bgcolor\":\"#E5ECF6\",\"caxis\":{\"gridcolor\":\"white\",\"linecolor\":\"white\",\"ticks\":\"\"}},\"title\":{\"x\":0.05},\"xaxis\":{\"automargin\":true,\"gridcolor\":\"white\",\"linecolor\":\"white\",\"ticks\":\"\",\"title\":{\"standoff\":15},\"zerolinecolor\":\"white\",\"zerolinewidth\":2},\"yaxis\":{\"automargin\":true,\"gridcolor\":\"white\",\"linecolor\":\"white\",\"ticks\":\"\",\"title\":{\"standoff\":15},\"zerolinecolor\":\"white\",\"zerolinewidth\":2}}},\"xaxis\":{\"anchor\":\"y\",\"domain\":[0.0,1.0],\"title\":{\"text\":\"index\"}},\"yaxis\":{\"anchor\":\"x\",\"domain\":[0.0,1.0],\"title\":{\"text\":\"value\"}},\"legend\":{\"title\":{\"text\":\"variable\"},\"tracegroupgap\":0},\"margin\":{\"t\":60},\"barmode\":\"relative\"},                        {\"responsive\": true}                    ).then(function(){\n",
              "                            \n",
              "var gd = document.getElementById('0f0b3ad8-b581-417e-b4a9-b691ec055f57');\n",
              "var x = new MutationObserver(function (mutations, observer) {{\n",
              "        var display = window.getComputedStyle(gd).display;\n",
              "        if (!display || display === 'none') {{\n",
              "            console.log([gd, 'removed!']);\n",
              "            Plotly.purge(gd);\n",
              "            observer.disconnect();\n",
              "        }}\n",
              "}});\n",
              "\n",
              "// Listen for the removal of the full notebook cells\n",
              "var notebookContainer = gd.closest('#notebook-container');\n",
              "if (notebookContainer) {{\n",
              "    x.observe(notebookContainer, {childList: true});\n",
              "}}\n",
              "\n",
              "// Listen for the clearing of the current output cell\n",
              "var outputEl = gd.closest('.output');\n",
              "if (outputEl) {{\n",
              "    x.observe(outputEl, {childList: true});\n",
              "}}\n",
              "\n",
              "                        })                };                            </script>        </div>\n",
              "</body>\n",
              "</html>"
            ]
          },
          "metadata": {}
        }
      ]
    },
    {
      "cell_type": "code",
      "source": [
        "df.head()"
      ],
      "metadata": {
        "colab": {
          "base_uri": "https://localhost:8080/",
          "height": 250
        },
        "id": "Zw7nZxBbBYq9",
        "outputId": "580761aa-ce2f-431f-d8a2-d3ee70878b5f"
      },
      "execution_count": null,
      "outputs": [
        {
          "output_type": "execute_result",
          "data": {
            "text/plain": [
              "   ano_venda estado_civil          cidade  renda_cliente  parcelas_entradas  \\\n",
              "0       2017   Divorciado  Ribeirão Preto        3268.00                 33   \n",
              "1       2014     Solteiro       Joinville        2154.00                 23   \n",
              "2       2017     Solteiro         UBERABA        2039.00                 45   \n",
              "3       2015     Solteiro       São Paulo        6349.00                 30   \n",
              "4       2016     Solteiro        Salvador        2413.00                 36   \n",
              "\n",
              "  renda_parcela_entrada  valor_imovel inadimplencia  fgts_value  sinal_value  \\\n",
              "0                   16%     134017.00           NÃO     5360.68      1340.17   \n",
              "1                   24%     130284.00           SIM    10422.72         0.00   \n",
              "2                    6%     140184.00           NÃO        0.00     25233.12   \n",
              "3                   11%     201016.00           SIM    16081.28      4020.32   \n",
              "4                   13%     146673.00           NÃO     1466.73      1466.73   \n",
              "\n",
              "   mrv_value  banco_value  \n",
              "0   18762.38    109893.94  \n",
              "1   13028.40    106832.88  \n",
              "2    5607.36    109343.52  \n",
              "3   20101.60    158802.64  \n",
              "4   13200.57    130538.97  "
            ],
            "text/html": [
              "\n",
              "  <div id=\"df-aaf4be90-ba92-4e3c-ae66-b376609baf1e\">\n",
              "    <div class=\"colab-df-container\">\n",
              "      <div>\n",
              "<style scoped>\n",
              "    .dataframe tbody tr th:only-of-type {\n",
              "        vertical-align: middle;\n",
              "    }\n",
              "\n",
              "    .dataframe tbody tr th {\n",
              "        vertical-align: top;\n",
              "    }\n",
              "\n",
              "    .dataframe thead th {\n",
              "        text-align: right;\n",
              "    }\n",
              "</style>\n",
              "<table border=\"1\" class=\"dataframe\">\n",
              "  <thead>\n",
              "    <tr style=\"text-align: right;\">\n",
              "      <th></th>\n",
              "      <th>ano_venda</th>\n",
              "      <th>estado_civil</th>\n",
              "      <th>cidade</th>\n",
              "      <th>renda_cliente</th>\n",
              "      <th>parcelas_entradas</th>\n",
              "      <th>renda_parcela_entrada</th>\n",
              "      <th>valor_imovel</th>\n",
              "      <th>inadimplencia</th>\n",
              "      <th>fgts_value</th>\n",
              "      <th>sinal_value</th>\n",
              "      <th>mrv_value</th>\n",
              "      <th>banco_value</th>\n",
              "    </tr>\n",
              "  </thead>\n",
              "  <tbody>\n",
              "    <tr>\n",
              "      <th>0</th>\n",
              "      <td>2017</td>\n",
              "      <td>Divorciado</td>\n",
              "      <td>Ribeirão Preto</td>\n",
              "      <td>3268.00</td>\n",
              "      <td>33</td>\n",
              "      <td>16%</td>\n",
              "      <td>134017.00</td>\n",
              "      <td>NÃO</td>\n",
              "      <td>5360.68</td>\n",
              "      <td>1340.17</td>\n",
              "      <td>18762.38</td>\n",
              "      <td>109893.94</td>\n",
              "    </tr>\n",
              "    <tr>\n",
              "      <th>1</th>\n",
              "      <td>2014</td>\n",
              "      <td>Solteiro</td>\n",
              "      <td>Joinville</td>\n",
              "      <td>2154.00</td>\n",
              "      <td>23</td>\n",
              "      <td>24%</td>\n",
              "      <td>130284.00</td>\n",
              "      <td>SIM</td>\n",
              "      <td>10422.72</td>\n",
              "      <td>0.00</td>\n",
              "      <td>13028.40</td>\n",
              "      <td>106832.88</td>\n",
              "    </tr>\n",
              "    <tr>\n",
              "      <th>2</th>\n",
              "      <td>2017</td>\n",
              "      <td>Solteiro</td>\n",
              "      <td>UBERABA</td>\n",
              "      <td>2039.00</td>\n",
              "      <td>45</td>\n",
              "      <td>6%</td>\n",
              "      <td>140184.00</td>\n",
              "      <td>NÃO</td>\n",
              "      <td>0.00</td>\n",
              "      <td>25233.12</td>\n",
              "      <td>5607.36</td>\n",
              "      <td>109343.52</td>\n",
              "    </tr>\n",
              "    <tr>\n",
              "      <th>3</th>\n",
              "      <td>2015</td>\n",
              "      <td>Solteiro</td>\n",
              "      <td>São Paulo</td>\n",
              "      <td>6349.00</td>\n",
              "      <td>30</td>\n",
              "      <td>11%</td>\n",
              "      <td>201016.00</td>\n",
              "      <td>SIM</td>\n",
              "      <td>16081.28</td>\n",
              "      <td>4020.32</td>\n",
              "      <td>20101.60</td>\n",
              "      <td>158802.64</td>\n",
              "    </tr>\n",
              "    <tr>\n",
              "      <th>4</th>\n",
              "      <td>2016</td>\n",
              "      <td>Solteiro</td>\n",
              "      <td>Salvador</td>\n",
              "      <td>2413.00</td>\n",
              "      <td>36</td>\n",
              "      <td>13%</td>\n",
              "      <td>146673.00</td>\n",
              "      <td>NÃO</td>\n",
              "      <td>1466.73</td>\n",
              "      <td>1466.73</td>\n",
              "      <td>13200.57</td>\n",
              "      <td>130538.97</td>\n",
              "    </tr>\n",
              "  </tbody>\n",
              "</table>\n",
              "</div>\n",
              "      <button class=\"colab-df-convert\" onclick=\"convertToInteractive('df-aaf4be90-ba92-4e3c-ae66-b376609baf1e')\"\n",
              "              title=\"Convert this dataframe to an interactive table.\"\n",
              "              style=\"display:none;\">\n",
              "        \n",
              "  <svg xmlns=\"http://www.w3.org/2000/svg\" height=\"24px\"viewBox=\"0 0 24 24\"\n",
              "       width=\"24px\">\n",
              "    <path d=\"M0 0h24v24H0V0z\" fill=\"none\"/>\n",
              "    <path d=\"M18.56 5.44l.94 2.06.94-2.06 2.06-.94-2.06-.94-.94-2.06-.94 2.06-2.06.94zm-11 1L8.5 8.5l.94-2.06 2.06-.94-2.06-.94L8.5 2.5l-.94 2.06-2.06.94zm10 10l.94 2.06.94-2.06 2.06-.94-2.06-.94-.94-2.06-.94 2.06-2.06.94z\"/><path d=\"M17.41 7.96l-1.37-1.37c-.4-.4-.92-.59-1.43-.59-.52 0-1.04.2-1.43.59L10.3 9.45l-7.72 7.72c-.78.78-.78 2.05 0 2.83L4 21.41c.39.39.9.59 1.41.59.51 0 1.02-.2 1.41-.59l7.78-7.78 2.81-2.81c.8-.78.8-2.07 0-2.86zM5.41 20L4 18.59l7.72-7.72 1.47 1.35L5.41 20z\"/>\n",
              "  </svg>\n",
              "      </button>\n",
              "      \n",
              "  <style>\n",
              "    .colab-df-container {\n",
              "      display:flex;\n",
              "      flex-wrap:wrap;\n",
              "      gap: 12px;\n",
              "    }\n",
              "\n",
              "    .colab-df-convert {\n",
              "      background-color: #E8F0FE;\n",
              "      border: none;\n",
              "      border-radius: 50%;\n",
              "      cursor: pointer;\n",
              "      display: none;\n",
              "      fill: #1967D2;\n",
              "      height: 32px;\n",
              "      padding: 0 0 0 0;\n",
              "      width: 32px;\n",
              "    }\n",
              "\n",
              "    .colab-df-convert:hover {\n",
              "      background-color: #E2EBFA;\n",
              "      box-shadow: 0px 1px 2px rgba(60, 64, 67, 0.3), 0px 1px 3px 1px rgba(60, 64, 67, 0.15);\n",
              "      fill: #174EA6;\n",
              "    }\n",
              "\n",
              "    [theme=dark] .colab-df-convert {\n",
              "      background-color: #3B4455;\n",
              "      fill: #D2E3FC;\n",
              "    }\n",
              "\n",
              "    [theme=dark] .colab-df-convert:hover {\n",
              "      background-color: #434B5C;\n",
              "      box-shadow: 0px 1px 3px 1px rgba(0, 0, 0, 0.15);\n",
              "      filter: drop-shadow(0px 1px 2px rgba(0, 0, 0, 0.3));\n",
              "      fill: #FFFFFF;\n",
              "    }\n",
              "  </style>\n",
              "\n",
              "      <script>\n",
              "        const buttonEl =\n",
              "          document.querySelector('#df-aaf4be90-ba92-4e3c-ae66-b376609baf1e button.colab-df-convert');\n",
              "        buttonEl.style.display =\n",
              "          google.colab.kernel.accessAllowed ? 'block' : 'none';\n",
              "\n",
              "        async function convertToInteractive(key) {\n",
              "          const element = document.querySelector('#df-aaf4be90-ba92-4e3c-ae66-b376609baf1e');\n",
              "          const dataTable =\n",
              "            await google.colab.kernel.invokeFunction('convertToInteractive',\n",
              "                                                     [key], {});\n",
              "          if (!dataTable) return;\n",
              "\n",
              "          const docLinkHtml = 'Like what you see? Visit the ' +\n",
              "            '<a target=\"_blank\" href=https://colab.research.google.com/notebooks/data_table.ipynb>data table notebook</a>'\n",
              "            + ' to learn more about interactive tables.';\n",
              "          element.innerHTML = '';\n",
              "          dataTable['output_type'] = 'display_data';\n",
              "          await google.colab.output.renderOutput(dataTable, element);\n",
              "          const docLink = document.createElement('div');\n",
              "          docLink.innerHTML = docLinkHtml;\n",
              "          element.appendChild(docLink);\n",
              "        }\n",
              "      </script>\n",
              "    </div>\n",
              "  </div>\n",
              "  "
            ]
          },
          "metadata": {},
          "execution_count": 31
        }
      ]
    },
    {
      "cell_type": "code",
      "source": [
        "df[\"valor_parcelas\"] = df[\"mrv_value\"]/df[\"parcelas_entradas\"]"
      ],
      "metadata": {
        "id": "4Raa5SURCqsv"
      },
      "execution_count": null,
      "outputs": []
    },
    {
      "cell_type": "code",
      "source": [
        "df[\"renda_parcela_entrada\"] = df.renda_parcela_entrada.str[:-1].apply(lambda value: float(value)/100)"
      ],
      "metadata": {
        "id": "vsmiaiZKC_6c"
      },
      "execution_count": null,
      "outputs": []
    },
    {
      "cell_type": "code",
      "source": [
        "df.head()"
      ],
      "metadata": {
        "colab": {
          "base_uri": "https://localhost:8080/",
          "height": 287
        },
        "id": "hOUmbNFgElQO",
        "outputId": "261c87a3-d8ac-48e0-f795-f6fdb039f52e"
      },
      "execution_count": null,
      "outputs": [
        {
          "output_type": "execute_result",
          "data": {
            "text/plain": [
              "   ano_venda estado_civil          cidade  renda_cliente  parcelas_entradas  \\\n",
              "0       2017   Divorciado  Ribeirão Preto        3268.00                 33   \n",
              "1       2014     Solteiro       Joinville        2154.00                 23   \n",
              "2       2017     Solteiro         UBERABA        2039.00                 45   \n",
              "3       2015     Solteiro       São Paulo        6349.00                 30   \n",
              "4       2016     Solteiro        Salvador        2413.00                 36   \n",
              "\n",
              "   renda_parcela_entrada  valor_imovel inadimplencia  fgts_value  sinal_value  \\\n",
              "0                   0.16     134017.00           NÃO     5360.68      1340.17   \n",
              "1                   0.24     130284.00           SIM    10422.72         0.00   \n",
              "2                   0.06     140184.00           NÃO        0.00     25233.12   \n",
              "3                   0.11     201016.00           SIM    16081.28      4020.32   \n",
              "4                   0.13     146673.00           NÃO     1466.73      1466.73   \n",
              "\n",
              "   mrv_value  banco_value  valor_parcelas  \n",
              "0   18762.38    109893.94          568.56  \n",
              "1   13028.40    106832.88          566.45  \n",
              "2    5607.36    109343.52          124.61  \n",
              "3   20101.60    158802.64          670.05  \n",
              "4   13200.57    130538.97          366.68  "
            ],
            "text/html": [
              "\n",
              "  <div id=\"df-f12b5812-6bc5-4a0b-abd3-09543b829e7c\">\n",
              "    <div class=\"colab-df-container\">\n",
              "      <div>\n",
              "<style scoped>\n",
              "    .dataframe tbody tr th:only-of-type {\n",
              "        vertical-align: middle;\n",
              "    }\n",
              "\n",
              "    .dataframe tbody tr th {\n",
              "        vertical-align: top;\n",
              "    }\n",
              "\n",
              "    .dataframe thead th {\n",
              "        text-align: right;\n",
              "    }\n",
              "</style>\n",
              "<table border=\"1\" class=\"dataframe\">\n",
              "  <thead>\n",
              "    <tr style=\"text-align: right;\">\n",
              "      <th></th>\n",
              "      <th>ano_venda</th>\n",
              "      <th>estado_civil</th>\n",
              "      <th>cidade</th>\n",
              "      <th>renda_cliente</th>\n",
              "      <th>parcelas_entradas</th>\n",
              "      <th>renda_parcela_entrada</th>\n",
              "      <th>valor_imovel</th>\n",
              "      <th>inadimplencia</th>\n",
              "      <th>fgts_value</th>\n",
              "      <th>sinal_value</th>\n",
              "      <th>mrv_value</th>\n",
              "      <th>banco_value</th>\n",
              "      <th>valor_parcelas</th>\n",
              "    </tr>\n",
              "  </thead>\n",
              "  <tbody>\n",
              "    <tr>\n",
              "      <th>0</th>\n",
              "      <td>2017</td>\n",
              "      <td>Divorciado</td>\n",
              "      <td>Ribeirão Preto</td>\n",
              "      <td>3268.00</td>\n",
              "      <td>33</td>\n",
              "      <td>0.16</td>\n",
              "      <td>134017.00</td>\n",
              "      <td>NÃO</td>\n",
              "      <td>5360.68</td>\n",
              "      <td>1340.17</td>\n",
              "      <td>18762.38</td>\n",
              "      <td>109893.94</td>\n",
              "      <td>568.56</td>\n",
              "    </tr>\n",
              "    <tr>\n",
              "      <th>1</th>\n",
              "      <td>2014</td>\n",
              "      <td>Solteiro</td>\n",
              "      <td>Joinville</td>\n",
              "      <td>2154.00</td>\n",
              "      <td>23</td>\n",
              "      <td>0.24</td>\n",
              "      <td>130284.00</td>\n",
              "      <td>SIM</td>\n",
              "      <td>10422.72</td>\n",
              "      <td>0.00</td>\n",
              "      <td>13028.40</td>\n",
              "      <td>106832.88</td>\n",
              "      <td>566.45</td>\n",
              "    </tr>\n",
              "    <tr>\n",
              "      <th>2</th>\n",
              "      <td>2017</td>\n",
              "      <td>Solteiro</td>\n",
              "      <td>UBERABA</td>\n",
              "      <td>2039.00</td>\n",
              "      <td>45</td>\n",
              "      <td>0.06</td>\n",
              "      <td>140184.00</td>\n",
              "      <td>NÃO</td>\n",
              "      <td>0.00</td>\n",
              "      <td>25233.12</td>\n",
              "      <td>5607.36</td>\n",
              "      <td>109343.52</td>\n",
              "      <td>124.61</td>\n",
              "    </tr>\n",
              "    <tr>\n",
              "      <th>3</th>\n",
              "      <td>2015</td>\n",
              "      <td>Solteiro</td>\n",
              "      <td>São Paulo</td>\n",
              "      <td>6349.00</td>\n",
              "      <td>30</td>\n",
              "      <td>0.11</td>\n",
              "      <td>201016.00</td>\n",
              "      <td>SIM</td>\n",
              "      <td>16081.28</td>\n",
              "      <td>4020.32</td>\n",
              "      <td>20101.60</td>\n",
              "      <td>158802.64</td>\n",
              "      <td>670.05</td>\n",
              "    </tr>\n",
              "    <tr>\n",
              "      <th>4</th>\n",
              "      <td>2016</td>\n",
              "      <td>Solteiro</td>\n",
              "      <td>Salvador</td>\n",
              "      <td>2413.00</td>\n",
              "      <td>36</td>\n",
              "      <td>0.13</td>\n",
              "      <td>146673.00</td>\n",
              "      <td>NÃO</td>\n",
              "      <td>1466.73</td>\n",
              "      <td>1466.73</td>\n",
              "      <td>13200.57</td>\n",
              "      <td>130538.97</td>\n",
              "      <td>366.68</td>\n",
              "    </tr>\n",
              "  </tbody>\n",
              "</table>\n",
              "</div>\n",
              "      <button class=\"colab-df-convert\" onclick=\"convertToInteractive('df-f12b5812-6bc5-4a0b-abd3-09543b829e7c')\"\n",
              "              title=\"Convert this dataframe to an interactive table.\"\n",
              "              style=\"display:none;\">\n",
              "        \n",
              "  <svg xmlns=\"http://www.w3.org/2000/svg\" height=\"24px\"viewBox=\"0 0 24 24\"\n",
              "       width=\"24px\">\n",
              "    <path d=\"M0 0h24v24H0V0z\" fill=\"none\"/>\n",
              "    <path d=\"M18.56 5.44l.94 2.06.94-2.06 2.06-.94-2.06-.94-.94-2.06-.94 2.06-2.06.94zm-11 1L8.5 8.5l.94-2.06 2.06-.94-2.06-.94L8.5 2.5l-.94 2.06-2.06.94zm10 10l.94 2.06.94-2.06 2.06-.94-2.06-.94-.94-2.06-.94 2.06-2.06.94z\"/><path d=\"M17.41 7.96l-1.37-1.37c-.4-.4-.92-.59-1.43-.59-.52 0-1.04.2-1.43.59L10.3 9.45l-7.72 7.72c-.78.78-.78 2.05 0 2.83L4 21.41c.39.39.9.59 1.41.59.51 0 1.02-.2 1.41-.59l7.78-7.78 2.81-2.81c.8-.78.8-2.07 0-2.86zM5.41 20L4 18.59l7.72-7.72 1.47 1.35L5.41 20z\"/>\n",
              "  </svg>\n",
              "      </button>\n",
              "      \n",
              "  <style>\n",
              "    .colab-df-container {\n",
              "      display:flex;\n",
              "      flex-wrap:wrap;\n",
              "      gap: 12px;\n",
              "    }\n",
              "\n",
              "    .colab-df-convert {\n",
              "      background-color: #E8F0FE;\n",
              "      border: none;\n",
              "      border-radius: 50%;\n",
              "      cursor: pointer;\n",
              "      display: none;\n",
              "      fill: #1967D2;\n",
              "      height: 32px;\n",
              "      padding: 0 0 0 0;\n",
              "      width: 32px;\n",
              "    }\n",
              "\n",
              "    .colab-df-convert:hover {\n",
              "      background-color: #E2EBFA;\n",
              "      box-shadow: 0px 1px 2px rgba(60, 64, 67, 0.3), 0px 1px 3px 1px rgba(60, 64, 67, 0.15);\n",
              "      fill: #174EA6;\n",
              "    }\n",
              "\n",
              "    [theme=dark] .colab-df-convert {\n",
              "      background-color: #3B4455;\n",
              "      fill: #D2E3FC;\n",
              "    }\n",
              "\n",
              "    [theme=dark] .colab-df-convert:hover {\n",
              "      background-color: #434B5C;\n",
              "      box-shadow: 0px 1px 3px 1px rgba(0, 0, 0, 0.15);\n",
              "      filter: drop-shadow(0px 1px 2px rgba(0, 0, 0, 0.3));\n",
              "      fill: #FFFFFF;\n",
              "    }\n",
              "  </style>\n",
              "\n",
              "      <script>\n",
              "        const buttonEl =\n",
              "          document.querySelector('#df-f12b5812-6bc5-4a0b-abd3-09543b829e7c button.colab-df-convert');\n",
              "        buttonEl.style.display =\n",
              "          google.colab.kernel.accessAllowed ? 'block' : 'none';\n",
              "\n",
              "        async function convertToInteractive(key) {\n",
              "          const element = document.querySelector('#df-f12b5812-6bc5-4a0b-abd3-09543b829e7c');\n",
              "          const dataTable =\n",
              "            await google.colab.kernel.invokeFunction('convertToInteractive',\n",
              "                                                     [key], {});\n",
              "          if (!dataTable) return;\n",
              "\n",
              "          const docLinkHtml = 'Like what you see? Visit the ' +\n",
              "            '<a target=\"_blank\" href=https://colab.research.google.com/notebooks/data_table.ipynb>data table notebook</a>'\n",
              "            + ' to learn more about interactive tables.';\n",
              "          element.innerHTML = '';\n",
              "          dataTable['output_type'] = 'display_data';\n",
              "          await google.colab.output.renderOutput(dataTable, element);\n",
              "          const docLink = document.createElement('div');\n",
              "          docLink.innerHTML = docLinkHtml;\n",
              "          element.appendChild(docLink);\n",
              "        }\n",
              "      </script>\n",
              "    </div>\n",
              "  </div>\n",
              "  "
            ]
          },
          "metadata": {},
          "execution_count": 34
        }
      ]
    },
    {
      "cell_type": "code",
      "source": [
        "df.info()"
      ],
      "metadata": {
        "colab": {
          "base_uri": "https://localhost:8080/"
        },
        "id": "rZ3Z2J8rE94N",
        "outputId": "3a3dc1aa-156f-4748-e642-6a151d1fd7ae"
      },
      "execution_count": null,
      "outputs": [
        {
          "output_type": "stream",
          "name": "stdout",
          "text": [
            "<class 'pandas.core.frame.DataFrame'>\n",
            "RangeIndex: 12672 entries, 0 to 12671\n",
            "Data columns (total 13 columns):\n",
            " #   Column                 Non-Null Count  Dtype  \n",
            "---  ------                 --------------  -----  \n",
            " 0   ano_venda              12672 non-null  int64  \n",
            " 1   estado_civil           12672 non-null  object \n",
            " 2   cidade                 12672 non-null  object \n",
            " 3   renda_cliente          12632 non-null  float64\n",
            " 4   parcelas_entradas      12672 non-null  int64  \n",
            " 5   renda_parcela_entrada  12672 non-null  float64\n",
            " 6   valor_imovel           12672 non-null  float64\n",
            " 7   inadimplencia          12672 non-null  object \n",
            " 8   fgts_value             12672 non-null  float64\n",
            " 9   sinal_value            12672 non-null  float64\n",
            " 10  mrv_value              12672 non-null  float64\n",
            " 11  banco_value            12672 non-null  float64\n",
            " 12  valor_parcelas         11868 non-null  float64\n",
            "dtypes: float64(8), int64(2), object(3)\n",
            "memory usage: 1.3+ MB\n"
          ]
        }
      ]
    },
    {
      "cell_type": "code",
      "source": [
        "df[\"valor_parcelas\"] = df.valor_parcelas.replace(np.nan, 0)\n",
        "df[\"valor_parcelas\"] = df.valor_parcelas.replace(np.inf, 0)"
      ],
      "metadata": {
        "id": "bmyZLVUIFKDH"
      },
      "execution_count": null,
      "outputs": []
    },
    {
      "cell_type": "code",
      "source": [
        "df.groupby([\"inadimplencia\"]).valor_parcelas.mean()"
      ],
      "metadata": {
        "colab": {
          "base_uri": "https://localhost:8080/"
        },
        "id": "5uQt9MmZEtqN",
        "outputId": "b0ce1ecb-935f-4222-adea-468c0e57168f"
      },
      "execution_count": null,
      "outputs": [
        {
          "output_type": "execute_result",
          "data": {
            "text/plain": [
              "inadimplencia\n",
              "NÃO   572.85\n",
              "SIM   611.29\n",
              "Name: valor_parcelas, dtype: float64"
            ]
          },
          "metadata": {},
          "execution_count": 37
        }
      ]
    },
    {
      "cell_type": "code",
      "source": [
        "df.groupby(\"inadimplencia\").renda_parcela_entrada.mean()"
      ],
      "metadata": {
        "colab": {
          "base_uri": "https://localhost:8080/"
        },
        "id": "MCY2rw_UFylH",
        "outputId": "24e61221-8064-4b86-891d-2b72300bb4d0"
      },
      "execution_count": null,
      "outputs": [
        {
          "output_type": "execute_result",
          "data": {
            "text/plain": [
              "inadimplencia\n",
              "NÃO   0.19\n",
              "SIM   0.23\n",
              "Name: renda_parcela_entrada, dtype: float64"
            ]
          },
          "metadata": {},
          "execution_count": 38
        }
      ]
    },
    {
      "cell_type": "code",
      "source": [
        "df.groupby(\"inadimplencia\").renda_cliente.median()"
      ],
      "metadata": {
        "colab": {
          "base_uri": "https://localhost:8080/"
        },
        "id": "GsSrNfx7Gf_2",
        "outputId": "f8e99c23-487c-4f5a-80dc-9aaffbc8f396"
      },
      "execution_count": null,
      "outputs": [
        {
          "output_type": "execute_result",
          "data": {
            "text/plain": [
              "inadimplencia\n",
              "NÃO   2314.00\n",
              "SIM   2133.00\n",
              "Name: renda_cliente, dtype: float64"
            ]
          },
          "metadata": {},
          "execution_count": 39
        }
      ]
    },
    {
      "cell_type": "code",
      "source": [
        "t_test_ind(df[df[\"inadimplencia\"]  == \"SIM\"].renda_cliente, \n",
        "           df[df[\"inadimplencia\"] == \"NÃO\"].renda_cliente,\n",
        "           alpha=0.05,\n",
        "null_hypothesis=\"não há uma diferença entre a renda do cliente inadimplente e não inadimplente.\")"
      ],
      "metadata": {
        "colab": {
          "base_uri": "https://localhost:8080/",
          "height": 36
        },
        "id": "XLg3gAY5YCgL",
        "outputId": "e9a03475-75a8-4d1f-96bf-5dac758523b5"
      },
      "execution_count": null,
      "outputs": [
        {
          "output_type": "execute_result",
          "data": {
            "text/plain": [
              "'Nós rejeitamos a hipótese nula de que não há uma diferença entre a renda do cliente inadimplente e não inadimplente.'"
            ],
            "application/vnd.google.colaboratory.intrinsic+json": {
              "type": "string"
            }
          },
          "metadata": {},
          "execution_count": 40
        }
      ]
    },
    {
      "cell_type": "code",
      "source": [
        "t_test_ind(df[df[\"inadimplencia\"]  == \"SIM\"].valor_parcelas, \n",
        "           df[df[\"inadimplencia\"] == \"NÃO\"].valor_parcelas,\n",
        "           alpha=0.05,\n",
        "           null_hypothesis=\"não há uma diferença entre as médias de parcelas do cliente inadimplente e não inadimplente.\")"
      ],
      "metadata": {
        "colab": {
          "base_uri": "https://localhost:8080/",
          "height": 36
        },
        "id": "4EsApW1rhsLq",
        "outputId": "f563b5fa-9b8f-4827-ee3c-9d1f6f0f9034"
      },
      "execution_count": null,
      "outputs": [
        {
          "output_type": "execute_result",
          "data": {
            "text/plain": [
              "'Nós rejeitamos a hipótese nula de que não há uma diferença entre as médias de parcelas do cliente inadimplente e não inadimplente.'"
            ],
            "application/vnd.google.colaboratory.intrinsic+json": {
              "type": "string"
            }
          },
          "metadata": {},
          "execution_count": 41
        }
      ]
    },
    {
      "cell_type": "code",
      "source": [
        "t_test_ind(df[df[\"inadimplencia\"]  == \"SIM\"].renda_parcela_entrada, \n",
        "           df[df[\"inadimplencia\"] == \"NÃO\"].renda_parcela_entrada,\n",
        "           alpha=0.05,\n",
        "           null_hypothesis=\"não há uma diferença entre a porcentagem da parcela da renda do cliente inadimplente e não inadimplente.\")"
      ],
      "metadata": {
        "colab": {
          "base_uri": "https://localhost:8080/",
          "height": 36
        },
        "id": "z7oGjjXIjKoc",
        "outputId": "a1e4526d-6efc-48f0-b53d-4a9fe7b3d2ae"
      },
      "execution_count": null,
      "outputs": [
        {
          "output_type": "execute_result",
          "data": {
            "text/plain": [
              "'Nós rejeitamos a hipótese nula de que não há uma diferença entre a porcentagem da parcela da renda do cliente inadimplente e não inadimplente.'"
            ],
            "application/vnd.google.colaboratory.intrinsic+json": {
              "type": "string"
            }
          },
          "metadata": {},
          "execution_count": 42
        }
      ]
    },
    {
      "cell_type": "code",
      "source": [
        "t_test_ind(df[df[\"inadimplencia\"]  == \"SIM\"].renda_cliente, \n",
        "           df[df[\"inadimplencia\"] == \"NÃO\"].renda_cliente,\n",
        "           alpha=0.05,\n",
        "null_hypothesis=\"não há uma diferença entre a renda do cliente inadimplente e não inadimplente.\")"
      ],
      "metadata": {
        "colab": {
          "base_uri": "https://localhost:8080/",
          "height": 36
        },
        "id": "VTE_gsrCjZfV",
        "outputId": "cedf5de4-65a0-4e6d-f0fa-2214fbb08a87"
      },
      "execution_count": null,
      "outputs": [
        {
          "output_type": "execute_result",
          "data": {
            "text/plain": [
              "'Nós rejeitamos a hipótese nula de que não há uma diferença entre a renda do cliente inadimplente e não inadimplente.'"
            ],
            "application/vnd.google.colaboratory.intrinsic+json": {
              "type": "string"
            }
          },
          "metadata": {},
          "execution_count": 43
        }
      ]
    },
    {
      "cell_type": "code",
      "source": [
        "df[df[\"inadimplencia\"] == \"SIM\"].groupby(\"ano_venda\").mrv_value.sum()"
      ],
      "metadata": {
        "colab": {
          "base_uri": "https://localhost:8080/"
        },
        "id": "_GU0Cmbh5t2h",
        "outputId": "03e614a8-b453-412d-eb14-f198f7555074"
      },
      "execution_count": null,
      "outputs": [
        {
          "output_type": "execute_result",
          "data": {
            "text/plain": [
              "ano_venda\n",
              "2014   15907027.71\n",
              "2015   14472234.59\n",
              "2016   11041120.12\n",
              "2017   10375356.78\n",
              "Name: mrv_value, dtype: float64"
            ]
          },
          "metadata": {},
          "execution_count": 44
        }
      ]
    },
    {
      "cell_type": "markdown",
      "source": [
        "## b) Em quais situações temos os menores riscos de crédito e maiores riscos de crédito?"
      ],
      "metadata": {
        "id": "VOHgTRHvAM9M"
      }
    },
    {
      "cell_type": "markdown",
      "source": [
        "* Não há nenhuma correlação linear significativa entre as variáveis e se determinado cliente está inadimplente ou não;\n",
        "* Mesmo utilizando uma correlação que leve em conta dados categóricos, não há nenhuma grande correlação entre as variáveis independentes e a dependente.\n",
        "* Quanto maior o valor do sinal ou a renda do cliente, menor a tendência à inadimplência.\n",
        "* Quanto maior o valor concedido pela MRV ao cliente, o tamanho das parcelas ou a porcentagem de renda que uma parcela vai consumir, maior a tendência à inadimplência;"
      ],
      "metadata": {
        "id": "8DBqrTiVAxjQ"
      }
    },
    {
      "cell_type": "code",
      "source": [
        "df[\"inadimplencia_cat\"] = df.inadimplencia.apply(lambda x: 1 if x == \"SIM\" else 0)"
      ],
      "metadata": {
        "id": "fWYb8R5t_r5K"
      },
      "execution_count": null,
      "outputs": []
    },
    {
      "cell_type": "code",
      "source": [
        "corr_matrix = df.corr(method=\"spearman\")\n",
        "matrix = np.triu(corr_matrix)\n",
        "plt.figure(figsize=(20, 10), facecolor='w', edgecolor='k')\n",
        "plot = sns.heatmap(corr_matrix, cmap=\"coolwarm\", annot = True, fmt=\".1g\", mask=matrix)\n",
        "plot"
      ],
      "metadata": {
        "colab": {
          "base_uri": "https://localhost:8080/",
          "height": 717
        },
        "id": "y3wRTiIwIH0m",
        "outputId": "0df73e38-8f19-4167-8fe7-ee0e70e42ad9"
      },
      "execution_count": null,
      "outputs": [
        {
          "output_type": "execute_result",
          "data": {
            "text/plain": [
              "<matplotlib.axes._subplots.AxesSubplot at 0x7f4879314460>"
            ]
          },
          "metadata": {},
          "execution_count": 46
        },
        {
          "output_type": "display_data",
          "data": {
            "text/plain": [
              "<Figure size 1440x720 with 2 Axes>"
            ],
            "image/png": "[encoded data removed]"
          },
          "metadata": {}
        }
      ]
    },
    {
      "cell_type": "code",
      "source": [
        "import scipy.stats as ss"
      ],
      "metadata": {
        "id": "V8U9DigiDcZ7"
      },
      "execution_count": null,
      "outputs": []
    },
    {
      "cell_type": "code",
      "source": [
        "def cramers_v(x, y):\n",
        "    confusion_matrix = pd.crosstab(x,y)\n",
        "    chi2 = ss.chi2_contingency(confusion_matrix)[0]\n",
        "    n = confusion_matrix.sum().sum()\n",
        "    phi2 = chi2/n\n",
        "    r,k = confusion_matrix.shape\n",
        "    phi2corr = max(0, phi2-((k-1)*(r-1))/(n-1))\n",
        "    rcorr = r-((r-1)**2)/(n-1)\n",
        "    kcorr = k-((k-1)**2)/(n-1)\n",
        "    return np.sqrt(phi2corr/min((kcorr-1),(rcorr-1)))"
      ],
      "metadata": {
        "id": "plWRgBzV_S0m"
      },
      "execution_count": null,
      "outputs": []
    },
    {
      "cell_type": "code",
      "source": [
        "!pip install -q phik"
      ],
      "metadata": {
        "colab": {
          "base_uri": "https://localhost:8080/"
        },
        "id": "dRjM_D9dEVh6",
        "outputId": "d1c5e932-355c-4dab-ab4e-fefc3dbebfb0"
      },
      "execution_count": null,
      "outputs": [
        {
          "output_type": "stream",
          "name": "stdout",
          "text": [
            "\u001b[?25l\r\u001b[K     |▌                               | 10 kB 17.9 MB/s eta 0:00:01\r\u001b[K     |█                               | 20 kB 5.0 MB/s eta 0:00:01\r\u001b[K     |█▌                              | 30 kB 7.0 MB/s eta 0:00:01\r\u001b[K     |██                              | 40 kB 3.4 MB/s eta 0:00:01\r\u001b[K     |██▍                             | 51 kB 4.2 MB/s eta 0:00:01\r\u001b[K     |███                             | 61 kB 4.9 MB/s eta 0:00:01\r\u001b[K     |███▍                            | 71 kB 5.5 MB/s eta 0:00:01\r\u001b[K     |███▉                            | 81 kB 5.2 MB/s eta 0:00:01\r\u001b[K     |████▍                           | 92 kB 5.7 MB/s eta 0:00:01\r\u001b[K     |████▉                           | 102 kB 5.4 MB/s eta 0:00:01\r\u001b[K     |█████▎                          | 112 kB 5.4 MB/s eta 0:00:01\r\u001b[K     |█████▉                          | 122 kB 5.4 MB/s eta 0:00:01\r\u001b[K     |██████▎                         | 133 kB 5.4 MB/s eta 0:00:01\r\u001b[K     |██████▊                         | 143 kB 5.4 MB/s eta 0:00:01\r\u001b[K     |███████▎                        | 153 kB 5.4 MB/s eta 0:00:01\r\u001b[K     |███████▊                        | 163 kB 5.4 MB/s eta 0:00:01\r\u001b[K     |████████▏                       | 174 kB 5.4 MB/s eta 0:00:01\r\u001b[K     |████████▊                       | 184 kB 5.4 MB/s eta 0:00:01\r\u001b[K     |█████████▏                      | 194 kB 5.4 MB/s eta 0:00:01\r\u001b[K     |█████████▋                      | 204 kB 5.4 MB/s eta 0:00:01\r\u001b[K     |██████████▏                     | 215 kB 5.4 MB/s eta 0:00:01\r\u001b[K     |██████████▋                     | 225 kB 5.4 MB/s eta 0:00:01\r\u001b[K     |███████████                     | 235 kB 5.4 MB/s eta 0:00:01\r\u001b[K     |███████████▋                    | 245 kB 5.4 MB/s eta 0:00:01\r\u001b[K     |████████████                    | 256 kB 5.4 MB/s eta 0:00:01\r\u001b[K     |████████████▌                   | 266 kB 5.4 MB/s eta 0:00:01\r\u001b[K     |█████████████                   | 276 kB 5.4 MB/s eta 0:00:01\r\u001b[K     |█████████████▌                  | 286 kB 5.4 MB/s eta 0:00:01\r\u001b[K     |██████████████                  | 296 kB 5.4 MB/s eta 0:00:01\r\u001b[K     |██████████████▌                 | 307 kB 5.4 MB/s eta 0:00:01\r\u001b[K     |███████████████                 | 317 kB 5.4 MB/s eta 0:00:01\r\u001b[K     |███████████████▍                | 327 kB 5.4 MB/s eta 0:00:01\r\u001b[K     |████████████████                | 337 kB 5.4 MB/s eta 0:00:01\r\u001b[K     |████████████████▍               | 348 kB 5.4 MB/s eta 0:00:01\r\u001b[K     |████████████████▉               | 358 kB 5.4 MB/s eta 0:00:01\r\u001b[K     |█████████████████▍              | 368 kB 5.4 MB/s eta 0:00:01\r\u001b[K     |█████████████████▉              | 378 kB 5.4 MB/s eta 0:00:01\r\u001b[K     |██████████████████▎             | 389 kB 5.4 MB/s eta 0:00:01\r\u001b[K     |██████████████████▉             | 399 kB 5.4 MB/s eta 0:00:01\r\u001b[K     |███████████████████▎            | 409 kB 5.4 MB/s eta 0:00:01\r\u001b[K     |███████████████████▊            | 419 kB 5.4 MB/s eta 0:00:01\r\u001b[K     |████████████████████▎           | 430 kB 5.4 MB/s eta 0:00:01\r\u001b[K     |████████████████████▊           | 440 kB 5.4 MB/s eta 0:00:01\r\u001b[K     |█████████████████████▏          | 450 kB 5.4 MB/s eta 0:00:01\r\u001b[K     |█████████████████████▊          | 460 kB 5.4 MB/s eta 0:00:01\r\u001b[K     |██████████████████████▏         | 471 kB 5.4 MB/s eta 0:00:01\r\u001b[K     |██████████████████████▋         | 481 kB 5.4 MB/s eta 0:00:01\r\u001b[K     |███████████████████████▏        | 491 kB 5.4 MB/s eta 0:00:01\r\u001b[K     |███████████████████████▋        | 501 kB 5.4 MB/s eta 0:00:01\r\u001b[K     |████████████████████████▏       | 512 kB 5.4 MB/s eta 0:00:01\r\u001b[K     |████████████████████████▋       | 522 kB 5.4 MB/s eta 0:00:01\r\u001b[K     |█████████████████████████       | 532 kB 5.4 MB/s eta 0:00:01\r\u001b[K     |█████████████████████████▋      | 542 kB 5.4 MB/s eta 0:00:01\r\u001b[K     |██████████████████████████      | 552 kB 5.4 MB/s eta 0:00:01\r\u001b[K     |██████████████████████████▌     | 563 kB 5.4 MB/s eta 0:00:01\r\u001b[K     |███████████████████████████     | 573 kB 5.4 MB/s eta 0:00:01\r\u001b[K     |███████████████████████████▌    | 583 kB 5.4 MB/s eta 0:00:01\r\u001b[K     |████████████████████████████    | 593 kB 5.4 MB/s eta 0:00:01\r\u001b[K     |████████████████████████████▌   | 604 kB 5.4 MB/s eta 0:00:01\r\u001b[K     |█████████████████████████████   | 614 kB 5.4 MB/s eta 0:00:01\r\u001b[K     |█████████████████████████████▍  | 624 kB 5.4 MB/s eta 0:00:01\r\u001b[K     |██████████████████████████████  | 634 kB 5.4 MB/s eta 0:00:01\r\u001b[K     |██████████████████████████████▍ | 645 kB 5.4 MB/s eta 0:00:01\r\u001b[K     |██████████████████████████████▉ | 655 kB 5.4 MB/s eta 0:00:01\r\u001b[K     |███████████████████████████████▍| 665 kB 5.4 MB/s eta 0:00:01\r\u001b[K     |███████████████████████████████▉| 675 kB 5.4 MB/s eta 0:00:01\r\u001b[K     |████████████████████████████████| 679 kB 5.4 MB/s \n",
            "\u001b[?25h"
          ]
        }
      ]
    },
    {
      "cell_type": "code",
      "source": [
        "from phik import resources, report"
      ],
      "metadata": {
        "id": "zRM09IoSENaT"
      },
      "execution_count": null,
      "outputs": []
    },
    {
      "cell_type": "code",
      "source": [
        "corr_matrix = df.drop(\"inadimplencia\", axis=1).phik_matrix()\n",
        "matrix = np.triu(corr_matrix)\n",
        "plt.figure(figsize=(20, 10), facecolor='w', edgecolor='k')\n",
        "plot = sns.heatmap(corr_matrix, cmap=\"coolwarm\", annot = True, fmt=\".1g\")\n",
        "plot"
      ],
      "metadata": {
        "colab": {
          "base_uri": "https://localhost:8080/",
          "height": 755
        },
        "id": "UVQVIak-D59U",
        "outputId": "26357b98-eb19-4f3d-c472-57eea5349af6"
      },
      "execution_count": null,
      "outputs": [
        {
          "output_type": "stream",
          "name": "stdout",
          "text": [
            "interval columns not set, guessing: ['ano_venda', 'renda_cliente', 'parcelas_entradas', 'renda_parcela_entrada', 'valor_imovel', 'fgts_value', 'sinal_value', 'mrv_value', 'banco_value', 'valor_parcelas', 'inadimplencia_cat']\n"
          ]
        },
        {
          "output_type": "execute_result",
          "data": {
            "text/plain": [
              "<matplotlib.axes._subplots.AxesSubplot at 0x7f487682d9d0>"
            ]
          },
          "metadata": {},
          "execution_count": 51
        },
        {
          "output_type": "display_data",
          "data": {
            "text/plain": [
              "<Figure size 1440x720 with 2 Axes>"
            ],
            "image/png": "[encoded data removed]"
          },
          "metadata": {}
        }
      ]
    },
    {
      "cell_type": "code",
      "source": [
        "def iv_woe(data, target, bins=10, show_woe=False):\n",
        "    \n",
        "    #Empty Dataframe\n",
        "    newDF,woeDF = pd.DataFrame(), pd.DataFrame()\n",
        "    \n",
        "    #Extract Column Names\n",
        "    cols = data.columns\n",
        "    \n",
        "    #Run WOE and IV on all the independent variables\n",
        "    for ivars in cols[~cols.isin([target])]:\n",
        "        if (data[ivars].dtype.kind in 'bifc') and (len(np.unique(data[ivars]))>10):\n",
        "            binned_x = pd.qcut(data[ivars], bins,  duplicates='drop')\n",
        "            d0 = pd.DataFrame({'x': binned_x, 'y': data[target]})\n",
        "        else:\n",
        "            d0 = pd.DataFrame({'x': data[ivars], 'y': data[target]})\n",
        "\n",
        "        \n",
        "        # Calculate the number of events in each group (bin)\n",
        "        d = d0.groupby(\"x\", as_index=False).agg({\"y\": [\"count\", \"sum\"]})\n",
        "        d.columns = ['Cutoff', 'N', 'Events']\n",
        "        \n",
        "        # Calculate % of events in each group.\n",
        "        d['% of Events'] = np.maximum(d['Events'], 0.5) / d['Events'].sum()\n",
        "\n",
        "        # Calculate the non events in each group.\n",
        "        d['Non-Events'] = d['N'] - d['Events']\n",
        "        # Calculate % of non events in each group.\n",
        "        d['% of Non-Events'] = np.maximum(d['Non-Events'], 0.5) / d['Non-Events'].sum()\n",
        "\n",
        "        # Calculate WOE by taking natural log of division of % of non-events and % of events\n",
        "        d['WoE'] = np.log(d['% of Events']/d['% of Non-Events'])\n",
        "        d['IV'] = d['WoE'] * (d['% of Events'] - d['% of Non-Events'])\n",
        "        d.insert(loc=0, column='Variable', value=ivars)\n",
        "        temp =pd.DataFrame({\"Variable\" : [ivars], \"IV\" : [d['IV'].sum()]}, columns = [\"Variable\", \"IV\"])\n",
        "        newDF=pd.concat([newDF,temp], axis=0)\n",
        "        woeDF=pd.concat([woeDF,d], axis=0)\n",
        "\n",
        "        #Show WOE Table\n",
        "    return newDF, woeDF"
      ],
      "metadata": {
        "id": "rUmpMEw-ctFy"
      },
      "execution_count": null,
      "outputs": []
    },
    {
      "cell_type": "code",
      "source": [
        "newdf, woedf = iv_woe(df.drop(\"inadimplencia\", axis=1), target=\"inadimplencia_cat\", show_woe=True)"
      ],
      "metadata": {
        "id": "SdGD8NyncwBE"
      },
      "execution_count": null,
      "outputs": []
    },
    {
      "cell_type": "markdown",
      "source": [
        "Rules for IV (Information Value)\n",
        "\n",
        "- Less than 0.02, then the predictor is not useful for modeling (separating the Goods from the Bads)\n",
        "\n",
        "- 0.02 to 0.1, then the predictor has only a weak relationship to the Goods/Bads odds ratio\n",
        "\n",
        "- 0.1 to 0.3, then the predictor has a medium strength relationship to the Goods/Bads odds ratio\n",
        "\n",
        "- 0.3 to 0.5, then the predictor has a strong relationship to the Goods/Bads odds ratio.\n",
        "\n",
        "- 0.5, suspicious relationship (Check once)"
      ],
      "metadata": {
        "id": "4YaQ-f49eLsE"
      }
    },
    {
      "cell_type": "code",
      "source": [
        "woedf"
      ],
      "metadata": {
        "colab": {
          "base_uri": "https://localhost:8080/",
          "height": 424
        },
        "id": "9Jp4KmMKfM03",
        "outputId": "0517cab4-5ff9-4e3f-f257-e085f2a6290a"
      },
      "execution_count": null,
      "outputs": [
        {
          "output_type": "execute_result",
          "data": {
            "text/plain": [
              "          Variable              Cutoff     N  Events  % of Events  Non-Events  \\\n",
              "0        ano_venda                2014  3234     943         0.33        2291   \n",
              "1        ano_venda                2015  2927     771         0.27        2156   \n",
              "2        ano_venda                2016  2912     558         0.20        2354   \n",
              "3        ano_venda                2017  3599     567         0.20        3032   \n",
              "0     estado_civil              Casado  1980     388         0.14        1592   \n",
              "..             ...                 ...   ...     ...          ...         ...   \n",
              "4   valor_parcelas  (532.526, 608.526]  1267     336         0.12         931   \n",
              "5   valor_parcelas  (608.526, 690.964]  1267     326         0.11         941   \n",
              "6   valor_parcelas  (690.964, 790.793]  1267     322         0.11         945   \n",
              "7   valor_parcelas  (790.793, 945.217]  1267     321         0.11         946   \n",
              "8   valor_parcelas  (945.217, 66240.0]  1268     289         0.10         979   \n",
              "\n",
              "    % of Non-Events   WoE   IV  \n",
              "0              0.23  0.35 0.04  \n",
              "1              0.22  0.21 0.01  \n",
              "2              0.24 -0.20 0.01  \n",
              "3              0.31 -0.43 0.05  \n",
              "0              0.16 -0.17 0.00  \n",
              "..              ...   ...  ...  \n",
              "4              0.09  0.22 0.01  \n",
              "5              0.10  0.18 0.00  \n",
              "6              0.10  0.17 0.00  \n",
              "7              0.10  0.16 0.00  \n",
              "8              0.10  0.02 0.00  \n",
              "\n",
              "[727 rows x 9 columns]"
            ],
            "text/html": [
              "\n",
              "  <div id=\"df-914bc989-c12b-42de-8acb-0f78eb05dbf3\">\n",
              "    <div class=\"colab-df-container\">\n",
              "      <div>\n",
              "<style scoped>\n",
              "    .dataframe tbody tr th:only-of-type {\n",
              "        vertical-align: middle;\n",
              "    }\n",
              "\n",
              "    .dataframe tbody tr th {\n",
              "        vertical-align: top;\n",
              "    }\n",
              "\n",
              "    .dataframe thead th {\n",
              "        text-align: right;\n",
              "    }\n",
              "</style>\n",
              "<table border=\"1\" class=\"dataframe\">\n",
              "  <thead>\n",
              "    <tr style=\"text-align: right;\">\n",
              "      <th></th>\n",
              "      <th>Variable</th>\n",
              "      <th>Cutoff</th>\n",
              "      <th>N</th>\n",
              "      <th>Events</th>\n",
              "      <th>% of Events</th>\n",
              "      <th>Non-Events</th>\n",
              "      <th>% of Non-Events</th>\n",
              "      <th>WoE</th>\n",
              "      <th>IV</th>\n",
              "    </tr>\n",
              "  </thead>\n",
              "  <tbody>\n",
              "    <tr>\n",
              "      <th>0</th>\n",
              "      <td>ano_venda</td>\n",
              "      <td>2014</td>\n",
              "      <td>3234</td>\n",
              "      <td>943</td>\n",
              "      <td>0.33</td>\n",
              "      <td>2291</td>\n",
              "      <td>0.23</td>\n",
              "      <td>0.35</td>\n",
              "      <td>0.04</td>\n",
              "    </tr>\n",
              "    <tr>\n",
              "      <th>1</th>\n",
              "      <td>ano_venda</td>\n",
              "      <td>2015</td>\n",
              "      <td>2927</td>\n",
              "      <td>771</td>\n",
              "      <td>0.27</td>\n",
              "      <td>2156</td>\n",
              "      <td>0.22</td>\n",
              "      <td>0.21</td>\n",
              "      <td>0.01</td>\n",
              "    </tr>\n",
              "    <tr>\n",
              "      <th>2</th>\n",
              "      <td>ano_venda</td>\n",
              "      <td>2016</td>\n",
              "      <td>2912</td>\n",
              "      <td>558</td>\n",
              "      <td>0.20</td>\n",
              "      <td>2354</td>\n",
              "      <td>0.24</td>\n",
              "      <td>-0.20</td>\n",
              "      <td>0.01</td>\n",
              "    </tr>\n",
              "    <tr>\n",
              "      <th>3</th>\n",
              "      <td>ano_venda</td>\n",
              "      <td>2017</td>\n",
              "      <td>3599</td>\n",
              "      <td>567</td>\n",
              "      <td>0.20</td>\n",
              "      <td>3032</td>\n",
              "      <td>0.31</td>\n",
              "      <td>-0.43</td>\n",
              "      <td>0.05</td>\n",
              "    </tr>\n",
              "    <tr>\n",
              "      <th>0</th>\n",
              "      <td>estado_civil</td>\n",
              "      <td>Casado</td>\n",
              "      <td>1980</td>\n",
              "      <td>388</td>\n",
              "      <td>0.14</td>\n",
              "      <td>1592</td>\n",
              "      <td>0.16</td>\n",
              "      <td>-0.17</td>\n",
              "      <td>0.00</td>\n",
              "    </tr>\n",
              "    <tr>\n",
              "      <th>...</th>\n",
              "      <td>...</td>\n",
              "      <td>...</td>\n",
              "      <td>...</td>\n",
              "      <td>...</td>\n",
              "      <td>...</td>\n",
              "      <td>...</td>\n",
              "      <td>...</td>\n",
              "      <td>...</td>\n",
              "      <td>...</td>\n",
              "    </tr>\n",
              "    <tr>\n",
              "      <th>4</th>\n",
              "      <td>valor_parcelas</td>\n",
              "      <td>(532.526, 608.526]</td>\n",
              "      <td>1267</td>\n",
              "      <td>336</td>\n",
              "      <td>0.12</td>\n",
              "      <td>931</td>\n",
              "      <td>0.09</td>\n",
              "      <td>0.22</td>\n",
              "      <td>0.01</td>\n",
              "    </tr>\n",
              "    <tr>\n",
              "      <th>5</th>\n",
              "      <td>valor_parcelas</td>\n",
              "      <td>(608.526, 690.964]</td>\n",
              "      <td>1267</td>\n",
              "      <td>326</td>\n",
              "      <td>0.11</td>\n",
              "      <td>941</td>\n",
              "      <td>0.10</td>\n",
              "      <td>0.18</td>\n",
              "      <td>0.00</td>\n",
              "    </tr>\n",
              "    <tr>\n",
              "      <th>6</th>\n",
              "      <td>valor_parcelas</td>\n",
              "      <td>(690.964, 790.793]</td>\n",
              "      <td>1267</td>\n",
              "      <td>322</td>\n",
              "      <td>0.11</td>\n",
              "      <td>945</td>\n",
              "      <td>0.10</td>\n",
              "      <td>0.17</td>\n",
              "      <td>0.00</td>\n",
              "    </tr>\n",
              "    <tr>\n",
              "      <th>7</th>\n",
              "      <td>valor_parcelas</td>\n",
              "      <td>(790.793, 945.217]</td>\n",
              "      <td>1267</td>\n",
              "      <td>321</td>\n",
              "      <td>0.11</td>\n",
              "      <td>946</td>\n",
              "      <td>0.10</td>\n",
              "      <td>0.16</td>\n",
              "      <td>0.00</td>\n",
              "    </tr>\n",
              "    <tr>\n",
              "      <th>8</th>\n",
              "      <td>valor_parcelas</td>\n",
              "      <td>(945.217, 66240.0]</td>\n",
              "      <td>1268</td>\n",
              "      <td>289</td>\n",
              "      <td>0.10</td>\n",
              "      <td>979</td>\n",
              "      <td>0.10</td>\n",
              "      <td>0.02</td>\n",
              "      <td>0.00</td>\n",
              "    </tr>\n",
              "  </tbody>\n",
              "</table>\n",
              "<p>727 rows × 9 columns</p>\n",
              "</div>\n",
              "      <button class=\"colab-df-convert\" onclick=\"convertToInteractive('df-914bc989-c12b-42de-8acb-0f78eb05dbf3')\"\n",
              "              title=\"Convert this dataframe to an interactive table.\"\n",
              "              style=\"display:none;\">\n",
              "        \n",
              "  <svg xmlns=\"http://www.w3.org/2000/svg\" height=\"24px\"viewBox=\"0 0 24 24\"\n",
              "       width=\"24px\">\n",
              "    <path d=\"M0 0h24v24H0V0z\" fill=\"none\"/>\n",
              "    <path d=\"M18.56 5.44l.94 2.06.94-2.06 2.06-.94-2.06-.94-.94-2.06-.94 2.06-2.06.94zm-11 1L8.5 8.5l.94-2.06 2.06-.94-2.06-.94L8.5 2.5l-.94 2.06-2.06.94zm10 10l.94 2.06.94-2.06 2.06-.94-2.06-.94-.94-2.06-.94 2.06-2.06.94z\"/><path d=\"M17.41 7.96l-1.37-1.37c-.4-.4-.92-.59-1.43-.59-.52 0-1.04.2-1.43.59L10.3 9.45l-7.72 7.72c-.78.78-.78 2.05 0 2.83L4 21.41c.39.39.9.59 1.41.59.51 0 1.02-.2 1.41-.59l7.78-7.78 2.81-2.81c.8-.78.8-2.07 0-2.86zM5.41 20L4 18.59l7.72-7.72 1.47 1.35L5.41 20z\"/>\n",
              "  </svg>\n",
              "      </button>\n",
              "      \n",
              "  <style>\n",
              "    .colab-df-container {\n",
              "      display:flex;\n",
              "      flex-wrap:wrap;\n",
              "      gap: 12px;\n",
              "    }\n",
              "\n",
              "    .colab-df-convert {\n",
              "      background-color: #E8F0FE;\n",
              "      border: none;\n",
              "      border-radius: 50%;\n",
              "      cursor: pointer;\n",
              "      display: none;\n",
              "      fill: #1967D2;\n",
              "      height: 32px;\n",
              "      padding: 0 0 0 0;\n",
              "      width: 32px;\n",
              "    }\n",
              "\n",
              "    .colab-df-convert:hover {\n",
              "      background-color: #E2EBFA;\n",
              "      box-shadow: 0px 1px 2px rgba(60, 64, 67, 0.3), 0px 1px 3px 1px rgba(60, 64, 67, 0.15);\n",
              "      fill: #174EA6;\n",
              "    }\n",
              "\n",
              "    [theme=dark] .colab-df-convert {\n",
              "      background-color: #3B4455;\n",
              "      fill: #D2E3FC;\n",
              "    }\n",
              "\n",
              "    [theme=dark] .colab-df-convert:hover {\n",
              "      background-color: #434B5C;\n",
              "      box-shadow: 0px 1px 3px 1px rgba(0, 0, 0, 0.15);\n",
              "      filter: drop-shadow(0px 1px 2px rgba(0, 0, 0, 0.3));\n",
              "      fill: #FFFFFF;\n",
              "    }\n",
              "  </style>\n",
              "\n",
              "      <script>\n",
              "        const buttonEl =\n",
              "          document.querySelector('#df-914bc989-c12b-42de-8acb-0f78eb05dbf3 button.colab-df-convert');\n",
              "        buttonEl.style.display =\n",
              "          google.colab.kernel.accessAllowed ? 'block' : 'none';\n",
              "\n",
              "        async function convertToInteractive(key) {\n",
              "          const element = document.querySelector('#df-914bc989-c12b-42de-8acb-0f78eb05dbf3');\n",
              "          const dataTable =\n",
              "            await google.colab.kernel.invokeFunction('convertToInteractive',\n",
              "                                                     [key], {});\n",
              "          if (!dataTable) return;\n",
              "\n",
              "          const docLinkHtml = 'Like what you see? Visit the ' +\n",
              "            '<a target=\"_blank\" href=https://colab.research.google.com/notebooks/data_table.ipynb>data table notebook</a>'\n",
              "            + ' to learn more about interactive tables.';\n",
              "          element.innerHTML = '';\n",
              "          dataTable['output_type'] = 'display_data';\n",
              "          await google.colab.output.renderOutput(dataTable, element);\n",
              "          const docLink = document.createElement('div');\n",
              "          docLink.innerHTML = docLinkHtml;\n",
              "          element.appendChild(docLink);\n",
              "        }\n",
              "      </script>\n",
              "    </div>\n",
              "  </div>\n",
              "  "
            ]
          },
          "metadata": {},
          "execution_count": 54
        }
      ]
    },
    {
      "cell_type": "code",
      "source": [
        "print(newdf)"
      ],
      "metadata": {
        "colab": {
          "base_uri": "https://localhost:8080/"
        },
        "id": "lJSytK2Cc57Z",
        "outputId": "5150dbc6-4947-4330-d30e-308eb875b388"
      },
      "execution_count": null,
      "outputs": [
        {
          "output_type": "stream",
          "name": "stdout",
          "text": [
            "                Variable   IV\n",
            "0              ano_venda 0.10\n",
            "0           estado_civil 0.01\n",
            "0                 cidade 0.31\n",
            "0          renda_cliente 0.06\n",
            "0      parcelas_entradas 0.14\n",
            "0  renda_parcela_entrada 0.14\n",
            "0           valor_imovel 0.10\n",
            "0             fgts_value 0.05\n",
            "0            sinal_value 0.15\n",
            "0              mrv_value 0.20\n",
            "0            banco_value 0.08\n",
            "0         valor_parcelas 0.08\n"
          ]
        }
      ]
    },
    {
      "cell_type": "markdown",
      "source": [
        "Nenhuma feature possui uma forte correlação com a target, sendo no máximo uma relação média entre a variável target."
      ],
      "metadata": {
        "id": "ykUP4Hayeuyz"
      }
    },
    {
      "cell_type": "code",
      "source": [
        "woedf.info()"
      ],
      "metadata": {
        "colab": {
          "base_uri": "https://localhost:8080/"
        },
        "id": "mS6XY2H2oY66",
        "outputId": "ba4281dc-5d20-429e-8ba1-38071b651502"
      },
      "execution_count": null,
      "outputs": [
        {
          "output_type": "stream",
          "name": "stdout",
          "text": [
            "<class 'pandas.core.frame.DataFrame'>\n",
            "Int64Index: 727 entries, 0 to 8\n",
            "Data columns (total 9 columns):\n",
            " #   Column           Non-Null Count  Dtype  \n",
            "---  ------           --------------  -----  \n",
            " 0   Variable         727 non-null    object \n",
            " 1   Cutoff           727 non-null    object \n",
            " 2   N                727 non-null    int64  \n",
            " 3   Events           727 non-null    int64  \n",
            " 4   % of Events      727 non-null    float64\n",
            " 5   Non-Events       727 non-null    int64  \n",
            " 6   % of Non-Events  727 non-null    float64\n",
            " 7   WoE              727 non-null    float64\n",
            " 8   IV               727 non-null    float64\n",
            "dtypes: float64(4), int64(3), object(2)\n",
            "memory usage: 56.8+ KB\n"
          ]
        }
      ]
    },
    {
      "cell_type": "code",
      "source": [
        "woedf.Cutoff = woedf.Cutoff.astype('str')"
      ],
      "metadata": {
        "id": "ddpe0M5cpJCe"
      },
      "execution_count": null,
      "outputs": []
    },
    {
      "cell_type": "code",
      "source": [
        "## Acima de 0 são para clientes inadimplentes, abaixo de zero para clientes não inadimplentes"
      ],
      "metadata": {
        "id": "DH_0aN4BkFZe"
      },
      "execution_count": null,
      "outputs": []
    },
    {
      "cell_type": "code",
      "source": [
        "px.bar(woedf[woedf.Variable == \"renda_parcela_entrada\"], x=\"Cutoff\", y=\"WoE\")"
      ],
      "metadata": {
        "colab": {
          "base_uri": "https://localhost:8080/",
          "height": 542
        },
        "id": "PdGbPtRYn54V",
        "outputId": "da80ec0a-2d64-499e-dcab-c44edbbb78ea"
      },
      "execution_count": null,
      "outputs": [
        {
          "output_type": "display_data",
          "data": {
            "text/html": [
              "<html>\n",
              "<head><meta charset=\"utf-8\" /></head>\n",
              "<body>\n",
              "    <div>            <script src=\"https://cdnjs.cloudflare.com/ajax/libs/mathjax/2.7.5/MathJax.js?config=TeX-AMS-MML_SVG\"></script><script type=\"text/javascript\">if (window.MathJax) {MathJax.Hub.Config({SVG: {font: \"STIX-Web\"}});}</script>                <script type=\"text/javascript\">window.PlotlyConfig = {MathJaxConfig: 'local'};</script>\n",
              "        <script src=\"https://cdn.plot.ly/plotly-2.8.3.min.js\"></script>                <div id=\"c1bd2ef3-cda0-4d03-9606-6570ed63bfa8\" class=\"plotly-graph-div\" style=\"height:525px; width:100%;\"></div>            <script type=\"text/javascript\">                                    window.PLOTLYENV=window.PLOTLYENV || {};                                    if (document.getElementById(\"c1bd2ef3-cda0-4d03-9606-6570ed63bfa8\")) {                    Plotly.newPlot(                        \"c1bd2ef3-cda0-4d03-9606-6570ed63bfa8\",                        [{\"alignmentgroup\":\"True\",\"hovertemplate\":\"Cutoff=%{x}<br>WoE=%{y}<extra></extra>\",\"legendgroup\":\"\",\"marker\":{\"color\":\"#636efa\",\"pattern\":{\"shape\":\"\"}},\"name\":\"\",\"offsetgroup\":\"\",\"orientation\":\"v\",\"showlegend\":false,\"textposition\":\"auto\",\"x\":[\"(-0.001, 0.08]\",\"(0.08, 0.12]\",\"(0.12, 0.15]\",\"(0.15, 0.19]\",\"(0.19, 0.23]\",\"(0.23, 0.26]\",\"(0.26, 0.31]\",\"(0.31, 0.36]\",\"(0.36, 18.75]\"],\"xaxis\":\"x\",\"y\":[-0.7816132906552289,-0.01710514001861586,-0.0761795664739445,0.1794990074440286,0.15400379298071115,0.25222837177308904,0.3032619794635405,0.2786912492556361,0.17826227377722725],\"yaxis\":\"y\",\"type\":\"bar\"}],                        {\"template\":{\"data\":{\"bar\":[{\"error_x\":{\"color\":\"#2a3f5f\"},\"error_y\":{\"color\":\"#2a3f5f\"},\"marker\":{\"line\":{\"color\":\"#E5ECF6\",\"width\":0.5},\"pattern\":{\"fillmode\":\"overlay\",\"size\":10,\"solidity\":0.2}},\"type\":\"bar\"}],\"barpolar\":[{\"marker\":{\"line\":{\"color\":\"#E5ECF6\",\"width\":0.5},\"pattern\":{\"fillmode\":\"overlay\",\"size\":10,\"solidity\":0.2}},\"type\":\"barpolar\"}],\"carpet\":[{\"aaxis\":{\"endlinecolor\":\"#2a3f5f\",\"gridcolor\":\"white\",\"linecolor\":\"white\",\"minorgridcolor\":\"white\",\"startlinecolor\":\"#2a3f5f\"},\"baxis\":{\"endlinecolor\":\"#2a3f5f\",\"gridcolor\":\"white\",\"linecolor\":\"white\",\"minorgridcolor\":\"white\",\"startlinecolor\":\"#2a3f5f\"},\"type\":\"carpet\"}],\"choropleth\":[{\"colorbar\":{\"outlinewidth\":0,\"ticks\":\"\"},\"type\":\"choropleth\"}],\"contour\":[{\"colorbar\":{\"outlinewidth\":0,\"ticks\":\"\"},\"colorscale\":[[0.0,\"#0d0887\"],[0.1111111111111111,\"#46039f\"],[0.2222222222222222,\"#7201a8\"],[0.3333333333333333,\"#9c179e\"],[0.4444444444444444,\"#bd3786\"],[0.5555555555555556,\"#d8576b\"],[0.6666666666666666,\"#ed7953\"],[0.7777777777777778,\"#fb9f3a\"],[0.8888888888888888,\"#fdca26\"],[1.0,\"#f0f921\"]],\"type\":\"contour\"}],\"contourcarpet\":[{\"colorbar\":{\"outlinewidth\":0,\"ticks\":\"\"},\"type\":\"contourcarpet\"}],\"heatmap\":[{\"colorbar\":{\"outlinewidth\":0,\"ticks\":\"\"},\"colorscale\":[[0.0,\"#0d0887\"],[0.1111111111111111,\"#46039f\"],[0.2222222222222222,\"#7201a8\"],[0.3333333333333333,\"#9c179e\"],[0.4444444444444444,\"#bd3786\"],[0.5555555555555556,\"#d8576b\"],[0.6666666666666666,\"#ed7953\"],[0.7777777777777778,\"#fb9f3a\"],[0.8888888888888888,\"#fdca26\"],[1.0,\"#f0f921\"]],\"type\":\"heatmap\"}],\"heatmapgl\":[{\"colorbar\":{\"outlinewidth\":0,\"ticks\":\"\"},\"colorscale\":[[0.0,\"#0d0887\"],[0.1111111111111111,\"#46039f\"],[0.2222222222222222,\"#7201a8\"],[0.3333333333333333,\"#9c179e\"],[0.4444444444444444,\"#bd3786\"],[0.5555555555555556,\"#d8576b\"],[0.6666666666666666,\"#ed7953\"],[0.7777777777777778,\"#fb9f3a\"],[0.8888888888888888,\"#fdca26\"],[1.0,\"#f0f921\"]],\"type\":\"heatmapgl\"}],\"histogram\":[{\"marker\":{\"pattern\":{\"fillmode\":\"overlay\",\"size\":10,\"solidity\":0.2}},\"type\":\"histogram\"}],\"histogram2d\":[{\"colorbar\":{\"outlinewidth\":0,\"ticks\":\"\"},\"colorscale\":[[0.0,\"#0d0887\"],[0.1111111111111111,\"#46039f\"],[0.2222222222222222,\"#7201a8\"],[0.3333333333333333,\"#9c179e\"],[0.4444444444444444,\"#bd3786\"],[0.5555555555555556,\"#d8576b\"],[0.6666666666666666,\"#ed7953\"],[0.7777777777777778,\"#fb9f3a\"],[0.8888888888888888,\"#fdca26\"],[1.0,\"#f0f921\"]],\"type\":\"histogram2d\"}],\"histogram2dcontour\":[{\"colorbar\":{\"outlinewidth\":0,\"ticks\":\"\"},\"colorscale\":[[0.0,\"#0d0887\"],[0.1111111111111111,\"#46039f\"],[0.2222222222222222,\"#7201a8\"],[0.3333333333333333,\"#9c179e\"],[0.4444444444444444,\"#bd3786\"],[0.5555555555555556,\"#d8576b\"],[0.6666666666666666,\"#ed7953\"],[0.7777777777777778,\"#fb9f3a\"],[0.8888888888888888,\"#fdca26\"],[1.0,\"#f0f921\"]],\"type\":\"histogram2dcontour\"}],\"mesh3d\":[{\"colorbar\":{\"outlinewidth\":0,\"ticks\":\"\"},\"type\":\"mesh3d\"}],\"parcoords\":[{\"line\":{\"colorbar\":{\"outlinewidth\":0,\"ticks\":\"\"}},\"type\":\"parcoords\"}],\"pie\":[{\"automargin\":true,\"type\":\"pie\"}],\"scatter\":[{\"marker\":{\"colorbar\":{\"outlinewidth\":0,\"ticks\":\"\"}},\"type\":\"scatter\"}],\"scatter3d\":[{\"line\":{\"colorbar\":{\"outlinewidth\":0,\"ticks\":\"\"}},\"marker\":{\"colorbar\":{\"outlinewidth\":0,\"ticks\":\"\"}},\"type\":\"scatter3d\"}],\"scattercarpet\":[{\"marker\":{\"colorbar\":{\"outlinewidth\":0,\"ticks\":\"\"}},\"type\":\"scattercarpet\"}],\"scattergeo\":[{\"marker\":{\"colorbar\":{\"outlinewidth\":0,\"ticks\":\"\"}},\"type\":\"scattergeo\"}],\"scattergl\":[{\"marker\":{\"colorbar\":{\"outlinewidth\":0,\"ticks\":\"\"}},\"type\":\"scattergl\"}],\"scattermapbox\":[{\"marker\":{\"colorbar\":{\"outlinewidth\":0,\"ticks\":\"\"}},\"type\":\"scattermapbox\"}],\"scatterpolar\":[{\"marker\":{\"colorbar\":{\"outlinewidth\":0,\"ticks\":\"\"}},\"type\":\"scatterpolar\"}],\"scatterpolargl\":[{\"marker\":{\"colorbar\":{\"outlinewidth\":0,\"ticks\":\"\"}},\"type\":\"scatterpolargl\"}],\"scatterternary\":[{\"marker\":{\"colorbar\":{\"outlinewidth\":0,\"ticks\":\"\"}},\"type\":\"scatterternary\"}],\"surface\":[{\"colorbar\":{\"outlinewidth\":0,\"ticks\":\"\"},\"colorscale\":[[0.0,\"#0d0887\"],[0.1111111111111111,\"#46039f\"],[0.2222222222222222,\"#7201a8\"],[0.3333333333333333,\"#9c179e\"],[0.4444444444444444,\"#bd3786\"],[0.5555555555555556,\"#d8576b\"],[0.6666666666666666,\"#ed7953\"],[0.7777777777777778,\"#fb9f3a\"],[0.8888888888888888,\"#fdca26\"],[1.0,\"#f0f921\"]],\"type\":\"surface\"}],\"table\":[{\"cells\":{\"fill\":{\"color\":\"#EBF0F8\"},\"line\":{\"color\":\"white\"}},\"header\":{\"fill\":{\"color\":\"#C8D4E3\"},\"line\":{\"color\":\"white\"}},\"type\":\"table\"}]},\"layout\":{\"annotationdefaults\":{\"arrowcolor\":\"#2a3f5f\",\"arrowhead\":0,\"arrowwidth\":1},\"autotypenumbers\":\"strict\",\"coloraxis\":{\"colorbar\":{\"outlinewidth\":0,\"ticks\":\"\"}},\"colorscale\":{\"diverging\":[[0,\"#8e0152\"],[0.1,\"#c51b7d\"],[0.2,\"#de77ae\"],[0.3,\"#f1b6da\"],[0.4,\"#fde0ef\"],[0.5,\"#f7f7f7\"],[0.6,\"#e6f5d0\"],[0.7,\"#b8e186\"],[0.8,\"#7fbc41\"],[0.9,\"#4d9221\"],[1,\"#276419\"]],\"sequential\":[[0.0,\"#0d0887\"],[0.1111111111111111,\"#46039f\"],[0.2222222222222222,\"#7201a8\"],[0.3333333333333333,\"#9c179e\"],[0.4444444444444444,\"#bd3786\"],[0.5555555555555556,\"#d8576b\"],[0.6666666666666666,\"#ed7953\"],[0.7777777777777778,\"#fb9f3a\"],[0.8888888888888888,\"#fdca26\"],[1.0,\"#f0f921\"]],\"sequentialminus\":[[0.0,\"#0d0887\"],[0.1111111111111111,\"#46039f\"],[0.2222222222222222,\"#7201a8\"],[0.3333333333333333,\"#9c179e\"],[0.4444444444444444,\"#bd3786\"],[0.5555555555555556,\"#d8576b\"],[0.6666666666666666,\"#ed7953\"],[0.7777777777777778,\"#fb9f3a\"],[0.8888888888888888,\"#fdca26\"],[1.0,\"#f0f921\"]]},\"colorway\":[\"#636efa\",\"#EF553B\",\"#00cc96\",\"#ab63fa\",\"#FFA15A\",\"#19d3f3\",\"#FF6692\",\"#B6E880\",\"#FF97FF\",\"#FECB52\"],\"font\":{\"color\":\"#2a3f5f\"},\"geo\":{\"bgcolor\":\"white\",\"lakecolor\":\"white\",\"landcolor\":\"#E5ECF6\",\"showlakes\":true,\"showland\":true,\"subunitcolor\":\"white\"},\"hoverlabel\":{\"align\":\"left\"},\"hovermode\":\"closest\",\"mapbox\":{\"style\":\"light\"},\"paper_bgcolor\":\"white\",\"plot_bgcolor\":\"#E5ECF6\",\"polar\":{\"angularaxis\":{\"gridcolor\":\"white\",\"linecolor\":\"white\",\"ticks\":\"\"},\"bgcolor\":\"#E5ECF6\",\"radialaxis\":{\"gridcolor\":\"white\",\"linecolor\":\"white\",\"ticks\":\"\"}},\"scene\":{\"xaxis\":{\"backgroundcolor\":\"#E5ECF6\",\"gridcolor\":\"white\",\"gridwidth\":2,\"linecolor\":\"white\",\"showbackground\":true,\"ticks\":\"\",\"zerolinecolor\":\"white\"},\"yaxis\":{\"backgroundcolor\":\"#E5ECF6\",\"gridcolor\":\"white\",\"gridwidth\":2,\"linecolor\":\"white\",\"showbackground\":true,\"ticks\":\"\",\"zerolinecolor\":\"white\"},\"zaxis\":{\"backgroundcolor\":\"#E5ECF6\",\"gridcolor\":\"white\",\"gridwidth\":2,\"linecolor\":\"white\",\"showbackground\":true,\"ticks\":\"\",\"zerolinecolor\":\"white\"}},\"shapedefaults\":{\"line\":{\"color\":\"#2a3f5f\"}},\"ternary\":{\"aaxis\":{\"gridcolor\":\"white\",\"linecolor\":\"white\",\"ticks\":\"\"},\"baxis\":{\"gridcolor\":\"white\",\"linecolor\":\"white\",\"ticks\":\"\"},\"bgcolor\":\"#E5ECF6\",\"caxis\":{\"gridcolor\":\"white\",\"linecolor\":\"white\",\"ticks\":\"\"}},\"title\":{\"x\":0.05},\"xaxis\":{\"automargin\":true,\"gridcolor\":\"white\",\"linecolor\":\"white\",\"ticks\":\"\",\"title\":{\"standoff\":15},\"zerolinecolor\":\"white\",\"zerolinewidth\":2},\"yaxis\":{\"automargin\":true,\"gridcolor\":\"white\",\"linecolor\":\"white\",\"ticks\":\"\",\"title\":{\"standoff\":15},\"zerolinecolor\":\"white\",\"zerolinewidth\":2}}},\"xaxis\":{\"anchor\":\"y\",\"domain\":[0.0,1.0],\"title\":{\"text\":\"Cutoff\"}},\"yaxis\":{\"anchor\":\"x\",\"domain\":[0.0,1.0],\"title\":{\"text\":\"WoE\"}},\"legend\":{\"tracegroupgap\":0},\"margin\":{\"t\":60},\"barmode\":\"relative\"},                        {\"responsive\": true}                    ).then(function(){\n",
              "                            \n",
              "var gd = document.getElementById('c1bd2ef3-cda0-4d03-9606-6570ed63bfa8');\n",
              "var x = new MutationObserver(function (mutations, observer) {{\n",
              "        var display = window.getComputedStyle(gd).display;\n",
              "        if (!display || display === 'none') {{\n",
              "            console.log([gd, 'removed!']);\n",
              "            Plotly.purge(gd);\n",
              "            observer.disconnect();\n",
              "        }}\n",
              "}});\n",
              "\n",
              "// Listen for the removal of the full notebook cells\n",
              "var notebookContainer = gd.closest('#notebook-container');\n",
              "if (notebookContainer) {{\n",
              "    x.observe(notebookContainer, {childList: true});\n",
              "}}\n",
              "\n",
              "// Listen for the clearing of the current output cell\n",
              "var outputEl = gd.closest('.output');\n",
              "if (outputEl) {{\n",
              "    x.observe(outputEl, {childList: true});\n",
              "}}\n",
              "\n",
              "                        })                };                            </script>        </div>\n",
              "</body>\n",
              "</html>"
            ]
          },
          "metadata": {}
        }
      ]
    },
    {
      "cell_type": "code",
      "source": [
        "px.bar(woedf[woedf.Variable == \"renda_cliente\"], x=\"Cutoff\", y=\"WoE\")"
      ],
      "metadata": {
        "colab": {
          "base_uri": "https://localhost:8080/",
          "height": 542
        },
        "id": "15xrtIqQpp7p",
        "outputId": "fe1ab591-e83f-4d15-b21e-8b36398d09ef"
      },
      "execution_count": null,
      "outputs": [
        {
          "output_type": "display_data",
          "data": {
            "text/html": [
              "<html>\n",
              "<head><meta charset=\"utf-8\" /></head>\n",
              "<body>\n",
              "    <div>            <script src=\"https://cdnjs.cloudflare.com/ajax/libs/mathjax/2.7.5/MathJax.js?config=TeX-AMS-MML_SVG\"></script><script type=\"text/javascript\">if (window.MathJax) {MathJax.Hub.Config({SVG: {font: \"STIX-Web\"}});}</script>                <script type=\"text/javascript\">window.PlotlyConfig = {MathJaxConfig: 'local'};</script>\n",
              "        <script src=\"https://cdn.plot.ly/plotly-2.8.3.min.js\"></script>                <div id=\"6a07ce09-f056-4a95-9045-a7531f0d325c\" class=\"plotly-graph-div\" style=\"height:525px; width:100%;\"></div>            <script type=\"text/javascript\">                                    window.PLOTLYENV=window.PLOTLYENV || {};                                    if (document.getElementById(\"6a07ce09-f056-4a95-9045-a7531f0d325c\")) {                    Plotly.newPlot(                        \"6a07ce09-f056-4a95-9045-a7531f0d325c\",                        [{\"alignmentgroup\":\"True\",\"hovertemplate\":\"Cutoff=%{x}<br>WoE=%{y}<extra></extra>\",\"legendgroup\":\"\",\"marker\":{\"color\":\"#636efa\",\"pattern\":{\"shape\":\"\"}},\"name\":\"\",\"offsetgroup\":\"\",\"orientation\":\"v\",\"showlegend\":false,\"textposition\":\"auto\",\"x\":[\"(999.999, 1700.0]\",\"(1700.0, 1812.0]\",\"(1812.0, 1930.0]\",\"(1930.0, 2090.4]\",\"(2090.4, 2275.0]\",\"(2275.0, 2522.0]\",\"(2522.0, 2974.0]\",\"(2974.0, 3675.8]\",\"(3675.8, 5081.8]\",\"(5081.8, 997000.0]\"],\"xaxis\":\"x\",\"y\":[-0.061901795499200336,0.3938604638399639,0.27489863418410027,0.19493709104387166,0.05331338469583087,0.013387611458324886,-0.15290883028469002,-0.12036148052424517,-0.2812424741250319,-0.4713481467106538],\"yaxis\":\"y\",\"type\":\"bar\"}],                        {\"template\":{\"data\":{\"bar\":[{\"error_x\":{\"color\":\"#2a3f5f\"},\"error_y\":{\"color\":\"#2a3f5f\"},\"marker\":{\"line\":{\"color\":\"#E5ECF6\",\"width\":0.5},\"pattern\":{\"fillmode\":\"overlay\",\"size\":10,\"solidity\":0.2}},\"type\":\"bar\"}],\"barpolar\":[{\"marker\":{\"line\":{\"color\":\"#E5ECF6\",\"width\":0.5},\"pattern\":{\"fillmode\":\"overlay\",\"size\":10,\"solidity\":0.2}},\"type\":\"barpolar\"}],\"carpet\":[{\"aaxis\":{\"endlinecolor\":\"#2a3f5f\",\"gridcolor\":\"white\",\"linecolor\":\"white\",\"minorgridcolor\":\"white\",\"startlinecolor\":\"#2a3f5f\"},\"baxis\":{\"endlinecolor\":\"#2a3f5f\",\"gridcolor\":\"white\",\"linecolor\":\"white\",\"minorgridcolor\":\"white\",\"startlinecolor\":\"#2a3f5f\"},\"type\":\"carpet\"}],\"choropleth\":[{\"colorbar\":{\"outlinewidth\":0,\"ticks\":\"\"},\"type\":\"choropleth\"}],\"contour\":[{\"colorbar\":{\"outlinewidth\":0,\"ticks\":\"\"},\"colorscale\":[[0.0,\"#0d0887\"],[0.1111111111111111,\"#46039f\"],[0.2222222222222222,\"#7201a8\"],[0.3333333333333333,\"#9c179e\"],[0.4444444444444444,\"#bd3786\"],[0.5555555555555556,\"#d8576b\"],[0.6666666666666666,\"#ed7953\"],[0.7777777777777778,\"#fb9f3a\"],[0.8888888888888888,\"#fdca26\"],[1.0,\"#f0f921\"]],\"type\":\"contour\"}],\"contourcarpet\":[{\"colorbar\":{\"outlinewidth\":0,\"ticks\":\"\"},\"type\":\"contourcarpet\"}],\"heatmap\":[{\"colorbar\":{\"outlinewidth\":0,\"ticks\":\"\"},\"colorscale\":[[0.0,\"#0d0887\"],[0.1111111111111111,\"#46039f\"],[0.2222222222222222,\"#7201a8\"],[0.3333333333333333,\"#9c179e\"],[0.4444444444444444,\"#bd3786\"],[0.5555555555555556,\"#d8576b\"],[0.6666666666666666,\"#ed7953\"],[0.7777777777777778,\"#fb9f3a\"],[0.8888888888888888,\"#fdca26\"],[1.0,\"#f0f921\"]],\"type\":\"heatmap\"}],\"heatmapgl\":[{\"colorbar\":{\"outlinewidth\":0,\"ticks\":\"\"},\"colorscale\":[[0.0,\"#0d0887\"],[0.1111111111111111,\"#46039f\"],[0.2222222222222222,\"#7201a8\"],[0.3333333333333333,\"#9c179e\"],[0.4444444444444444,\"#bd3786\"],[0.5555555555555556,\"#d8576b\"],[0.6666666666666666,\"#ed7953\"],[0.7777777777777778,\"#fb9f3a\"],[0.8888888888888888,\"#fdca26\"],[1.0,\"#f0f921\"]],\"type\":\"heatmapgl\"}],\"histogram\":[{\"marker\":{\"pattern\":{\"fillmode\":\"overlay\",\"size\":10,\"solidity\":0.2}},\"type\":\"histogram\"}],\"histogram2d\":[{\"colorbar\":{\"outlinewidth\":0,\"ticks\":\"\"},\"colorscale\":[[0.0,\"#0d0887\"],[0.1111111111111111,\"#46039f\"],[0.2222222222222222,\"#7201a8\"],[0.3333333333333333,\"#9c179e\"],[0.4444444444444444,\"#bd3786\"],[0.5555555555555556,\"#d8576b\"],[0.6666666666666666,\"#ed7953\"],[0.7777777777777778,\"#fb9f3a\"],[0.8888888888888888,\"#fdca26\"],[1.0,\"#f0f921\"]],\"type\":\"histogram2d\"}],\"histogram2dcontour\":[{\"colorbar\":{\"outlinewidth\":0,\"ticks\":\"\"},\"colorscale\":[[0.0,\"#0d0887\"],[0.1111111111111111,\"#46039f\"],[0.2222222222222222,\"#7201a8\"],[0.3333333333333333,\"#9c179e\"],[0.4444444444444444,\"#bd3786\"],[0.5555555555555556,\"#d8576b\"],[0.6666666666666666,\"#ed7953\"],[0.7777777777777778,\"#fb9f3a\"],[0.8888888888888888,\"#fdca26\"],[1.0,\"#f0f921\"]],\"type\":\"histogram2dcontour\"}],\"mesh3d\":[{\"colorbar\":{\"outlinewidth\":0,\"ticks\":\"\"},\"type\":\"mesh3d\"}],\"parcoords\":[{\"line\":{\"colorbar\":{\"outlinewidth\":0,\"ticks\":\"\"}},\"type\":\"parcoords\"}],\"pie\":[{\"automargin\":true,\"type\":\"pie\"}],\"scatter\":[{\"marker\":{\"colorbar\":{\"outlinewidth\":0,\"ticks\":\"\"}},\"type\":\"scatter\"}],\"scatter3d\":[{\"line\":{\"colorbar\":{\"outlinewidth\":0,\"ticks\":\"\"}},\"marker\":{\"colorbar\":{\"outlinewidth\":0,\"ticks\":\"\"}},\"type\":\"scatter3d\"}],\"scattercarpet\":[{\"marker\":{\"colorbar\":{\"outlinewidth\":0,\"ticks\":\"\"}},\"type\":\"scattercarpet\"}],\"scattergeo\":[{\"marker\":{\"colorbar\":{\"outlinewidth\":0,\"ticks\":\"\"}},\"type\":\"scattergeo\"}],\"scattergl\":[{\"marker\":{\"colorbar\":{\"outlinewidth\":0,\"ticks\":\"\"}},\"type\":\"scattergl\"}],\"scattermapbox\":[{\"marker\":{\"colorbar\":{\"outlinewidth\":0,\"ticks\":\"\"}},\"type\":\"scattermapbox\"}],\"scatterpolar\":[{\"marker\":{\"colorbar\":{\"outlinewidth\":0,\"ticks\":\"\"}},\"type\":\"scatterpolar\"}],\"scatterpolargl\":[{\"marker\":{\"colorbar\":{\"outlinewidth\":0,\"ticks\":\"\"}},\"type\":\"scatterpolargl\"}],\"scatterternary\":[{\"marker\":{\"colorbar\":{\"outlinewidth\":0,\"ticks\":\"\"}},\"type\":\"scatterternary\"}],\"surface\":[{\"colorbar\":{\"outlinewidth\":0,\"ticks\":\"\"},\"colorscale\":[[0.0,\"#0d0887\"],[0.1111111111111111,\"#46039f\"],[0.2222222222222222,\"#7201a8\"],[0.3333333333333333,\"#9c179e\"],[0.4444444444444444,\"#bd3786\"],[0.5555555555555556,\"#d8576b\"],[0.6666666666666666,\"#ed7953\"],[0.7777777777777778,\"#fb9f3a\"],[0.8888888888888888,\"#fdca26\"],[1.0,\"#f0f921\"]],\"type\":\"surface\"}],\"table\":[{\"cells\":{\"fill\":{\"color\":\"#EBF0F8\"},\"line\":{\"color\":\"white\"}},\"header\":{\"fill\":{\"color\":\"#C8D4E3\"},\"line\":{\"color\":\"white\"}},\"type\":\"table\"}]},\"layout\":{\"annotationdefaults\":{\"arrowcolor\":\"#2a3f5f\",\"arrowhead\":0,\"arrowwidth\":1},\"autotypenumbers\":\"strict\",\"coloraxis\":{\"colorbar\":{\"outlinewidth\":0,\"ticks\":\"\"}},\"colorscale\":{\"diverging\":[[0,\"#8e0152\"],[0.1,\"#c51b7d\"],[0.2,\"#de77ae\"],[0.3,\"#f1b6da\"],[0.4,\"#fde0ef\"],[0.5,\"#f7f7f7\"],[0.6,\"#e6f5d0\"],[0.7,\"#b8e186\"],[0.8,\"#7fbc41\"],[0.9,\"#4d9221\"],[1,\"#276419\"]],\"sequential\":[[0.0,\"#0d0887\"],[0.1111111111111111,\"#46039f\"],[0.2222222222222222,\"#7201a8\"],[0.3333333333333333,\"#9c179e\"],[0.4444444444444444,\"#bd3786\"],[0.5555555555555556,\"#d8576b\"],[0.6666666666666666,\"#ed7953\"],[0.7777777777777778,\"#fb9f3a\"],[0.8888888888888888,\"#fdca26\"],[1.0,\"#f0f921\"]],\"sequentialminus\":[[0.0,\"#0d0887\"],[0.1111111111111111,\"#46039f\"],[0.2222222222222222,\"#7201a8\"],[0.3333333333333333,\"#9c179e\"],[0.4444444444444444,\"#bd3786\"],[0.5555555555555556,\"#d8576b\"],[0.6666666666666666,\"#ed7953\"],[0.7777777777777778,\"#fb9f3a\"],[0.8888888888888888,\"#fdca26\"],[1.0,\"#f0f921\"]]},\"colorway\":[\"#636efa\",\"#EF553B\",\"#00cc96\",\"#ab63fa\",\"#FFA15A\",\"#19d3f3\",\"#FF6692\",\"#B6E880\",\"#FF97FF\",\"#FECB52\"],\"font\":{\"color\":\"#2a3f5f\"},\"geo\":{\"bgcolor\":\"white\",\"lakecolor\":\"white\",\"landcolor\":\"#E5ECF6\",\"showlakes\":true,\"showland\":true,\"subunitcolor\":\"white\"},\"hoverlabel\":{\"align\":\"left\"},\"hovermode\":\"closest\",\"mapbox\":{\"style\":\"light\"},\"paper_bgcolor\":\"white\",\"plot_bgcolor\":\"#E5ECF6\",\"polar\":{\"angularaxis\":{\"gridcolor\":\"white\",\"linecolor\":\"white\",\"ticks\":\"\"},\"bgcolor\":\"#E5ECF6\",\"radialaxis\":{\"gridcolor\":\"white\",\"linecolor\":\"white\",\"ticks\":\"\"}},\"scene\":{\"xaxis\":{\"backgroundcolor\":\"#E5ECF6\",\"gridcolor\":\"white\",\"gridwidth\":2,\"linecolor\":\"white\",\"showbackground\":true,\"ticks\":\"\",\"zerolinecolor\":\"white\"},\"yaxis\":{\"backgroundcolor\":\"#E5ECF6\",\"gridcolor\":\"white\",\"gridwidth\":2,\"linecolor\":\"white\",\"showbackground\":true,\"ticks\":\"\",\"zerolinecolor\":\"white\"},\"zaxis\":{\"backgroundcolor\":\"#E5ECF6\",\"gridcolor\":\"white\",\"gridwidth\":2,\"linecolor\":\"white\",\"showbackground\":true,\"ticks\":\"\",\"zerolinecolor\":\"white\"}},\"shapedefaults\":{\"line\":{\"color\":\"#2a3f5f\"}},\"ternary\":{\"aaxis\":{\"gridcolor\":\"white\",\"linecolor\":\"white\",\"ticks\":\"\"},\"baxis\":{\"gridcolor\":\"white\",\"linecolor\":\"white\",\"ticks\":\"\"},\"bgcolor\":\"#E5ECF6\",\"caxis\":{\"gridcolor\":\"white\",\"linecolor\":\"white\",\"ticks\":\"\"}},\"title\":{\"x\":0.05},\"xaxis\":{\"automargin\":true,\"gridcolor\":\"white\",\"linecolor\":\"white\",\"ticks\":\"\",\"title\":{\"standoff\":15},\"zerolinecolor\":\"white\",\"zerolinewidth\":2},\"yaxis\":{\"automargin\":true,\"gridcolor\":\"white\",\"linecolor\":\"white\",\"ticks\":\"\",\"title\":{\"standoff\":15},\"zerolinecolor\":\"white\",\"zerolinewidth\":2}}},\"xaxis\":{\"anchor\":\"y\",\"domain\":[0.0,1.0],\"title\":{\"text\":\"Cutoff\"}},\"yaxis\":{\"anchor\":\"x\",\"domain\":[0.0,1.0],\"title\":{\"text\":\"WoE\"}},\"legend\":{\"tracegroupgap\":0},\"margin\":{\"t\":60},\"barmode\":\"relative\"},                        {\"responsive\": true}                    ).then(function(){\n",
              "                            \n",
              "var gd = document.getElementById('6a07ce09-f056-4a95-9045-a7531f0d325c');\n",
              "var x = new MutationObserver(function (mutations, observer) {{\n",
              "        var display = window.getComputedStyle(gd).display;\n",
              "        if (!display || display === 'none') {{\n",
              "            console.log([gd, 'removed!']);\n",
              "            Plotly.purge(gd);\n",
              "            observer.disconnect();\n",
              "        }}\n",
              "}});\n",
              "\n",
              "// Listen for the removal of the full notebook cells\n",
              "var notebookContainer = gd.closest('#notebook-container');\n",
              "if (notebookContainer) {{\n",
              "    x.observe(notebookContainer, {childList: true});\n",
              "}}\n",
              "\n",
              "// Listen for the clearing of the current output cell\n",
              "var outputEl = gd.closest('.output');\n",
              "if (outputEl) {{\n",
              "    x.observe(outputEl, {childList: true});\n",
              "}}\n",
              "\n",
              "                        })                };                            </script>        </div>\n",
              "</body>\n",
              "</html>"
            ]
          },
          "metadata": {}
        }
      ]
    },
    {
      "cell_type": "code",
      "source": [
        "px.bar(woedf[woedf.Variable == \"sinal_value\"], x=\"Cutoff\", y=\"WoE\")"
      ],
      "metadata": {
        "colab": {
          "base_uri": "https://localhost:8080/",
          "height": 542
        },
        "id": "z6ddLx8xqLq0",
        "outputId": "1a8626df-91d3-44f4-c9cf-4e992375b268"
      },
      "execution_count": null,
      "outputs": [
        {
          "output_type": "display_data",
          "data": {
            "text/html": [
              "<html>\n",
              "<head><meta charset=\"utf-8\" /></head>\n",
              "<body>\n",
              "    <div>            <script src=\"https://cdnjs.cloudflare.com/ajax/libs/mathjax/2.7.5/MathJax.js?config=TeX-AMS-MML_SVG\"></script><script type=\"text/javascript\">if (window.MathJax) {MathJax.Hub.Config({SVG: {font: \"STIX-Web\"}});}</script>                <script type=\"text/javascript\">window.PlotlyConfig = {MathJaxConfig: 'local'};</script>\n",
              "        <script src=\"https://cdn.plot.ly/plotly-2.8.3.min.js\"></script>                <div id=\"13f5fc79-a972-4271-92cd-714d22a3890c\" class=\"plotly-graph-div\" style=\"height:525px; width:100%;\"></div>            <script type=\"text/javascript\">                                    window.PLOTLYENV=window.PLOTLYENV || {};                                    if (document.getElementById(\"13f5fc79-a972-4271-92cd-714d22a3890c\")) {                    Plotly.newPlot(                        \"13f5fc79-a972-4271-92cd-714d22a3890c\",                        [{\"alignmentgroup\":\"True\",\"hovertemplate\":\"Cutoff=%{x}<br>WoE=%{y}<extra></extra>\",\"legendgroup\":\"\",\"marker\":{\"color\":\"#636efa\",\"pattern\":{\"shape\":\"\"}},\"name\":\"\",\"offsetgroup\":\"\",\"orientation\":\"v\",\"showlegend\":false,\"textposition\":\"auto\",\"x\":[\"(-0.001, 1253.397]\",\"(1253.397, 1420.958]\",\"(1420.958, 1560.615]\",\"(1560.615, 2300.0]\",\"(2300.0, 3024.352]\",\"(3024.352, 4722.018]\",\"(4722.018, 10671.77]\",\"(10671.77, 311186.32]\"],\"xaxis\":\"x\",\"y\":[0.1260676192328734,0.4760147799943266,0.1904903274830659,-0.2708826995673186,0.3287908685206085,-0.08773125735140276,-0.42017018243513576,-1.0724988003663642],\"yaxis\":\"y\",\"type\":\"bar\"}],                        {\"template\":{\"data\":{\"bar\":[{\"error_x\":{\"color\":\"#2a3f5f\"},\"error_y\":{\"color\":\"#2a3f5f\"},\"marker\":{\"line\":{\"color\":\"#E5ECF6\",\"width\":0.5},\"pattern\":{\"fillmode\":\"overlay\",\"size\":10,\"solidity\":0.2}},\"type\":\"bar\"}],\"barpolar\":[{\"marker\":{\"line\":{\"color\":\"#E5ECF6\",\"width\":0.5},\"pattern\":{\"fillmode\":\"overlay\",\"size\":10,\"solidity\":0.2}},\"type\":\"barpolar\"}],\"carpet\":[{\"aaxis\":{\"endlinecolor\":\"#2a3f5f\",\"gridcolor\":\"white\",\"linecolor\":\"white\",\"minorgridcolor\":\"white\",\"startlinecolor\":\"#2a3f5f\"},\"baxis\":{\"endlinecolor\":\"#2a3f5f\",\"gridcolor\":\"white\",\"linecolor\":\"white\",\"minorgridcolor\":\"white\",\"startlinecolor\":\"#2a3f5f\"},\"type\":\"carpet\"}],\"choropleth\":[{\"colorbar\":{\"outlinewidth\":0,\"ticks\":\"\"},\"type\":\"choropleth\"}],\"contour\":[{\"colorbar\":{\"outlinewidth\":0,\"ticks\":\"\"},\"colorscale\":[[0.0,\"#0d0887\"],[0.1111111111111111,\"#46039f\"],[0.2222222222222222,\"#7201a8\"],[0.3333333333333333,\"#9c179e\"],[0.4444444444444444,\"#bd3786\"],[0.5555555555555556,\"#d8576b\"],[0.6666666666666666,\"#ed7953\"],[0.7777777777777778,\"#fb9f3a\"],[0.8888888888888888,\"#fdca26\"],[1.0,\"#f0f921\"]],\"type\":\"contour\"}],\"contourcarpet\":[{\"colorbar\":{\"outlinewidth\":0,\"ticks\":\"\"},\"type\":\"contourcarpet\"}],\"heatmap\":[{\"colorbar\":{\"outlinewidth\":0,\"ticks\":\"\"},\"colorscale\":[[0.0,\"#0d0887\"],[0.1111111111111111,\"#46039f\"],[0.2222222222222222,\"#7201a8\"],[0.3333333333333333,\"#9c179e\"],[0.4444444444444444,\"#bd3786\"],[0.5555555555555556,\"#d8576b\"],[0.6666666666666666,\"#ed7953\"],[0.7777777777777778,\"#fb9f3a\"],[0.8888888888888888,\"#fdca26\"],[1.0,\"#f0f921\"]],\"type\":\"heatmap\"}],\"heatmapgl\":[{\"colorbar\":{\"outlinewidth\":0,\"ticks\":\"\"},\"colorscale\":[[0.0,\"#0d0887\"],[0.1111111111111111,\"#46039f\"],[0.2222222222222222,\"#7201a8\"],[0.3333333333333333,\"#9c179e\"],[0.4444444444444444,\"#bd3786\"],[0.5555555555555556,\"#d8576b\"],[0.6666666666666666,\"#ed7953\"],[0.7777777777777778,\"#fb9f3a\"],[0.8888888888888888,\"#fdca26\"],[1.0,\"#f0f921\"]],\"type\":\"heatmapgl\"}],\"histogram\":[{\"marker\":{\"pattern\":{\"fillmode\":\"overlay\",\"size\":10,\"solidity\":0.2}},\"type\":\"histogram\"}],\"histogram2d\":[{\"colorbar\":{\"outlinewidth\":0,\"ticks\":\"\"},\"colorscale\":[[0.0,\"#0d0887\"],[0.1111111111111111,\"#46039f\"],[0.2222222222222222,\"#7201a8\"],[0.3333333333333333,\"#9c179e\"],[0.4444444444444444,\"#bd3786\"],[0.5555555555555556,\"#d8576b\"],[0.6666666666666666,\"#ed7953\"],[0.7777777777777778,\"#fb9f3a\"],[0.8888888888888888,\"#fdca26\"],[1.0,\"#f0f921\"]],\"type\":\"histogram2d\"}],\"histogram2dcontour\":[{\"colorbar\":{\"outlinewidth\":0,\"ticks\":\"\"},\"colorscale\":[[0.0,\"#0d0887\"],[0.1111111111111111,\"#46039f\"],[0.2222222222222222,\"#7201a8\"],[0.3333333333333333,\"#9c179e\"],[0.4444444444444444,\"#bd3786\"],[0.5555555555555556,\"#d8576b\"],[0.6666666666666666,\"#ed7953\"],[0.7777777777777778,\"#fb9f3a\"],[0.8888888888888888,\"#fdca26\"],[1.0,\"#f0f921\"]],\"type\":\"histogram2dcontour\"}],\"mesh3d\":[{\"colorbar\":{\"outlinewidth\":0,\"ticks\":\"\"},\"type\":\"mesh3d\"}],\"parcoords\":[{\"line\":{\"colorbar\":{\"outlinewidth\":0,\"ticks\":\"\"}},\"type\":\"parcoords\"}],\"pie\":[{\"automargin\":true,\"type\":\"pie\"}],\"scatter\":[{\"marker\":{\"colorbar\":{\"outlinewidth\":0,\"ticks\":\"\"}},\"type\":\"scatter\"}],\"scatter3d\":[{\"line\":{\"colorbar\":{\"outlinewidth\":0,\"ticks\":\"\"}},\"marker\":{\"colorbar\":{\"outlinewidth\":0,\"ticks\":\"\"}},\"type\":\"scatter3d\"}],\"scattercarpet\":[{\"marker\":{\"colorbar\":{\"outlinewidth\":0,\"ticks\":\"\"}},\"type\":\"scattercarpet\"}],\"scattergeo\":[{\"marker\":{\"colorbar\":{\"outlinewidth\":0,\"ticks\":\"\"}},\"type\":\"scattergeo\"}],\"scattergl\":[{\"marker\":{\"colorbar\":{\"outlinewidth\":0,\"ticks\":\"\"}},\"type\":\"scattergl\"}],\"scattermapbox\":[{\"marker\":{\"colorbar\":{\"outlinewidth\":0,\"ticks\":\"\"}},\"type\":\"scattermapbox\"}],\"scatterpolar\":[{\"marker\":{\"colorbar\":{\"outlinewidth\":0,\"ticks\":\"\"}},\"type\":\"scatterpolar\"}],\"scatterpolargl\":[{\"marker\":{\"colorbar\":{\"outlinewidth\":0,\"ticks\":\"\"}},\"type\":\"scatterpolargl\"}],\"scatterternary\":[{\"marker\":{\"colorbar\":{\"outlinewidth\":0,\"ticks\":\"\"}},\"type\":\"scatterternary\"}],\"surface\":[{\"colorbar\":{\"outlinewidth\":0,\"ticks\":\"\"},\"colorscale\":[[0.0,\"#0d0887\"],[0.1111111111111111,\"#46039f\"],[0.2222222222222222,\"#7201a8\"],[0.3333333333333333,\"#9c179e\"],[0.4444444444444444,\"#bd3786\"],[0.5555555555555556,\"#d8576b\"],[0.6666666666666666,\"#ed7953\"],[0.7777777777777778,\"#fb9f3a\"],[0.8888888888888888,\"#fdca26\"],[1.0,\"#f0f921\"]],\"type\":\"surface\"}],\"table\":[{\"cells\":{\"fill\":{\"color\":\"#EBF0F8\"},\"line\":{\"color\":\"white\"}},\"header\":{\"fill\":{\"color\":\"#C8D4E3\"},\"line\":{\"color\":\"white\"}},\"type\":\"table\"}]},\"layout\":{\"annotationdefaults\":{\"arrowcolor\":\"#2a3f5f\",\"arrowhead\":0,\"arrowwidth\":1},\"autotypenumbers\":\"strict\",\"coloraxis\":{\"colorbar\":{\"outlinewidth\":0,\"ticks\":\"\"}},\"colorscale\":{\"diverging\":[[0,\"#8e0152\"],[0.1,\"#c51b7d\"],[0.2,\"#de77ae\"],[0.3,\"#f1b6da\"],[0.4,\"#fde0ef\"],[0.5,\"#f7f7f7\"],[0.6,\"#e6f5d0\"],[0.7,\"#b8e186\"],[0.8,\"#7fbc41\"],[0.9,\"#4d9221\"],[1,\"#276419\"]],\"sequential\":[[0.0,\"#0d0887\"],[0.1111111111111111,\"#46039f\"],[0.2222222222222222,\"#7201a8\"],[0.3333333333333333,\"#9c179e\"],[0.4444444444444444,\"#bd3786\"],[0.5555555555555556,\"#d8576b\"],[0.6666666666666666,\"#ed7953\"],[0.7777777777777778,\"#fb9f3a\"],[0.8888888888888888,\"#fdca26\"],[1.0,\"#f0f921\"]],\"sequentialminus\":[[0.0,\"#0d0887\"],[0.1111111111111111,\"#46039f\"],[0.2222222222222222,\"#7201a8\"],[0.3333333333333333,\"#9c179e\"],[0.4444444444444444,\"#bd3786\"],[0.5555555555555556,\"#d8576b\"],[0.6666666666666666,\"#ed7953\"],[0.7777777777777778,\"#fb9f3a\"],[0.8888888888888888,\"#fdca26\"],[1.0,\"#f0f921\"]]},\"colorway\":[\"#636efa\",\"#EF553B\",\"#00cc96\",\"#ab63fa\",\"#FFA15A\",\"#19d3f3\",\"#FF6692\",\"#B6E880\",\"#FF97FF\",\"#FECB52\"],\"font\":{\"color\":\"#2a3f5f\"},\"geo\":{\"bgcolor\":\"white\",\"lakecolor\":\"white\",\"landcolor\":\"#E5ECF6\",\"showlakes\":true,\"showland\":true,\"subunitcolor\":\"white\"},\"hoverlabel\":{\"align\":\"left\"},\"hovermode\":\"closest\",\"mapbox\":{\"style\":\"light\"},\"paper_bgcolor\":\"white\",\"plot_bgcolor\":\"#E5ECF6\",\"polar\":{\"angularaxis\":{\"gridcolor\":\"white\",\"linecolor\":\"white\",\"ticks\":\"\"},\"bgcolor\":\"#E5ECF6\",\"radialaxis\":{\"gridcolor\":\"white\",\"linecolor\":\"white\",\"ticks\":\"\"}},\"scene\":{\"xaxis\":{\"backgroundcolor\":\"#E5ECF6\",\"gridcolor\":\"white\",\"gridwidth\":2,\"linecolor\":\"white\",\"showbackground\":true,\"ticks\":\"\",\"zerolinecolor\":\"white\"},\"yaxis\":{\"backgroundcolor\":\"#E5ECF6\",\"gridcolor\":\"white\",\"gridwidth\":2,\"linecolor\":\"white\",\"showbackground\":true,\"ticks\":\"\",\"zerolinecolor\":\"white\"},\"zaxis\":{\"backgroundcolor\":\"#E5ECF6\",\"gridcolor\":\"white\",\"gridwidth\":2,\"linecolor\":\"white\",\"showbackground\":true,\"ticks\":\"\",\"zerolinecolor\":\"white\"}},\"shapedefaults\":{\"line\":{\"color\":\"#2a3f5f\"}},\"ternary\":{\"aaxis\":{\"gridcolor\":\"white\",\"linecolor\":\"white\",\"ticks\":\"\"},\"baxis\":{\"gridcolor\":\"white\",\"linecolor\":\"white\",\"ticks\":\"\"},\"bgcolor\":\"#E5ECF6\",\"caxis\":{\"gridcolor\":\"white\",\"linecolor\":\"white\",\"ticks\":\"\"}},\"title\":{\"x\":0.05},\"xaxis\":{\"automargin\":true,\"gridcolor\":\"white\",\"linecolor\":\"white\",\"ticks\":\"\",\"title\":{\"standoff\":15},\"zerolinecolor\":\"white\",\"zerolinewidth\":2},\"yaxis\":{\"automargin\":true,\"gridcolor\":\"white\",\"linecolor\":\"white\",\"ticks\":\"\",\"title\":{\"standoff\":15},\"zerolinecolor\":\"white\",\"zerolinewidth\":2}}},\"xaxis\":{\"anchor\":\"y\",\"domain\":[0.0,1.0],\"title\":{\"text\":\"Cutoff\"}},\"yaxis\":{\"anchor\":\"x\",\"domain\":[0.0,1.0],\"title\":{\"text\":\"WoE\"}},\"legend\":{\"tracegroupgap\":0},\"margin\":{\"t\":60},\"barmode\":\"relative\"},                        {\"responsive\": true}                    ).then(function(){\n",
              "                            \n",
              "var gd = document.getElementById('13f5fc79-a972-4271-92cd-714d22a3890c');\n",
              "var x = new MutationObserver(function (mutations, observer) {{\n",
              "        var display = window.getComputedStyle(gd).display;\n",
              "        if (!display || display === 'none') {{\n",
              "            console.log([gd, 'removed!']);\n",
              "            Plotly.purge(gd);\n",
              "            observer.disconnect();\n",
              "        }}\n",
              "}});\n",
              "\n",
              "// Listen for the removal of the full notebook cells\n",
              "var notebookContainer = gd.closest('#notebook-container');\n",
              "if (notebookContainer) {{\n",
              "    x.observe(notebookContainer, {childList: true});\n",
              "}}\n",
              "\n",
              "// Listen for the clearing of the current output cell\n",
              "var outputEl = gd.closest('.output');\n",
              "if (outputEl) {{\n",
              "    x.observe(outputEl, {childList: true});\n",
              "}}\n",
              "\n",
              "                        })                };                            </script>        </div>\n",
              "</body>\n",
              "</html>"
            ]
          },
          "metadata": {}
        }
      ]
    },
    {
      "cell_type": "code",
      "source": [
        "px.bar(woedf[woedf.Variable == \"parcelas_entradas\"], x=\"Cutoff\", y=\"WoE\")"
      ],
      "metadata": {
        "colab": {
          "base_uri": "https://localhost:8080/",
          "height": 542
        },
        "id": "G32SDpMSrHCG",
        "outputId": "06ca9a94-c6ae-41c5-fbd8-c8aa2bc5c94c"
      },
      "execution_count": null,
      "outputs": [
        {
          "output_type": "display_data",
          "data": {
            "text/html": [
              "<html>\n",
              "<head><meta charset=\"utf-8\" /></head>\n",
              "<body>\n",
              "    <div>            <script src=\"https://cdnjs.cloudflare.com/ajax/libs/mathjax/2.7.5/MathJax.js?config=TeX-AMS-MML_SVG\"></script><script type=\"text/javascript\">if (window.MathJax) {MathJax.Hub.Config({SVG: {font: \"STIX-Web\"}});}</script>                <script type=\"text/javascript\">window.PlotlyConfig = {MathJaxConfig: 'local'};</script>\n",
              "        <script src=\"https://cdn.plot.ly/plotly-2.8.3.min.js\"></script>                <div id=\"db1c7636-f595-4daf-9e5f-6d8fdbd6bef3\" class=\"plotly-graph-div\" style=\"height:525px; width:100%;\"></div>            <script type=\"text/javascript\">                                    window.PLOTLYENV=window.PLOTLYENV || {};                                    if (document.getElementById(\"db1c7636-f595-4daf-9e5f-6d8fdbd6bef3\")) {                    Plotly.newPlot(                        \"db1c7636-f595-4daf-9e5f-6d8fdbd6bef3\",                        [{\"alignmentgroup\":\"True\",\"hovertemplate\":\"Cutoff=%{x}<br>WoE=%{y}<extra></extra>\",\"legendgroup\":\"\",\"marker\":{\"color\":\"#636efa\",\"pattern\":{\"shape\":\"\"}},\"name\":\"\",\"offsetgroup\":\"\",\"orientation\":\"v\",\"showlegend\":false,\"textposition\":\"auto\",\"x\":[\"(-0.001, 20.0]\",\"(20.0, 24.0]\",\"(24.0, 28.0]\",\"(28.0, 30.0]\",\"(30.0, 34.0]\",\"(34.0, 35.0]\",\"(35.0, 36.0]\",\"(36.0, 37.0]\",\"(37.0, 60.0]\"],\"xaxis\":\"x\",\"y\":[-0.8247850843887523,0.22010055627407663,0.33145850589608816,0.3078104430311917,0.10105773461467221,-0.061690042591170315,0.10014666176344438,0.48596611612570817,0.05781861903268286],\"yaxis\":\"y\",\"type\":\"bar\"}],                        {\"template\":{\"data\":{\"bar\":[{\"error_x\":{\"color\":\"#2a3f5f\"},\"error_y\":{\"color\":\"#2a3f5f\"},\"marker\":{\"line\":{\"color\":\"#E5ECF6\",\"width\":0.5},\"pattern\":{\"fillmode\":\"overlay\",\"size\":10,\"solidity\":0.2}},\"type\":\"bar\"}],\"barpolar\":[{\"marker\":{\"line\":{\"color\":\"#E5ECF6\",\"width\":0.5},\"pattern\":{\"fillmode\":\"overlay\",\"size\":10,\"solidity\":0.2}},\"type\":\"barpolar\"}],\"carpet\":[{\"aaxis\":{\"endlinecolor\":\"#2a3f5f\",\"gridcolor\":\"white\",\"linecolor\":\"white\",\"minorgridcolor\":\"white\",\"startlinecolor\":\"#2a3f5f\"},\"baxis\":{\"endlinecolor\":\"#2a3f5f\",\"gridcolor\":\"white\",\"linecolor\":\"white\",\"minorgridcolor\":\"white\",\"startlinecolor\":\"#2a3f5f\"},\"type\":\"carpet\"}],\"choropleth\":[{\"colorbar\":{\"outlinewidth\":0,\"ticks\":\"\"},\"type\":\"choropleth\"}],\"contour\":[{\"colorbar\":{\"outlinewidth\":0,\"ticks\":\"\"},\"colorscale\":[[0.0,\"#0d0887\"],[0.1111111111111111,\"#46039f\"],[0.2222222222222222,\"#7201a8\"],[0.3333333333333333,\"#9c179e\"],[0.4444444444444444,\"#bd3786\"],[0.5555555555555556,\"#d8576b\"],[0.6666666666666666,\"#ed7953\"],[0.7777777777777778,\"#fb9f3a\"],[0.8888888888888888,\"#fdca26\"],[1.0,\"#f0f921\"]],\"type\":\"contour\"}],\"contourcarpet\":[{\"colorbar\":{\"outlinewidth\":0,\"ticks\":\"\"},\"type\":\"contourcarpet\"}],\"heatmap\":[{\"colorbar\":{\"outlinewidth\":0,\"ticks\":\"\"},\"colorscale\":[[0.0,\"#0d0887\"],[0.1111111111111111,\"#46039f\"],[0.2222222222222222,\"#7201a8\"],[0.3333333333333333,\"#9c179e\"],[0.4444444444444444,\"#bd3786\"],[0.5555555555555556,\"#d8576b\"],[0.6666666666666666,\"#ed7953\"],[0.7777777777777778,\"#fb9f3a\"],[0.8888888888888888,\"#fdca26\"],[1.0,\"#f0f921\"]],\"type\":\"heatmap\"}],\"heatmapgl\":[{\"colorbar\":{\"outlinewidth\":0,\"ticks\":\"\"},\"colorscale\":[[0.0,\"#0d0887\"],[0.1111111111111111,\"#46039f\"],[0.2222222222222222,\"#7201a8\"],[0.3333333333333333,\"#9c179e\"],[0.4444444444444444,\"#bd3786\"],[0.5555555555555556,\"#d8576b\"],[0.6666666666666666,\"#ed7953\"],[0.7777777777777778,\"#fb9f3a\"],[0.8888888888888888,\"#fdca26\"],[1.0,\"#f0f921\"]],\"type\":\"heatmapgl\"}],\"histogram\":[{\"marker\":{\"pattern\":{\"fillmode\":\"overlay\",\"size\":10,\"solidity\":0.2}},\"type\":\"histogram\"}],\"histogram2d\":[{\"colorbar\":{\"outlinewidth\":0,\"ticks\":\"\"},\"colorscale\":[[0.0,\"#0d0887\"],[0.1111111111111111,\"#46039f\"],[0.2222222222222222,\"#7201a8\"],[0.3333333333333333,\"#9c179e\"],[0.4444444444444444,\"#bd3786\"],[0.5555555555555556,\"#d8576b\"],[0.6666666666666666,\"#ed7953\"],[0.7777777777777778,\"#fb9f3a\"],[0.8888888888888888,\"#fdca26\"],[1.0,\"#f0f921\"]],\"type\":\"histogram2d\"}],\"histogram2dcontour\":[{\"colorbar\":{\"outlinewidth\":0,\"ticks\":\"\"},\"colorscale\":[[0.0,\"#0d0887\"],[0.1111111111111111,\"#46039f\"],[0.2222222222222222,\"#7201a8\"],[0.3333333333333333,\"#9c179e\"],[0.4444444444444444,\"#bd3786\"],[0.5555555555555556,\"#d8576b\"],[0.6666666666666666,\"#ed7953\"],[0.7777777777777778,\"#fb9f3a\"],[0.8888888888888888,\"#fdca26\"],[1.0,\"#f0f921\"]],\"type\":\"histogram2dcontour\"}],\"mesh3d\":[{\"colorbar\":{\"outlinewidth\":0,\"ticks\":\"\"},\"type\":\"mesh3d\"}],\"parcoords\":[{\"line\":{\"colorbar\":{\"outlinewidth\":0,\"ticks\":\"\"}},\"type\":\"parcoords\"}],\"pie\":[{\"automargin\":true,\"type\":\"pie\"}],\"scatter\":[{\"marker\":{\"colorbar\":{\"outlinewidth\":0,\"ticks\":\"\"}},\"type\":\"scatter\"}],\"scatter3d\":[{\"line\":{\"colorbar\":{\"outlinewidth\":0,\"ticks\":\"\"}},\"marker\":{\"colorbar\":{\"outlinewidth\":0,\"ticks\":\"\"}},\"type\":\"scatter3d\"}],\"scattercarpet\":[{\"marker\":{\"colorbar\":{\"outlinewidth\":0,\"ticks\":\"\"}},\"type\":\"scattercarpet\"}],\"scattergeo\":[{\"marker\":{\"colorbar\":{\"outlinewidth\":0,\"ticks\":\"\"}},\"type\":\"scattergeo\"}],\"scattergl\":[{\"marker\":{\"colorbar\":{\"outlinewidth\":0,\"ticks\":\"\"}},\"type\":\"scattergl\"}],\"scattermapbox\":[{\"marker\":{\"colorbar\":{\"outlinewidth\":0,\"ticks\":\"\"}},\"type\":\"scattermapbox\"}],\"scatterpolar\":[{\"marker\":{\"colorbar\":{\"outlinewidth\":0,\"ticks\":\"\"}},\"type\":\"scatterpolar\"}],\"scatterpolargl\":[{\"marker\":{\"colorbar\":{\"outlinewidth\":0,\"ticks\":\"\"}},\"type\":\"scatterpolargl\"}],\"scatterternary\":[{\"marker\":{\"colorbar\":{\"outlinewidth\":0,\"ticks\":\"\"}},\"type\":\"scatterternary\"}],\"surface\":[{\"colorbar\":{\"outlinewidth\":0,\"ticks\":\"\"},\"colorscale\":[[0.0,\"#0d0887\"],[0.1111111111111111,\"#46039f\"],[0.2222222222222222,\"#7201a8\"],[0.3333333333333333,\"#9c179e\"],[0.4444444444444444,\"#bd3786\"],[0.5555555555555556,\"#d8576b\"],[0.6666666666666666,\"#ed7953\"],[0.7777777777777778,\"#fb9f3a\"],[0.8888888888888888,\"#fdca26\"],[1.0,\"#f0f921\"]],\"type\":\"surface\"}],\"table\":[{\"cells\":{\"fill\":{\"color\":\"#EBF0F8\"},\"line\":{\"color\":\"white\"}},\"header\":{\"fill\":{\"color\":\"#C8D4E3\"},\"line\":{\"color\":\"white\"}},\"type\":\"table\"}]},\"layout\":{\"annotationdefaults\":{\"arrowcolor\":\"#2a3f5f\",\"arrowhead\":0,\"arrowwidth\":1},\"autotypenumbers\":\"strict\",\"coloraxis\":{\"colorbar\":{\"outlinewidth\":0,\"ticks\":\"\"}},\"colorscale\":{\"diverging\":[[0,\"#8e0152\"],[0.1,\"#c51b7d\"],[0.2,\"#de77ae\"],[0.3,\"#f1b6da\"],[0.4,\"#fde0ef\"],[0.5,\"#f7f7f7\"],[0.6,\"#e6f5d0\"],[0.7,\"#b8e186\"],[0.8,\"#7fbc41\"],[0.9,\"#4d9221\"],[1,\"#276419\"]],\"sequential\":[[0.0,\"#0d0887\"],[0.1111111111111111,\"#46039f\"],[0.2222222222222222,\"#7201a8\"],[0.3333333333333333,\"#9c179e\"],[0.4444444444444444,\"#bd3786\"],[0.5555555555555556,\"#d8576b\"],[0.6666666666666666,\"#ed7953\"],[0.7777777777777778,\"#fb9f3a\"],[0.8888888888888888,\"#fdca26\"],[1.0,\"#f0f921\"]],\"sequentialminus\":[[0.0,\"#0d0887\"],[0.1111111111111111,\"#46039f\"],[0.2222222222222222,\"#7201a8\"],[0.3333333333333333,\"#9c179e\"],[0.4444444444444444,\"#bd3786\"],[0.5555555555555556,\"#d8576b\"],[0.6666666666666666,\"#ed7953\"],[0.7777777777777778,\"#fb9f3a\"],[0.8888888888888888,\"#fdca26\"],[1.0,\"#f0f921\"]]},\"colorway\":[\"#636efa\",\"#EF553B\",\"#00cc96\",\"#ab63fa\",\"#FFA15A\",\"#19d3f3\",\"#FF6692\",\"#B6E880\",\"#FF97FF\",\"#FECB52\"],\"font\":{\"color\":\"#2a3f5f\"},\"geo\":{\"bgcolor\":\"white\",\"lakecolor\":\"white\",\"landcolor\":\"#E5ECF6\",\"showlakes\":true,\"showland\":true,\"subunitcolor\":\"white\"},\"hoverlabel\":{\"align\":\"left\"},\"hovermode\":\"closest\",\"mapbox\":{\"style\":\"light\"},\"paper_bgcolor\":\"white\",\"plot_bgcolor\":\"#E5ECF6\",\"polar\":{\"angularaxis\":{\"gridcolor\":\"white\",\"linecolor\":\"white\",\"ticks\":\"\"},\"bgcolor\":\"#E5ECF6\",\"radialaxis\":{\"gridcolor\":\"white\",\"linecolor\":\"white\",\"ticks\":\"\"}},\"scene\":{\"xaxis\":{\"backgroundcolor\":\"#E5ECF6\",\"gridcolor\":\"white\",\"gridwidth\":2,\"linecolor\":\"white\",\"showbackground\":true,\"ticks\":\"\",\"zerolinecolor\":\"white\"},\"yaxis\":{\"backgroundcolor\":\"#E5ECF6\",\"gridcolor\":\"white\",\"gridwidth\":2,\"linecolor\":\"white\",\"showbackground\":true,\"ticks\":\"\",\"zerolinecolor\":\"white\"},\"zaxis\":{\"backgroundcolor\":\"#E5ECF6\",\"gridcolor\":\"white\",\"gridwidth\":2,\"linecolor\":\"white\",\"showbackground\":true,\"ticks\":\"\",\"zerolinecolor\":\"white\"}},\"shapedefaults\":{\"line\":{\"color\":\"#2a3f5f\"}},\"ternary\":{\"aaxis\":{\"gridcolor\":\"white\",\"linecolor\":\"white\",\"ticks\":\"\"},\"baxis\":{\"gridcolor\":\"white\",\"linecolor\":\"white\",\"ticks\":\"\"},\"bgcolor\":\"#E5ECF6\",\"caxis\":{\"gridcolor\":\"white\",\"linecolor\":\"white\",\"ticks\":\"\"}},\"title\":{\"x\":0.05},\"xaxis\":{\"automargin\":true,\"gridcolor\":\"white\",\"linecolor\":\"white\",\"ticks\":\"\",\"title\":{\"standoff\":15},\"zerolinecolor\":\"white\",\"zerolinewidth\":2},\"yaxis\":{\"automargin\":true,\"gridcolor\":\"white\",\"linecolor\":\"white\",\"ticks\":\"\",\"title\":{\"standoff\":15},\"zerolinecolor\":\"white\",\"zerolinewidth\":2}}},\"xaxis\":{\"anchor\":\"y\",\"domain\":[0.0,1.0],\"title\":{\"text\":\"Cutoff\"}},\"yaxis\":{\"anchor\":\"x\",\"domain\":[0.0,1.0],\"title\":{\"text\":\"WoE\"}},\"legend\":{\"tracegroupgap\":0},\"margin\":{\"t\":60},\"barmode\":\"relative\"},                        {\"responsive\": true}                    ).then(function(){\n",
              "                            \n",
              "var gd = document.getElementById('db1c7636-f595-4daf-9e5f-6d8fdbd6bef3');\n",
              "var x = new MutationObserver(function (mutations, observer) {{\n",
              "        var display = window.getComputedStyle(gd).display;\n",
              "        if (!display || display === 'none') {{\n",
              "            console.log([gd, 'removed!']);\n",
              "            Plotly.purge(gd);\n",
              "            observer.disconnect();\n",
              "        }}\n",
              "}});\n",
              "\n",
              "// Listen for the removal of the full notebook cells\n",
              "var notebookContainer = gd.closest('#notebook-container');\n",
              "if (notebookContainer) {{\n",
              "    x.observe(notebookContainer, {childList: true});\n",
              "}}\n",
              "\n",
              "// Listen for the clearing of the current output cell\n",
              "var outputEl = gd.closest('.output');\n",
              "if (outputEl) {{\n",
              "    x.observe(outputEl, {childList: true});\n",
              "}}\n",
              "\n",
              "                        })                };                            </script>        </div>\n",
              "</body>\n",
              "</html>"
            ]
          },
          "metadata": {}
        }
      ]
    },
    {
      "cell_type": "code",
      "source": [
        "px.bar(woedf[woedf.Variable == \"mrv_value\"], x=\"Cutoff\", y=\"WoE\")"
      ],
      "metadata": {
        "colab": {
          "base_uri": "https://localhost:8080/",
          "height": 542
        },
        "id": "fxY2HTcdm4Ff",
        "outputId": "3a60171d-4408-482b-dbd5-7bb0749f02a4"
      },
      "execution_count": null,
      "outputs": [
        {
          "output_type": "display_data",
          "data": {
            "text/html": [
              "<html>\n",
              "<head><meta charset=\"utf-8\" /></head>\n",
              "<body>\n",
              "    <div>            <script src=\"https://cdnjs.cloudflare.com/ajax/libs/mathjax/2.7.5/MathJax.js?config=TeX-AMS-MML_SVG\"></script><script type=\"text/javascript\">if (window.MathJax) {MathJax.Hub.Config({SVG: {font: \"STIX-Web\"}});}</script>                <script type=\"text/javascript\">window.PlotlyConfig = {MathJaxConfig: 'local'};</script>\n",
              "        <script src=\"https://cdn.plot.ly/plotly-2.8.3.min.js\"></script>                <div id=\"57651439-e620-4928-9e70-5834d7e5a7a3\" class=\"plotly-graph-div\" style=\"height:525px; width:100%;\"></div>            <script type=\"text/javascript\">                                    window.PLOTLYENV=window.PLOTLYENV || {};                                    if (document.getElementById(\"57651439-e620-4928-9e70-5834d7e5a7a3\")) {                    Plotly.newPlot(                        \"57651439-e620-4928-9e70-5834d7e5a7a3\",                        [{\"alignmentgroup\":\"True\",\"hovertemplate\":\"Cutoff=%{x}<br>WoE=%{y}<extra></extra>\",\"legendgroup\":\"\",\"marker\":{\"color\":\"#636efa\",\"pattern\":{\"shape\":\"\"}},\"name\":\"\",\"offsetgroup\":\"\",\"orientation\":\"v\",\"showlegend\":false,\"textposition\":\"auto\",\"x\":[\"(-0.001, 1783.348]\",\"(1783.348, 6950.44]\",\"(6950.44, 10817.924]\",\"(10817.924, 14074.896]\",\"(14074.896, 16811.775]\",\"(16811.775, 19500.0]\",\"(19500.0, 22100.0]\",\"(22100.0, 25290.876]\",\"(25290.876, 29805.4]\",\"(29805.4, 196851.2]\"],\"xaxis\":\"x\",\"y\":[-1.6758942477718566,-0.08296627222633637,0.014221842402188606,0.20688063793498657,0.18224644008851298,0.1447286774331597,0.27896651772805664,0.21072071456970476,0.1320702805612364,-0.16683193845083222],\"yaxis\":\"y\",\"type\":\"bar\"}],                        {\"template\":{\"data\":{\"bar\":[{\"error_x\":{\"color\":\"#2a3f5f\"},\"error_y\":{\"color\":\"#2a3f5f\"},\"marker\":{\"line\":{\"color\":\"#E5ECF6\",\"width\":0.5},\"pattern\":{\"fillmode\":\"overlay\",\"size\":10,\"solidity\":0.2}},\"type\":\"bar\"}],\"barpolar\":[{\"marker\":{\"line\":{\"color\":\"#E5ECF6\",\"width\":0.5},\"pattern\":{\"fillmode\":\"overlay\",\"size\":10,\"solidity\":0.2}},\"type\":\"barpolar\"}],\"carpet\":[{\"aaxis\":{\"endlinecolor\":\"#2a3f5f\",\"gridcolor\":\"white\",\"linecolor\":\"white\",\"minorgridcolor\":\"white\",\"startlinecolor\":\"#2a3f5f\"},\"baxis\":{\"endlinecolor\":\"#2a3f5f\",\"gridcolor\":\"white\",\"linecolor\":\"white\",\"minorgridcolor\":\"white\",\"startlinecolor\":\"#2a3f5f\"},\"type\":\"carpet\"}],\"choropleth\":[{\"colorbar\":{\"outlinewidth\":0,\"ticks\":\"\"},\"type\":\"choropleth\"}],\"contour\":[{\"colorbar\":{\"outlinewidth\":0,\"ticks\":\"\"},\"colorscale\":[[0.0,\"#0d0887\"],[0.1111111111111111,\"#46039f\"],[0.2222222222222222,\"#7201a8\"],[0.3333333333333333,\"#9c179e\"],[0.4444444444444444,\"#bd3786\"],[0.5555555555555556,\"#d8576b\"],[0.6666666666666666,\"#ed7953\"],[0.7777777777777778,\"#fb9f3a\"],[0.8888888888888888,\"#fdca26\"],[1.0,\"#f0f921\"]],\"type\":\"contour\"}],\"contourcarpet\":[{\"colorbar\":{\"outlinewidth\":0,\"ticks\":\"\"},\"type\":\"contourcarpet\"}],\"heatmap\":[{\"colorbar\":{\"outlinewidth\":0,\"ticks\":\"\"},\"colorscale\":[[0.0,\"#0d0887\"],[0.1111111111111111,\"#46039f\"],[0.2222222222222222,\"#7201a8\"],[0.3333333333333333,\"#9c179e\"],[0.4444444444444444,\"#bd3786\"],[0.5555555555555556,\"#d8576b\"],[0.6666666666666666,\"#ed7953\"],[0.7777777777777778,\"#fb9f3a\"],[0.8888888888888888,\"#fdca26\"],[1.0,\"#f0f921\"]],\"type\":\"heatmap\"}],\"heatmapgl\":[{\"colorbar\":{\"outlinewidth\":0,\"ticks\":\"\"},\"colorscale\":[[0.0,\"#0d0887\"],[0.1111111111111111,\"#46039f\"],[0.2222222222222222,\"#7201a8\"],[0.3333333333333333,\"#9c179e\"],[0.4444444444444444,\"#bd3786\"],[0.5555555555555556,\"#d8576b\"],[0.6666666666666666,\"#ed7953\"],[0.7777777777777778,\"#fb9f3a\"],[0.8888888888888888,\"#fdca26\"],[1.0,\"#f0f921\"]],\"type\":\"heatmapgl\"}],\"histogram\":[{\"marker\":{\"pattern\":{\"fillmode\":\"overlay\",\"size\":10,\"solidity\":0.2}},\"type\":\"histogram\"}],\"histogram2d\":[{\"colorbar\":{\"outlinewidth\":0,\"ticks\":\"\"},\"colorscale\":[[0.0,\"#0d0887\"],[0.1111111111111111,\"#46039f\"],[0.2222222222222222,\"#7201a8\"],[0.3333333333333333,\"#9c179e\"],[0.4444444444444444,\"#bd3786\"],[0.5555555555555556,\"#d8576b\"],[0.6666666666666666,\"#ed7953\"],[0.7777777777777778,\"#fb9f3a\"],[0.8888888888888888,\"#fdca26\"],[1.0,\"#f0f921\"]],\"type\":\"histogram2d\"}],\"histogram2dcontour\":[{\"colorbar\":{\"outlinewidth\":0,\"ticks\":\"\"},\"colorscale\":[[0.0,\"#0d0887\"],[0.1111111111111111,\"#46039f\"],[0.2222222222222222,\"#7201a8\"],[0.3333333333333333,\"#9c179e\"],[0.4444444444444444,\"#bd3786\"],[0.5555555555555556,\"#d8576b\"],[0.6666666666666666,\"#ed7953\"],[0.7777777777777778,\"#fb9f3a\"],[0.8888888888888888,\"#fdca26\"],[1.0,\"#f0f921\"]],\"type\":\"histogram2dcontour\"}],\"mesh3d\":[{\"colorbar\":{\"outlinewidth\":0,\"ticks\":\"\"},\"type\":\"mesh3d\"}],\"parcoords\":[{\"line\":{\"colorbar\":{\"outlinewidth\":0,\"ticks\":\"\"}},\"type\":\"parcoords\"}],\"pie\":[{\"automargin\":true,\"type\":\"pie\"}],\"scatter\":[{\"marker\":{\"colorbar\":{\"outlinewidth\":0,\"ticks\":\"\"}},\"type\":\"scatter\"}],\"scatter3d\":[{\"line\":{\"colorbar\":{\"outlinewidth\":0,\"ticks\":\"\"}},\"marker\":{\"colorbar\":{\"outlinewidth\":0,\"ticks\":\"\"}},\"type\":\"scatter3d\"}],\"scattercarpet\":[{\"marker\":{\"colorbar\":{\"outlinewidth\":0,\"ticks\":\"\"}},\"type\":\"scattercarpet\"}],\"scattergeo\":[{\"marker\":{\"colorbar\":{\"outlinewidth\":0,\"ticks\":\"\"}},\"type\":\"scattergeo\"}],\"scattergl\":[{\"marker\":{\"colorbar\":{\"outlinewidth\":0,\"ticks\":\"\"}},\"type\":\"scattergl\"}],\"scattermapbox\":[{\"marker\":{\"colorbar\":{\"outlinewidth\":0,\"ticks\":\"\"}},\"type\":\"scattermapbox\"}],\"scatterpolar\":[{\"marker\":{\"colorbar\":{\"outlinewidth\":0,\"ticks\":\"\"}},\"type\":\"scatterpolar\"}],\"scatterpolargl\":[{\"marker\":{\"colorbar\":{\"outlinewidth\":0,\"ticks\":\"\"}},\"type\":\"scatterpolargl\"}],\"scatterternary\":[{\"marker\":{\"colorbar\":{\"outlinewidth\":0,\"ticks\":\"\"}},\"type\":\"scatterternary\"}],\"surface\":[{\"colorbar\":{\"outlinewidth\":0,\"ticks\":\"\"},\"colorscale\":[[0.0,\"#0d0887\"],[0.1111111111111111,\"#46039f\"],[0.2222222222222222,\"#7201a8\"],[0.3333333333333333,\"#9c179e\"],[0.4444444444444444,\"#bd3786\"],[0.5555555555555556,\"#d8576b\"],[0.6666666666666666,\"#ed7953\"],[0.7777777777777778,\"#fb9f3a\"],[0.8888888888888888,\"#fdca26\"],[1.0,\"#f0f921\"]],\"type\":\"surface\"}],\"table\":[{\"cells\":{\"fill\":{\"color\":\"#EBF0F8\"},\"line\":{\"color\":\"white\"}},\"header\":{\"fill\":{\"color\":\"#C8D4E3\"},\"line\":{\"color\":\"white\"}},\"type\":\"table\"}]},\"layout\":{\"annotationdefaults\":{\"arrowcolor\":\"#2a3f5f\",\"arrowhead\":0,\"arrowwidth\":1},\"autotypenumbers\":\"strict\",\"coloraxis\":{\"colorbar\":{\"outlinewidth\":0,\"ticks\":\"\"}},\"colorscale\":{\"diverging\":[[0,\"#8e0152\"],[0.1,\"#c51b7d\"],[0.2,\"#de77ae\"],[0.3,\"#f1b6da\"],[0.4,\"#fde0ef\"],[0.5,\"#f7f7f7\"],[0.6,\"#e6f5d0\"],[0.7,\"#b8e186\"],[0.8,\"#7fbc41\"],[0.9,\"#4d9221\"],[1,\"#276419\"]],\"sequential\":[[0.0,\"#0d0887\"],[0.1111111111111111,\"#46039f\"],[0.2222222222222222,\"#7201a8\"],[0.3333333333333333,\"#9c179e\"],[0.4444444444444444,\"#bd3786\"],[0.5555555555555556,\"#d8576b\"],[0.6666666666666666,\"#ed7953\"],[0.7777777777777778,\"#fb9f3a\"],[0.8888888888888888,\"#fdca26\"],[1.0,\"#f0f921\"]],\"sequentialminus\":[[0.0,\"#0d0887\"],[0.1111111111111111,\"#46039f\"],[0.2222222222222222,\"#7201a8\"],[0.3333333333333333,\"#9c179e\"],[0.4444444444444444,\"#bd3786\"],[0.5555555555555556,\"#d8576b\"],[0.6666666666666666,\"#ed7953\"],[0.7777777777777778,\"#fb9f3a\"],[0.8888888888888888,\"#fdca26\"],[1.0,\"#f0f921\"]]},\"colorway\":[\"#636efa\",\"#EF553B\",\"#00cc96\",\"#ab63fa\",\"#FFA15A\",\"#19d3f3\",\"#FF6692\",\"#B6E880\",\"#FF97FF\",\"#FECB52\"],\"font\":{\"color\":\"#2a3f5f\"},\"geo\":{\"bgcolor\":\"white\",\"lakecolor\":\"white\",\"landcolor\":\"#E5ECF6\",\"showlakes\":true,\"showland\":true,\"subunitcolor\":\"white\"},\"hoverlabel\":{\"align\":\"left\"},\"hovermode\":\"closest\",\"mapbox\":{\"style\":\"light\"},\"paper_bgcolor\":\"white\",\"plot_bgcolor\":\"#E5ECF6\",\"polar\":{\"angularaxis\":{\"gridcolor\":\"white\",\"linecolor\":\"white\",\"ticks\":\"\"},\"bgcolor\":\"#E5ECF6\",\"radialaxis\":{\"gridcolor\":\"white\",\"linecolor\":\"white\",\"ticks\":\"\"}},\"scene\":{\"xaxis\":{\"backgroundcolor\":\"#E5ECF6\",\"gridcolor\":\"white\",\"gridwidth\":2,\"linecolor\":\"white\",\"showbackground\":true,\"ticks\":\"\",\"zerolinecolor\":\"white\"},\"yaxis\":{\"backgroundcolor\":\"#E5ECF6\",\"gridcolor\":\"white\",\"gridwidth\":2,\"linecolor\":\"white\",\"showbackground\":true,\"ticks\":\"\",\"zerolinecolor\":\"white\"},\"zaxis\":{\"backgroundcolor\":\"#E5ECF6\",\"gridcolor\":\"white\",\"gridwidth\":2,\"linecolor\":\"white\",\"showbackground\":true,\"ticks\":\"\",\"zerolinecolor\":\"white\"}},\"shapedefaults\":{\"line\":{\"color\":\"#2a3f5f\"}},\"ternary\":{\"aaxis\":{\"gridcolor\":\"white\",\"linecolor\":\"white\",\"ticks\":\"\"},\"baxis\":{\"gridcolor\":\"white\",\"linecolor\":\"white\",\"ticks\":\"\"},\"bgcolor\":\"#E5ECF6\",\"caxis\":{\"gridcolor\":\"white\",\"linecolor\":\"white\",\"ticks\":\"\"}},\"title\":{\"x\":0.05},\"xaxis\":{\"automargin\":true,\"gridcolor\":\"white\",\"linecolor\":\"white\",\"ticks\":\"\",\"title\":{\"standoff\":15},\"zerolinecolor\":\"white\",\"zerolinewidth\":2},\"yaxis\":{\"automargin\":true,\"gridcolor\":\"white\",\"linecolor\":\"white\",\"ticks\":\"\",\"title\":{\"standoff\":15},\"zerolinecolor\":\"white\",\"zerolinewidth\":2}}},\"xaxis\":{\"anchor\":\"y\",\"domain\":[0.0,1.0],\"title\":{\"text\":\"Cutoff\"}},\"yaxis\":{\"anchor\":\"x\",\"domain\":[0.0,1.0],\"title\":{\"text\":\"WoE\"}},\"legend\":{\"tracegroupgap\":0},\"margin\":{\"t\":60},\"barmode\":\"relative\"},                        {\"responsive\": true}                    ).then(function(){\n",
              "                            \n",
              "var gd = document.getElementById('57651439-e620-4928-9e70-5834d7e5a7a3');\n",
              "var x = new MutationObserver(function (mutations, observer) {{\n",
              "        var display = window.getComputedStyle(gd).display;\n",
              "        if (!display || display === 'none') {{\n",
              "            console.log([gd, 'removed!']);\n",
              "            Plotly.purge(gd);\n",
              "            observer.disconnect();\n",
              "        }}\n",
              "}});\n",
              "\n",
              "// Listen for the removal of the full notebook cells\n",
              "var notebookContainer = gd.closest('#notebook-container');\n",
              "if (notebookContainer) {{\n",
              "    x.observe(notebookContainer, {childList: true});\n",
              "}}\n",
              "\n",
              "// Listen for the clearing of the current output cell\n",
              "var outputEl = gd.closest('.output');\n",
              "if (outputEl) {{\n",
              "    x.observe(outputEl, {childList: true});\n",
              "}}\n",
              "\n",
              "                        })                };                            </script>        </div>\n",
              "</body>\n",
              "</html>"
            ]
          },
          "metadata": {}
        }
      ]
    },
    {
      "cell_type": "code",
      "source": [
        "px.bar(woedf[woedf.Variable == \"cidade\"].sort_values(by=\"WoE\", ascending=False), x=\"Cutoff\", y=\"WoE\")"
      ],
      "metadata": {
        "colab": {
          "base_uri": "https://localhost:8080/",
          "height": 542
        },
        "id": "FglqC7H5rYpC",
        "outputId": "57f3fa89-68d3-4468-930a-eb0cf9242cf3"
      },
      "execution_count": null,
      "outputs": [
        {
          "output_type": "display_data",
          "data": {
            "text/html": [
              "<html>\n",
              "<head><meta charset=\"utf-8\" /></head>\n",
              "<body>\n",
              "    <div>            <script src=\"https://cdnjs.cloudflare.com/ajax/libs/mathjax/2.7.5/MathJax.js?config=TeX-AMS-MML_SVG\"></script><script type=\"text/javascript\">if (window.MathJax) {MathJax.Hub.Config({SVG: {font: \"STIX-Web\"}});}</script>                <script type=\"text/javascript\">window.PlotlyConfig = {MathJaxConfig: 'local'};</script>\n",
              "        <script src=\"https://cdn.plot.ly/plotly-2.8.3.min.js\"></script>                <div id=\"8b850bc0-3b2b-4322-b17a-ee68c623db13\" class=\"plotly-graph-div\" style=\"height:525px; width:100%;\"></div>            <script type=\"text/javascript\">                                    window.PLOTLYENV=window.PLOTLYENV || {};                                    if (document.getElementById(\"8b850bc0-3b2b-4322-b17a-ee68c623db13\")) {                    Plotly.newPlot(                        \"8b850bc0-3b2b-4322-b17a-ee68c623db13\",                        [{\"alignmentgroup\":\"True\",\"hovertemplate\":\"Cutoff=%{x}<br>WoE=%{y}<extra></extra>\",\"legendgroup\":\"\",\"marker\":{\"color\":\"#636efa\",\"pattern\":{\"shape\":\"\"}},\"name\":\"\",\"offsetgroup\":\"\",\"orientation\":\"v\",\"showlegend\":false,\"textposition\":\"auto\",\"x\":[\"Carpina\",\"Agudos\",\"Nova Santa Rita\",\"Santos\",\"S\\u00e3o Gon\\u00e7alo dos Campos\",\"Cristina\",\"Bayeux\",\"S\\u00e3o Br\\u00e1s\",\"Barueri\",\"Pilar do Sul\",\"Pereira Barreto\",\"Delta\",\"Domingos Martins\",\"Arroio dos Ratos\",\"Barra Mansa\",\"Crici\\u00fama\",\"S\\u00e3o Jos\\u00e9 da Coroa Grande\",\"Duartina\",\"Patos de Minas\",\"Para\\u00edso do Tocantins\",\"Embu das Artes\",\"Esperan\\u00e7a\",\"Cachoeira\",\"Bela Vista do Para\\u00edso\",\"Corea\\u00fa\",\"Corn\\u00e9lio Proc\\u00f3pio\",\"Quebrangulo\",\"Cambori\\u00fa\",\"Cabedelo\",\"Campestre\",\"B\\u00e1lsamo\",\"Ribas do Rio Pardo\",\"Riacho de Santo Ant\\u00f4nio\",\"Riacho das Almas\",\"Capim Grosso\",\"Ivoti\",\"Arealva\",\"Blumenau\",\"Prad\\u00f3polis\",\"Cedral\",\"Po\\u00e7\\u00e3o\",\"Coqueiro Seco\",\"Cora\\u00e7\\u00e3o de Jesus\",\"Sert\\u00e3ozinho\",\"Cordeiro\",\"Ariranha\",\"Santa B\\u00e1rbara\",\"Lu\\u00eds Ant\\u00f4nio\",\"Lagoa dos Patos\",\"Tr\\u00eas Marias\",\"Terra de Areia\",\"Teixeira de Freitas\",\"Ibir\\u00e1\",\"Tup\\u00e3\",\"Ubatuba\",\"Mauriti\",\"Miguel\\u00f3polis\",\"Mirassol\\u00e2ndia\",\"Taiobeiras\",\"J\\u00falio Mesquita\",\"Abadia\",\"Guarabira\",\"Alum\\u00ednio\",\"Valentim Gentil\",\"Itajobi\",\"Itapeva\",\"Jangada\",\"Francisco S\\u00e1\",\"Ara\\u00e7agi\",\"Jaguaria\\u00edva\",\"Orl\\u00e2ndia\",\"Imbituba\",\"It\\u00fa\",\"Bady Bassitt\",\"Trememb\\u00e9\",\"Ipor\\u00e1\",\"Guapia\\u00e7u\",\"Francisco Morato\",\"Itu\",\"Gar\\u00e7a\",\"Janu\\u00e1ria\",\"Rio Grande da Serra\",\"Jataizinho\",\"Gavi\\u00e3o Peixoto\",\"Patroc\\u00ednio Paulista\",\"Capivari\",\"Quissam\\u00e3\",\"Paulo Afonso\",\"Itagua\\u00ed\",\"Guararapes\",\"Maric\\u00e1\",\"Maranguape\",\"Mairinque\",\"Est\\u00e2ncia Velha\",\"Potirendaba\",\"Linhares\",\"Iracem\\u00e1polis\",\"Fazenda Rio Grande\",\"Ca\\u00e7apava\",\"S\\u00e3o Jo\\u00e3o do Para\\u00edso\",\"Vera Cruz\",\"Atalaia\",\"Barra de S\\u00e3o Jo\\u00e3o\",\"Tanabi\",\"Aracruz\",\"Serop\\u00e9dica\",\"Tr\\u00eas Lagoas\",\"Luzi\\u00e2nia\",\"Jo\\u00e3o Pessoa\",\"Vila Velha\",\"Valpara\\u00edso de Goi\\u00e1s\",\"Ibat\\u00e9\",\"Palho\\u00e7a\",\"Nova Odessa\",\"Arapongas\",\"Caxias do Sul\",\"S\\u00e3o Leopoldo\",\"Campina Grande\",\"Campos do Jord\\u00e3o\",\"Sapucaia do Sul\",\"Cajamar\",\"S\\u00e3o Jos\\u00e9 do Rio Preto\",\"Cama\\u00e7ari\",\"S\\u00e3o Jo\\u00e3o de Meriti\",\"Montes Claros\",\"Tabira\",\"Nobres\",\"Murici\",\"Muria\\u00e9\",\"\\u00c1guas de Santa B\\u00e1rbara\",\"Morro Agudo\",\"Mogi Mirim\",\"Monte Mor\",\"Milagres\",\"Nova Granada\",\"Montenegro\",\"Jaguapit\\u00e3\",\"Taia\\u00e7u\",\"Jaraguari\",\"Nova Lima\",\"Tanha\\u00e7u\",\"S\\u00e3o Louren\\u00e7o da Mata\",\"Palestina\",\"Pacuj\\u00e1\",\"Ouro Verde\",\"Ouri\\u00e7angas\",\"Oscar Bressane\",\"Jaboticatubas\",\"S\\u00e3o Paulo do Potengi\",\"Orindi\\u00fava\",\"S\\u00e3o Pedro\",\"S\\u00e3o Pedro da Aldeia\",\"Ocau\\u00e7u\",\"Jacar\\u00e9\",\"Novais\",\"S\\u00e3o Rom\\u00e3o\",\"S\\u00e3o Roque\",\"Tabatinga\",\"Mesquita\",\"Marechal Deodoro\",\"Martin\\u00f3polis\",\"Juba\\u00ed\",\"Laranjal Paulista\",\"Lajeado\",\"Jandaia do Sul\",\"Uni\\u00e3o dos Palmares\",\"Ura\\u00ed\",\"Lagoa Salgada\",\"Urup\\u00eas\",\"Warta\",\"Triunfo\",\"Jequi\\u00e9\",\"Jequita\\u00ed\",\"Vargem Grande Paulista\",\"Jauru\",\"Jata\\u00faba\",\"Jata\\u00ed\",\"Japeri\",\"Leopoldina\",\"Lins\",\"Tapera\",\"Tiangu\\u00e1\",\"Marialva\",\"Taquaritinga\",\"Manhumirim\",\"\\u00c1guas Lindas de Goi\\u00e1s\",\"Manhua\\u00e7u\",\"Mandaguari\",\"Tarabai\",\"Tocos\",\"Livramento de Nossa Senhora\",\"Macei\\u00f3\",\"Macaubal\",\"Macatuba\",\"Tomazina\",\"Jales\",\"Touros\",\"Trindade\",\"Mairipor\\u00e3\",\"Santa Helena\",\"Palma\",\"Palmeira dos \\u00cdndios\",\"Recreio\",\"Santo Ant\\u00f4nio do Para\\u00edso\",\"Santo Expedito\",\"Raposos\",\"Rancho Alegre\",\"Rancharia\",\"Rafard\",\"Santos Dumont\",\"Quintana\",\"Sap\\u00e9\",\"Quat\\u00e1\",\"Quatro Barras\",\"Putinga\",\"Pureza\",\"Prudent\\u00f3polis\",\"Sarapu\\u00ed\",\"Satuba\",\"Senador Canedo\",\"Po\\u00e7o Verde\",\"Reden\\u00e7\\u00e3o da Serra\",\"Regente Feij\\u00f3\",\"Santo Ant\\u00f4nio do Leverger\",\"Rondon\\u00f3polis\",\"Santa Cruz do Capibaribe\",\"Santa Cruz\",\"Santa Helena de Minas\",\"Santa Branca\",\"Saltinho\",\"Sacramento\",\"Ros\\u00e1rio Oeste\",\"Santo Anast\\u00e1cio\",\"Rio Real\",\"Santo Ant\\u00f4nio do Descoberto\",\"Santo Ant\\u00f4nio\",\"Rio Preto\",\"Santo Ant\\u00f4nio da Patrulha\",\"Rin\\u00f3polis\",\"Rinc\\u00e3o\",\"Santo Ant\\u00f4nio do Aracangu\\u00e1\",\"Riach\\u00e3o do Jacu\\u00edpe\",\"Riach\\u00e3o do Dantas\",\"Po\\u00e7o Redondo\",\"Serra Azul\",\"Porto Real\",\"Patroc\\u00ednio\",\"S\\u00e3o Fid\\u00e9lis\",\"S\\u00e3o Francisco de Itabapoana\",\"Pelotas\",\"Pedro Alexandre\",\"Pedregulho\",\"Pedras de Maria da Cruz\",\"Paulo Lopes\",\"S\\u00e3o Gon\\u00e7alo do Amarante\",\"S\\u00e3o Jo\\u00e3o da Barra\",\"Pesqueira\",\"S\\u00e3o Jo\\u00e3o da Lagoa\",\"Parna\\u00edba\",\"Paranava\\u00ed\",\"Paranapu\\u00e3\",\"Santa Cruz do Rio Pardo\",\"Paraibuna\",\"Paragua\\u00e7u Paulista\",\"Paracatu\",\"Pereiras\",\"S\\u00e3o Crist\\u00f3v\\u00e3o\",\"Porto Feliz\",\"Sertan\\u00f3polis\",\"Porto Calvo\",\"Pocon\\u00e9\",\"Planura\",\"Planalto\",\"Pira\\u00ed do Sul\",\"Piratininga\",\"Pirassununga\",\"Serra Dourada\",\"Sidrol\\u00e2ndia\",\"Pinhal da Serra\",\"Sim\\u00e3o Dias\",\"Siriri\",\"Piraquara\",\"Pirapozinho\",\"Pirapetinga\",\"Piraju\\u00ed\",\"Sol\\u00e2nea\",\"Sorriso\",\"4\\u00ba Centen\\u00e1rio\",\"\\u00c1lvaro de Carvalho\",\"Goianira\",\"Dias Tavares\",\"Extremoz\",\"Bento Gon\\u00e7alves\",\"Bertioga\",\"Esp\\u00edrito Santo do Pinhal\",\"Esp\\u00edrito Santo\",\"Espinosa\",\"Esmeraldas\",\"Bezerros\",\"Edealina\",\"Dumont\",\"Duas Estradas\",\"Dracena\",\"Dom\\u00e9lia\",\"Dois Vizinhos\",\"Biritiba-Mirim\",\"Bel\\u00e9m do Brejo do Cruz\",\"Flores da Cunha\",\"Belo Jardim\",\"Gon\\u00e7alves\",\"Guarapiranga\",\"Guarapari\",\"Guaragi\",\"Guamiranga\",\"Guamar\\u00e9\",\"Balne\\u00e1rio Barra do Sul\",\"Barbacena\",\"Foz do Igua\\u00e7u\",\"Barra de S\\u00e3o Miguel\",\"Barra do Bugres\",\"Barra do Ribeiro\",\"Goianinha\",\"Fund\\u00e3o\",\"Bebedouro\",\"Dois C\\u00f3rregos\",\"Dias D'\\u00c1vila\",\"Avar\\u00e9\",\"Boa Vista\",\"Claro dos Po\\u00e7\\u00f5es\",\"Caiabu\",\"Caic\\u00f3\",\"Caieiras\",\"Centen\\u00e1rio do Sul\",\"Cear\\u00e1-Mirim\",\"Cajazeiras\",\"Caucaia\",\"Cambuci\",\"Catal\\u00e3o\",\"Campina Grande do Sul\",\"Carnaubais\",\"Carira\",\"Capetinga\",\"Can\\u00e1polis\",\"Colina\",\"Colniza\",\"Caetit\\u00e9\",\"Cabre\\u00fava\",\"Bofete\",\"Bonfim Paulista\",\"C\\u00e1ssia\",\"Bra\\u00fana\",\"Brodowski\",\"Brumado\",\"Cabr\\u00e1lia Paulista\",\"Concei\\u00e7\\u00e3o da Barra\",\"Corumb\\u00e1\",\"Coroados\",\"Contendas do Sincor\\u00e1\",\"Conselheiro Lafaiete\",\"Conchal\",\"Concei\\u00e7\\u00e3o da Feira\",\"A\\u00e7u\",\"Campo Novo do Parecis\",\"Ara\\u00e7a\\u00ed\",\"Anag\\u00e9\",\"Itabirito\",\"Itabira\",\"Amontada\",\"Itaberaba\",\"Itabapoana\",\"Itabaianinha\",\"Am\\u00e9lia Rodrigues\",\"Ipojuca\",\"Angatuba\",\"Ipigu\\u00e1\",\"Ipecaet\\u00e1\",\"Ananindeua\",\"Andir\\u00e1\",\"Imbituva\",\"Andradina\",\"Ibi\\u00fana\",\"Itabuna\",\"Amamba\\u00ed\",\"Itaitinga\",\"Alexandria\",\"Iturama\",\"Itupeva\",\"Ituiutaba\",\"Itirapina\",\"Ita\\u00ed\",\"Adustina\",\"Itapu\\u00ed\",\"Itapu\\u00e3\",\"Itaporanga\",\"Itapira\",\"Itapetininga\",\"Itaperuna\",\"Itaocara\",\"Itamonte\",\"Alagoinha\",\"Ibitinga\",\"Itabaiana\",\"Aquidauana\",\"Angelim\",\"Holambra\",\"Guariba\",\"Apucarana\",\"Araruna\",\"Guar\\u00e1\",\"Gua\\u00edra\",\"Aramina\",\"Humildes\",\"Hidrol\\u00e2ndia\",\"Colombo\",\"Franca\",\"Ara\\u00e7atuba\",\"Betim\",\"V\\u00e1rzea Grande\",\"Mirassol\",\"Uberl\\u00e2ndia\",\"Taubat\\u00e9\",\"Cuiab\\u00e1\",\"Cariacica\",\"Sarandi\",\"Ribeir\\u00e3o Preto\",\"Piracicaba\",\"Mar\\u00edlia\",\"Viam\\u00e3o\",\"Alvorada\",\"Vit\\u00f3ria\",\"Bauru\",\"Campo Grande\",\"Esteio\",\"Sim\\u00f5es Filho\",\"Campos dos Goytacazes\",\"Aparecida de Goi\\u00e2nia\",\"Arauc\\u00e1ria\",\"Feira de Santana\",\"Vespasiano\",\"Sorocaba\",\"Rio das Ostras\",\"Pindamonhangaba\",\"Serra\",\"PARNAMIRIM\",\"V\\u00e1rzea Paulista\",\"Itatiaia\",\"Abrantes\",\"Ibipor\\u00e3\",\"Carapicu\\u00edba\",\"Itabora\\u00ed\",\"Aparecida\",\"Rio Claro\",\"Pomp\\u00e9ia\",\"Cotia\",\"Santa B\\u00e1rbara do Oeste\",\"Barra Bonita\",\"Concei\\u00e7\\u00e3o de Macabu\",\"Nil\\u00f3polis\",\"Araguari\",\"S\\u00e3o Jos\\u00e9 dos Campos\",\"Recife\",\"Natal\",\"S\\u00e3o Jos\\u00e9\",\"UBERABA\",\"Suzano\",\"Ribeir\\u00e3o das Neves\",\"Aracaju\",\"Florian\\u00f3polis\",\"Sumar\\u00e9\",\"Campo Limpo Paulista\",\"Sete Lagoas\",\"Cachoeirinha\",\"Jaboat\\u00e3o dos Guararapes\",\"Santa B\\u00e1rbara D'Oeste\",\"S\\u00e3o Lu\\u00eds\",\"Joinville\",\"CONTAGEM\",\"Guarulhos\",\"Maca\\u00e9\",\"Caruaru\",\"Bras\\u00edlia\",\"Americana\",\"Nova Europa\",\"Bonito\",\"Tatu\\u00ed\",\"Boituva\",\"C\\u00e2ndido Sales\",\"Santo Estev\\u00e3o\",\"Candeias\",\"Bilac\",\"Ibateguara\",\"Petr\\u00f3polis\",\"Pindorama\",\"Tobias Barreto\",\"Aquiraz\",\"Taguatinga\",\"Dourados\",\"Barra dos Coqueiros\",\"Tabo\\u00e3o da Serra\",\"Santana de Parna\\u00edba\",\"Estiva Gerbi\",\"Pai\\u00e7andu\",\"Mirand\\u00f3polis\",\"Arax\\u00e1\",\"Ol\\u00edmpia\",\"S\\u00e3o Francisco do Sul\",\"Ara\\u00e7oiaba da Serra\",\"Arraial do Cabo\",\"Guararema\",\"Nossa Senhora do Socorro\",\"S\\u00e3o Jos\\u00e9 de Ribamar\",\"Angra dos Reis\",\"Lagoinha\",\"Toritama\",\"Itaja\\u00ed\",\"Jos\\u00e9 Bonif\\u00e1cio\",\"Santa Isabel\",\"Jardin\\u00f3polis\",\"Vinhedo\",\"Votuporanga\",\"Rio Largo\",\"Itatiba\",\"Itatinga\",\"It\\u00e1polis\",\"Carapebus\",\"Caraguatatuba\",\"Acorizal\",\"Recife - Inativar\",\"Aba\\u00edra\",\"Registro\",\"Varginha\",\"S\\u00e3o Joaquim da Barra\",\"Cidade Ocidental\",\"Louveira\",\"Len\\u00e7\\u00f3is Paulista\",\"Charqueada\",\"Caet\\u00e9\",\"Port\\u00e3o\",\"Uchoa\",\"Maracana\\u00fa\",\"Camb\\u00e9\",\"Salvador\",\"S\\u00e3o Jos\\u00e9 dos Pinhais\",\"Birig\\u00fci\",\"Araras\",\"Goi\\u00e2nia\",\"Belo Horizonte\",\"Juiz de Fora\",\"Gravata\\u00ed\",\"Mau\\u00e1\",\"Jacare\\u00ed\",\"Araraquara\",\"Londrina\",\"Votorantim\",\"Curitiba\",\"Lagoa Santa\",\"Fortaleza\",\"S\\u00e3o Gon\\u00e7alo\",\"Rio de Janeiro\",\"Diadema\",\"Sabar\\u00e1\",\"Pinhais\",\"Resende\",\"DUQUE DE CAXIAS\",\"S\\u00e3o Paulo\",\"Lauro de Freitas\",\"Porto Alegre\",\"Campinas\",\"Catanduva\",\"An\\u00e1polis\",\"Manga\",\"Ibirit\\u00e9\",\"Mag\\u00e9\",\"Am\\u00e9rico Brasiliense\",\"Salto de Pirapora\",\"Pederneiras\",\"Alagoinhas\",\"Rol\\u00e2ndia\",\"Itaquaquecetuba\",\"Volta Redonda\",\"Cataguases\",\"Cascavel\",\"Campo Largo\",\"Mata de S\\u00e3o Jo\\u00e3o\",\"Cabo Frio\",\"Novo Gama\",\"Paul\\u00ednia\",\"Parana\\u00edba\",\"S\\u00e3o Manuel\",\"Eldorado do Sul\",\"Franco da Rocha\",\"Araruama\",\"Niter\\u00f3i\",\"Canoas\",\"Salto\",\"Cravinhos\",\"Mogi Gua\\u00e7u\",\"Palmas\",\"Santa Luzia\",\"S\\u00e3o Carlos\",\"Guaratinguet\\u00e1\",\"Camaragibe\",\"Valpara\\u00edso\",\"Olinda\",\"Boa Esperan\\u00e7a do Sul\",\"Ribeir\\u00e3o Pires\",\"Nova Friburgo\",\"Valinhos\",\"Novo Hamburgo\",\"Vit\\u00f3ria da Conquista\",\"Mogi das Cruzes\",\"Belford Roxo\",\"Indaiatuba\",\"Aruj\\u00e1\",\"Hortol\\u00e2ndia\",\"Almirante Tamandar\\u00e9\",\"S\\u00e3o Caetano do Sul\",\"Campo Bom\",\"Santo Andr\\u00e9\",\"Botucatu\",\"Goitacazes\",\"Ferraz de Vasconcelos\",\"Barretos\",\"Rio das Pedras\",\"Gua\\u00edba\",\"Ponta Grossa\",\"Nova Igua\\u00e7u\",\"Maring\\u00e1\",\"S\\u00e3o Bernardo do Campo\",\"Limeira\",\"Jundia\\u00ed\",\"Teresina\",\"Po\\u00e1\",\"Presidente Prudente\",\"Viana\",\"Osasco\",\"Mat\\u00e3o\"],\"xaxis\":\"x\",\"y\":[2.6285865594270756,2.6285865594270756,2.6285865594270756,2.6285865594270756,1.9354393788671305,1.9354393788671305,1.9354393788671305,1.9354393788671305,1.9354393788671305,1.9354393788671305,1.9354393788671305,1.9354393788671305,1.9354393788671305,1.9354393788671305,1.9354393788671305,1.9354393788671305,1.9354393788671305,1.9354393788671305,1.9354393788671305,1.9354393788671305,1.9354393788671305,1.9354393788671305,1.9354393788671305,1.9354393788671305,1.9354393788671305,1.9354393788671305,1.9354393788671305,1.9354393788671305,1.9354393788671305,1.9354393788671305,1.9354393788671305,1.9354393788671305,1.9354393788671305,1.9354393788671305,1.9354393788671305,1.9354393788671305,1.9354393788671305,1.9354393788671305,1.9354393788671305,1.9354393788671305,1.9354393788671305,1.9354393788671305,1.9354393788671305,1.9354393788671305,1.9354393788671305,1.9354393788671305,1.9354393788671305,1.9354393788671305,1.9354393788671305,1.9354393788671305,1.9354393788671305,1.9354393788671305,1.9354393788671305,1.9354393788671305,1.9354393788671305,1.9354393788671305,1.9354393788671305,1.9354393788671305,1.9354393788671305,1.9354393788671305,1.9354393788671305,1.9354393788671305,1.9354393788671305,1.9354393788671305,1.9354393788671305,1.9354393788671305,1.9354393788671305,1.9354393788671305,1.9354393788671305,1.9354393788671305,1.9354393788671305,1.9354393788671305,1.8444676006614038,1.6477573064153495,1.5299742707589659,1.242292198307185,1.242292198307185,1.242292198307185,1.242292198307185,1.242292198307185,1.242292198307185,1.242292198307185,1.242292198307185,1.242292198307185,1.242292198307185,1.242292198307185,1.242292198307185,1.242292198307185,1.242292198307185,1.242292198307185,1.242292198307185,1.242292198307185,1.242292198307185,1.242292198307185,1.242292198307185,1.242292198307185,1.242292198307185,1.242292198307185,1.242292198307185,1.242292198307185,1.242292198307185,1.242292198307185,1.242292198307185,1.242292198307185,1.242292198307185,1.242292198307185,1.242292198307185,1.2422921983071848,1.073215868263251,1.0599706415132304,1.001130141490297,0.9546101258554042,0.9546101258554042,0.8368270901990206,0.8368270901990206,0.8368270901990206,0.8368270901990206,0.7903070745641279,0.7314665745411942,0.7314665745411942,0.7116639472450146,0.6977142877363028,0.6545055334050659,0.6545055334050659,0.5693477250647591,0.5491450177472398,0.5491450177472398,0.5491450177472398,0.5491450177472398,0.5491450177472398,0.5491450177472398,0.5491450177472398,0.5491450177472398,0.5491450177472398,0.5491450177472398,0.5491450177472398,0.5491450177472398,0.5491450177472398,0.5491450177472398,0.5491450177472398,0.5491450177472398,0.5491450177472398,0.5491450177472398,0.5491450177472398,0.5491450177472398,0.5491450177472398,0.5491450177472398,0.5491450177472398,0.5491450177472398,0.5491450177472398,0.5491450177472398,0.5491450177472398,0.5491450177472398,0.5491450177472398,0.5491450177472398,0.5491450177472398,0.5491450177472398,0.5491450177472398,0.5491450177472398,0.5491450177472398,0.5491450177472398,0.5491450177472398,0.5491450177472398,0.5491450177472398,0.5491450177472398,0.5491450177472398,0.5491450177472398,0.5491450177472398,0.5491450177472398,0.5491450177472398,0.5491450177472398,0.5491450177472398,0.5491450177472398,0.5491450177472398,0.5491450177472398,0.5491450177472398,0.5491450177472398,0.5491450177472398,0.5491450177472398,0.5491450177472398,0.5491450177472398,0.5491450177472398,0.5491450177472398,0.5491450177472398,0.5491450177472398,0.5491450177472398,0.5491450177472398,0.5491450177472398,0.5491450177472398,0.5491450177472398,0.5491450177472398,0.5491450177472398,0.5491450177472398,0.5491450177472398,0.5491450177472398,0.5491450177472398,0.5491450177472398,0.5491450177472398,0.5491450177472398,0.5491450177472398,0.5491450177472398,0.5491450177472398,0.5491450177472398,0.5491450177472398,0.5491450177472398,0.5491450177472398,0.5491450177472398,0.5491450177472398,0.5491450177472398,0.5491450177472398,0.5491450177472398,0.5491450177472398,0.5491450177472398,0.5491450177472398,0.5491450177472398,0.5491450177472398,0.5491450177472398,0.5491450177472398,0.5491450177472398,0.5491450177472398,0.5491450177472398,0.5491450177472398,0.5491450177472398,0.5491450177472398,0.5491450177472398,0.5491450177472398,0.5491450177472398,0.5491450177472398,0.5491450177472398,0.5491450177472398,0.5491450177472398,0.5491450177472398,0.5491450177472398,0.5491450177472398,0.5491450177472398,0.5491450177472398,0.5491450177472398,0.5491450177472398,0.5491450177472398,0.5491450177472398,0.5491450177472398,0.5491450177472398,0.5491450177472398,0.5491450177472398,0.5491450177472398,0.5491450177472398,0.5491450177472398,0.5491450177472398,0.5491450177472398,0.5491450177472398,0.5491450177472398,0.5491450177472398,0.5491450177472398,0.5491450177472398,0.5491450177472398,0.5491450177472398,0.5491450177472398,0.5491450177472398,0.5491450177472398,0.5491450177472398,0.5491450177472398,0.5491450177472398,0.5491450177472398,0.5491450177472398,0.5491450177472398,0.5491450177472398,0.5491450177472398,0.5491450177472398,0.5491450177472398,0.5491450177472398,0.5491450177472398,0.5491450177472398,0.5491450177472398,0.5491450177472398,0.5491450177472398,0.5491450177472398,0.5491450177472398,0.5491450177472398,0.5491450177472398,0.5491450177472398,0.5491450177472398,0.5491450177472398,0.5491450177472398,0.5491450177472398,0.5491450177472398,0.5491450177472398,0.5491450177472398,0.5491450177472398,0.5491450177472398,0.5491450177472398,0.5491450177472398,0.5491450177472398,0.5491450177472398,0.5491450177472398,0.5491450177472398,0.5491450177472398,0.5491450177472398,0.5491450177472398,0.5491450177472398,0.5491450177472398,0.5491450177472398,0.5491450177472398,0.5491450177472398,0.5491450177472398,0.5491450177472398,0.5491450177472398,0.5491450177472398,0.5491450177472398,0.5491450177472398,0.5491450177472398,0.5491450177472398,0.5491450177472398,0.5491450177472398,0.5491450177472398,0.5491450177472398,0.5491450177472398,0.5491450177472398,0.5491450177472398,0.5491450177472398,0.5491450177472398,0.5491450177472398,0.5491450177472398,0.5491450177472398,0.5491450177472398,0.5491450177472398,0.5491450177472398,0.5491450177472398,0.5491450177472398,0.5491450177472398,0.5491450177472398,0.5491450177472398,0.5491450177472398,0.5491450177472398,0.5491450177472398,0.5491450177472398,0.5491450177472398,0.5491450177472398,0.5491450177472398,0.5491450177472398,0.5491450177472398,0.5491450177472398,0.5491450177472398,0.5491450177472398,0.5491450177472398,0.5491450177472398,0.5491450177472398,0.5491450177472398,0.5491450177472398,0.5491450177472398,0.5491450177472398,0.5491450177472398,0.5491450177472398,0.5491450177472398,0.5491450177472398,0.5491450177472398,0.5491450177472398,0.5491450177472398,0.5491450177472398,0.5491450177472398,0.5491450177472398,0.5491450177472398,0.5491450177472398,0.5491450177472398,0.5491450177472398,0.5491450177472398,0.5491450177472398,0.5491450177472398,0.5491450177472398,0.5491450177472398,0.5491450177472398,0.5491450177472398,0.5491450177472398,0.5491450177472398,0.5491450177472398,0.5491450177472398,0.5491450177472398,0.5491450177472398,0.5491450177472398,0.5491450177472398,0.5491450177472398,0.5491450177472398,0.5491450177472398,0.5491450177472398,0.5491450177472398,0.5491450177472398,0.5491450177472398,0.5491450177472398,0.5491450177472398,0.5491450177472398,0.5491450177472398,0.5491450177472398,0.5491450177472398,0.5491450177472398,0.5491450177472398,0.5491450177472398,0.5491450177472398,0.5491450177472398,0.5491450177472398,0.5491450177472398,0.5491450177472398,0.5491450177472398,0.5491450177472398,0.5491450177472398,0.5491450177472398,0.5491450177472398,0.5491450177472398,0.5491450177472398,0.5491450177472398,0.5491450177472398,0.5491450177472398,0.5491450177472398,0.5491450177472398,0.5491450177472398,0.5491450177472397,0.5300968227765452,0.5224767706650784,0.4885203959308049,0.46910231007370323,0.46910231007370323,0.42303355798437453,0.4213116462373549,0.4173757401161164,0.4060441741065665,0.39499433791998145,0.38641059422859003,0.36901885151672076,0.3645737412192697,0.3549890033062823,0.32600146643303,0.32600146643302985,0.3195705761027396,0.29569611693770104,0.2867807532797487,0.2614629452954588,0.25834281795921515,0.25368080485340394,0.2437633681960579,0.21701118272462505,0.21267278112602675,0.2053734786444153,0.1963236431244974,0.19497320402662577,0.17901927608438398,0.14367990963907545,0.14367990963907526,0.14367990963907526,0.14367990963907526,0.14367990963907526,0.14367990963907526,0.14367990963907526,0.14367990963907526,0.14367990963907526,0.14367990963907526,0.14367990963907526,0.14367990963907526,0.14367990963907526,0.14367990963907526,0.14367990963907526,0.14367990963907526,0.13752604406469712,0.13420116568453147,0.1173626013217019,0.08305528782264064,0.07585731330031434,0.03398099238265099,0.018516766685069276,0.012343907577988535,0.010148517014552752,-0.01047077018818288,-0.01047077018818288,-0.01047077018818288,-0.01047077018818288,-0.01047077018818299,-0.028170347287583927,-0.05699078582307589,-0.07404357420579517,-0.0833775409962706,-0.08640467102936918,-0.10763451864183073,-0.10763451864183073,-0.11501462593945329,-0.11990461123364515,-0.14400216281270553,-0.14400216281270553,-0.14400216281270553,-0.14400216281270553,-0.14400216281270553,-0.14400216281270553,-0.14400216281270553,-0.14400216281270553,-0.14400216281270553,-0.14400216281270553,-0.14400216281270553,-0.14400216281270553,-0.14400216281270553,-0.14400216281270553,-0.14400216281270553,-0.14400216281270553,-0.14400216281270553,-0.14400216281270553,-0.14400216281270553,-0.14400216281270553,-0.14400216281270553,-0.14400216281270553,-0.14400216281270553,-0.14400216281270553,-0.14400216281270553,-0.14400216281270553,-0.14400216281270553,-0.14400216281270553,-0.14400216281270553,-0.14400216281270553,-0.14400216281270553,-0.14400216281270553,-0.14400216281270553,-0.14400216281270553,-0.14400216281270553,-0.14400216281270553,-0.14400216281270553,-0.14400216281270553,-0.14400216281270553,-0.14400216281270553,-0.14400216281270553,-0.14400216281270553,-0.14400216281270553,-0.14400216281270553,-0.14400216281270553,-0.14400216281270553,-0.14400216281270553,-0.14400216281270553,-0.14400216281270553,-0.14400216281270553,-0.14400216281270553,-0.14400216281270553,-0.14400216281270553,-0.14400216281270553,-0.14400216281270553,-0.14400216281270553,-0.14400216281270553,-0.14400216281270567,-0.17909348262397565,-0.2046267846291404,-0.2046267846291404,-0.21299503429965688,-0.2181101349664275,-0.2273837717517566,-0.24379163342107665,-0.2493626784705319,-0.251632827005071,-0.2617851984690891,-0.3083052141039818,-0.3130784928566396,-0.31334300813393895,-0.3158524197393649,-0.3158524197393649,-0.33324416245123406,-0.3372927509772342,-0.35456693192005506,-0.3614959815847964,-0.36714571412691527,-0.36714571412691527,-0.36714571412691527,-0.36714571412691543,-0.36714571412691543,-0.3739407572597442,-0.3851642196295936,-0.42541462225089116,-0.48047439943391856,-0.5494672709208699,-0.54946727092087,-0.54946727092087,-0.54946727092087,-0.54946727092087,-0.54946727092087,-0.54946727092087,-0.54946727092087,-0.54946727092087,-0.54946727092087,-0.54946727092087,-0.54946727092087,-0.54946727092087,-0.54946727092087,-0.54946727092087,-0.54946727092087,-0.54946727092087,-0.54946727092087,-0.54946727092087,-0.54946727092087,-0.54946727092087,-0.54946727092087,-0.54946727092087,-0.54946727092087,-0.54946727092087,-0.5613017285678729,-0.5678164095890664,-0.7036179507481282,-0.7036179507481282,-0.7036179507481282,-0.7726108222350796,-0.790629327737758,-0.8371493433726508,-0.8371493433726508,-0.8371493433726508,-0.8371493433726508,-0.8371493433726508,-0.8371493433726508,-0.8371493433726508,-0.837149343372651,-0.8577686305753868,-0.9267615020623381,-0.9549323790290343,-0.9549323790290344,-1.045904157234761,-1.0602928946868606,-1.0602928946868606,-1.0602928946868606,-1.0602928946868606,-1.0602928946868606,-1.0744775296788172,-1.124831415824432,-1.2426144514808153,-1.2426144514808153,-1.2426144514808153,-1.2426144514808153,-1.3967651313080736,-1.3967651313080736,-1.3967651313080736,-1.4573897531245084,-1.530296523932596,-1.5302965239325963,-1.6480795595889797,-1.753440075246806,-1.8487502550511308,-1.8712231109031894,-1.9357616320407607,-1.9357616320407607,-2.015804339714297],\"yaxis\":\"y\",\"type\":\"bar\"}],                        {\"template\":{\"data\":{\"bar\":[{\"error_x\":{\"color\":\"#2a3f5f\"},\"error_y\":{\"color\":\"#2a3f5f\"},\"marker\":{\"line\":{\"color\":\"#E5ECF6\",\"width\":0.5},\"pattern\":{\"fillmode\":\"overlay\",\"size\":10,\"solidity\":0.2}},\"type\":\"bar\"}],\"barpolar\":[{\"marker\":{\"line\":{\"color\":\"#E5ECF6\",\"width\":0.5},\"pattern\":{\"fillmode\":\"overlay\",\"size\":10,\"solidity\":0.2}},\"type\":\"barpolar\"}],\"carpet\":[{\"aaxis\":{\"endlinecolor\":\"#2a3f5f\",\"gridcolor\":\"white\",\"linecolor\":\"white\",\"minorgridcolor\":\"white\",\"startlinecolor\":\"#2a3f5f\"},\"baxis\":{\"endlinecolor\":\"#2a3f5f\",\"gridcolor\":\"white\",\"linecolor\":\"white\",\"minorgridcolor\":\"white\",\"startlinecolor\":\"#2a3f5f\"},\"type\":\"carpet\"}],\"choropleth\":[{\"colorbar\":{\"outlinewidth\":0,\"ticks\":\"\"},\"type\":\"choropleth\"}],\"contour\":[{\"colorbar\":{\"outlinewidth\":0,\"ticks\":\"\"},\"colorscale\":[[0.0,\"#0d0887\"],[0.1111111111111111,\"#46039f\"],[0.2222222222222222,\"#7201a8\"],[0.3333333333333333,\"#9c179e\"],[0.4444444444444444,\"#bd3786\"],[0.5555555555555556,\"#d8576b\"],[0.6666666666666666,\"#ed7953\"],[0.7777777777777778,\"#fb9f3a\"],[0.8888888888888888,\"#fdca26\"],[1.0,\"#f0f921\"]],\"type\":\"contour\"}],\"contourcarpet\":[{\"colorbar\":{\"outlinewidth\":0,\"ticks\":\"\"},\"type\":\"contourcarpet\"}],\"heatmap\":[{\"colorbar\":{\"outlinewidth\":0,\"ticks\":\"\"},\"colorscale\":[[0.0,\"#0d0887\"],[0.1111111111111111,\"#46039f\"],[0.2222222222222222,\"#7201a8\"],[0.3333333333333333,\"#9c179e\"],[0.4444444444444444,\"#bd3786\"],[0.5555555555555556,\"#d8576b\"],[0.6666666666666666,\"#ed7953\"],[0.7777777777777778,\"#fb9f3a\"],[0.8888888888888888,\"#fdca26\"],[1.0,\"#f0f921\"]],\"type\":\"heatmap\"}],\"heatmapgl\":[{\"colorbar\":{\"outlinewidth\":0,\"ticks\":\"\"},\"colorscale\":[[0.0,\"#0d0887\"],[0.1111111111111111,\"#46039f\"],[0.2222222222222222,\"#7201a8\"],[0.3333333333333333,\"#9c179e\"],[0.4444444444444444,\"#bd3786\"],[0.5555555555555556,\"#d8576b\"],[0.6666666666666666,\"#ed7953\"],[0.7777777777777778,\"#fb9f3a\"],[0.8888888888888888,\"#fdca26\"],[1.0,\"#f0f921\"]],\"type\":\"heatmapgl\"}],\"histogram\":[{\"marker\":{\"pattern\":{\"fillmode\":\"overlay\",\"size\":10,\"solidity\":0.2}},\"type\":\"histogram\"}],\"histogram2d\":[{\"colorbar\":{\"outlinewidth\":0,\"ticks\":\"\"},\"colorscale\":[[0.0,\"#0d0887\"],[0.1111111111111111,\"#46039f\"],[0.2222222222222222,\"#7201a8\"],[0.3333333333333333,\"#9c179e\"],[0.4444444444444444,\"#bd3786\"],[0.5555555555555556,\"#d8576b\"],[0.6666666666666666,\"#ed7953\"],[0.7777777777777778,\"#fb9f3a\"],[0.8888888888888888,\"#fdca26\"],[1.0,\"#f0f921\"]],\"type\":\"histogram2d\"}],\"histogram2dcontour\":[{\"colorbar\":{\"outlinewidth\":0,\"ticks\":\"\"},\"colorscale\":[[0.0,\"#0d0887\"],[0.1111111111111111,\"#46039f\"],[0.2222222222222222,\"#7201a8\"],[0.3333333333333333,\"#9c179e\"],[0.4444444444444444,\"#bd3786\"],[0.5555555555555556,\"#d8576b\"],[0.6666666666666666,\"#ed7953\"],[0.7777777777777778,\"#fb9f3a\"],[0.8888888888888888,\"#fdca26\"],[1.0,\"#f0f921\"]],\"type\":\"histogram2dcontour\"}],\"mesh3d\":[{\"colorbar\":{\"outlinewidth\":0,\"ticks\":\"\"},\"type\":\"mesh3d\"}],\"parcoords\":[{\"line\":{\"colorbar\":{\"outlinewidth\":0,\"ticks\":\"\"}},\"type\":\"parcoords\"}],\"pie\":[{\"automargin\":true,\"type\":\"pie\"}],\"scatter\":[{\"marker\":{\"colorbar\":{\"outlinewidth\":0,\"ticks\":\"\"}},\"type\":\"scatter\"}],\"scatter3d\":[{\"line\":{\"colorbar\":{\"outlinewidth\":0,\"ticks\":\"\"}},\"marker\":{\"colorbar\":{\"outlinewidth\":0,\"ticks\":\"\"}},\"type\":\"scatter3d\"}],\"scattercarpet\":[{\"marker\":{\"colorbar\":{\"outlinewidth\":0,\"ticks\":\"\"}},\"type\":\"scattercarpet\"}],\"scattergeo\":[{\"marker\":{\"colorbar\":{\"outlinewidth\":0,\"ticks\":\"\"}},\"type\":\"scattergeo\"}],\"scattergl\":[{\"marker\":{\"colorbar\":{\"outlinewidth\":0,\"ticks\":\"\"}},\"type\":\"scattergl\"}],\"scattermapbox\":[{\"marker\":{\"colorbar\":{\"outlinewidth\":0,\"ticks\":\"\"}},\"type\":\"scattermapbox\"}],\"scatterpolar\":[{\"marker\":{\"colorbar\":{\"outlinewidth\":0,\"ticks\":\"\"}},\"type\":\"scatterpolar\"}],\"scatterpolargl\":[{\"marker\":{\"colorbar\":{\"outlinewidth\":0,\"ticks\":\"\"}},\"type\":\"scatterpolargl\"}],\"scatterternary\":[{\"marker\":{\"colorbar\":{\"outlinewidth\":0,\"ticks\":\"\"}},\"type\":\"scatterternary\"}],\"surface\":[{\"colorbar\":{\"outlinewidth\":0,\"ticks\":\"\"},\"colorscale\":[[0.0,\"#0d0887\"],[0.1111111111111111,\"#46039f\"],[0.2222222222222222,\"#7201a8\"],[0.3333333333333333,\"#9c179e\"],[0.4444444444444444,\"#bd3786\"],[0.5555555555555556,\"#d8576b\"],[0.6666666666666666,\"#ed7953\"],[0.7777777777777778,\"#fb9f3a\"],[0.8888888888888888,\"#fdca26\"],[1.0,\"#f0f921\"]],\"type\":\"surface\"}],\"table\":[{\"cells\":{\"fill\":{\"color\":\"#EBF0F8\"},\"line\":{\"color\":\"white\"}},\"header\":{\"fill\":{\"color\":\"#C8D4E3\"},\"line\":{\"color\":\"white\"}},\"type\":\"table\"}]},\"layout\":{\"annotationdefaults\":{\"arrowcolor\":\"#2a3f5f\",\"arrowhead\":0,\"arrowwidth\":1},\"autotypenumbers\":\"strict\",\"coloraxis\":{\"colorbar\":{\"outlinewidth\":0,\"ticks\":\"\"}},\"colorscale\":{\"diverging\":[[0,\"#8e0152\"],[0.1,\"#c51b7d\"],[0.2,\"#de77ae\"],[0.3,\"#f1b6da\"],[0.4,\"#fde0ef\"],[0.5,\"#f7f7f7\"],[0.6,\"#e6f5d0\"],[0.7,\"#b8e186\"],[0.8,\"#7fbc41\"],[0.9,\"#4d9221\"],[1,\"#276419\"]],\"sequential\":[[0.0,\"#0d0887\"],[0.1111111111111111,\"#46039f\"],[0.2222222222222222,\"#7201a8\"],[0.3333333333333333,\"#9c179e\"],[0.4444444444444444,\"#bd3786\"],[0.5555555555555556,\"#d8576b\"],[0.6666666666666666,\"#ed7953\"],[0.7777777777777778,\"#fb9f3a\"],[0.8888888888888888,\"#fdca26\"],[1.0,\"#f0f921\"]],\"sequentialminus\":[[0.0,\"#0d0887\"],[0.1111111111111111,\"#46039f\"],[0.2222222222222222,\"#7201a8\"],[0.3333333333333333,\"#9c179e\"],[0.4444444444444444,\"#bd3786\"],[0.5555555555555556,\"#d8576b\"],[0.6666666666666666,\"#ed7953\"],[0.7777777777777778,\"#fb9f3a\"],[0.8888888888888888,\"#fdca26\"],[1.0,\"#f0f921\"]]},\"colorway\":[\"#636efa\",\"#EF553B\",\"#00cc96\",\"#ab63fa\",\"#FFA15A\",\"#19d3f3\",\"#FF6692\",\"#B6E880\",\"#FF97FF\",\"#FECB52\"],\"font\":{\"color\":\"#2a3f5f\"},\"geo\":{\"bgcolor\":\"white\",\"lakecolor\":\"white\",\"landcolor\":\"#E5ECF6\",\"showlakes\":true,\"showland\":true,\"subunitcolor\":\"white\"},\"hoverlabel\":{\"align\":\"left\"},\"hovermode\":\"closest\",\"mapbox\":{\"style\":\"light\"},\"paper_bgcolor\":\"white\",\"plot_bgcolor\":\"#E5ECF6\",\"polar\":{\"angularaxis\":{\"gridcolor\":\"white\",\"linecolor\":\"white\",\"ticks\":\"\"},\"bgcolor\":\"#E5ECF6\",\"radialaxis\":{\"gridcolor\":\"white\",\"linecolor\":\"white\",\"ticks\":\"\"}},\"scene\":{\"xaxis\":{\"backgroundcolor\":\"#E5ECF6\",\"gridcolor\":\"white\",\"gridwidth\":2,\"linecolor\":\"white\",\"showbackground\":true,\"ticks\":\"\",\"zerolinecolor\":\"white\"},\"yaxis\":{\"backgroundcolor\":\"#E5ECF6\",\"gridcolor\":\"white\",\"gridwidth\":2,\"linecolor\":\"white\",\"showbackground\":true,\"ticks\":\"\",\"zerolinecolor\":\"white\"},\"zaxis\":{\"backgroundcolor\":\"#E5ECF6\",\"gridcolor\":\"white\",\"gridwidth\":2,\"linecolor\":\"white\",\"showbackground\":true,\"ticks\":\"\",\"zerolinecolor\":\"white\"}},\"shapedefaults\":{\"line\":{\"color\":\"#2a3f5f\"}},\"ternary\":{\"aaxis\":{\"gridcolor\":\"white\",\"linecolor\":\"white\",\"ticks\":\"\"},\"baxis\":{\"gridcolor\":\"white\",\"linecolor\":\"white\",\"ticks\":\"\"},\"bgcolor\":\"#E5ECF6\",\"caxis\":{\"gridcolor\":\"white\",\"linecolor\":\"white\",\"ticks\":\"\"}},\"title\":{\"x\":0.05},\"xaxis\":{\"automargin\":true,\"gridcolor\":\"white\",\"linecolor\":\"white\",\"ticks\":\"\",\"title\":{\"standoff\":15},\"zerolinecolor\":\"white\",\"zerolinewidth\":2},\"yaxis\":{\"automargin\":true,\"gridcolor\":\"white\",\"linecolor\":\"white\",\"ticks\":\"\",\"title\":{\"standoff\":15},\"zerolinecolor\":\"white\",\"zerolinewidth\":2}}},\"xaxis\":{\"anchor\":\"y\",\"domain\":[0.0,1.0],\"title\":{\"text\":\"Cutoff\"}},\"yaxis\":{\"anchor\":\"x\",\"domain\":[0.0,1.0],\"title\":{\"text\":\"WoE\"}},\"legend\":{\"tracegroupgap\":0},\"margin\":{\"t\":60},\"barmode\":\"relative\"},                        {\"responsive\": true}                    ).then(function(){\n",
              "                            \n",
              "var gd = document.getElementById('8b850bc0-3b2b-4322-b17a-ee68c623db13');\n",
              "var x = new MutationObserver(function (mutations, observer) {{\n",
              "        var display = window.getComputedStyle(gd).display;\n",
              "        if (!display || display === 'none') {{\n",
              "            console.log([gd, 'removed!']);\n",
              "            Plotly.purge(gd);\n",
              "            observer.disconnect();\n",
              "        }}\n",
              "}});\n",
              "\n",
              "// Listen for the removal of the full notebook cells\n",
              "var notebookContainer = gd.closest('#notebook-container');\n",
              "if (notebookContainer) {{\n",
              "    x.observe(notebookContainer, {childList: true});\n",
              "}}\n",
              "\n",
              "// Listen for the clearing of the current output cell\n",
              "var outputEl = gd.closest('.output');\n",
              "if (outputEl) {{\n",
              "    x.observe(outputEl, {childList: true});\n",
              "}}\n",
              "\n",
              "                        })                };                            </script>        </div>\n",
              "</body>\n",
              "</html>"
            ]
          },
          "metadata": {}
        }
      ]
    },
    {
      "cell_type": "markdown",
      "source": [
        "## c) Por ordem de importância, quais seriam os fatores mais determinantes para comportamentos de inadimplência?"
      ],
      "metadata": {
        "id": "RnjjNcNHo2zL"
      }
    },
    {
      "cell_type": "code",
      "source": [
        "newdf.sort_values(by=\"IV\", ascending=False)"
      ],
      "metadata": {
        "colab": {
          "base_uri": "https://localhost:8080/",
          "height": 426
        },
        "id": "KRosLId2qtjQ",
        "outputId": "6180f40e-ce07-44f5-df03-e9bb650321b2"
      },
      "execution_count": null,
      "outputs": [
        {
          "output_type": "execute_result",
          "data": {
            "text/plain": [
              "                Variable   IV\n",
              "0                 cidade 0.31\n",
              "0              mrv_value 0.20\n",
              "0            sinal_value 0.15\n",
              "0      parcelas_entradas 0.14\n",
              "0  renda_parcela_entrada 0.14\n",
              "0              ano_venda 0.10\n",
              "0           valor_imovel 0.10\n",
              "0            banco_value 0.08\n",
              "0         valor_parcelas 0.08\n",
              "0          renda_cliente 0.06\n",
              "0             fgts_value 0.05\n",
              "0           estado_civil 0.01"
            ],
            "text/html": [
              "\n",
              "  <div id=\"df-4f50e695-748f-456c-8e92-1610d13a5b7c\">\n",
              "    <div class=\"colab-df-container\">\n",
              "      <div>\n",
              "<style scoped>\n",
              "    .dataframe tbody tr th:only-of-type {\n",
              "        vertical-align: middle;\n",
              "    }\n",
              "\n",
              "    .dataframe tbody tr th {\n",
              "        vertical-align: top;\n",
              "    }\n",
              "\n",
              "    .dataframe thead th {\n",
              "        text-align: right;\n",
              "    }\n",
              "</style>\n",
              "<table border=\"1\" class=\"dataframe\">\n",
              "  <thead>\n",
              "    <tr style=\"text-align: right;\">\n",
              "      <th></th>\n",
              "      <th>Variable</th>\n",
              "      <th>IV</th>\n",
              "    </tr>\n",
              "  </thead>\n",
              "  <tbody>\n",
              "    <tr>\n",
              "      <th>0</th>\n",
              "      <td>cidade</td>\n",
              "      <td>0.31</td>\n",
              "    </tr>\n",
              "    <tr>\n",
              "      <th>0</th>\n",
              "      <td>mrv_value</td>\n",
              "      <td>0.20</td>\n",
              "    </tr>\n",
              "    <tr>\n",
              "      <th>0</th>\n",
              "      <td>sinal_value</td>\n",
              "      <td>0.15</td>\n",
              "    </tr>\n",
              "    <tr>\n",
              "      <th>0</th>\n",
              "      <td>parcelas_entradas</td>\n",
              "      <td>0.14</td>\n",
              "    </tr>\n",
              "    <tr>\n",
              "      <th>0</th>\n",
              "      <td>renda_parcela_entrada</td>\n",
              "      <td>0.14</td>\n",
              "    </tr>\n",
              "    <tr>\n",
              "      <th>0</th>\n",
              "      <td>ano_venda</td>\n",
              "      <td>0.10</td>\n",
              "    </tr>\n",
              "    <tr>\n",
              "      <th>0</th>\n",
              "      <td>valor_imovel</td>\n",
              "      <td>0.10</td>\n",
              "    </tr>\n",
              "    <tr>\n",
              "      <th>0</th>\n",
              "      <td>banco_value</td>\n",
              "      <td>0.08</td>\n",
              "    </tr>\n",
              "    <tr>\n",
              "      <th>0</th>\n",
              "      <td>valor_parcelas</td>\n",
              "      <td>0.08</td>\n",
              "    </tr>\n",
              "    <tr>\n",
              "      <th>0</th>\n",
              "      <td>renda_cliente</td>\n",
              "      <td>0.06</td>\n",
              "    </tr>\n",
              "    <tr>\n",
              "      <th>0</th>\n",
              "      <td>fgts_value</td>\n",
              "      <td>0.05</td>\n",
              "    </tr>\n",
              "    <tr>\n",
              "      <th>0</th>\n",
              "      <td>estado_civil</td>\n",
              "      <td>0.01</td>\n",
              "    </tr>\n",
              "  </tbody>\n",
              "</table>\n",
              "</div>\n",
              "      <button class=\"colab-df-convert\" onclick=\"convertToInteractive('df-4f50e695-748f-456c-8e92-1610d13a5b7c')\"\n",
              "              title=\"Convert this dataframe to an interactive table.\"\n",
              "              style=\"display:none;\">\n",
              "        \n",
              "  <svg xmlns=\"http://www.w3.org/2000/svg\" height=\"24px\"viewBox=\"0 0 24 24\"\n",
              "       width=\"24px\">\n",
              "    <path d=\"M0 0h24v24H0V0z\" fill=\"none\"/>\n",
              "    <path d=\"M18.56 5.44l.94 2.06.94-2.06 2.06-.94-2.06-.94-.94-2.06-.94 2.06-2.06.94zm-11 1L8.5 8.5l.94-2.06 2.06-.94-2.06-.94L8.5 2.5l-.94 2.06-2.06.94zm10 10l.94 2.06.94-2.06 2.06-.94-2.06-.94-.94-2.06-.94 2.06-2.06.94z\"/><path d=\"M17.41 7.96l-1.37-1.37c-.4-.4-.92-.59-1.43-.59-.52 0-1.04.2-1.43.59L10.3 9.45l-7.72 7.72c-.78.78-.78 2.05 0 2.83L4 21.41c.39.39.9.59 1.41.59.51 0 1.02-.2 1.41-.59l7.78-7.78 2.81-2.81c.8-.78.8-2.07 0-2.86zM5.41 20L4 18.59l7.72-7.72 1.47 1.35L5.41 20z\"/>\n",
              "  </svg>\n",
              "      </button>\n",
              "      \n",
              "  <style>\n",
              "    .colab-df-container {\n",
              "      display:flex;\n",
              "      flex-wrap:wrap;\n",
              "      gap: 12px;\n",
              "    }\n",
              "\n",
              "    .colab-df-convert {\n",
              "      background-color: #E8F0FE;\n",
              "      border: none;\n",
              "      border-radius: 50%;\n",
              "      cursor: pointer;\n",
              "      display: none;\n",
              "      fill: #1967D2;\n",
              "      height: 32px;\n",
              "      padding: 0 0 0 0;\n",
              "      width: 32px;\n",
              "    }\n",
              "\n",
              "    .colab-df-convert:hover {\n",
              "      background-color: #E2EBFA;\n",
              "      box-shadow: 0px 1px 2px rgba(60, 64, 67, 0.3), 0px 1px 3px 1px rgba(60, 64, 67, 0.15);\n",
              "      fill: #174EA6;\n",
              "    }\n",
              "\n",
              "    [theme=dark] .colab-df-convert {\n",
              "      background-color: #3B4455;\n",
              "      fill: #D2E3FC;\n",
              "    }\n",
              "\n",
              "    [theme=dark] .colab-df-convert:hover {\n",
              "      background-color: #434B5C;\n",
              "      box-shadow: 0px 1px 3px 1px rgba(0, 0, 0, 0.15);\n",
              "      filter: drop-shadow(0px 1px 2px rgba(0, 0, 0, 0.3));\n",
              "      fill: #FFFFFF;\n",
              "    }\n",
              "  </style>\n",
              "\n",
              "      <script>\n",
              "        const buttonEl =\n",
              "          document.querySelector('#df-4f50e695-748f-456c-8e92-1610d13a5b7c button.colab-df-convert');\n",
              "        buttonEl.style.display =\n",
              "          google.colab.kernel.accessAllowed ? 'block' : 'none';\n",
              "\n",
              "        async function convertToInteractive(key) {\n",
              "          const element = document.querySelector('#df-4f50e695-748f-456c-8e92-1610d13a5b7c');\n",
              "          const dataTable =\n",
              "            await google.colab.kernel.invokeFunction('convertToInteractive',\n",
              "                                                     [key], {});\n",
              "          if (!dataTable) return;\n",
              "\n",
              "          const docLinkHtml = 'Like what you see? Visit the ' +\n",
              "            '<a target=\"_blank\" href=https://colab.research.google.com/notebooks/data_table.ipynb>data table notebook</a>'\n",
              "            + ' to learn more about interactive tables.';\n",
              "          element.innerHTML = '';\n",
              "          dataTable['output_type'] = 'display_data';\n",
              "          await google.colab.output.renderOutput(dataTable, element);\n",
              "          const docLink = document.createElement('div');\n",
              "          docLink.innerHTML = docLinkHtml;\n",
              "          element.appendChild(docLink);\n",
              "        }\n",
              "      </script>\n",
              "    </div>\n",
              "  </div>\n",
              "  "
            ]
          },
          "metadata": {},
          "execution_count": 65
        }
      ]
    },
    {
      "cell_type": "markdown",
      "source": [
        "## d) A companhia se beneficiaria de ter uma ferramenta que fosse capaz de discernir os clientes entre alto e baixo risco frente à inadimplência. Proponha a utilização de algum método para o problema em questão. Explique o passo a passo para a construção de tal solução de forma conceitual. Explique, também, como você validaria o seu funcionamento."
      ],
      "metadata": {
        "id": "nF0Lzr6AsCax"
      }
    },
    {
      "cell_type": "markdown",
      "source": [
        "O método para a resolução do problema é a criação de um modelo de machine learning que estima a probabilidade de um determinado cliente cometer inadimplência. \n",
        "\n",
        "- A partir dessa distribuição, vamos estipular um threshold para pensar estratégias que visem diminuir o risco de inadimplência desse cliente.\n",
        "\n",
        "- A maioria dos modelos de classificação possui um threshold padrão de 0,5. Portanto, um cliente com 0,5 ou mais de probabilidade, será considerado como possível inadimplente. O problema desse threshold é que ele é muito baixo. As estratégias mencionadas acima gastam recursos valiosos da empresa, portanto, eles deverão ser gastos em um cenário de maior certeza.\n",
        "\n",
        "- O modelo baseline utilizado será o de Regressão Logística. Outros modelos também podem ser utilizados, com melhores dados.\n",
        "\n",
        "- Como os dados são desbalanceados, utilizaremos a técnica de undersampling, que consiste em diminuir os dados da classe com mais registros (não-inadimplentes) com o intuito de aproximar esses dados ao patamar da classe com menos registros (inadimplentes). A técnica de oversampling (que o contrário da undersampling) pode ser perigosa, quando lidamos com altos valores de investimento no problema atacado, pois ela visa criar dados fictícios através dos dados disponíveis. Dados fictícios podem prejudicar a performance do modelo.\n",
        "\n",
        "- A modelagem utilizará os anos como forma de dividir os dados entre treino e teste, sendo 3 anos de treino e 1 ano de teste, ou dois anos de treino, 1 ano de validação e um ano de teste. Essa abordagem é importante porque os dados tem uma dimensão anual. Sendo assim, na vida real não conseguiríamos ter dados de um ano que ainda não ocorreu.\n",
        "\n",
        "Os dados serão validados com o/s último/s ano/s disponível/is."
      ],
      "metadata": {
        "id": "F2uhyHtAyeSc"
      }
    },
    {
      "cell_type": "markdown",
      "source": [
        "Com esse modelo baseline, utilizando um threshold de 75% de probabilidade, ele seria responsável por uma economia de mais de 3 milhões e 800 mil reais para a MRV, o que daria, aproximadamente, 37% do valor gasto com inadimplentes no ano de 2017."
      ],
      "metadata": {
        "id": "ZDXcI9giC1YN"
      }
    },
    {
      "cell_type": "code",
      "source": [
        "df.info()"
      ],
      "metadata": {
        "colab": {
          "base_uri": "https://localhost:8080/"
        },
        "id": "hXHa3HwjwGrJ",
        "outputId": "6b341d94-73c8-42d1-ef78-7fd2e8d79fbf"
      },
      "execution_count": null,
      "outputs": [
        {
          "output_type": "stream",
          "name": "stdout",
          "text": [
            "<class 'pandas.core.frame.DataFrame'>\n",
            "RangeIndex: 12672 entries, 0 to 12671\n",
            "Data columns (total 14 columns):\n",
            " #   Column                 Non-Null Count  Dtype  \n",
            "---  ------                 --------------  -----  \n",
            " 0   ano_venda              12672 non-null  int64  \n",
            " 1   estado_civil           12672 non-null  object \n",
            " 2   cidade                 12672 non-null  object \n",
            " 3   renda_cliente          12632 non-null  float64\n",
            " 4   parcelas_entradas      12672 non-null  int64  \n",
            " 5   renda_parcela_entrada  12672 non-null  float64\n",
            " 6   valor_imovel           12672 non-null  float64\n",
            " 7   inadimplencia          12672 non-null  object \n",
            " 8   fgts_value             12672 non-null  float64\n",
            " 9   sinal_value            12672 non-null  float64\n",
            " 10  mrv_value              12672 non-null  float64\n",
            " 11  banco_value            12672 non-null  float64\n",
            " 12  valor_parcelas         12672 non-null  float64\n",
            " 13  inadimplencia_cat      12672 non-null  int64  \n",
            "dtypes: float64(8), int64(3), object(3)\n",
            "memory usage: 1.4+ MB\n"
          ]
        }
      ]
    },
    {
      "cell_type": "code",
      "source": [
        "def column_into_woe(df: Any, column: str = None, target: str = None) -> pd.Series:\n",
        "    data_df = df[[column, target]].copy()\n",
        "\n",
        "    newdf, woedf = iv_woe(data_df, target=target)\n",
        "    woe_data = woedf[woedf[\"Variable\"] == column][[\"Cutoff\", \"WoE\"]]\n",
        "    woe_dict = woedf.set_index('Cutoff').to_dict()['WoE']\n",
        "\n",
        "    return data_df[column].apply(lambda x:  woe_dict[x])"
      ],
      "metadata": {
        "id": "UTTZqDviv8X5"
      },
      "execution_count": null,
      "outputs": []
    },
    {
      "cell_type": "markdown",
      "source": [
        "### Modelagem com somente colunas numéricas"
      ],
      "metadata": {
        "id": "X99nXW-xBAzY"
      }
    },
    {
      "cell_type": "code",
      "source": [
        "X_train = df[df[\"ano_venda\"] < 2017].drop([\"inadimplencia\", \"inadimplencia_cat\"], axis=1).replace(np.nan, 0)\n",
        "y_train = df[df[\"ano_venda\"] < 2017][\"inadimplencia_cat\"]\n",
        "\n",
        "X_test = df[df[\"ano_venda\"] == 2017].drop([\"inadimplencia\", \"inadimplencia_cat\"], axis=1)\n",
        "y_test = df[df[\"ano_venda\"] == 2017][\"inadimplencia_cat\"]"
      ],
      "metadata": {
        "id": "ePH59D9juAEE"
      },
      "execution_count": null,
      "outputs": []
    },
    {
      "cell_type": "code",
      "source": [
        "X_features = [\n",
        "    \"renda_cliente\",\n",
        "    \"parcelas_entradas\",\n",
        "    \"renda_parcela_entrada\",\n",
        "    \"valor_imovel\",\n",
        "    \"fgts_value\",\n",
        "    \"sinal_value\",\n",
        "    \"mrv_value\",\n",
        "    \"banco_value\",\n",
        "    \"valor_parcelas\"\n",
        "]"
      ],
      "metadata": {
        "id": "L0NMMDDav6nM"
      },
      "execution_count": null,
      "outputs": []
    },
    {
      "cell_type": "code",
      "source": [
        "lr = LogisticRegression(random_state=42)\n",
        "lr.fit(X_train[X_features], y_train)\n",
        "\n",
        "y_pred = lr.predict(X_test[X_features])\n",
        "pred_proba = lr.predict_proba(X_test[X_features])"
      ],
      "metadata": {
        "id": "-eUoq_nqyJkY"
      },
      "execution_count": null,
      "outputs": []
    },
    {
      "cell_type": "code",
      "source": [
        "print(classification_report(y_test, y_pred))"
      ],
      "metadata": {
        "colab": {
          "base_uri": "https://localhost:8080/"
        },
        "id": "m6nAXGGFkAFp",
        "outputId": "b9c7dc99-3ce8-4f5b-de58-54a88600b8f3"
      },
      "execution_count": null,
      "outputs": [
        {
          "output_type": "stream",
          "name": "stdout",
          "text": [
            "              precision    recall  f1-score   support\n",
            "\n",
            "           0       0.84      1.00      0.91      3032\n",
            "           1       1.00      0.00      0.00       567\n",
            "\n",
            "    accuracy                           0.84      3599\n",
            "   macro avg       0.92      0.50      0.46      3599\n",
            "weighted avg       0.87      0.84      0.77      3599\n",
            "\n"
          ]
        }
      ]
    },
    {
      "cell_type": "code",
      "source": [
        "roc_auc_score_plot(y_test, pred_proba)"
      ],
      "metadata": {
        "colab": {
          "base_uri": "https://localhost:8080/",
          "height": 497
        },
        "id": "zp3_CFY41hAs",
        "outputId": "fdb4ea40-baa5-435b-a8a7-21f39b1af469"
      },
      "execution_count": null,
      "outputs": [
        {
          "output_type": "display_data",
          "data": {
            "text/plain": [
              "<Figure size 576x576 with 1 Axes>"
            ],
            "image/png": "[encoded data removed]"
          },
          "metadata": {
            "needs_background": "light"
          }
        }
      ]
    },
    {
      "cell_type": "code",
      "source": [
        "train_df = pd.concat([X_train[X_features], y_train], axis=1)"
      ],
      "metadata": {
        "id": "zJZGiYkv90fa"
      },
      "execution_count": null,
      "outputs": []
    },
    {
      "cell_type": "code",
      "source": [
        "formula = \"\"\"inadimplencia_cat ~ renda_cliente + parcelas_entradas + \n",
        "            renda_parcela_entrada + valor_imovel + fgts_value + sinal_value\n",
        "            + mrv_value + banco_value + valor_parcelas\"\"\"\n",
        "\n",
        "logit_model = logit(formula, data = train_df)\n",
        "\n",
        "logit_estimates = logit_model.fit()\n",
        "\n",
        "print(logit_estimates.summary())"
      ],
      "metadata": {
        "colab": {
          "base_uri": "https://localhost:8080/"
        },
        "id": "BBlKMvxZ9WhB",
        "outputId": "2424c66b-4565-42a1-a76d-7828f500d7e2"
      },
      "execution_count": null,
      "outputs": [
        {
          "output_type": "stream",
          "name": "stdout",
          "text": [
            "Optimization terminated successfully.\n",
            "         Current function value: 0.539960\n",
            "         Iterations 7\n",
            "                           Logit Regression Results                           \n",
            "==============================================================================\n",
            "Dep. Variable:      inadimplencia_cat   No. Observations:                 9073\n",
            "Model:                          Logit   Df Residuals:                     9063\n",
            "Method:                           MLE   Df Model:                            9\n",
            "Date:                Fri, 23 Dec 2022   Pseudo R-squ.:                 0.04056\n",
            "Time:                        01:08:23   Log-Likelihood:                -4899.1\n",
            "converged:                       True   LL-Null:                       -5106.2\n",
            "Covariance Type:            nonrobust   LLR p-value:                 1.247e-83\n",
            "=========================================================================================\n",
            "                            coef    std err          z      P>|z|      [0.025      0.975]\n",
            "-----------------------------------------------------------------------------------------\n",
            "Intercept                -0.6237      0.206     -3.021      0.003      -1.028      -0.219\n",
            "renda_cliente         -5.889e-07   1.25e-06     -0.472      0.637   -3.03e-06    1.85e-06\n",
            "parcelas_entradas         0.0211      0.003      7.254      0.000       0.015       0.027\n",
            "renda_parcela_entrada     0.1173      0.110      1.065      0.287      -0.099       0.333\n",
            "valor_imovel           1.408e-05   2.99e-05      0.470      0.638   -4.46e-05    7.27e-05\n",
            "fgts_value            -3.272e-05      3e-05     -1.090      0.275   -9.15e-05    2.61e-05\n",
            "sinal_value           -7.121e-05   3.01e-05     -2.366      0.018      -0.000   -1.22e-05\n",
            "mrv_value             -8.735e-06      3e-05     -0.291      0.771   -6.76e-05    5.01e-05\n",
            "banco_value            -2.11e-05   2.99e-05     -0.705      0.481   -7.97e-05    3.75e-05\n",
            "valor_parcelas        -2.516e-05   3.86e-05     -0.653      0.514      -0.000    5.04e-05\n",
            "=========================================================================================\n"
          ]
        }
      ]
    },
    {
      "cell_type": "code",
      "source": [
        "round(np.exp(logit_estimates.params), 3)"
      ],
      "metadata": {
        "colab": {
          "base_uri": "https://localhost:8080/"
        },
        "id": "IJisKI0w-t_8",
        "outputId": "90a1d489-4250-449f-a6f0-f5a2be456cb2"
      },
      "execution_count": null,
      "outputs": [
        {
          "output_type": "execute_result",
          "data": {
            "text/plain": [
              "Intercept               0.54\n",
              "renda_cliente           1.00\n",
              "parcelas_entradas       1.02\n",
              "renda_parcela_entrada   1.12\n",
              "valor_imovel            1.00\n",
              "fgts_value              1.00\n",
              "sinal_value             1.00\n",
              "mrv_value               1.00\n",
              "banco_value             1.00\n",
              "valor_parcelas          1.00\n",
              "dtype: float64"
            ]
          },
          "metadata": {},
          "execution_count": 74
        }
      ]
    },
    {
      "cell_type": "code",
      "source": [
        "AME = logit_estimates.get_margeff(at = \"overall\", method = \"dydx\")\n",
        "print(AME.summary())"
      ],
      "metadata": {
        "colab": {
          "base_uri": "https://localhost:8080/"
        },
        "id": "ldIPwcii_YSb",
        "outputId": "58d5eebb-f7e2-479c-a6d7-82a715781c9a"
      },
      "execution_count": null,
      "outputs": [
        {
          "output_type": "stream",
          "name": "stdout",
          "text": [
            "        Logit Marginal Effects       \n",
            "=====================================\n",
            "Dep. Variable:      inadimplencia_cat\n",
            "Method:                          dydx\n",
            "At:                           overall\n",
            "=========================================================================================\n",
            "                           dy/dx    std err          z      P>|z|      [0.025      0.975]\n",
            "-----------------------------------------------------------------------------------------\n",
            "renda_cliente         -1.062e-07   2.25e-07     -0.472      0.637   -5.47e-07    3.34e-07\n",
            "parcelas_entradas         0.0038      0.001      7.309      0.000       0.003       0.005\n",
            "renda_parcela_entrada     0.0212      0.020      1.065      0.287      -0.018       0.060\n",
            "valor_imovel           2.538e-06    5.4e-06      0.470      0.638   -8.04e-06    1.31e-05\n",
            "fgts_value            -5.899e-06   5.41e-06     -1.091      0.275   -1.65e-05     4.7e-06\n",
            "sinal_value           -1.284e-05   5.42e-06     -2.368      0.018   -2.35e-05   -2.21e-06\n",
            "mrv_value             -1.575e-06   5.41e-06     -0.291      0.771   -1.22e-05    9.03e-06\n",
            "banco_value           -3.805e-06   5.39e-06     -0.706      0.480   -1.44e-05    6.77e-06\n",
            "valor_parcelas        -4.536e-06   6.95e-06     -0.653      0.514   -1.82e-05    9.09e-06\n",
            "=========================================================================================\n"
          ]
        }
      ]
    },
    {
      "cell_type": "markdown",
      "source": [
        "Uma unidade de aumento de  `renda_parcela_entrada` aumenta a probabilidade de inadimplência em 2%. O resto das variáveis têm um impacto extremamente pequeno.\n",
        "\n"
      ],
      "metadata": {
        "id": "WBQkZ8Y0ACrH"
      }
    },
    {
      "cell_type": "markdown",
      "source": [
        "### Modelagem incluindo colunas categóricas e UnderSample"
      ],
      "metadata": {
        "id": "pvQEqHFFBJFI"
      }
    },
    {
      "cell_type": "markdown",
      "source": [
        "- Será utilizando o Weight of Evidence para representar as variáveis categóricas de maneira contínua.\n",
        "- A variável cidade não será colocada no modelo por questões de viés."
      ],
      "metadata": {
        "id": "zVerhRkABRwF"
      }
    },
    {
      "cell_type": "code",
      "source": [
        "train_df_ec = pd.concat([X_train.drop(\"ano_venda\", axis=1), y_train], axis=1)\n",
        "train_df_ec[\"estado_civil_woe\"] = column_into_woe(train_df_ec, \"estado_civil\", \"inadimplencia_cat\")\n",
        "\n",
        "train_df_ec.drop([\"estado_civil\", \"cidade\"], axis=1, inplace=True)\n",
        "\n",
        "lr = LogisticRegression(random_state=42)\n",
        "lr.fit(train_df_ec.drop(\"inadimplencia_cat\", axis=1), y_train)\n",
        "\n",
        "test_df_ec = pd.concat([X_test.drop(\"ano_venda\", axis=1), y_test], axis=1)\n",
        "test_df_ec[\"estado_civil_woe\"] = column_into_woe(test_df_ec, \"estado_civil\", \"inadimplencia_cat\")\n",
        "\n",
        "test_df_ec.drop([\"estado_civil\", \"cidade\", \"inadimplencia_cat\"], axis=1, inplace=True)\n",
        "y_pred_ec = lr.predict(test_df_ec)\n",
        "pred_proba_ec = lr.predict_proba(test_df_ec)"
      ],
      "metadata": {
        "id": "j3pRk9Z2I92b"
      },
      "execution_count": null,
      "outputs": []
    },
    {
      "cell_type": "code",
      "source": [
        "print(classification_report(y_test, y_pred_ec))"
      ],
      "metadata": {
        "colab": {
          "base_uri": "https://localhost:8080/"
        },
        "id": "D1y68yQQjvte",
        "outputId": "d4d07e9a-3292-451d-cc75-0c490be1919f"
      },
      "execution_count": null,
      "outputs": [
        {
          "output_type": "stream",
          "name": "stdout",
          "text": [
            "              precision    recall  f1-score   support\n",
            "\n",
            "           0       0.84      1.00      0.91      3032\n",
            "           1       1.00      0.00      0.00       567\n",
            "\n",
            "    accuracy                           0.84      3599\n",
            "   macro avg       0.92      0.50      0.46      3599\n",
            "weighted avg       0.87      0.84      0.77      3599\n",
            "\n"
          ]
        }
      ]
    },
    {
      "cell_type": "code",
      "source": [
        "roc_auc_score_plot(y_test, pred_proba_ec)"
      ],
      "metadata": {
        "colab": {
          "base_uri": "https://localhost:8080/",
          "height": 497
        },
        "id": "-SLyRiODMAKB",
        "outputId": "a8094660-520c-48fa-fabd-cb96c9209c54"
      },
      "execution_count": null,
      "outputs": [
        {
          "output_type": "display_data",
          "data": {
            "text/plain": [
              "<Figure size 576x576 with 1 Axes>"
            ],
            "image/png": "[encoded data removed]"
          },
          "metadata": {
            "needs_background": "light"
          }
        }
      ]
    },
    {
      "cell_type": "code",
      "source": [
        "from imblearn.under_sampling import RandomUnderSampler\n",
        "\n",
        "undersample_major = RandomUnderSampler(sampling_strategy='majority')\n",
        "undersample = RandomUnderSampler(sampling_strategy=0.5)"
      ],
      "metadata": {
        "id": "0gncQWSEiscB"
      },
      "execution_count": null,
      "outputs": []
    },
    {
      "cell_type": "code",
      "source": [
        "corr_test_matrix = X_test.corr()\n",
        "\n",
        "matrix = np.triu(corr_test_matrix)\n",
        "plt.figure(figsize=(20, 10), facecolor='w', edgecolor='k')\n",
        "plot = sns.heatmap(corr_test_matrix, cmap=\"coolwarm\", annot = True, fmt=\".1g\", mask=matrix)\n",
        "plot"
      ],
      "metadata": {
        "colab": {
          "base_uri": "https://localhost:8080/",
          "height": 713
        },
        "id": "eHJU3EDyoStO",
        "outputId": "69753964-d9c8-4c20-e5ae-24edef06dd24"
      },
      "execution_count": null,
      "outputs": [
        {
          "output_type": "execute_result",
          "data": {
            "text/plain": [
              "<matplotlib.axes._subplots.AxesSubplot at 0x7f4870a01220>"
            ]
          },
          "metadata": {},
          "execution_count": 122
        },
        {
          "output_type": "display_data",
          "data": {
            "text/plain": [
              "<Figure size 1440x720 with 2 Axes>"
            ],
            "image/png": "[encoded data removed]"
          },
          "metadata": {}
        }
      ]
    },
    {
      "cell_type": "code",
      "source": [
        "# example of random undersampling to balance the class distribution\n",
        "from collections import Counter\n",
        "# summarize class distribution\n",
        "print(Counter(y_train))\n",
        "# define undersample strategy\n",
        "# fit and apply the transform\n",
        "X_train_under, y_train_under = undersample_major.fit_resample(X_train, y_train)\n",
        "X_test_under, y_test_under = undersample_major.fit_resample(X_test, y_test)\n",
        "# summarize class distribution\n",
        "print(Counter(y_train_under))\n",
        "print(Counter(y_test_under))"
      ],
      "metadata": {
        "colab": {
          "base_uri": "https://localhost:8080/"
        },
        "id": "DQ-K6vXYixbP",
        "outputId": "6b73dbff-e380-4041-d448-2dbe8a49257e"
      },
      "execution_count": null,
      "outputs": [
        {
          "output_type": "stream",
          "name": "stdout",
          "text": [
            "Counter({0: 6801, 1: 2272})\n",
            "Counter({0: 2272, 1: 2272})\n",
            "Counter({0: 567, 1: 567})\n"
          ]
        }
      ]
    },
    {
      "cell_type": "code",
      "source": [
        "lr_under_model = LogisticRegression(random_state=42)\n",
        "lr_under_model.fit(X_train_under[X_features].drop(\"valor_imovel\", axis=1), y_train_under)\n",
        "\n",
        "y_pred_under = lr_under_model.predict(X_test[X_features].drop(\"valor_imovel\", axis=1))\n",
        "pred_proba_under = lr_under_model.predict_proba(X_test[X_features].drop(\"valor_imovel\", axis=1))"
      ],
      "metadata": {
        "id": "R3acspdFjKUa"
      },
      "execution_count": null,
      "outputs": []
    },
    {
      "cell_type": "code",
      "source": [
        "roc_auc_score_plot(y_test, pred_proba_under)"
      ],
      "metadata": {
        "colab": {
          "base_uri": "https://localhost:8080/",
          "height": 497
        },
        "id": "Z4HLP7uNjaVk",
        "outputId": "e3132065-39ac-4469-999b-da7724923024"
      },
      "execution_count": null,
      "outputs": [
        {
          "output_type": "display_data",
          "data": {
            "text/plain": [
              "<Figure size 576x576 with 1 Axes>"
            ],
            "image/png": "[encoded data removed]"
          },
          "metadata": {
            "needs_background": "light"
          }
        }
      ]
    },
    {
      "cell_type": "code",
      "source": [
        "print(classification_report(y_test, y_pred_under))"
      ],
      "metadata": {
        "colab": {
          "base_uri": "https://localhost:8080/"
        },
        "id": "aYP-wLC1jjcZ",
        "outputId": "25dcc7af-d934-43f4-8fcb-362b7205eddc"
      },
      "execution_count": null,
      "outputs": [
        {
          "output_type": "stream",
          "name": "stdout",
          "text": [
            "              precision    recall  f1-score   support\n",
            "\n",
            "           0       0.89      0.42      0.57      3032\n",
            "           1       0.19      0.72      0.30       567\n",
            "\n",
            "    accuracy                           0.47      3599\n",
            "   macro avg       0.54      0.57      0.43      3599\n",
            "weighted avg       0.78      0.47      0.53      3599\n",
            "\n"
          ]
        }
      ]
    },
    {
      "cell_type": "markdown",
      "source": [
        "## Hiperparametrização do modelo"
      ],
      "metadata": {
        "id": "OtnxVrqF2w8B"
      }
    },
    {
      "cell_type": "code",
      "source": [
        "# random search logistic regression model on the sonar dataset\n",
        "from scipy.stats import loguniform\n",
        "from sklearn.model_selection import RepeatedStratifiedKFold\n",
        "from sklearn.model_selection import RandomizedSearchCV\n",
        "# load dataset\n",
        "# define model\n",
        "model = LogisticRegression()\n",
        "# define search space\n",
        "space = dict()\n",
        "space['solver'] = ['newton-cg', 'lbfgs', 'liblinear']\n",
        "space['penalty'] = ['none', 'l1', 'l2', 'elasticnet']\n",
        "space['C'] = loguniform(1e-5, 100)\n",
        "# define search\n",
        "search = RandomizedSearchCV(model, space, n_iter=100, scoring='f1', n_jobs=-1, random_state=1)\n",
        "search.fit(X_train_under[X_features].drop(\"valor_imovel\", axis=1), y_train_under)"
      ],
      "metadata": {
        "colab": {
          "base_uri": "https://localhost:8080/"
        },
        "id": "6c0TPn4CrHE4",
        "outputId": "dcfe4f3c-3107-4859-ab84-73a6acf5d436"
      },
      "execution_count": null,
      "outputs": [
        {
          "output_type": "execute_result",
          "data": {
            "text/plain": [
              "RandomizedSearchCV(estimator=LogisticRegression(), n_iter=100, n_jobs=-1,\n",
              "                   param_distributions={'C': <scipy.stats._distn_infrastructure.rv_frozen object at 0x7f487054fdf0>,\n",
              "                                        'penalty': ['none', 'l1', 'l2',\n",
              "                                                    'elasticnet'],\n",
              "                                        'solver': ['newton-cg', 'lbfgs',\n",
              "                                                   'liblinear']},\n",
              "                   random_state=1, scoring='f1')"
            ]
          },
          "metadata": {},
          "execution_count": 145
        }
      ]
    },
    {
      "cell_type": "code",
      "source": [
        "# summarize result\n",
        "print('Best Score: %s' % search.best_score_)\n",
        "print('Best Hyperparameters: %s' % search.best_params_)"
      ],
      "metadata": {
        "colab": {
          "base_uri": "https://localhost:8080/"
        },
        "id": "mYuHEuoYu5cs",
        "outputId": "cdb97221-5431-4e79-a16c-a066de0ef8d2"
      },
      "execution_count": null,
      "outputs": [
        {
          "output_type": "stream",
          "name": "stdout",
          "text": [
            "Best Score: 0.6523485291093463\n",
            "Best Hyperparameters: {'C': 1.554938269564127e-05, 'penalty': 'l2', 'solver': 'newton-cg'}\n"
          ]
        }
      ]
    },
    {
      "cell_type": "code",
      "source": [
        "lr_hyper = search.best_estimator_\n",
        "lr_hyper.fit(X_train_under[X_features].drop(\"valor_imovel\", axis=1), y_train_under)\n",
        "\n",
        "y_pred_under = lr_under_model.predict(X_test[X_features].drop(\"valor_imovel\", axis=1))\n",
        "pred_proba_under = lr_under_model.predict_proba(X_test[X_features].drop(\"valor_imovel\", axis=1))\n",
        "\n",
        "print(classification_report(y_test, y_pred_under))"
      ],
      "metadata": {
        "colab": {
          "base_uri": "https://localhost:8080/"
        },
        "id": "Ev7Z4D57x4GR",
        "outputId": "37b10a91-296f-4e33-edcf-1d143d1e0ce1"
      },
      "execution_count": null,
      "outputs": [
        {
          "output_type": "stream",
          "name": "stdout",
          "text": [
            "              precision    recall  f1-score   support\n",
            "\n",
            "           0       0.89      0.42      0.57      3032\n",
            "           1       0.19      0.72      0.30       567\n",
            "\n",
            "    accuracy                           0.47      3599\n",
            "   macro avg       0.54      0.57      0.43      3599\n",
            "weighted avg       0.78      0.47      0.53      3599\n",
            "\n"
          ]
        }
      ]
    },
    {
      "cell_type": "code",
      "source": [
        "X_test[\"y_proba\"] = pred_proba_under[:,1]"
      ],
      "metadata": {
        "id": "AJMQZFSOkNwr"
      },
      "execution_count": null,
      "outputs": []
    },
    {
      "cell_type": "code",
      "source": [
        "X_test[X_test.y_proba > 0.75].mrv_value.sum()"
      ],
      "metadata": {
        "colab": {
          "base_uri": "https://localhost:8080/"
        },
        "id": "mnvpom77k4mo",
        "outputId": "a0fdbf89-9b5a-4027-875b-e2eb2a0e2b2f"
      },
      "execution_count": null,
      "outputs": [
        {
          "output_type": "execute_result",
          "data": {
            "text/plain": [
              "3820819.0600000005"
            ]
          },
          "metadata": {},
          "execution_count": 149
        }
      ]
    },
    {
      "cell_type": "code",
      "source": [
        "df[(df[\"ano_venda\"] == 2017) & (df[\"inadimplencia_cat\"] == 1)].mrv_value.sum()"
      ],
      "metadata": {
        "colab": {
          "base_uri": "https://localhost:8080/"
        },
        "id": "gEME83lolKnR",
        "outputId": "3b5b9bf5-463f-4312-b8dd-571bf9b8a93f"
      },
      "execution_count": null,
      "outputs": [
        {
          "output_type": "execute_result",
          "data": {
            "text/plain": [
              "10375356.780000001"
            ]
          },
          "metadata": {},
          "execution_count": 129
        }
      ]
    },
    {
      "cell_type": "code",
      "source": [
        "X_test[X_test.y_proba < 0.60].mrv_value.sum()"
      ],
      "metadata": {
        "colab": {
          "base_uri": "https://localhost:8080/"
        },
        "id": "ZEl4tYi4lObx",
        "outputId": "bfcaa5a0-5e2a-4316-a6b9-979cd487dff8"
      },
      "execution_count": null,
      "outputs": [
        {
          "output_type": "execute_result",
          "data": {
            "text/plain": [
              "37950905.32"
            ]
          },
          "metadata": {},
          "execution_count": 151
        }
      ]
    },
    {
      "cell_type": "code",
      "source": [
        "X_test[X_test[\"y_proba\"] > 0.75].sort_values(by=\"y_proba\", ascending=False)"
      ],
      "metadata": {
        "colab": {
          "base_uri": "https://localhost:8080/",
          "height": 540
        },
        "id": "aPhDRzvcF1T7",
        "outputId": "49d01490-0a8c-468b-e64f-ea6f40ebc640"
      },
      "execution_count": null,
      "outputs": [
        {
          "output_type": "execute_result",
          "data": {
            "text/plain": [
              "      ano_venda estado_civil                 cidade  renda_cliente  \\\n",
              "4956       2017     Solteiro         Belo Horizonte        2900.00   \n",
              "7653       2017     Solteiro                 Maceió        1940.00   \n",
              "4042       2017       Casado                  Cambé        2200.00   \n",
              "987        2017   Divorciado                 Recife        2720.00   \n",
              "7847       2017       Casado                 Maceió        4060.00   \n",
              "...         ...          ...                    ...            ...   \n",
              "6324       2017     Solteiro                UBERABA        2000.00   \n",
              "4051       2017       Casado  Santa Bárbara D'Oeste        2207.00   \n",
              "1904       2017       Casado                Goiânia        2622.00   \n",
              "6081       2017        Viúvo             Patrocínio        2600.00   \n",
              "1864       2017     Solteiro                 Recife        2050.00   \n",
              "\n",
              "      parcelas_entradas  renda_parcela_entrada  valor_imovel  fgts_value  \\\n",
              "4956                  1                   0.09     207000.00    14490.00   \n",
              "7653                 60                   0.27     131896.00        0.00   \n",
              "4042                 60                   0.23     137898.00        0.00   \n",
              "987                  60                   0.22     148010.00        0.00   \n",
              "7847                 60                   0.14     145184.00        0.00   \n",
              "...                 ...                    ...           ...         ...   \n",
              "6324                 57                   0.17     140498.00        0.00   \n",
              "4051                 58                   0.26     152256.00     1522.56   \n",
              "1904                 59                   0.12     134921.00     1349.21   \n",
              "6081                 58                   0.11     128000.00        0.00   \n",
              "1864                 60                   0.17     143120.00        0.00   \n",
              "\n",
              "      sinal_value  mrv_value  banco_value  valor_parcelas  y_proba  \n",
              "4956     10350.00   66240.00    115920.00        66240.00     0.97  \n",
              "7653         0.00   30336.08    101559.92          505.60     0.79  \n",
              "4042         0.00   31716.54    106181.46          528.61     0.78  \n",
              "987          0.00   37002.50    111007.50          616.71     0.78  \n",
              "7847         0.00   33392.32    111791.68          556.54     0.78  \n",
              "...           ...        ...          ...             ...      ...  \n",
              "6324         0.00   19669.72    119423.30          345.08     0.75  \n",
              "4051      1522.56   35018.88    114192.00          603.77     0.75  \n",
              "1904      1349.21   20238.15    110635.22          343.02     0.75  \n",
              "6081      1280.00   17920.00    108800.00          308.97     0.75  \n",
              "1864      1431.20   21468.00    121652.00          357.80     0.75  \n",
              "\n",
              "[143 rows x 13 columns]"
            ],
            "text/html": [
              "\n",
              "  <div id=\"df-54637cc1-5228-4c3c-97d4-c18f2bde9e45\">\n",
              "    <div class=\"colab-df-container\">\n",
              "      <div>\n",
              "<style scoped>\n",
              "    .dataframe tbody tr th:only-of-type {\n",
              "        vertical-align: middle;\n",
              "    }\n",
              "\n",
              "    .dataframe tbody tr th {\n",
              "        vertical-align: top;\n",
              "    }\n",
              "\n",
              "    .dataframe thead th {\n",
              "        text-align: right;\n",
              "    }\n",
              "</style>\n",
              "<table border=\"1\" class=\"dataframe\">\n",
              "  <thead>\n",
              "    <tr style=\"text-align: right;\">\n",
              "      <th></th>\n",
              "      <th>ano_venda</th>\n",
              "      <th>estado_civil</th>\n",
              "      <th>cidade</th>\n",
              "      <th>renda_cliente</th>\n",
              "      <th>parcelas_entradas</th>\n",
              "      <th>renda_parcela_entrada</th>\n",
              "      <th>valor_imovel</th>\n",
              "      <th>fgts_value</th>\n",
              "      <th>sinal_value</th>\n",
              "      <th>mrv_value</th>\n",
              "      <th>banco_value</th>\n",
              "      <th>valor_parcelas</th>\n",
              "      <th>y_proba</th>\n",
              "    </tr>\n",
              "  </thead>\n",
              "  <tbody>\n",
              "    <tr>\n",
              "      <th>4956</th>\n",
              "      <td>2017</td>\n",
              "      <td>Solteiro</td>\n",
              "      <td>Belo Horizonte</td>\n",
              "      <td>2900.00</td>\n",
              "      <td>1</td>\n",
              "      <td>0.09</td>\n",
              "      <td>207000.00</td>\n",
              "      <td>14490.00</td>\n",
              "      <td>10350.00</td>\n",
              "      <td>66240.00</td>\n",
              "      <td>115920.00</td>\n",
              "      <td>66240.00</td>\n",
              "      <td>0.97</td>\n",
              "    </tr>\n",
              "    <tr>\n",
              "      <th>7653</th>\n",
              "      <td>2017</td>\n",
              "      <td>Solteiro</td>\n",
              "      <td>Maceió</td>\n",
              "      <td>1940.00</td>\n",
              "      <td>60</td>\n",
              "      <td>0.27</td>\n",
              "      <td>131896.00</td>\n",
              "      <td>0.00</td>\n",
              "      <td>0.00</td>\n",
              "      <td>30336.08</td>\n",
              "      <td>101559.92</td>\n",
              "      <td>505.60</td>\n",
              "      <td>0.79</td>\n",
              "    </tr>\n",
              "    <tr>\n",
              "      <th>4042</th>\n",
              "      <td>2017</td>\n",
              "      <td>Casado</td>\n",
              "      <td>Cambé</td>\n",
              "      <td>2200.00</td>\n",
              "      <td>60</td>\n",
              "      <td>0.23</td>\n",
              "      <td>137898.00</td>\n",
              "      <td>0.00</td>\n",
              "      <td>0.00</td>\n",
              "      <td>31716.54</td>\n",
              "      <td>106181.46</td>\n",
              "      <td>528.61</td>\n",
              "      <td>0.78</td>\n",
              "    </tr>\n",
              "    <tr>\n",
              "      <th>987</th>\n",
              "      <td>2017</td>\n",
              "      <td>Divorciado</td>\n",
              "      <td>Recife</td>\n",
              "      <td>2720.00</td>\n",
              "      <td>60</td>\n",
              "      <td>0.22</td>\n",
              "      <td>148010.00</td>\n",
              "      <td>0.00</td>\n",
              "      <td>0.00</td>\n",
              "      <td>37002.50</td>\n",
              "      <td>111007.50</td>\n",
              "      <td>616.71</td>\n",
              "      <td>0.78</td>\n",
              "    </tr>\n",
              "    <tr>\n",
              "      <th>7847</th>\n",
              "      <td>2017</td>\n",
              "      <td>Casado</td>\n",
              "      <td>Maceió</td>\n",
              "      <td>4060.00</td>\n",
              "      <td>60</td>\n",
              "      <td>0.14</td>\n",
              "      <td>145184.00</td>\n",
              "      <td>0.00</td>\n",
              "      <td>0.00</td>\n",
              "      <td>33392.32</td>\n",
              "      <td>111791.68</td>\n",
              "      <td>556.54</td>\n",
              "      <td>0.78</td>\n",
              "    </tr>\n",
              "    <tr>\n",
              "      <th>...</th>\n",
              "      <td>...</td>\n",
              "      <td>...</td>\n",
              "      <td>...</td>\n",
              "      <td>...</td>\n",
              "      <td>...</td>\n",
              "      <td>...</td>\n",
              "      <td>...</td>\n",
              "      <td>...</td>\n",
              "      <td>...</td>\n",
              "      <td>...</td>\n",
              "      <td>...</td>\n",
              "      <td>...</td>\n",
              "      <td>...</td>\n",
              "    </tr>\n",
              "    <tr>\n",
              "      <th>6324</th>\n",
              "      <td>2017</td>\n",
              "      <td>Solteiro</td>\n",
              "      <td>UBERABA</td>\n",
              "      <td>2000.00</td>\n",
              "      <td>57</td>\n",
              "      <td>0.17</td>\n",
              "      <td>140498.00</td>\n",
              "      <td>0.00</td>\n",
              "      <td>0.00</td>\n",
              "      <td>19669.72</td>\n",
              "      <td>119423.30</td>\n",
              "      <td>345.08</td>\n",
              "      <td>0.75</td>\n",
              "    </tr>\n",
              "    <tr>\n",
              "      <th>4051</th>\n",
              "      <td>2017</td>\n",
              "      <td>Casado</td>\n",
              "      <td>Santa Bárbara D'Oeste</td>\n",
              "      <td>2207.00</td>\n",
              "      <td>58</td>\n",
              "      <td>0.26</td>\n",
              "      <td>152256.00</td>\n",
              "      <td>1522.56</td>\n",
              "      <td>1522.56</td>\n",
              "      <td>35018.88</td>\n",
              "      <td>114192.00</td>\n",
              "      <td>603.77</td>\n",
              "      <td>0.75</td>\n",
              "    </tr>\n",
              "    <tr>\n",
              "      <th>1904</th>\n",
              "      <td>2017</td>\n",
              "      <td>Casado</td>\n",
              "      <td>Goiânia</td>\n",
              "      <td>2622.00</td>\n",
              "      <td>59</td>\n",
              "      <td>0.12</td>\n",
              "      <td>134921.00</td>\n",
              "      <td>1349.21</td>\n",
              "      <td>1349.21</td>\n",
              "      <td>20238.15</td>\n",
              "      <td>110635.22</td>\n",
              "      <td>343.02</td>\n",
              "      <td>0.75</td>\n",
              "    </tr>\n",
              "    <tr>\n",
              "      <th>6081</th>\n",
              "      <td>2017</td>\n",
              "      <td>Viúvo</td>\n",
              "      <td>Patrocínio</td>\n",
              "      <td>2600.00</td>\n",
              "      <td>58</td>\n",
              "      <td>0.11</td>\n",
              "      <td>128000.00</td>\n",
              "      <td>0.00</td>\n",
              "      <td>1280.00</td>\n",
              "      <td>17920.00</td>\n",
              "      <td>108800.00</td>\n",
              "      <td>308.97</td>\n",
              "      <td>0.75</td>\n",
              "    </tr>\n",
              "    <tr>\n",
              "      <th>1864</th>\n",
              "      <td>2017</td>\n",
              "      <td>Solteiro</td>\n",
              "      <td>Recife</td>\n",
              "      <td>2050.00</td>\n",
              "      <td>60</td>\n",
              "      <td>0.17</td>\n",
              "      <td>143120.00</td>\n",
              "      <td>0.00</td>\n",
              "      <td>1431.20</td>\n",
              "      <td>21468.00</td>\n",
              "      <td>121652.00</td>\n",
              "      <td>357.80</td>\n",
              "      <td>0.75</td>\n",
              "    </tr>\n",
              "  </tbody>\n",
              "</table>\n",
              "<p>143 rows × 13 columns</p>\n",
              "</div>\n",
              "      <button class=\"colab-df-convert\" onclick=\"convertToInteractive('df-54637cc1-5228-4c3c-97d4-c18f2bde9e45')\"\n",
              "              title=\"Convert this dataframe to an interactive table.\"\n",
              "              style=\"display:none;\">\n",
              "        \n",
              "  <svg xmlns=\"http://www.w3.org/2000/svg\" height=\"24px\"viewBox=\"0 0 24 24\"\n",
              "       width=\"24px\">\n",
              "    <path d=\"M0 0h24v24H0V0z\" fill=\"none\"/>\n",
              "    <path d=\"M18.56 5.44l.94 2.06.94-2.06 2.06-.94-2.06-.94-.94-2.06-.94 2.06-2.06.94zm-11 1L8.5 8.5l.94-2.06 2.06-.94-2.06-.94L8.5 2.5l-.94 2.06-2.06.94zm10 10l.94 2.06.94-2.06 2.06-.94-2.06-.94-.94-2.06-.94 2.06-2.06.94z\"/><path d=\"M17.41 7.96l-1.37-1.37c-.4-.4-.92-.59-1.43-.59-.52 0-1.04.2-1.43.59L10.3 9.45l-7.72 7.72c-.78.78-.78 2.05 0 2.83L4 21.41c.39.39.9.59 1.41.59.51 0 1.02-.2 1.41-.59l7.78-7.78 2.81-2.81c.8-.78.8-2.07 0-2.86zM5.41 20L4 18.59l7.72-7.72 1.47 1.35L5.41 20z\"/>\n",
              "  </svg>\n",
              "      </button>\n",
              "      \n",
              "  <style>\n",
              "    .colab-df-container {\n",
              "      display:flex;\n",
              "      flex-wrap:wrap;\n",
              "      gap: 12px;\n",
              "    }\n",
              "\n",
              "    .colab-df-convert {\n",
              "      background-color: #E8F0FE;\n",
              "      border: none;\n",
              "      border-radius: 50%;\n",
              "      cursor: pointer;\n",
              "      display: none;\n",
              "      fill: #1967D2;\n",
              "      height: 32px;\n",
              "      padding: 0 0 0 0;\n",
              "      width: 32px;\n",
              "    }\n",
              "\n",
              "    .colab-df-convert:hover {\n",
              "      background-color: #E2EBFA;\n",
              "      box-shadow: 0px 1px 2px rgba(60, 64, 67, 0.3), 0px 1px 3px 1px rgba(60, 64, 67, 0.15);\n",
              "      fill: #174EA6;\n",
              "    }\n",
              "\n",
              "    [theme=dark] .colab-df-convert {\n",
              "      background-color: #3B4455;\n",
              "      fill: #D2E3FC;\n",
              "    }\n",
              "\n",
              "    [theme=dark] .colab-df-convert:hover {\n",
              "      background-color: #434B5C;\n",
              "      box-shadow: 0px 1px 3px 1px rgba(0, 0, 0, 0.15);\n",
              "      filter: drop-shadow(0px 1px 2px rgba(0, 0, 0, 0.3));\n",
              "      fill: #FFFFFF;\n",
              "    }\n",
              "  </style>\n",
              "\n",
              "      <script>\n",
              "        const buttonEl =\n",
              "          document.querySelector('#df-54637cc1-5228-4c3c-97d4-c18f2bde9e45 button.colab-df-convert');\n",
              "        buttonEl.style.display =\n",
              "          google.colab.kernel.accessAllowed ? 'block' : 'none';\n",
              "\n",
              "        async function convertToInteractive(key) {\n",
              "          const element = document.querySelector('#df-54637cc1-5228-4c3c-97d4-c18f2bde9e45');\n",
              "          const dataTable =\n",
              "            await google.colab.kernel.invokeFunction('convertToInteractive',\n",
              "                                                     [key], {});\n",
              "          if (!dataTable) return;\n",
              "\n",
              "          const docLinkHtml = 'Like what you see? Visit the ' +\n",
              "            '<a target=\"_blank\" href=https://colab.research.google.com/notebooks/data_table.ipynb>data table notebook</a>'\n",
              "            + ' to learn more about interactive tables.';\n",
              "          element.innerHTML = '';\n",
              "          dataTable['output_type'] = 'display_data';\n",
              "          await google.colab.output.renderOutput(dataTable, element);\n",
              "          const docLink = document.createElement('div');\n",
              "          docLink.innerHTML = docLinkHtml;\n",
              "          element.appendChild(docLink);\n",
              "        }\n",
              "      </script>\n",
              "    </div>\n",
              "  </div>\n",
              "  "
            ]
          },
          "metadata": {},
          "execution_count": 155
        }
      ]
    },
    {
      "cell_type": "markdown",
      "source": [
        "## e) Imagine que a solução da questão anterior está pronta. Como você aplicaria ela no negócio? Como você alteraria processos para comportar a solução? Quais atitudes deveriam ser tomadas para cada tipo de cliente?"
      ],
      "metadata": {
        "id": "qQ7pGbTLsMv8"
      }
    },
    {
      "cell_type": "markdown",
      "source": [
        "- Com uma base de dados cada vez maior, seria necessário utilizar datawarehouses, como Databricks. \n",
        "- A maneira mais fácil e imediata de implementar o modelo seria através de uma API, que permitisse a flexibilidade de acessar os resultados do modelo pelos funcionários da companhia.\n",
        "- O time de desenvolvimento poderia construir uma interface para input dos usuários, ou uma pipeline que alimentasse a API automaticamente.\n",
        "- A API retornaria uma lista ordenada de clientes, baseado na probabilidade de inadimplência. Um threshold que pode ser estipulado, para fins ilustrativos seria o de 75%.\n",
        "- Os times responsáveis adotariam uma série de estratégias para diminuir a probabilidade desses clientes de inadimplência, sendo elas ligação para o cliente, renegociação de parcelas, diminuição de juros e outros métodos que deixem o cliente mais confortável para pagar suas parcelas mensais.\n",
        "- Uma métrica poderia ser estipulada pelos times responsáveis, com o o intuito de acompanhar de perto a taxa de inadimplência da empresa.\n",
        "- Talvez possa-se pensar em estratégias variadas para cada grupo de clientes.\n",
        "    - Entre 0% à 25%, um desconto nos juros ou nas parcelas.\n",
        "    - Entre 25% à 40%, um desconto nos juros, e talvez um cashback.\n",
        "    - Entre 40% à 60%, um email lembrando do pagamento das parcelas em dia, e enfatizando os benefícios acima.\n",
        "    - Entre 60% à 75%, uma conversa no telefone para entender a dor do cliente, e buscar soluções razoáveis.\n",
        "    - De 70% pra cima, uma conversa no telefone, e oportunidades de renegociação do valor das parcelas ou da dívida."
      ],
      "metadata": {
        "id": "zjtl1V6tN0oY"
      }
    },
    {
      "cell_type": "markdown",
      "source": [
        "## f) Além da solução proposta anteriormente, para melhorar o controle na gestão de concessão de crédito e para aprimorar a concessão de crédito da MRV, visando reduzir o Risco de Crédito, o que você, com suas experiências e habilidades, poderia fazer? Seja específico(a) na suas propostas de solução."
      ],
      "metadata": {
        "id": "Idpr4l6fsPdW"
      }
    },
    {
      "cell_type": "markdown",
      "source": [
        "- Primeiro, mais dados.\n",
        "\n",
        "    - Os dados disponibilizados para a resolução do problema podem ser incrementados com uma variável temporal, sendo possível estimar a taxa de inadimplência dos próximos meses, por exemplo. Essa estratégia deixa uma visão mais clara para os times de negócio sobre alocação de investimentos nessa área, além de proporcionar a probabilidade de um planejamento preventivo.\n",
        "    - Isto é, será possível acompanhar se a taxa de inadimplência diminuiu ou aumentou, dando a possibilidade de incrementar estratégias que estão trazendo bons resultados, e modificar as que não deram certo.\n",
        "    - Outros dados do cliente também são importantes, como registro de pagamento das parcelas, score de crédito da Serasa, histórico de dívidas etc.\n",
        "\n",
        "- Segundo, dar um passo atrás no processo.\n",
        "\n",
        "    - Pelo entendimento dos dados, nota-se que no último ano registrado (2017) foram gastos mais de 10M de reais com clientes inadimplentes pela MRV.\n",
        "    - É muito importante que esses clientes sejam analisados por um modelo desenvolvido pela empresa para concessão de crédito, com o intuito de diminuir o risco de gastar dinheiro sem retorno garantido.\n",
        "\n",
        "- Terceiro, campanhas para cidades.\n",
        "    - Foi visto na análise que existem cidades com um número absoluto de inadimplentes muito alto. Há cidades com mais de 60% de inadimplentes. Olhando por uma ótica local, talvez fazer campanhas localizadas de desconto em parcelas, renegociação de dívidas ou reparcelamento do valor do imóvel pode diminuir a taxa de inadimplência desses locais."
      ],
      "metadata": {
        "id": "hEAW-ZPi4a_1"
      }
    }
  ]
}